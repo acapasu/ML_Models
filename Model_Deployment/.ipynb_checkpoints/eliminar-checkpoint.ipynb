{
 "cells": [
  {
   "cell_type": "code",
   "execution_count": 1,
   "metadata": {},
   "outputs": [],
   "source": [
    "############################\n",
    "######## IMPORTS ##########\n",
    "##########################\n",
    "from flask import Flask, request, jsonify\n",
    "import joblib\n",
    "import pandas as pd\n",
    "import numpy as np\n",
    "\n"
   ]
  },
  {
   "cell_type": "code",
   "execution_count": null,
   "metadata": {},
   "outputs": [],
   "source": [
    "# # Create Flask App\n",
    "# app = Flask(__name__)\n",
    "\n",
    "\n"
   ]
  },
  {
   "cell_type": "code",
   "execution_count": null,
   "metadata": {},
   "outputs": [],
   "source": [
    "# # Create API routing call\n",
    "# @app.route('/predict', methods=['POST'])\n",
    "# def predict():\n",
    "    \n",
    "#     # Get JSON Request\n",
    "#     feat_data = request.json\n",
    "#     # Convert JSON request to Pandas DataFrame\n",
    "#     df = pd.DataFrame(feat_data)\n",
    "#     # Match Column Na,es\n",
    "#     df = df.reindex(columns=col_names)\n",
    "#     # Get prediction\n",
    "#     prediction = list(model.predict(df))\n",
    "#     # Return JSON version of Prediction\n",
    "#     return jsonify({'prediction': str(prediction)})\n",
    "\n",
    "        \n",
    "\n",
    "# if __name__ == '__main__':\n",
    "\n",
    "#     # LOADS MODEL AND FEATURE COLUMNS\n",
    "#     model = joblib.load(\"final_model.pkl\") \n",
    "#     col_names = joblib.load(\"column_names.pkl\") \n",
    "\n",
    "#     app.run(debug=True)"
   ]
  },
  {
   "cell_type": "code",
   "execution_count": null,
   "metadata": {},
   "outputs": [],
   "source": []
  },
  {
   "cell_type": "code",
   "execution_count": null,
   "metadata": {},
   "outputs": [],
   "source": [
    "def predict():\n",
    "    \n",
    "    # Get JSON Request\n",
    "    feat_data = request.json\n",
    "    # Convert JSON request to Pandas DataFrame\n",
    "    df = pd.DataFrame(feat_data)\n",
    "    # Match Column Na,es\n",
    "    df = df.reindex(columns=col_names)\n",
    "    return df\n",
    "    \n",
    "#     # Get prediction\n",
    "#     prediction = list(model.predict(df))\n",
    "#     # Return JSON version of Prediction\n",
    "#     return jsonify({'prediction': str(prediction)})"
   ]
  },
  {
   "cell_type": "code",
   "execution_count": 2,
   "metadata": {},
   "outputs": [],
   "source": [
    "def predict2(entrada):\n",
    "    \n",
    "    # Get JSON Request\n",
    "    feat_data = entrada\n",
    "    # Convert JSON request to Pandas DataFrame\n",
    "    df = pd.DataFrame(feat_data)\n",
    "    fila_cruda = df.iloc[0]\n",
    "    fila_procesada = formato_filas(fila_cruda)\n",
    "    model.predict(fila_procesada)\n",
    "    return fila_procesada\n",
    "    \n",
    "#     # Get prediction\n",
    "#     prediction = list(model.predict(df))\n",
    "#     # Return JSON version of Prediction\n",
    "#     return jsonify({'prediction': str(prediction)})"
   ]
  },
  {
   "cell_type": "code",
   "execution_count": 6,
   "metadata": {},
   "outputs": [],
   "source": [
    "model = joblib.load(\"final_model.pkl\") \n",
    "col_names = joblib.load(\"column_names.pkl\") \n",
    "escalador = joblib.load(\"escalador.pkl\") "
   ]
  },
  {
   "cell_type": "code",
   "execution_count": 7,
   "metadata": {},
   "outputs": [],
   "source": [
    "def formato_filas (entrada, column_names = col_names, scaler = escalador):\n",
    "    respuesta = pd.Series(data = np.zeros(len(column_names)), index = column_names)\n",
    "    if entrada['island'] == 'Dream':\n",
    "        respuesta['island_Dream'] = 1\n",
    "    if entrada['island'] == 'Torgersen':\n",
    "        respuesta['island_Torgersen'] = 1\n",
    "    if entrada['sex'] == 'Male':\n",
    "        respuesta['sex_Male'] = 1\n",
    "    respuesta['bill_length_mm'] = entrada['bill_length_mm']\n",
    "    respuesta['bill_depth_mm'] = entrada['bill_depth_mm']\n",
    "    respuesta['flipper_length_mm'] = entrada['flipper_length_mm']\n",
    "    respuesta['body_mass_g'] = entrada['body_mass_g']\n",
    "    \n",
    "    return escalador.transform([respuesta.values])"
   ]
  },
  {
   "cell_type": "code",
   "execution_count": 3,
   "metadata": {},
   "outputs": [],
   "source": [
    "ejemplo = [{'island': 'Dream', 'bill_length_mm': 39.5, 'bill_depth_mm': 16.7, 'flipper_length_mm': 178.0, 'body_mass_g': 3250.0, 'sex': 'Female'}]\n",
    "# ejemplo = {'island': 'Adelie', 'island': 'Dream', 'bill_length_mm': 39.5, 'bill_depth_mm': 16.7, 'flipper_length_mm': 178.0, 'body_mass_g': 3250.0, 'sex': 'Female'}"
   ]
  },
  {
   "cell_type": "code",
   "execution_count": 8,
   "metadata": {},
   "outputs": [
    {
     "data": {
      "text/plain": [
       "array([[ 1.30664344, -0.40538335, -1.00904996, -0.82278787, -0.23641888,\n",
       "        -1.64111836, -1.1903608 ]])"
      ]
     },
     "execution_count": 8,
     "metadata": {},
     "output_type": "execute_result"
    }
   ],
   "source": [
    "a = predict2(ejemplo)\n",
    "a"
   ]
  },
  {
   "cell_type": "code",
   "execution_count": null,
   "metadata": {},
   "outputs": [],
   "source": [
    "fila_cualquiera = a.iloc[0]"
   ]
  },
  {
   "cell_type": "code",
   "execution_count": 9,
   "metadata": {},
   "outputs": [
    {
     "name": "stdout",
     "output_type": "stream",
     "text": [
      "0.23.2\n"
     ]
    }
   ],
   "source": [
    "import sklearn\n",
    "print(sklearn.__version__)"
   ]
  }
 ],
 "metadata": {
  "kernelspec": {
   "display_name": "Python 3",
   "language": "python",
   "name": "python3"
  },
  "language_info": {
   "codemirror_mode": {
    "name": "ipython",
    "version": 3
   },
   "file_extension": ".py",
   "mimetype": "text/x-python",
   "name": "python",
   "nbconvert_exporter": "python",
   "pygments_lexer": "ipython3",
   "version": "3.8.5"
  }
 },
 "nbformat": 4,
 "nbformat_minor": 4
}
