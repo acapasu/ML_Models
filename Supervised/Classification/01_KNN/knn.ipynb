{
 "cells": [
  {
   "cell_type": "markdown",
   "id": "d39512ba",
   "metadata": {},
   "source": [
    "## Import Libraries"
   ]
  },
  {
   "cell_type": "code",
   "execution_count": 1,
   "id": "e185ff69",
   "metadata": {},
   "outputs": [],
   "source": [
    "import pandas as pd\n",
    "import numpy as np\n",
    "import matplotlib.pyplot as plt\n",
    "import seaborn as sns\n",
    "\n",
    "from random import shuffle\n",
    "from sklearn.model_selection import train_test_split\n",
    "# from sklearn.linear_model import LinearRegression\n",
    "from sklearn import metrics\n",
    "from sklearn.preprocessing import StandardScaler"
   ]
  },
  {
   "cell_type": "markdown",
   "id": "38d68284",
   "metadata": {},
   "source": [
    "## Import Dataset"
   ]
  },
  {
   "cell_type": "code",
   "execution_count": 2,
   "id": "483f6202",
   "metadata": {},
   "outputs": [],
   "source": [
    "df_pen = sns.load_dataset('penguins')"
   ]
  },
  {
   "cell_type": "code",
   "execution_count": 3,
   "id": "bc95b2e8",
   "metadata": {},
   "outputs": [],
   "source": [
    "df_pen = df_pen.sample(frac=1).reset_index(drop=True)"
   ]
  },
  {
   "cell_type": "code",
   "execution_count": 4,
   "id": "6388303c",
   "metadata": {},
   "outputs": [],
   "source": [
    "X = df_pen.drop(['island'], axis = 1)\n",
    "y = df_pen['island']"
   ]
  },
  {
   "cell_type": "markdown",
   "id": "e2ee1a7d",
   "metadata": {},
   "source": [
    "## Data Pre-processing"
   ]
  },
  {
   "cell_type": "code",
   "execution_count": 5,
   "id": "8573e226",
   "metadata": {},
   "outputs": [],
   "source": [
    "categorical_x = ['species', 'sex']\n",
    "numerical_x = X.drop(categorical_x, axis = 1).columns"
   ]
  },
  {
   "cell_type": "code",
   "execution_count": 6,
   "id": "83582ab9",
   "metadata": {},
   "outputs": [],
   "source": [
    "## If y is categorical:\n",
    "y.fillna(y.mode(), inplace= True)\n",
    "##If y is numerical\n",
    "# y.fillna(y.mean(), inplace= True)\n",
    "for i in numerical_x:\n",
    "    X[i].fillna(X[i].mean(), inplace = True)\n",
    "\n",
    "for i in categorical_x:\n",
    "    X[i].fillna(X[i].mode().iloc[0], inplace = True)\n",
    "    \n",
    "categoricas = pd.get_dummies(X[categorical_x], drop_first=True)\n",
    "X = pd.concat([categoricas, X[numerical_x]], axis = 1)"
   ]
  },
  {
   "cell_type": "code",
   "execution_count": 7,
   "id": "f6fc5dca",
   "metadata": {},
   "outputs": [],
   "source": [
    "X_train, X_test, y_train, y_test = train_test_split(X, y, test_size = 0.2, random_state=45)"
   ]
  },
  {
   "cell_type": "code",
   "execution_count": 8,
   "id": "ad738c37",
   "metadata": {},
   "outputs": [],
   "source": [
    "escalador = StandardScaler()\n",
    "escalador.fit(X_train)\n",
    "\n",
    "X_train = escalador.transform(X_train)\n",
    "X_test = escalador.transform(X_test)"
   ]
  },
  {
   "cell_type": "markdown",
   "id": "ce0af4c0",
   "metadata": {},
   "source": [
    "## Model implementation"
   ]
  },
  {
   "cell_type": "code",
   "execution_count": 9,
   "id": "60cff7f7",
   "metadata": {},
   "outputs": [],
   "source": [
    "from sklearn.neighbors import KNeighborsClassifier"
   ]
  },
  {
   "cell_type": "code",
   "execution_count": 10,
   "id": "651eb162",
   "metadata": {},
   "outputs": [],
   "source": [
    "knn_model = KNeighborsClassifier(n_neighbors=1)"
   ]
  },
  {
   "cell_type": "code",
   "execution_count": 11,
   "id": "cec3fbe2",
   "metadata": {},
   "outputs": [
    {
     "data": {
      "text/html": [
       "<style>#sk-container-id-1 {color: black;background-color: white;}#sk-container-id-1 pre{padding: 0;}#sk-container-id-1 div.sk-toggleable {background-color: white;}#sk-container-id-1 label.sk-toggleable__label {cursor: pointer;display: block;width: 100%;margin-bottom: 0;padding: 0.3em;box-sizing: border-box;text-align: center;}#sk-container-id-1 label.sk-toggleable__label-arrow:before {content: \"▸\";float: left;margin-right: 0.25em;color: #696969;}#sk-container-id-1 label.sk-toggleable__label-arrow:hover:before {color: black;}#sk-container-id-1 div.sk-estimator:hover label.sk-toggleable__label-arrow:before {color: black;}#sk-container-id-1 div.sk-toggleable__content {max-height: 0;max-width: 0;overflow: hidden;text-align: left;background-color: #f0f8ff;}#sk-container-id-1 div.sk-toggleable__content pre {margin: 0.2em;color: black;border-radius: 0.25em;background-color: #f0f8ff;}#sk-container-id-1 input.sk-toggleable__control:checked~div.sk-toggleable__content {max-height: 200px;max-width: 100%;overflow: auto;}#sk-container-id-1 input.sk-toggleable__control:checked~label.sk-toggleable__label-arrow:before {content: \"▾\";}#sk-container-id-1 div.sk-estimator input.sk-toggleable__control:checked~label.sk-toggleable__label {background-color: #d4ebff;}#sk-container-id-1 div.sk-label input.sk-toggleable__control:checked~label.sk-toggleable__label {background-color: #d4ebff;}#sk-container-id-1 input.sk-hidden--visually {border: 0;clip: rect(1px 1px 1px 1px);clip: rect(1px, 1px, 1px, 1px);height: 1px;margin: -1px;overflow: hidden;padding: 0;position: absolute;width: 1px;}#sk-container-id-1 div.sk-estimator {font-family: monospace;background-color: #f0f8ff;border: 1px dotted black;border-radius: 0.25em;box-sizing: border-box;margin-bottom: 0.5em;}#sk-container-id-1 div.sk-estimator:hover {background-color: #d4ebff;}#sk-container-id-1 div.sk-parallel-item::after {content: \"\";width: 100%;border-bottom: 1px solid gray;flex-grow: 1;}#sk-container-id-1 div.sk-label:hover label.sk-toggleable__label {background-color: #d4ebff;}#sk-container-id-1 div.sk-serial::before {content: \"\";position: absolute;border-left: 1px solid gray;box-sizing: border-box;top: 0;bottom: 0;left: 50%;z-index: 0;}#sk-container-id-1 div.sk-serial {display: flex;flex-direction: column;align-items: center;background-color: white;padding-right: 0.2em;padding-left: 0.2em;position: relative;}#sk-container-id-1 div.sk-item {position: relative;z-index: 1;}#sk-container-id-1 div.sk-parallel {display: flex;align-items: stretch;justify-content: center;background-color: white;position: relative;}#sk-container-id-1 div.sk-item::before, #sk-container-id-1 div.sk-parallel-item::before {content: \"\";position: absolute;border-left: 1px solid gray;box-sizing: border-box;top: 0;bottom: 0;left: 50%;z-index: -1;}#sk-container-id-1 div.sk-parallel-item {display: flex;flex-direction: column;z-index: 1;position: relative;background-color: white;}#sk-container-id-1 div.sk-parallel-item:first-child::after {align-self: flex-end;width: 50%;}#sk-container-id-1 div.sk-parallel-item:last-child::after {align-self: flex-start;width: 50%;}#sk-container-id-1 div.sk-parallel-item:only-child::after {width: 0;}#sk-container-id-1 div.sk-dashed-wrapped {border: 1px dashed gray;margin: 0 0.4em 0.5em 0.4em;box-sizing: border-box;padding-bottom: 0.4em;background-color: white;}#sk-container-id-1 div.sk-label label {font-family: monospace;font-weight: bold;display: inline-block;line-height: 1.2em;}#sk-container-id-1 div.sk-label-container {text-align: center;}#sk-container-id-1 div.sk-container {/* jupyter's `normalize.less` sets `[hidden] { display: none; }` but bootstrap.min.css set `[hidden] { display: none !important; }` so we also need the `!important` here to be able to override the default hidden behavior on the sphinx rendered scikit-learn.org. See: https://github.com/scikit-learn/scikit-learn/issues/21755 */display: inline-block !important;position: relative;}#sk-container-id-1 div.sk-text-repr-fallback {display: none;}</style><div id=\"sk-container-id-1\" class=\"sk-top-container\"><div class=\"sk-text-repr-fallback\"><pre>KNeighborsClassifier(n_neighbors=1)</pre><b>In a Jupyter environment, please rerun this cell to show the HTML representation or trust the notebook. <br />On GitHub, the HTML representation is unable to render, please try loading this page with nbviewer.org.</b></div><div class=\"sk-container\" hidden><div class=\"sk-item\"><div class=\"sk-estimator sk-toggleable\"><input class=\"sk-toggleable__control sk-hidden--visually\" id=\"sk-estimator-id-1\" type=\"checkbox\" checked><label for=\"sk-estimator-id-1\" class=\"sk-toggleable__label sk-toggleable__label-arrow\">KNeighborsClassifier</label><div class=\"sk-toggleable__content\"><pre>KNeighborsClassifier(n_neighbors=1)</pre></div></div></div></div></div>"
      ],
      "text/plain": [
       "KNeighborsClassifier(n_neighbors=1)"
      ]
     },
     "execution_count": 11,
     "metadata": {},
     "output_type": "execute_result"
    }
   ],
   "source": [
    "knn_model.fit(X_train,y_train)"
   ]
  },
  {
   "cell_type": "markdown",
   "id": "a0301aab",
   "metadata": {},
   "source": [
    "## Evaluation"
   ]
  },
  {
   "cell_type": "code",
   "execution_count": 12,
   "id": "825a44a3",
   "metadata": {},
   "outputs": [],
   "source": [
    "y_pred = knn_model.predict(X_test)"
   ]
  },
  {
   "cell_type": "code",
   "execution_count": 13,
   "id": "d6a205ee",
   "metadata": {},
   "outputs": [
    {
     "data": {
      "text/plain": [
       "0.7246376811594203"
      ]
     },
     "execution_count": 13,
     "metadata": {},
     "output_type": "execute_result"
    }
   ],
   "source": [
    "metrics.accuracy_score(y_test,y_pred)"
   ]
  },
  {
   "cell_type": "code",
   "execution_count": 14,
   "id": "521cca13",
   "metadata": {},
   "outputs": [
    {
     "data": {
      "text/plain": [
       "array([[28,  4,  3],\n",
       "       [ 2, 18,  6],\n",
       "       [ 0,  4,  4]], dtype=int64)"
      ]
     },
     "execution_count": 14,
     "metadata": {},
     "output_type": "execute_result"
    }
   ],
   "source": [
    "metrics.confusion_matrix(y_test,y_pred)"
   ]
  },
  {
   "cell_type": "code",
   "execution_count": 15,
   "id": "9244d82a",
   "metadata": {},
   "outputs": [
    {
     "data": {
      "text/plain": [
       "<sklearn.metrics._plot.confusion_matrix.ConfusionMatrixDisplay at 0x201bba62cb0>"
      ]
     },
     "execution_count": 15,
     "metadata": {},
     "output_type": "execute_result"
    },
    {
     "data": {
      "image/png": "[encoded data removed]",
      "text/plain": [
       "<Figure size 640x480 with 2 Axes>"
      ]
     },
     "metadata": {},
     "output_type": "display_data"
    }
   ],
   "source": [
    "cm = metrics.confusion_matrix(y_test,y_pred)\n",
    "metrics.ConfusionMatrixDisplay(confusion_matrix = cm, display_labels=knn_model.classes_).plot()"
   ]
  },
  {
   "cell_type": "code",
   "execution_count": 16,
   "id": "52326f1e",
   "metadata": {},
   "outputs": [
    {
     "name": "stdout",
     "output_type": "stream",
     "text": [
      "              precision    recall  f1-score   support\n",
      "\n",
      "      Biscoe       0.93      0.80      0.86        35\n",
      "       Dream       0.69      0.69      0.69        26\n",
      "   Torgersen       0.31      0.50      0.38         8\n",
      "\n",
      "    accuracy                           0.72        69\n",
      "   macro avg       0.64      0.66      0.64        69\n",
      "weighted avg       0.77      0.72      0.74        69\n",
      "\n"
     ]
    }
   ],
   "source": [
    "print(metrics.classification_report(y_test,y_pred))"
   ]
  },
  {
   "cell_type": "markdown",
   "id": "a5eef748",
   "metadata": {},
   "source": [
    "## Elbow method"
   ]
  },
  {
   "cell_type": "code",
   "execution_count": 17,
   "id": "d5a5475d",
   "metadata": {},
   "outputs": [],
   "source": [
    "test_error_rates = []\n",
    "\n",
    "\n",
    "for k in range(1,30):\n",
    "    knn_model = KNeighborsClassifier(n_neighbors=k)\n",
    "    knn_model.fit(X_train,y_train) \n",
    "   \n",
    "    y_pred_test = knn_model.predict(X_test)\n",
    "    \n",
    "    test_error = 1 - metrics.accuracy_score(y_test,y_pred_test)\n",
    "    test_error_rates.append(test_error)"
   ]
  },
  {
   "cell_type": "code",
   "execution_count": 18,
   "id": "78daeae3",
   "metadata": {},
   "outputs": [
    {
     "data": {
      "text/plain": [
       "Text(0.5, 0, 'K Value')"
      ]
     },
     "execution_count": 18,
     "metadata": {},
     "output_type": "execute_result"
    },
    {
     "data": {
      "image/png": "[encoded data removed]",
      "text/plain": [
       "<Figure size 2000x1200 with 1 Axes>"
      ]
     },
     "metadata": {},
     "output_type": "display_data"
    }
   ],
   "source": [
    "plt.figure(figsize=(10,6),dpi=200)\n",
    "plt.plot(range(1,30),test_error_rates,label='Test Error')\n",
    "plt.legend()\n",
    "plt.ylabel('Error Rate')\n",
    "plt.xlabel(\"K Value\")"
   ]
  },
  {
   "cell_type": "markdown",
   "id": "d810c4a2",
   "metadata": {},
   "source": [
    "## Grid Search"
   ]
  },
  {
   "cell_type": "code",
   "execution_count": 19,
   "id": "db50618d",
   "metadata": {},
   "outputs": [],
   "source": [
    "from sklearn.model_selection import GridSearchCV"
   ]
  },
  {
   "cell_type": "code",
   "execution_count": 20,
   "id": "e4637ca9",
   "metadata": {},
   "outputs": [],
   "source": [
    "knn_model = KNeighborsClassifier()"
   ]
  },
  {
   "cell_type": "code",
   "execution_count": 21,
   "id": "a593b2a4",
   "metadata": {},
   "outputs": [],
   "source": [
    "n_neighbors = np.linspace(1,30, 30).astype(int)"
   ]
  },
  {
   "cell_type": "code",
   "execution_count": 22,
   "id": "1ca35293",
   "metadata": {},
   "outputs": [],
   "source": [
    "grid_model = GridSearchCV(knn_model,param_grid={'n_neighbors':n_neighbors}, cv = 5, scoring='accuracy')"
   ]
  },
  {
   "cell_type": "code",
   "execution_count": 23,
   "id": "f6d8649e",
   "metadata": {},
   "outputs": [
    {
     "data": {
      "text/html": [
       "<style>#sk-container-id-2 {color: black;background-color: white;}#sk-container-id-2 pre{padding: 0;}#sk-container-id-2 div.sk-toggleable {background-color: white;}#sk-container-id-2 label.sk-toggleable__label {cursor: pointer;display: block;width: 100%;margin-bottom: 0;padding: 0.3em;box-sizing: border-box;text-align: center;}#sk-container-id-2 label.sk-toggleable__label-arrow:before {content: \"▸\";float: left;margin-right: 0.25em;color: #696969;}#sk-container-id-2 label.sk-toggleable__label-arrow:hover:before {color: black;}#sk-container-id-2 div.sk-estimator:hover label.sk-toggleable__label-arrow:before {color: black;}#sk-container-id-2 div.sk-toggleable__content {max-height: 0;max-width: 0;overflow: hidden;text-align: left;background-color: #f0f8ff;}#sk-container-id-2 div.sk-toggleable__content pre {margin: 0.2em;color: black;border-radius: 0.25em;background-color: #f0f8ff;}#sk-container-id-2 input.sk-toggleable__control:checked~div.sk-toggleable__content {max-height: 200px;max-width: 100%;overflow: auto;}#sk-container-id-2 input.sk-toggleable__control:checked~label.sk-toggleable__label-arrow:before {content: \"▾\";}#sk-container-id-2 div.sk-estimator input.sk-toggleable__control:checked~label.sk-toggleable__label {background-color: #d4ebff;}#sk-container-id-2 div.sk-label input.sk-toggleable__control:checked~label.sk-toggleable__label {background-color: #d4ebff;}#sk-container-id-2 input.sk-hidden--visually {border: 0;clip: rect(1px 1px 1px 1px);clip: rect(1px, 1px, 1px, 1px);height: 1px;margin: -1px;overflow: hidden;padding: 0;position: absolute;width: 1px;}#sk-container-id-2 div.sk-estimator {font-family: monospace;background-color: #f0f8ff;border: 1px dotted black;border-radius: 0.25em;box-sizing: border-box;margin-bottom: 0.5em;}#sk-container-id-2 div.sk-estimator:hover {background-color: #d4ebff;}#sk-container-id-2 div.sk-parallel-item::after {content: \"\";width: 100%;border-bottom: 1px solid gray;flex-grow: 1;}#sk-container-id-2 div.sk-label:hover label.sk-toggleable__label {background-color: #d4ebff;}#sk-container-id-2 div.sk-serial::before {content: \"\";position: absolute;border-left: 1px solid gray;box-sizing: border-box;top: 0;bottom: 0;left: 50%;z-index: 0;}#sk-container-id-2 div.sk-serial {display: flex;flex-direction: column;align-items: center;background-color: white;padding-right: 0.2em;padding-left: 0.2em;position: relative;}#sk-container-id-2 div.sk-item {position: relative;z-index: 1;}#sk-container-id-2 div.sk-parallel {display: flex;align-items: stretch;justify-content: center;background-color: white;position: relative;}#sk-container-id-2 div.sk-item::before, #sk-container-id-2 div.sk-parallel-item::before {content: \"\";position: absolute;border-left: 1px solid gray;box-sizing: border-box;top: 0;bottom: 0;left: 50%;z-index: -1;}#sk-container-id-2 div.sk-parallel-item {display: flex;flex-direction: column;z-index: 1;position: relative;background-color: white;}#sk-container-id-2 div.sk-parallel-item:first-child::after {align-self: flex-end;width: 50%;}#sk-container-id-2 div.sk-parallel-item:last-child::after {align-self: flex-start;width: 50%;}#sk-container-id-2 div.sk-parallel-item:only-child::after {width: 0;}#sk-container-id-2 div.sk-dashed-wrapped {border: 1px dashed gray;margin: 0 0.4em 0.5em 0.4em;box-sizing: border-box;padding-bottom: 0.4em;background-color: white;}#sk-container-id-2 div.sk-label label {font-family: monospace;font-weight: bold;display: inline-block;line-height: 1.2em;}#sk-container-id-2 div.sk-label-container {text-align: center;}#sk-container-id-2 div.sk-container {/* jupyter's `normalize.less` sets `[hidden] { display: none; }` but bootstrap.min.css set `[hidden] { display: none !important; }` so we also need the `!important` here to be able to override the default hidden behavior on the sphinx rendered scikit-learn.org. See: https://github.com/scikit-learn/scikit-learn/issues/21755 */display: inline-block !important;position: relative;}#sk-container-id-2 div.sk-text-repr-fallback {display: none;}</style><div id=\"sk-container-id-2\" class=\"sk-top-container\"><div class=\"sk-text-repr-fallback\"><pre>GridSearchCV(cv=5, estimator=KNeighborsClassifier(),\n",
       "             param_grid={&#x27;n_neighbors&#x27;: array([ 1,  2,  3,  4,  5,  6,  7,  8,  9, 10, 11, 12, 13, 14, 15, 16, 17,\n",
       "       18, 19, 20, 21, 22, 23, 24, 25, 26, 27, 28, 29, 30])},\n",
       "             scoring=&#x27;accuracy&#x27;)</pre><b>In a Jupyter environment, please rerun this cell to show the HTML representation or trust the notebook. <br />On GitHub, the HTML representation is unable to render, please try loading this page with nbviewer.org.</b></div><div class=\"sk-container\" hidden><div class=\"sk-item sk-dashed-wrapped\"><div class=\"sk-label-container\"><div class=\"sk-label sk-toggleable\"><input class=\"sk-toggleable__control sk-hidden--visually\" id=\"sk-estimator-id-2\" type=\"checkbox\" ><label for=\"sk-estimator-id-2\" class=\"sk-toggleable__label sk-toggleable__label-arrow\">GridSearchCV</label><div class=\"sk-toggleable__content\"><pre>GridSearchCV(cv=5, estimator=KNeighborsClassifier(),\n",
       "             param_grid={&#x27;n_neighbors&#x27;: array([ 1,  2,  3,  4,  5,  6,  7,  8,  9, 10, 11, 12, 13, 14, 15, 16, 17,\n",
       "       18, 19, 20, 21, 22, 23, 24, 25, 26, 27, 28, 29, 30])},\n",
       "             scoring=&#x27;accuracy&#x27;)</pre></div></div></div><div class=\"sk-parallel\"><div class=\"sk-parallel-item\"><div class=\"sk-item\"><div class=\"sk-label-container\"><div class=\"sk-label sk-toggleable\"><input class=\"sk-toggleable__control sk-hidden--visually\" id=\"sk-estimator-id-3\" type=\"checkbox\" ><label for=\"sk-estimator-id-3\" class=\"sk-toggleable__label sk-toggleable__label-arrow\">estimator: KNeighborsClassifier</label><div class=\"sk-toggleable__content\"><pre>KNeighborsClassifier()</pre></div></div></div><div class=\"sk-serial\"><div class=\"sk-item\"><div class=\"sk-estimator sk-toggleable\"><input class=\"sk-toggleable__control sk-hidden--visually\" id=\"sk-estimator-id-4\" type=\"checkbox\" ><label for=\"sk-estimator-id-4\" class=\"sk-toggleable__label sk-toggleable__label-arrow\">KNeighborsClassifier</label><div class=\"sk-toggleable__content\"><pre>KNeighborsClassifier()</pre></div></div></div></div></div></div></div></div></div></div>"
      ],
      "text/plain": [
       "GridSearchCV(cv=5, estimator=KNeighborsClassifier(),\n",
       "             param_grid={'n_neighbors': array([ 1,  2,  3,  4,  5,  6,  7,  8,  9, 10, 11, 12, 13, 14, 15, 16, 17,\n",
       "       18, 19, 20, 21, 22, 23, 24, 25, 26, 27, 28, 29, 30])},\n",
       "             scoring='accuracy')"
      ]
     },
     "execution_count": 23,
     "metadata": {},
     "output_type": "execute_result"
    }
   ],
   "source": [
    "grid_model.fit(X_train,y_train)"
   ]
  },
  {
   "cell_type": "code",
   "execution_count": 24,
   "id": "7c3bb361",
   "metadata": {},
   "outputs": [
    {
     "data": {
      "text/plain": [
       "{'n_neighbors': 19}"
      ]
     },
     "execution_count": 24,
     "metadata": {},
     "output_type": "execute_result"
    }
   ],
   "source": [
    "grid_model.best_params_"
   ]
  },
  {
   "cell_type": "code",
   "execution_count": 25,
   "id": "03cd76ae",
   "metadata": {},
   "outputs": [],
   "source": [
    "y_pred = grid_model.predict(X_test)"
   ]
  },
  {
   "cell_type": "code",
   "execution_count": 26,
   "id": "7ca6e61a",
   "metadata": {},
   "outputs": [
    {
     "data": {
      "text/plain": [
       "0.7391304347826086"
      ]
     },
     "execution_count": 26,
     "metadata": {},
     "output_type": "execute_result"
    }
   ],
   "source": [
    "metrics.accuracy_score(y_test,y_pred)"
   ]
  },
  {
   "cell_type": "code",
   "execution_count": 27,
   "id": "1d285cb6",
   "metadata": {},
   "outputs": [
    {
     "data": {
      "text/plain": [
       "array([[26,  7,  2],\n",
       "       [ 1, 23,  2],\n",
       "       [ 1,  5,  2]], dtype=int64)"
      ]
     },
     "execution_count": 27,
     "metadata": {},
     "output_type": "execute_result"
    }
   ],
   "source": [
    "metrics.confusion_matrix(y_test,y_pred)"
   ]
  },
  {
   "cell_type": "code",
   "execution_count": 28,
   "id": "97f74b34",
   "metadata": {},
   "outputs": [
    {
     "data": {
      "text/plain": [
       "<sklearn.metrics._plot.confusion_matrix.ConfusionMatrixDisplay at 0x201c006ee60>"
      ]
     },
     "execution_count": 28,
     "metadata": {},
     "output_type": "execute_result"
    },
    {
     "data": {
      "image/png": "[encoded data removed]",
      "text/plain": [
       "<Figure size 640x480 with 2 Axes>"
      ]
     },
     "metadata": {},
     "output_type": "display_data"
    }
   ],
   "source": [
    "cm = metrics.confusion_matrix(y_test,y_pred)\n",
    "metrics.ConfusionMatrixDisplay(confusion_matrix = cm, display_labels=grid_model.classes_).plot()"
   ]
  },
  {
   "cell_type": "code",
   "execution_count": 29,
   "id": "4e30306c",
   "metadata": {},
   "outputs": [
    {
     "name": "stdout",
     "output_type": "stream",
     "text": [
      "              precision    recall  f1-score   support\n",
      "\n",
      "      Biscoe       0.93      0.74      0.83        35\n",
      "       Dream       0.66      0.88      0.75        26\n",
      "   Torgersen       0.33      0.25      0.29         8\n",
      "\n",
      "    accuracy                           0.74        69\n",
      "   macro avg       0.64      0.63      0.62        69\n",
      "weighted avg       0.76      0.74      0.74        69\n",
      "\n"
     ]
    }
   ],
   "source": [
    "print(metrics.classification_report(y_test,y_pred))"
   ]
  },
  {
   "cell_type": "markdown",
   "id": "86640bd0",
   "metadata": {},
   "source": [
    "## Pipeline"
   ]
  },
  {
   "cell_type": "code",
   "execution_count": 30,
   "id": "011533b8",
   "metadata": {},
   "outputs": [],
   "source": [
    "X = df_pen.drop(['island'], axis = 1)\n",
    "y = df_pen['island']"
   ]
  },
  {
   "cell_type": "code",
   "execution_count": 31,
   "id": "c05b8d0e",
   "metadata": {},
   "outputs": [],
   "source": [
    "categorical_x = ['species', 'sex']\n",
    "numerical_x = X.drop(categorical_x, axis = 1).columns"
   ]
  },
  {
   "cell_type": "code",
   "execution_count": 32,
   "id": "30ff095a",
   "metadata": {},
   "outputs": [],
   "source": [
    "## If y is categorical:\n",
    "y.fillna(y.mode(), inplace= True)\n",
    "##If y is numerical\n",
    "# y.fillna(y.mean(), inplace= True)\n",
    "for i in numerical_x:\n",
    "    X[i].fillna(X[i].mean(), inplace = True)\n",
    "\n",
    "for i in categorical_x:\n",
    "    X[i].fillna(X[i].mode().iloc[0], inplace = True)\n",
    "    \n",
    "categoricas = pd.get_dummies(X[categorical_x], drop_first=True)\n",
    "X = pd.concat([categoricas, X[numerical_x]], axis = 1)"
   ]
  },
  {
   "cell_type": "code",
   "execution_count": 33,
   "id": "1d91e632",
   "metadata": {},
   "outputs": [],
   "source": [
    "X_train, X_test, y_train, y_test = train_test_split(X, y, test_size = 0.2, random_state=45)"
   ]
  },
  {
   "cell_type": "markdown",
   "id": "18bf8b1b",
   "metadata": {},
   "source": [
    "## Pipeline Process"
   ]
  },
  {
   "cell_type": "code",
   "execution_count": 34,
   "id": "5858771c",
   "metadata": {},
   "outputs": [],
   "source": [
    "scaler = StandardScaler()"
   ]
  },
  {
   "cell_type": "code",
   "execution_count": 35,
   "id": "bff052e1",
   "metadata": {},
   "outputs": [],
   "source": [
    "knn = KNeighborsClassifier()"
   ]
  },
  {
   "cell_type": "code",
   "execution_count": 36,
   "id": "83b39024",
   "metadata": {},
   "outputs": [],
   "source": [
    "operations = [('scaler',scaler),('knn',knn)]"
   ]
  },
  {
   "cell_type": "code",
   "execution_count": 37,
   "id": "a54eba25",
   "metadata": {},
   "outputs": [],
   "source": [
    "from sklearn.pipeline import Pipeline"
   ]
  },
  {
   "cell_type": "code",
   "execution_count": 38,
   "id": "4fd192fe",
   "metadata": {},
   "outputs": [],
   "source": [
    "pipe = Pipeline(operations)"
   ]
  },
  {
   "cell_type": "code",
   "execution_count": 39,
   "id": "022813a3",
   "metadata": {},
   "outputs": [],
   "source": [
    "k_values = list(range(1,30))"
   ]
  },
  {
   "cell_type": "code",
   "execution_count": 40,
   "id": "6b99d5fd",
   "metadata": {},
   "outputs": [],
   "source": [
    "param_grid = {'knn__n_neighbors': k_values}"
   ]
  },
  {
   "cell_type": "code",
   "execution_count": 41,
   "id": "da6cbb9c",
   "metadata": {},
   "outputs": [],
   "source": [
    "full_cv_classifier = GridSearchCV(pipe,param_grid,cv=5,scoring='accuracy')"
   ]
  },
  {
   "cell_type": "code",
   "execution_count": 42,
   "id": "e2ed613c",
   "metadata": {},
   "outputs": [
    {
     "data": {
      "text/html": [
       "<style>#sk-container-id-3 {color: black;background-color: white;}#sk-container-id-3 pre{padding: 0;}#sk-container-id-3 div.sk-toggleable {background-color: white;}#sk-container-id-3 label.sk-toggleable__label {cursor: pointer;display: block;width: 100%;margin-bottom: 0;padding: 0.3em;box-sizing: border-box;text-align: center;}#sk-container-id-3 label.sk-toggleable__label-arrow:before {content: \"▸\";float: left;margin-right: 0.25em;color: #696969;}#sk-container-id-3 label.sk-toggleable__label-arrow:hover:before {color: black;}#sk-container-id-3 div.sk-estimator:hover label.sk-toggleable__label-arrow:before {color: black;}#sk-container-id-3 div.sk-toggleable__content {max-height: 0;max-width: 0;overflow: hidden;text-align: left;background-color: #f0f8ff;}#sk-container-id-3 div.sk-toggleable__content pre {margin: 0.2em;color: black;border-radius: 0.25em;background-color: #f0f8ff;}#sk-container-id-3 input.sk-toggleable__control:checked~div.sk-toggleable__content {max-height: 200px;max-width: 100%;overflow: auto;}#sk-container-id-3 input.sk-toggleable__control:checked~label.sk-toggleable__label-arrow:before {content: \"▾\";}#sk-container-id-3 div.sk-estimator input.sk-toggleable__control:checked~label.sk-toggleable__label {background-color: #d4ebff;}#sk-container-id-3 div.sk-label input.sk-toggleable__control:checked~label.sk-toggleable__label {background-color: #d4ebff;}#sk-container-id-3 input.sk-hidden--visually {border: 0;clip: rect(1px 1px 1px 1px);clip: rect(1px, 1px, 1px, 1px);height: 1px;margin: -1px;overflow: hidden;padding: 0;position: absolute;width: 1px;}#sk-container-id-3 div.sk-estimator {font-family: monospace;background-color: #f0f8ff;border: 1px dotted black;border-radius: 0.25em;box-sizing: border-box;margin-bottom: 0.5em;}#sk-container-id-3 div.sk-estimator:hover {background-color: #d4ebff;}#sk-container-id-3 div.sk-parallel-item::after {content: \"\";width: 100%;border-bottom: 1px solid gray;flex-grow: 1;}#sk-container-id-3 div.sk-label:hover label.sk-toggleable__label {background-color: #d4ebff;}#sk-container-id-3 div.sk-serial::before {content: \"\";position: absolute;border-left: 1px solid gray;box-sizing: border-box;top: 0;bottom: 0;left: 50%;z-index: 0;}#sk-container-id-3 div.sk-serial {display: flex;flex-direction: column;align-items: center;background-color: white;padding-right: 0.2em;padding-left: 0.2em;position: relative;}#sk-container-id-3 div.sk-item {position: relative;z-index: 1;}#sk-container-id-3 div.sk-parallel {display: flex;align-items: stretch;justify-content: center;background-color: white;position: relative;}#sk-container-id-3 div.sk-item::before, #sk-container-id-3 div.sk-parallel-item::before {content: \"\";position: absolute;border-left: 1px solid gray;box-sizing: border-box;top: 0;bottom: 0;left: 50%;z-index: -1;}#sk-container-id-3 div.sk-parallel-item {display: flex;flex-direction: column;z-index: 1;position: relative;background-color: white;}#sk-container-id-3 div.sk-parallel-item:first-child::after {align-self: flex-end;width: 50%;}#sk-container-id-3 div.sk-parallel-item:last-child::after {align-self: flex-start;width: 50%;}#sk-container-id-3 div.sk-parallel-item:only-child::after {width: 0;}#sk-container-id-3 div.sk-dashed-wrapped {border: 1px dashed gray;margin: 0 0.4em 0.5em 0.4em;box-sizing: border-box;padding-bottom: 0.4em;background-color: white;}#sk-container-id-3 div.sk-label label {font-family: monospace;font-weight: bold;display: inline-block;line-height: 1.2em;}#sk-container-id-3 div.sk-label-container {text-align: center;}#sk-container-id-3 div.sk-container {/* jupyter's `normalize.less` sets `[hidden] { display: none; }` but bootstrap.min.css set `[hidden] { display: none !important; }` so we also need the `!important` here to be able to override the default hidden behavior on the sphinx rendered scikit-learn.org. See: https://github.com/scikit-learn/scikit-learn/issues/21755 */display: inline-block !important;position: relative;}#sk-container-id-3 div.sk-text-repr-fallback {display: none;}</style><div id=\"sk-container-id-3\" class=\"sk-top-container\"><div class=\"sk-text-repr-fallback\"><pre>GridSearchCV(cv=5,\n",
       "             estimator=Pipeline(steps=[(&#x27;scaler&#x27;, StandardScaler()),\n",
       "                                       (&#x27;knn&#x27;, KNeighborsClassifier())]),\n",
       "             param_grid={&#x27;knn__n_neighbors&#x27;: [1, 2, 3, 4, 5, 6, 7, 8, 9, 10, 11,\n",
       "                                              12, 13, 14, 15, 16, 17, 18, 19,\n",
       "                                              20, 21, 22, 23, 24, 25, 26, 27,\n",
       "                                              28, 29]},\n",
       "             scoring=&#x27;accuracy&#x27;)</pre><b>In a Jupyter environment, please rerun this cell to show the HTML representation or trust the notebook. <br />On GitHub, the HTML representation is unable to render, please try loading this page with nbviewer.org.</b></div><div class=\"sk-container\" hidden><div class=\"sk-item sk-dashed-wrapped\"><div class=\"sk-label-container\"><div class=\"sk-label sk-toggleable\"><input class=\"sk-toggleable__control sk-hidden--visually\" id=\"sk-estimator-id-5\" type=\"checkbox\" ><label for=\"sk-estimator-id-5\" class=\"sk-toggleable__label sk-toggleable__label-arrow\">GridSearchCV</label><div class=\"sk-toggleable__content\"><pre>GridSearchCV(cv=5,\n",
       "             estimator=Pipeline(steps=[(&#x27;scaler&#x27;, StandardScaler()),\n",
       "                                       (&#x27;knn&#x27;, KNeighborsClassifier())]),\n",
       "             param_grid={&#x27;knn__n_neighbors&#x27;: [1, 2, 3, 4, 5, 6, 7, 8, 9, 10, 11,\n",
       "                                              12, 13, 14, 15, 16, 17, 18, 19,\n",
       "                                              20, 21, 22, 23, 24, 25, 26, 27,\n",
       "                                              28, 29]},\n",
       "             scoring=&#x27;accuracy&#x27;)</pre></div></div></div><div class=\"sk-parallel\"><div class=\"sk-parallel-item\"><div class=\"sk-item\"><div class=\"sk-label-container\"><div class=\"sk-label sk-toggleable\"><input class=\"sk-toggleable__control sk-hidden--visually\" id=\"sk-estimator-id-6\" type=\"checkbox\" ><label for=\"sk-estimator-id-6\" class=\"sk-toggleable__label sk-toggleable__label-arrow\">estimator: Pipeline</label><div class=\"sk-toggleable__content\"><pre>Pipeline(steps=[(&#x27;scaler&#x27;, StandardScaler()), (&#x27;knn&#x27;, KNeighborsClassifier())])</pre></div></div></div><div class=\"sk-serial\"><div class=\"sk-item\"><div class=\"sk-serial\"><div class=\"sk-item\"><div class=\"sk-estimator sk-toggleable\"><input class=\"sk-toggleable__control sk-hidden--visually\" id=\"sk-estimator-id-7\" type=\"checkbox\" ><label for=\"sk-estimator-id-7\" class=\"sk-toggleable__label sk-toggleable__label-arrow\">StandardScaler</label><div class=\"sk-toggleable__content\"><pre>StandardScaler()</pre></div></div></div><div class=\"sk-item\"><div class=\"sk-estimator sk-toggleable\"><input class=\"sk-toggleable__control sk-hidden--visually\" id=\"sk-estimator-id-8\" type=\"checkbox\" ><label for=\"sk-estimator-id-8\" class=\"sk-toggleable__label sk-toggleable__label-arrow\">KNeighborsClassifier</label><div class=\"sk-toggleable__content\"><pre>KNeighborsClassifier()</pre></div></div></div></div></div></div></div></div></div></div></div></div>"
      ],
      "text/plain": [
       "GridSearchCV(cv=5,\n",
       "             estimator=Pipeline(steps=[('scaler', StandardScaler()),\n",
       "                                       ('knn', KNeighborsClassifier())]),\n",
       "             param_grid={'knn__n_neighbors': [1, 2, 3, 4, 5, 6, 7, 8, 9, 10, 11,\n",
       "                                              12, 13, 14, 15, 16, 17, 18, 19,\n",
       "                                              20, 21, 22, 23, 24, 25, 26, 27,\n",
       "                                              28, 29]},\n",
       "             scoring='accuracy')"
      ]
     },
     "execution_count": 42,
     "metadata": {},
     "output_type": "execute_result"
    }
   ],
   "source": [
    "full_cv_classifier.fit(X_train,y_train)"
   ]
  },
  {
   "cell_type": "code",
   "execution_count": 43,
   "id": "b8ba6600",
   "metadata": {},
   "outputs": [
    {
     "data": {
      "text/plain": [
       "{'memory': None,\n",
       " 'steps': [('scaler', StandardScaler()),\n",
       "  ('knn', KNeighborsClassifier(n_neighbors=18))],\n",
       " 'verbose': False,\n",
       " 'scaler': StandardScaler(),\n",
       " 'knn': KNeighborsClassifier(n_neighbors=18),\n",
       " 'scaler__copy': True,\n",
       " 'scaler__with_mean': True,\n",
       " 'scaler__with_std': True,\n",
       " 'knn__algorithm': 'auto',\n",
       " 'knn__leaf_size': 30,\n",
       " 'knn__metric': 'minkowski',\n",
       " 'knn__metric_params': None,\n",
       " 'knn__n_jobs': None,\n",
       " 'knn__n_neighbors': 18,\n",
       " 'knn__p': 2,\n",
       " 'knn__weights': 'uniform'}"
      ]
     },
     "execution_count": 43,
     "metadata": {},
     "output_type": "execute_result"
    }
   ],
   "source": [
    "full_cv_classifier.best_estimator_.get_params()"
   ]
  },
  {
   "cell_type": "code",
   "execution_count": 44,
   "id": "556277b6",
   "metadata": {},
   "outputs": [
    {
     "data": {
      "text/plain": [
       "dict_keys(['mean_fit_time', 'std_fit_time', 'mean_score_time', 'std_score_time', 'param_knn__n_neighbors', 'params', 'split0_test_score', 'split1_test_score', 'split2_test_score', 'split3_test_score', 'split4_test_score', 'mean_test_score', 'std_test_score', 'rank_test_score'])"
      ]
     },
     "execution_count": 44,
     "metadata": {},
     "output_type": "execute_result"
    }
   ],
   "source": [
    "full_cv_classifier.cv_results_.keys()"
   ]
  },
  {
   "cell_type": "code",
   "execution_count": 45,
   "id": "a61f617c",
   "metadata": {
    "scrolled": true
   },
   "outputs": [
    {
     "data": {
      "text/html": [
       "<div>\n",
       "<style scoped>\n",
       "    .dataframe tbody tr th:only-of-type {\n",
       "        vertical-align: middle;\n",
       "    }\n",
       "\n",
       "    .dataframe tbody tr th {\n",
       "        vertical-align: top;\n",
       "    }\n",
       "\n",
       "    .dataframe thead th {\n",
       "        text-align: right;\n",
       "    }\n",
       "</style>\n",
       "<table border=\"1\" class=\"dataframe\">\n",
       "  <thead>\n",
       "    <tr style=\"text-align: right;\">\n",
       "      <th></th>\n",
       "      <th>mean_fit_time</th>\n",
       "      <th>std_fit_time</th>\n",
       "      <th>mean_score_time</th>\n",
       "      <th>std_score_time</th>\n",
       "      <th>param_knn__n_neighbors</th>\n",
       "      <th>params</th>\n",
       "      <th>split0_test_score</th>\n",
       "      <th>split1_test_score</th>\n",
       "      <th>split2_test_score</th>\n",
       "      <th>split3_test_score</th>\n",
       "      <th>split4_test_score</th>\n",
       "      <th>mean_test_score</th>\n",
       "      <th>std_test_score</th>\n",
       "      <th>rank_test_score</th>\n",
       "    </tr>\n",
       "  </thead>\n",
       "  <tbody>\n",
       "    <tr>\n",
       "      <th>0</th>\n",
       "      <td>0.005655</td>\n",
       "      <td>8.073373e-04</td>\n",
       "      <td>0.005948</td>\n",
       "      <td>0.001036</td>\n",
       "      <td>1</td>\n",
       "      <td>{'knn__n_neighbors': 1}</td>\n",
       "      <td>0.727273</td>\n",
       "      <td>0.654545</td>\n",
       "      <td>0.672727</td>\n",
       "      <td>0.690909</td>\n",
       "      <td>0.763636</td>\n",
       "      <td>0.701818</td>\n",
       "      <td>0.039165</td>\n",
       "      <td>13</td>\n",
       "    </tr>\n",
       "    <tr>\n",
       "      <th>1</th>\n",
       "      <td>0.004865</td>\n",
       "      <td>1.995325e-04</td>\n",
       "      <td>0.004964</td>\n",
       "      <td>0.000008</td>\n",
       "      <td>2</td>\n",
       "      <td>{'knn__n_neighbors': 2}</td>\n",
       "      <td>0.745455</td>\n",
       "      <td>0.563636</td>\n",
       "      <td>0.672727</td>\n",
       "      <td>0.654545</td>\n",
       "      <td>0.745455</td>\n",
       "      <td>0.676364</td>\n",
       "      <td>0.067444</td>\n",
       "      <td>22</td>\n",
       "    </tr>\n",
       "    <tr>\n",
       "      <th>2</th>\n",
       "      <td>0.005061</td>\n",
       "      <td>4.867672e-04</td>\n",
       "      <td>0.005157</td>\n",
       "      <td>0.000505</td>\n",
       "      <td>3</td>\n",
       "      <td>{'knn__n_neighbors': 3}</td>\n",
       "      <td>0.727273</td>\n",
       "      <td>0.600000</td>\n",
       "      <td>0.690909</td>\n",
       "      <td>0.654545</td>\n",
       "      <td>0.745455</td>\n",
       "      <td>0.683636</td>\n",
       "      <td>0.052192</td>\n",
       "      <td>20</td>\n",
       "    </tr>\n",
       "    <tr>\n",
       "      <th>3</th>\n",
       "      <td>0.006246</td>\n",
       "      <td>1.646281e-03</td>\n",
       "      <td>0.005951</td>\n",
       "      <td>0.001801</td>\n",
       "      <td>4</td>\n",
       "      <td>{'knn__n_neighbors': 4}</td>\n",
       "      <td>0.672727</td>\n",
       "      <td>0.618182</td>\n",
       "      <td>0.709091</td>\n",
       "      <td>0.618182</td>\n",
       "      <td>0.745455</td>\n",
       "      <td>0.672727</td>\n",
       "      <td>0.050124</td>\n",
       "      <td>25</td>\n",
       "    </tr>\n",
       "    <tr>\n",
       "      <th>4</th>\n",
       "      <td>0.005352</td>\n",
       "      <td>1.095586e-03</td>\n",
       "      <td>0.005158</td>\n",
       "      <td>0.000742</td>\n",
       "      <td>5</td>\n",
       "      <td>{'knn__n_neighbors': 5}</td>\n",
       "      <td>0.654545</td>\n",
       "      <td>0.600000</td>\n",
       "      <td>0.690909</td>\n",
       "      <td>0.581818</td>\n",
       "      <td>0.763636</td>\n",
       "      <td>0.658182</td>\n",
       "      <td>0.065455</td>\n",
       "      <td>29</td>\n",
       "    </tr>\n",
       "    <tr>\n",
       "      <th>5</th>\n",
       "      <td>0.005059</td>\n",
       "      <td>7.290251e-04</td>\n",
       "      <td>0.004861</td>\n",
       "      <td>0.000371</td>\n",
       "      <td>6</td>\n",
       "      <td>{'knn__n_neighbors': 6}</td>\n",
       "      <td>0.727273</td>\n",
       "      <td>0.636364</td>\n",
       "      <td>0.672727</td>\n",
       "      <td>0.654545</td>\n",
       "      <td>0.800000</td>\n",
       "      <td>0.698182</td>\n",
       "      <td>0.059307</td>\n",
       "      <td>15</td>\n",
       "    </tr>\n",
       "    <tr>\n",
       "      <th>6</th>\n",
       "      <td>0.004960</td>\n",
       "      <td>2.132481e-07</td>\n",
       "      <td>0.005258</td>\n",
       "      <td>0.000243</td>\n",
       "      <td>7</td>\n",
       "      <td>{'knn__n_neighbors': 7}</td>\n",
       "      <td>0.618182</td>\n",
       "      <td>0.618182</td>\n",
       "      <td>0.709091</td>\n",
       "      <td>0.618182</td>\n",
       "      <td>0.763636</td>\n",
       "      <td>0.665455</td>\n",
       "      <td>0.060412</td>\n",
       "      <td>26</td>\n",
       "    </tr>\n",
       "    <tr>\n",
       "      <th>7</th>\n",
       "      <td>0.005159</td>\n",
       "      <td>2.424070e-04</td>\n",
       "      <td>0.005257</td>\n",
       "      <td>0.000397</td>\n",
       "      <td>8</td>\n",
       "      <td>{'knn__n_neighbors': 8}</td>\n",
       "      <td>0.654545</td>\n",
       "      <td>0.618182</td>\n",
       "      <td>0.672727</td>\n",
       "      <td>0.618182</td>\n",
       "      <td>0.818182</td>\n",
       "      <td>0.676364</td>\n",
       "      <td>0.073989</td>\n",
       "      <td>23</td>\n",
       "    </tr>\n",
       "    <tr>\n",
       "      <th>8</th>\n",
       "      <td>0.004959</td>\n",
       "      <td>1.862719e-06</td>\n",
       "      <td>0.005357</td>\n",
       "      <td>0.000198</td>\n",
       "      <td>9</td>\n",
       "      <td>{'knn__n_neighbors': 9}</td>\n",
       "      <td>0.654545</td>\n",
       "      <td>0.618182</td>\n",
       "      <td>0.672727</td>\n",
       "      <td>0.600000</td>\n",
       "      <td>0.781818</td>\n",
       "      <td>0.665455</td>\n",
       "      <td>0.063610</td>\n",
       "      <td>26</td>\n",
       "    </tr>\n",
       "    <tr>\n",
       "      <th>9</th>\n",
       "      <td>0.005357</td>\n",
       "      <td>3.711057e-04</td>\n",
       "      <td>0.005456</td>\n",
       "      <td>0.000444</td>\n",
       "      <td>10</td>\n",
       "      <td>{'knn__n_neighbors': 10}</td>\n",
       "      <td>0.690909</td>\n",
       "      <td>0.672727</td>\n",
       "      <td>0.672727</td>\n",
       "      <td>0.600000</td>\n",
       "      <td>0.763636</td>\n",
       "      <td>0.680000</td>\n",
       "      <td>0.052192</td>\n",
       "      <td>21</td>\n",
       "    </tr>\n",
       "    <tr>\n",
       "      <th>10</th>\n",
       "      <td>0.005060</td>\n",
       "      <td>1.982453e-04</td>\n",
       "      <td>0.005356</td>\n",
       "      <td>0.000198</td>\n",
       "      <td>11</td>\n",
       "      <td>{'knn__n_neighbors': 11}</td>\n",
       "      <td>0.709091</td>\n",
       "      <td>0.636364</td>\n",
       "      <td>0.654545</td>\n",
       "      <td>0.563636</td>\n",
       "      <td>0.745455</td>\n",
       "      <td>0.661818</td>\n",
       "      <td>0.062562</td>\n",
       "      <td>28</td>\n",
       "    </tr>\n",
       "    <tr>\n",
       "      <th>11</th>\n",
       "      <td>0.005455</td>\n",
       "      <td>6.289432e-04</td>\n",
       "      <td>0.006249</td>\n",
       "      <td>0.000864</td>\n",
       "      <td>12</td>\n",
       "      <td>{'knn__n_neighbors': 12}</td>\n",
       "      <td>0.727273</td>\n",
       "      <td>0.672727</td>\n",
       "      <td>0.654545</td>\n",
       "      <td>0.600000</td>\n",
       "      <td>0.727273</td>\n",
       "      <td>0.676364</td>\n",
       "      <td>0.047967</td>\n",
       "      <td>23</td>\n",
       "    </tr>\n",
       "    <tr>\n",
       "      <th>12</th>\n",
       "      <td>0.005159</td>\n",
       "      <td>7.427719e-04</td>\n",
       "      <td>0.005162</td>\n",
       "      <td>0.000395</td>\n",
       "      <td>13</td>\n",
       "      <td>{'knn__n_neighbors': 13}</td>\n",
       "      <td>0.745455</td>\n",
       "      <td>0.654545</td>\n",
       "      <td>0.709091</td>\n",
       "      <td>0.618182</td>\n",
       "      <td>0.727273</td>\n",
       "      <td>0.690909</td>\n",
       "      <td>0.047412</td>\n",
       "      <td>17</td>\n",
       "    </tr>\n",
       "    <tr>\n",
       "      <th>13</th>\n",
       "      <td>0.004561</td>\n",
       "      <td>1.998239e-04</td>\n",
       "      <td>0.005153</td>\n",
       "      <td>0.000239</td>\n",
       "      <td>14</td>\n",
       "      <td>{'knn__n_neighbors': 14}</td>\n",
       "      <td>0.690909</td>\n",
       "      <td>0.690909</td>\n",
       "      <td>0.745455</td>\n",
       "      <td>0.618182</td>\n",
       "      <td>0.727273</td>\n",
       "      <td>0.694545</td>\n",
       "      <td>0.043636</td>\n",
       "      <td>16</td>\n",
       "    </tr>\n",
       "    <tr>\n",
       "      <th>14</th>\n",
       "      <td>0.004960</td>\n",
       "      <td>1.248968e-05</td>\n",
       "      <td>0.005061</td>\n",
       "      <td>0.000195</td>\n",
       "      <td>15</td>\n",
       "      <td>{'knn__n_neighbors': 15}</td>\n",
       "      <td>0.690909</td>\n",
       "      <td>0.672727</td>\n",
       "      <td>0.690909</td>\n",
       "      <td>0.654545</td>\n",
       "      <td>0.727273</td>\n",
       "      <td>0.687273</td>\n",
       "      <td>0.024121</td>\n",
       "      <td>19</td>\n",
       "    </tr>\n",
       "    <tr>\n",
       "      <th>15</th>\n",
       "      <td>0.005749</td>\n",
       "      <td>7.357270e-04</td>\n",
       "      <td>0.007541</td>\n",
       "      <td>0.001842</td>\n",
       "      <td>16</td>\n",
       "      <td>{'knn__n_neighbors': 16}</td>\n",
       "      <td>0.709091</td>\n",
       "      <td>0.709091</td>\n",
       "      <td>0.709091</td>\n",
       "      <td>0.654545</td>\n",
       "      <td>0.763636</td>\n",
       "      <td>0.709091</td>\n",
       "      <td>0.034498</td>\n",
       "      <td>7</td>\n",
       "    </tr>\n",
       "    <tr>\n",
       "      <th>16</th>\n",
       "      <td>0.006558</td>\n",
       "      <td>3.686667e-04</td>\n",
       "      <td>0.007034</td>\n",
       "      <td>0.000374</td>\n",
       "      <td>17</td>\n",
       "      <td>{'knn__n_neighbors': 17}</td>\n",
       "      <td>0.672727</td>\n",
       "      <td>0.672727</td>\n",
       "      <td>0.745455</td>\n",
       "      <td>0.636364</td>\n",
       "      <td>0.727273</td>\n",
       "      <td>0.690909</td>\n",
       "      <td>0.039834</td>\n",
       "      <td>17</td>\n",
       "    </tr>\n",
       "    <tr>\n",
       "      <th>17</th>\n",
       "      <td>0.005761</td>\n",
       "      <td>6.729010e-04</td>\n",
       "      <td>0.005751</td>\n",
       "      <td>0.000741</td>\n",
       "      <td>18</td>\n",
       "      <td>{'knn__n_neighbors': 18}</td>\n",
       "      <td>0.727273</td>\n",
       "      <td>0.727273</td>\n",
       "      <td>0.745455</td>\n",
       "      <td>0.672727</td>\n",
       "      <td>0.727273</td>\n",
       "      <td>0.720000</td>\n",
       "      <td>0.024663</td>\n",
       "      <td>1</td>\n",
       "    </tr>\n",
       "    <tr>\n",
       "      <th>18</th>\n",
       "      <td>0.005058</td>\n",
       "      <td>4.850109e-04</td>\n",
       "      <td>0.005157</td>\n",
       "      <td>0.000243</td>\n",
       "      <td>19</td>\n",
       "      <td>{'knn__n_neighbors': 19}</td>\n",
       "      <td>0.727273</td>\n",
       "      <td>0.690909</td>\n",
       "      <td>0.727273</td>\n",
       "      <td>0.672727</td>\n",
       "      <td>0.745455</td>\n",
       "      <td>0.712727</td>\n",
       "      <td>0.026722</td>\n",
       "      <td>5</td>\n",
       "    </tr>\n",
       "    <tr>\n",
       "      <th>19</th>\n",
       "      <td>0.005056</td>\n",
       "      <td>4.893265e-04</td>\n",
       "      <td>0.005257</td>\n",
       "      <td>0.000398</td>\n",
       "      <td>20</td>\n",
       "      <td>{'knn__n_neighbors': 20}</td>\n",
       "      <td>0.709091</td>\n",
       "      <td>0.672727</td>\n",
       "      <td>0.727273</td>\n",
       "      <td>0.654545</td>\n",
       "      <td>0.763636</td>\n",
       "      <td>0.705455</td>\n",
       "      <td>0.038826</td>\n",
       "      <td>12</td>\n",
       "    </tr>\n",
       "    <tr>\n",
       "      <th>20</th>\n",
       "      <td>0.005262</td>\n",
       "      <td>2.376825e-04</td>\n",
       "      <td>0.005459</td>\n",
       "      <td>0.000707</td>\n",
       "      <td>21</td>\n",
       "      <td>{'knn__n_neighbors': 21}</td>\n",
       "      <td>0.690909</td>\n",
       "      <td>0.672727</td>\n",
       "      <td>0.727273</td>\n",
       "      <td>0.672727</td>\n",
       "      <td>0.818182</td>\n",
       "      <td>0.716364</td>\n",
       "      <td>0.054667</td>\n",
       "      <td>2</td>\n",
       "    </tr>\n",
       "    <tr>\n",
       "      <th>21</th>\n",
       "      <td>0.004366</td>\n",
       "      <td>1.991946e-04</td>\n",
       "      <td>0.004862</td>\n",
       "      <td>0.000188</td>\n",
       "      <td>22</td>\n",
       "      <td>{'knn__n_neighbors': 22}</td>\n",
       "      <td>0.690909</td>\n",
       "      <td>0.672727</td>\n",
       "      <td>0.745455</td>\n",
       "      <td>0.672727</td>\n",
       "      <td>0.800000</td>\n",
       "      <td>0.716364</td>\n",
       "      <td>0.049593</td>\n",
       "      <td>2</td>\n",
       "    </tr>\n",
       "    <tr>\n",
       "      <th>22</th>\n",
       "      <td>0.004762</td>\n",
       "      <td>2.435030e-04</td>\n",
       "      <td>0.005059</td>\n",
       "      <td>0.000199</td>\n",
       "      <td>23</td>\n",
       "      <td>{'knn__n_neighbors': 23}</td>\n",
       "      <td>0.690909</td>\n",
       "      <td>0.690909</td>\n",
       "      <td>0.745455</td>\n",
       "      <td>0.636364</td>\n",
       "      <td>0.781818</td>\n",
       "      <td>0.709091</td>\n",
       "      <td>0.050124</td>\n",
       "      <td>10</td>\n",
       "    </tr>\n",
       "    <tr>\n",
       "      <th>23</th>\n",
       "      <td>0.005159</td>\n",
       "      <td>2.428692e-04</td>\n",
       "      <td>0.005452</td>\n",
       "      <td>0.000881</td>\n",
       "      <td>24</td>\n",
       "      <td>{'knn__n_neighbors': 24}</td>\n",
       "      <td>0.690909</td>\n",
       "      <td>0.672727</td>\n",
       "      <td>0.745455</td>\n",
       "      <td>0.636364</td>\n",
       "      <td>0.763636</td>\n",
       "      <td>0.701818</td>\n",
       "      <td>0.046851</td>\n",
       "      <td>13</td>\n",
       "    </tr>\n",
       "    <tr>\n",
       "      <th>24</th>\n",
       "      <td>0.005059</td>\n",
       "      <td>1.891644e-04</td>\n",
       "      <td>0.005163</td>\n",
       "      <td>0.000396</td>\n",
       "      <td>25</td>\n",
       "      <td>{'knn__n_neighbors': 25}</td>\n",
       "      <td>0.690909</td>\n",
       "      <td>0.690909</td>\n",
       "      <td>0.745455</td>\n",
       "      <td>0.654545</td>\n",
       "      <td>0.763636</td>\n",
       "      <td>0.709091</td>\n",
       "      <td>0.039834</td>\n",
       "      <td>7</td>\n",
       "    </tr>\n",
       "    <tr>\n",
       "      <th>25</th>\n",
       "      <td>0.005158</td>\n",
       "      <td>4.030869e-04</td>\n",
       "      <td>0.005353</td>\n",
       "      <td>0.000376</td>\n",
       "      <td>26</td>\n",
       "      <td>{'knn__n_neighbors': 26}</td>\n",
       "      <td>0.690909</td>\n",
       "      <td>0.709091</td>\n",
       "      <td>0.763636</td>\n",
       "      <td>0.618182</td>\n",
       "      <td>0.763636</td>\n",
       "      <td>0.709091</td>\n",
       "      <td>0.053936</td>\n",
       "      <td>10</td>\n",
       "    </tr>\n",
       "    <tr>\n",
       "      <th>26</th>\n",
       "      <td>0.005456</td>\n",
       "      <td>3.149121e-04</td>\n",
       "      <td>0.005657</td>\n",
       "      <td>0.000507</td>\n",
       "      <td>27</td>\n",
       "      <td>{'knn__n_neighbors': 27}</td>\n",
       "      <td>0.690909</td>\n",
       "      <td>0.727273</td>\n",
       "      <td>0.763636</td>\n",
       "      <td>0.618182</td>\n",
       "      <td>0.781818</td>\n",
       "      <td>0.716364</td>\n",
       "      <td>0.058182</td>\n",
       "      <td>4</td>\n",
       "    </tr>\n",
       "    <tr>\n",
       "      <th>27</th>\n",
       "      <td>0.005457</td>\n",
       "      <td>6.991844e-04</td>\n",
       "      <td>0.005456</td>\n",
       "      <td>0.000544</td>\n",
       "      <td>28</td>\n",
       "      <td>{'knn__n_neighbors': 28}</td>\n",
       "      <td>0.727273</td>\n",
       "      <td>0.727273</td>\n",
       "      <td>0.763636</td>\n",
       "      <td>0.581818</td>\n",
       "      <td>0.763636</td>\n",
       "      <td>0.712727</td>\n",
       "      <td>0.067444</td>\n",
       "      <td>6</td>\n",
       "    </tr>\n",
       "    <tr>\n",
       "      <th>28</th>\n",
       "      <td>0.005460</td>\n",
       "      <td>5.506097e-04</td>\n",
       "      <td>0.005358</td>\n",
       "      <td>0.000374</td>\n",
       "      <td>29</td>\n",
       "      <td>{'knn__n_neighbors': 29}</td>\n",
       "      <td>0.709091</td>\n",
       "      <td>0.727273</td>\n",
       "      <td>0.763636</td>\n",
       "      <td>0.600000</td>\n",
       "      <td>0.745455</td>\n",
       "      <td>0.709091</td>\n",
       "      <td>0.057496</td>\n",
       "      <td>7</td>\n",
       "    </tr>\n",
       "  </tbody>\n",
       "</table>\n",
       "</div>"
      ],
      "text/plain": [
       "    mean_fit_time  std_fit_time  mean_score_time  std_score_time  \\\n",
       "0        0.005655  8.073373e-04         0.005948        0.001036   \n",
       "1        0.004865  1.995325e-04         0.004964        0.000008   \n",
       "2        0.005061  4.867672e-04         0.005157        0.000505   \n",
       "3        0.006246  1.646281e-03         0.005951        0.001801   \n",
       "4        0.005352  1.095586e-03         0.005158        0.000742   \n",
       "5        0.005059  7.290251e-04         0.004861        0.000371   \n",
       "6        0.004960  2.132481e-07         0.005258        0.000243   \n",
       "7        0.005159  2.424070e-04         0.005257        0.000397   \n",
       "8        0.004959  1.862719e-06         0.005357        0.000198   \n",
       "9        0.005357  3.711057e-04         0.005456        0.000444   \n",
       "10       0.005060  1.982453e-04         0.005356        0.000198   \n",
       "11       0.005455  6.289432e-04         0.006249        0.000864   \n",
       "12       0.005159  7.427719e-04         0.005162        0.000395   \n",
       "13       0.004561  1.998239e-04         0.005153        0.000239   \n",
       "14       0.004960  1.248968e-05         0.005061        0.000195   \n",
       "15       0.005749  7.357270e-04         0.007541        0.001842   \n",
       "16       0.006558  3.686667e-04         0.007034        0.000374   \n",
       "17       0.005761  6.729010e-04         0.005751        0.000741   \n",
       "18       0.005058  4.850109e-04         0.005157        0.000243   \n",
       "19       0.005056  4.893265e-04         0.005257        0.000398   \n",
       "20       0.005262  2.376825e-04         0.005459        0.000707   \n",
       "21       0.004366  1.991946e-04         0.004862        0.000188   \n",
       "22       0.004762  2.435030e-04         0.005059        0.000199   \n",
       "23       0.005159  2.428692e-04         0.005452        0.000881   \n",
       "24       0.005059  1.891644e-04         0.005163        0.000396   \n",
       "25       0.005158  4.030869e-04         0.005353        0.000376   \n",
       "26       0.005456  3.149121e-04         0.005657        0.000507   \n",
       "27       0.005457  6.991844e-04         0.005456        0.000544   \n",
       "28       0.005460  5.506097e-04         0.005358        0.000374   \n",
       "\n",
       "   param_knn__n_neighbors                    params  split0_test_score  \\\n",
       "0                       1   {'knn__n_neighbors': 1}           0.727273   \n",
       "1                       2   {'knn__n_neighbors': 2}           0.745455   \n",
       "2                       3   {'knn__n_neighbors': 3}           0.727273   \n",
       "3                       4   {'knn__n_neighbors': 4}           0.672727   \n",
       "4                       5   {'knn__n_neighbors': 5}           0.654545   \n",
       "5                       6   {'knn__n_neighbors': 6}           0.727273   \n",
       "6                       7   {'knn__n_neighbors': 7}           0.618182   \n",
       "7                       8   {'knn__n_neighbors': 8}           0.654545   \n",
       "8                       9   {'knn__n_neighbors': 9}           0.654545   \n",
       "9                      10  {'knn__n_neighbors': 10}           0.690909   \n",
       "10                     11  {'knn__n_neighbors': 11}           0.709091   \n",
       "11                     12  {'knn__n_neighbors': 12}           0.727273   \n",
       "12                     13  {'knn__n_neighbors': 13}           0.745455   \n",
       "13                     14  {'knn__n_neighbors': 14}           0.690909   \n",
       "14                     15  {'knn__n_neighbors': 15}           0.690909   \n",
       "15                     16  {'knn__n_neighbors': 16}           0.709091   \n",
       "16                     17  {'knn__n_neighbors': 17}           0.672727   \n",
       "17                     18  {'knn__n_neighbors': 18}           0.727273   \n",
       "18                     19  {'knn__n_neighbors': 19}           0.727273   \n",
       "19                     20  {'knn__n_neighbors': 20}           0.709091   \n",
       "20                     21  {'knn__n_neighbors': 21}           0.690909   \n",
       "21                     22  {'knn__n_neighbors': 22}           0.690909   \n",
       "22                     23  {'knn__n_neighbors': 23}           0.690909   \n",
       "23                     24  {'knn__n_neighbors': 24}           0.690909   \n",
       "24                     25  {'knn__n_neighbors': 25}           0.690909   \n",
       "25                     26  {'knn__n_neighbors': 26}           0.690909   \n",
       "26                     27  {'knn__n_neighbors': 27}           0.690909   \n",
       "27                     28  {'knn__n_neighbors': 28}           0.727273   \n",
       "28                     29  {'knn__n_neighbors': 29}           0.709091   \n",
       "\n",
       "    split1_test_score  split2_test_score  split3_test_score  \\\n",
       "0            0.654545           0.672727           0.690909   \n",
       "1            0.563636           0.672727           0.654545   \n",
       "2            0.600000           0.690909           0.654545   \n",
       "3            0.618182           0.709091           0.618182   \n",
       "4            0.600000           0.690909           0.581818   \n",
       "5            0.636364           0.672727           0.654545   \n",
       "6            0.618182           0.709091           0.618182   \n",
       "7            0.618182           0.672727           0.618182   \n",
       "8            0.618182           0.672727           0.600000   \n",
       "9            0.672727           0.672727           0.600000   \n",
       "10           0.636364           0.654545           0.563636   \n",
       "11           0.672727           0.654545           0.600000   \n",
       "12           0.654545           0.709091           0.618182   \n",
       "13           0.690909           0.745455           0.618182   \n",
       "14           0.672727           0.690909           0.654545   \n",
       "15           0.709091           0.709091           0.654545   \n",
       "16           0.672727           0.745455           0.636364   \n",
       "17           0.727273           0.745455           0.672727   \n",
       "18           0.690909           0.727273           0.672727   \n",
       "19           0.672727           0.727273           0.654545   \n",
       "20           0.672727           0.727273           0.672727   \n",
       "21           0.672727           0.745455           0.672727   \n",
       "22           0.690909           0.745455           0.636364   \n",
       "23           0.672727           0.745455           0.636364   \n",
       "24           0.690909           0.745455           0.654545   \n",
       "25           0.709091           0.763636           0.618182   \n",
       "26           0.727273           0.763636           0.618182   \n",
       "27           0.727273           0.763636           0.581818   \n",
       "28           0.727273           0.763636           0.600000   \n",
       "\n",
       "    split4_test_score  mean_test_score  std_test_score  rank_test_score  \n",
       "0            0.763636         0.701818        0.039165               13  \n",
       "1            0.745455         0.676364        0.067444               22  \n",
       "2            0.745455         0.683636        0.052192               20  \n",
       "3            0.745455         0.672727        0.050124               25  \n",
       "4            0.763636         0.658182        0.065455               29  \n",
       "5            0.800000         0.698182        0.059307               15  \n",
       "6            0.763636         0.665455        0.060412               26  \n",
       "7            0.818182         0.676364        0.073989               23  \n",
       "8            0.781818         0.665455        0.063610               26  \n",
       "9            0.763636         0.680000        0.052192               21  \n",
       "10           0.745455         0.661818        0.062562               28  \n",
       "11           0.727273         0.676364        0.047967               23  \n",
       "12           0.727273         0.690909        0.047412               17  \n",
       "13           0.727273         0.694545        0.043636               16  \n",
       "14           0.727273         0.687273        0.024121               19  \n",
       "15           0.763636         0.709091        0.034498                7  \n",
       "16           0.727273         0.690909        0.039834               17  \n",
       "17           0.727273         0.720000        0.024663                1  \n",
       "18           0.745455         0.712727        0.026722                5  \n",
       "19           0.763636         0.705455        0.038826               12  \n",
       "20           0.818182         0.716364        0.054667                2  \n",
       "21           0.800000         0.716364        0.049593                2  \n",
       "22           0.781818         0.709091        0.050124               10  \n",
       "23           0.763636         0.701818        0.046851               13  \n",
       "24           0.763636         0.709091        0.039834                7  \n",
       "25           0.763636         0.709091        0.053936               10  \n",
       "26           0.781818         0.716364        0.058182                4  \n",
       "27           0.763636         0.712727        0.067444                6  \n",
       "28           0.745455         0.709091        0.057496                7  "
      ]
     },
     "execution_count": 45,
     "metadata": {},
     "output_type": "execute_result"
    }
   ],
   "source": [
    "pd.DataFrame(full_cv_classifier.cv_results_)"
   ]
  },
  {
   "cell_type": "code",
   "execution_count": 46,
   "id": "6b3b4702",
   "metadata": {},
   "outputs": [],
   "source": [
    "y_pred = full_cv_classifier.predict(X_test)"
   ]
  },
  {
   "cell_type": "code",
   "execution_count": 47,
   "id": "8ea7ea5a",
   "metadata": {},
   "outputs": [
    {
     "data": {
      "text/plain": [
       "0.6666666666666666"
      ]
     },
     "execution_count": 47,
     "metadata": {},
     "output_type": "execute_result"
    }
   ],
   "source": [
    "metrics.accuracy_score(y_test,y_pred)"
   ]
  },
  {
   "cell_type": "code",
   "execution_count": 48,
   "id": "8850e566",
   "metadata": {},
   "outputs": [
    {
     "data": {
      "text/plain": [
       "array([[25,  7,  3],\n",
       "       [ 2, 20,  4],\n",
       "       [ 1,  6,  1]], dtype=int64)"
      ]
     },
     "execution_count": 48,
     "metadata": {},
     "output_type": "execute_result"
    }
   ],
   "source": [
    "metrics.confusion_matrix(y_test,y_pred)"
   ]
  },
  {
   "cell_type": "code",
   "execution_count": 49,
   "id": "79d1e444",
   "metadata": {},
   "outputs": [
    {
     "data": {
      "text/plain": [
       "<sklearn.metrics._plot.confusion_matrix.ConfusionMatrixDisplay at 0x201c21d2590>"
      ]
     },
     "execution_count": 49,
     "metadata": {},
     "output_type": "execute_result"
    },
    {
     "data": {
      "image/png": "[encoded data removed]",
      "text/plain": [
       "<Figure size 640x480 with 2 Axes>"
      ]
     },
     "metadata": {},
     "output_type": "display_data"
    }
   ],
   "source": [
    "cm = metrics.confusion_matrix(y_test,y_pred)\n",
    "metrics.ConfusionMatrixDisplay(confusion_matrix = cm, display_labels=full_cv_classifier.classes_).plot()"
   ]
  },
  {
   "cell_type": "code",
   "execution_count": 50,
   "id": "ec846467",
   "metadata": {},
   "outputs": [
    {
     "name": "stdout",
     "output_type": "stream",
     "text": [
      "              precision    recall  f1-score   support\n",
      "\n",
      "      Biscoe       0.89      0.71      0.79        35\n",
      "       Dream       0.61      0.77      0.68        26\n",
      "   Torgersen       0.12      0.12      0.12         8\n",
      "\n",
      "    accuracy                           0.67        69\n",
      "   macro avg       0.54      0.54      0.53        69\n",
      "weighted avg       0.70      0.67      0.67        69\n",
      "\n"
     ]
    }
   ],
   "source": [
    "print(metrics.classification_report(y_test,y_pred))"
   ]
  },
  {
   "cell_type": "markdown",
   "id": "f3fb311b",
   "metadata": {},
   "source": [
    "## Final Model"
   ]
  },
  {
   "cell_type": "code",
   "execution_count": 51,
   "id": "18936722",
   "metadata": {},
   "outputs": [],
   "source": [
    "scaler = StandardScaler()\n",
    "knn9 = KNeighborsClassifier(n_neighbors=9)\n",
    "operations = [('scaler',scaler),('knn9',knn9)]"
   ]
  },
  {
   "cell_type": "code",
   "execution_count": 52,
   "id": "77680038",
   "metadata": {},
   "outputs": [],
   "source": [
    "pipe = Pipeline(operations)"
   ]
  },
  {
   "cell_type": "code",
   "execution_count": 53,
   "id": "99e42b68",
   "metadata": {},
   "outputs": [
    {
     "data": {
      "text/html": [
       "<style>#sk-container-id-4 {color: black;background-color: white;}#sk-container-id-4 pre{padding: 0;}#sk-container-id-4 div.sk-toggleable {background-color: white;}#sk-container-id-4 label.sk-toggleable__label {cursor: pointer;display: block;width: 100%;margin-bottom: 0;padding: 0.3em;box-sizing: border-box;text-align: center;}#sk-container-id-4 label.sk-toggleable__label-arrow:before {content: \"▸\";float: left;margin-right: 0.25em;color: #696969;}#sk-container-id-4 label.sk-toggleable__label-arrow:hover:before {color: black;}#sk-container-id-4 div.sk-estimator:hover label.sk-toggleable__label-arrow:before {color: black;}#sk-container-id-4 div.sk-toggleable__content {max-height: 0;max-width: 0;overflow: hidden;text-align: left;background-color: #f0f8ff;}#sk-container-id-4 div.sk-toggleable__content pre {margin: 0.2em;color: black;border-radius: 0.25em;background-color: #f0f8ff;}#sk-container-id-4 input.sk-toggleable__control:checked~div.sk-toggleable__content {max-height: 200px;max-width: 100%;overflow: auto;}#sk-container-id-4 input.sk-toggleable__control:checked~label.sk-toggleable__label-arrow:before {content: \"▾\";}#sk-container-id-4 div.sk-estimator input.sk-toggleable__control:checked~label.sk-toggleable__label {background-color: #d4ebff;}#sk-container-id-4 div.sk-label input.sk-toggleable__control:checked~label.sk-toggleable__label {background-color: #d4ebff;}#sk-container-id-4 input.sk-hidden--visually {border: 0;clip: rect(1px 1px 1px 1px);clip: rect(1px, 1px, 1px, 1px);height: 1px;margin: -1px;overflow: hidden;padding: 0;position: absolute;width: 1px;}#sk-container-id-4 div.sk-estimator {font-family: monospace;background-color: #f0f8ff;border: 1px dotted black;border-radius: 0.25em;box-sizing: border-box;margin-bottom: 0.5em;}#sk-container-id-4 div.sk-estimator:hover {background-color: #d4ebff;}#sk-container-id-4 div.sk-parallel-item::after {content: \"\";width: 100%;border-bottom: 1px solid gray;flex-grow: 1;}#sk-container-id-4 div.sk-label:hover label.sk-toggleable__label {background-color: #d4ebff;}#sk-container-id-4 div.sk-serial::before {content: \"\";position: absolute;border-left: 1px solid gray;box-sizing: border-box;top: 0;bottom: 0;left: 50%;z-index: 0;}#sk-container-id-4 div.sk-serial {display: flex;flex-direction: column;align-items: center;background-color: white;padding-right: 0.2em;padding-left: 0.2em;position: relative;}#sk-container-id-4 div.sk-item {position: relative;z-index: 1;}#sk-container-id-4 div.sk-parallel {display: flex;align-items: stretch;justify-content: center;background-color: white;position: relative;}#sk-container-id-4 div.sk-item::before, #sk-container-id-4 div.sk-parallel-item::before {content: \"\";position: absolute;border-left: 1px solid gray;box-sizing: border-box;top: 0;bottom: 0;left: 50%;z-index: -1;}#sk-container-id-4 div.sk-parallel-item {display: flex;flex-direction: column;z-index: 1;position: relative;background-color: white;}#sk-container-id-4 div.sk-parallel-item:first-child::after {align-self: flex-end;width: 50%;}#sk-container-id-4 div.sk-parallel-item:last-child::after {align-self: flex-start;width: 50%;}#sk-container-id-4 div.sk-parallel-item:only-child::after {width: 0;}#sk-container-id-4 div.sk-dashed-wrapped {border: 1px dashed gray;margin: 0 0.4em 0.5em 0.4em;box-sizing: border-box;padding-bottom: 0.4em;background-color: white;}#sk-container-id-4 div.sk-label label {font-family: monospace;font-weight: bold;display: inline-block;line-height: 1.2em;}#sk-container-id-4 div.sk-label-container {text-align: center;}#sk-container-id-4 div.sk-container {/* jupyter's `normalize.less` sets `[hidden] { display: none; }` but bootstrap.min.css set `[hidden] { display: none !important; }` so we also need the `!important` here to be able to override the default hidden behavior on the sphinx rendered scikit-learn.org. See: https://github.com/scikit-learn/scikit-learn/issues/21755 */display: inline-block !important;position: relative;}#sk-container-id-4 div.sk-text-repr-fallback {display: none;}</style><div id=\"sk-container-id-4\" class=\"sk-top-container\"><div class=\"sk-text-repr-fallback\"><pre>Pipeline(steps=[(&#x27;scaler&#x27;, StandardScaler()),\n",
       "                (&#x27;knn9&#x27;, KNeighborsClassifier(n_neighbors=9))])</pre><b>In a Jupyter environment, please rerun this cell to show the HTML representation or trust the notebook. <br />On GitHub, the HTML representation is unable to render, please try loading this page with nbviewer.org.</b></div><div class=\"sk-container\" hidden><div class=\"sk-item sk-dashed-wrapped\"><div class=\"sk-label-container\"><div class=\"sk-label sk-toggleable\"><input class=\"sk-toggleable__control sk-hidden--visually\" id=\"sk-estimator-id-9\" type=\"checkbox\" ><label for=\"sk-estimator-id-9\" class=\"sk-toggleable__label sk-toggleable__label-arrow\">Pipeline</label><div class=\"sk-toggleable__content\"><pre>Pipeline(steps=[(&#x27;scaler&#x27;, StandardScaler()),\n",
       "                (&#x27;knn9&#x27;, KNeighborsClassifier(n_neighbors=9))])</pre></div></div></div><div class=\"sk-serial\"><div class=\"sk-item\"><div class=\"sk-estimator sk-toggleable\"><input class=\"sk-toggleable__control sk-hidden--visually\" id=\"sk-estimator-id-10\" type=\"checkbox\" ><label for=\"sk-estimator-id-10\" class=\"sk-toggleable__label sk-toggleable__label-arrow\">StandardScaler</label><div class=\"sk-toggleable__content\"><pre>StandardScaler()</pre></div></div></div><div class=\"sk-item\"><div class=\"sk-estimator sk-toggleable\"><input class=\"sk-toggleable__control sk-hidden--visually\" id=\"sk-estimator-id-11\" type=\"checkbox\" ><label for=\"sk-estimator-id-11\" class=\"sk-toggleable__label sk-toggleable__label-arrow\">KNeighborsClassifier</label><div class=\"sk-toggleable__content\"><pre>KNeighborsClassifier(n_neighbors=9)</pre></div></div></div></div></div></div></div>"
      ],
      "text/plain": [
       "Pipeline(steps=[('scaler', StandardScaler()),\n",
       "                ('knn9', KNeighborsClassifier(n_neighbors=9))])"
      ]
     },
     "execution_count": 53,
     "metadata": {},
     "output_type": "execute_result"
    }
   ],
   "source": [
    "pipe.fit(X_train,y_train)"
   ]
  },
  {
   "cell_type": "code",
   "execution_count": 54,
   "id": "95e37134",
   "metadata": {},
   "outputs": [],
   "source": [
    "pipe_pred = pipe.predict(X_test)"
   ]
  },
  {
   "cell_type": "code",
   "execution_count": 55,
   "id": "013a73c0",
   "metadata": {},
   "outputs": [
    {
     "name": "stdout",
     "output_type": "stream",
     "text": [
      "              precision    recall  f1-score   support\n",
      "\n",
      "      Biscoe       0.89      0.71      0.79        35\n",
      "       Dream       0.72      0.81      0.76        26\n",
      "   Torgersen       0.25      0.38      0.30         8\n",
      "\n",
      "    accuracy                           0.71        69\n",
      "   macro avg       0.62      0.63      0.62        69\n",
      "weighted avg       0.75      0.71      0.73        69\n",
      "\n"
     ]
    }
   ],
   "source": [
    "print(metrics.classification_report(y_test,pipe_pred))"
   ]
  },
  {
   "cell_type": "code",
   "execution_count": 56,
   "id": "3e3bd9b4",
   "metadata": {},
   "outputs": [],
   "source": [
    "single_sample = X_test.iloc[40]"
   ]
  },
  {
   "cell_type": "code",
   "execution_count": 57,
   "id": "74e0cffb",
   "metadata": {},
   "outputs": [
    {
     "name": "stderr",
     "output_type": "stream",
     "text": [
      "C:\\Users\\andre\\anaconda3\\lib\\site-packages\\sklearn\\base.py:420: UserWarning: X does not have valid feature names, but StandardScaler was fitted with feature names\n",
      "  warnings.warn(\n"
     ]
    },
    {
     "data": {
      "text/plain": [
       "array(['Dream'], dtype=object)"
      ]
     },
     "execution_count": 57,
     "metadata": {},
     "output_type": "execute_result"
    }
   ],
   "source": [
    "pipe.predict(single_sample.values.reshape(1, -1))"
   ]
  },
  {
   "cell_type": "code",
   "execution_count": 58,
   "id": "ecf0867d",
   "metadata": {},
   "outputs": [
    {
     "name": "stderr",
     "output_type": "stream",
     "text": [
      "C:\\Users\\andre\\anaconda3\\lib\\site-packages\\sklearn\\base.py:420: UserWarning: X does not have valid feature names, but StandardScaler was fitted with feature names\n",
      "  warnings.warn(\n"
     ]
    },
    {
     "data": {
      "text/plain": [
       "array([[0., 1., 0.]])"
      ]
     },
     "execution_count": 58,
     "metadata": {},
     "output_type": "execute_result"
    }
   ],
   "source": [
    "pipe.predict_proba(single_sample.values.reshape(1, -1))"
   ]
  }
 ],
 "metadata": {
  "kernelspec": {
   "display_name": "Python 3 (ipykernel)",
   "language": "python",
   "name": "python3"
  },
  "language_info": {
   "codemirror_mode": {
    "name": "ipython",
    "version": 3
   },
   "file_extension": ".py",
   "mimetype": "text/x-python",
   "name": "python",
   "nbconvert_exporter": "python",
   "pygments_lexer": "ipython3",
   "version": "3.10.9"
  }
 },
 "nbformat": 4,
 "nbformat_minor": 5
}
