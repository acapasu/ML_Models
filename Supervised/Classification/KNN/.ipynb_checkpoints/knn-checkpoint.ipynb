{
 "cells": [
  {
   "cell_type": "markdown",
   "id": "d39512ba",
   "metadata": {},
   "source": [
    "## Import Libraries"
   ]
  },
  {
   "cell_type": "code",
   "execution_count": 1,
   "id": "e185ff69",
   "metadata": {},
   "outputs": [],
   "source": [
    "import pandas as pd\n",
    "import numpy as np\n",
    "import matplotlib.pyplot as plt\n",
    "import seaborn as sns\n",
    "import missingno as msno\n",
    "\n",
    "from sklearn.model_selection import train_test_split\n",
    "# from sklearn.linear_model import LinearRegression\n",
    "from sklearn import metrics\n",
    "from sklearn.preprocessing import StandardScaler"
   ]
  },
  {
   "cell_type": "markdown",
   "id": "38d68284",
   "metadata": {},
   "source": [
    "## Import Dataset"
   ]
  },
  {
   "cell_type": "code",
   "execution_count": 2,
   "id": "483f6202",
   "metadata": {},
   "outputs": [],
   "source": [
    "df_pen = sns.load_dataset('penguins')"
   ]
  },
  {
   "cell_type": "code",
   "execution_count": 3,
   "id": "6388303c",
   "metadata": {},
   "outputs": [],
   "source": [
    "X = df_pen.drop(['island'], axis = 1)\n",
    "y = df_pen['island']"
   ]
  },
  {
   "cell_type": "markdown",
   "id": "e2ee1a7d",
   "metadata": {},
   "source": [
    "## Data Pre-processing"
   ]
  },
  {
   "cell_type": "code",
   "execution_count": 4,
   "id": "8573e226",
   "metadata": {},
   "outputs": [],
   "source": [
    "categorical_x = ['species', 'sex']\n",
    "numerical_x = X.drop(categorical_x, axis = 1).columns"
   ]
  },
  {
   "cell_type": "code",
   "execution_count": 5,
   "id": "83582ab9",
   "metadata": {},
   "outputs": [],
   "source": [
    "## If y is categorical:\n",
    "y.fillna(y.mode(), inplace= True)\n",
    "##If y is numerical\n",
    "# y.fillna(y.mean(), inplace= True)\n",
    "for i in numerical_x:\n",
    "    X[i].fillna(X[i].mean(), inplace = True)\n",
    "\n",
    "for i in categorical_x:\n",
    "    X[i].fillna(X[i].mode().iloc[0], inplace = True)\n",
    "    \n",
    "categoricas = pd.get_dummies(X[categorical_x], drop_first=True)\n",
    "X = pd.concat([categoricas, X[numerical_x]], axis = 1)"
   ]
  },
  {
   "cell_type": "code",
   "execution_count": 6,
   "id": "f6fc5dca",
   "metadata": {},
   "outputs": [],
   "source": [
    "X_train, X_test, y_train, y_test = train_test_split(X, y, test_size = 0.2, random_state=45)"
   ]
  },
  {
   "cell_type": "code",
   "execution_count": 7,
   "id": "ad738c37",
   "metadata": {},
   "outputs": [],
   "source": [
    "escalador = StandardScaler()\n",
    "escalador.fit(X_train)\n",
    "\n",
    "X_train = escalador.transform(X_train)\n",
    "X_test = escalador.transform(X_test)"
   ]
  },
  {
   "cell_type": "markdown",
   "id": "ce0af4c0",
   "metadata": {},
   "source": [
    "## Model implementation"
   ]
  },
  {
   "cell_type": "code",
   "execution_count": 8,
   "id": "60cff7f7",
   "metadata": {},
   "outputs": [],
   "source": [
    "from sklearn.neighbors import KNeighborsClassifier"
   ]
  },
  {
   "cell_type": "code",
   "execution_count": 9,
   "id": "651eb162",
   "metadata": {},
   "outputs": [],
   "source": [
    "knn_model = KNeighborsClassifier(n_neighbors=1)"
   ]
  },
  {
   "cell_type": "code",
   "execution_count": 10,
   "id": "cec3fbe2",
   "metadata": {},
   "outputs": [
    {
     "data": {
      "text/plain": [
       "KNeighborsClassifier(n_neighbors=1)"
      ]
     },
     "execution_count": 10,
     "metadata": {},
     "output_type": "execute_result"
    }
   ],
   "source": [
    "knn_model.fit(X_train,y_train)"
   ]
  },
  {
   "cell_type": "markdown",
   "id": "a0301aab",
   "metadata": {},
   "source": [
    "## Evaluation"
   ]
  },
  {
   "cell_type": "code",
   "execution_count": 11,
   "id": "825a44a3",
   "metadata": {},
   "outputs": [],
   "source": [
    "y_pred = knn_model.predict(X_test)"
   ]
  },
  {
   "cell_type": "code",
   "execution_count": 12,
   "id": "d6a205ee",
   "metadata": {},
   "outputs": [
    {
     "data": {
      "text/plain": [
       "0.782608695652174"
      ]
     },
     "execution_count": 12,
     "metadata": {},
     "output_type": "execute_result"
    }
   ],
   "source": [
    "metrics.accuracy_score(y_test,y_pred)"
   ]
  },
  {
   "cell_type": "code",
   "execution_count": 13,
   "id": "521cca13",
   "metadata": {},
   "outputs": [
    {
     "data": {
      "text/plain": [
       "array([[30,  1,  2],\n",
       "       [ 3, 22,  2],\n",
       "       [ 1,  6,  2]], dtype=int64)"
      ]
     },
     "execution_count": 13,
     "metadata": {},
     "output_type": "execute_result"
    }
   ],
   "source": [
    "metrics.confusion_matrix(y_test,y_pred)"
   ]
  },
  {
   "cell_type": "code",
   "execution_count": 14,
   "id": "9244d82a",
   "metadata": {},
   "outputs": [
    {
     "data": {
      "text/plain": [
       "<sklearn.metrics._plot.confusion_matrix.ConfusionMatrixDisplay at 0x2cc7e007a90>"
      ]
     },
     "execution_count": 14,
     "metadata": {},
     "output_type": "execute_result"
    },
    {
     "data": {
      "image/png": "[encoded data removed]",
      "text/plain": [
       "<Figure size 432x288 with 2 Axes>"
      ]
     },
     "metadata": {
      "needs_background": "light"
     },
     "output_type": "display_data"
    }
   ],
   "source": [
    "metrics.plot_confusion_matrix(knn_model, X_test,y_test)"
   ]
  },
  {
   "cell_type": "code",
   "execution_count": 15,
   "id": "4e1e8e1c",
   "metadata": {},
   "outputs": [
    {
     "data": {
      "text/plain": [
       "<sklearn.metrics._plot.confusion_matrix.ConfusionMatrixDisplay at 0x2cc0385c310>"
      ]
     },
     "execution_count": 15,
     "metadata": {},
     "output_type": "execute_result"
    },
    {
     "data": {
      "image/png": "[encoded data removed]",
      "text/plain": [
       "<Figure size 432x288 with 2 Axes>"
      ]
     },
     "metadata": {
      "needs_background": "light"
     },
     "output_type": "display_data"
    }
   ],
   "source": [
    "metrics.plot_confusion_matrix(knn_model, X_test,y_test,normalize='true')"
   ]
  },
  {
   "cell_type": "code",
   "execution_count": 16,
   "id": "52326f1e",
   "metadata": {},
   "outputs": [
    {
     "name": "stdout",
     "output_type": "stream",
     "text": [
      "              precision    recall  f1-score   support\n",
      "\n",
      "      Biscoe       0.88      0.91      0.90        33\n",
      "       Dream       0.76      0.81      0.79        27\n",
      "   Torgersen       0.33      0.22      0.27         9\n",
      "\n",
      "    accuracy                           0.78        69\n",
      "   macro avg       0.66      0.65      0.65        69\n",
      "weighted avg       0.76      0.78      0.77        69\n",
      "\n"
     ]
    }
   ],
   "source": [
    "print(metrics.classification_report(y_test,y_pred))"
   ]
  },
  {
   "cell_type": "markdown",
   "id": "a5eef748",
   "metadata": {},
   "source": [
    "## Elbow method"
   ]
  },
  {
   "cell_type": "code",
   "execution_count": 17,
   "id": "d5a5475d",
   "metadata": {},
   "outputs": [],
   "source": [
    "test_error_rates = []\n",
    "\n",
    "\n",
    "for k in range(1,30):\n",
    "    knn_model = KNeighborsClassifier(n_neighbors=k)\n",
    "    knn_model.fit(X_train,y_train) \n",
    "   \n",
    "    y_pred_test = knn_model.predict(X_test)\n",
    "    \n",
    "    test_error = 1 - metrics.accuracy_score(y_test,y_pred_test)\n",
    "    test_error_rates.append(test_error)"
   ]
  },
  {
   "cell_type": "code",
   "execution_count": 18,
   "id": "78daeae3",
   "metadata": {},
   "outputs": [
    {
     "data": {
      "text/plain": [
       "Text(0.5, 0, 'K Value')"
      ]
     },
     "execution_count": 18,
     "metadata": {},
     "output_type": "execute_result"
    },
    {
     "data": {
      "image/png": "[encoded data removed]",
      "text/plain": [
       "<Figure size 2000x1200 with 1 Axes>"
      ]
     },
     "metadata": {
      "needs_background": "light"
     },
     "output_type": "display_data"
    }
   ],
   "source": [
    "plt.figure(figsize=(10,6),dpi=200)\n",
    "plt.plot(range(1,30),test_error_rates,label='Test Error')\n",
    "plt.legend()\n",
    "plt.ylabel('Error Rate')\n",
    "plt.xlabel(\"K Value\")"
   ]
  },
  {
   "cell_type": "markdown",
   "id": "d810c4a2",
   "metadata": {},
   "source": [
    "## Grid Search"
   ]
  },
  {
   "cell_type": "code",
   "execution_count": 19,
   "id": "db50618d",
   "metadata": {},
   "outputs": [],
   "source": [
    "from sklearn.model_selection import GridSearchCV"
   ]
  },
  {
   "cell_type": "code",
   "execution_count": 20,
   "id": "e4637ca9",
   "metadata": {},
   "outputs": [],
   "source": [
    "knn_model = KNeighborsClassifier()"
   ]
  },
  {
   "cell_type": "code",
   "execution_count": 21,
   "id": "a593b2a4",
   "metadata": {},
   "outputs": [],
   "source": [
    "n_neighbors = np.linspace(1,30, 30).astype(int)"
   ]
  },
  {
   "cell_type": "code",
   "execution_count": 22,
   "id": "1ca35293",
   "metadata": {},
   "outputs": [],
   "source": [
    "grid_model = GridSearchCV(knn_model,param_grid={'n_neighbors':n_neighbors}, cv = 5, scoring='accuracy')"
   ]
  },
  {
   "cell_type": "code",
   "execution_count": 23,
   "id": "f6d8649e",
   "metadata": {},
   "outputs": [
    {
     "data": {
      "text/plain": [
       "GridSearchCV(cv=5, estimator=KNeighborsClassifier(),\n",
       "             param_grid={'n_neighbors': array([ 1,  2,  3,  4,  5,  6,  7,  8,  9, 10, 11, 12, 13, 14, 15, 16, 17,\n",
       "       18, 19, 20, 21, 22, 23, 24, 25, 26, 27, 28, 29, 30])},\n",
       "             scoring='accuracy')"
      ]
     },
     "execution_count": 23,
     "metadata": {},
     "output_type": "execute_result"
    }
   ],
   "source": [
    "grid_model.fit(X_train,y_train)"
   ]
  },
  {
   "cell_type": "code",
   "execution_count": 24,
   "id": "7c3bb361",
   "metadata": {},
   "outputs": [
    {
     "data": {
      "text/plain": [
       "{'n_neighbors': 9}"
      ]
     },
     "execution_count": 24,
     "metadata": {},
     "output_type": "execute_result"
    }
   ],
   "source": [
    "grid_model.best_params_"
   ]
  },
  {
   "cell_type": "code",
   "execution_count": 25,
   "id": "03cd76ae",
   "metadata": {},
   "outputs": [],
   "source": [
    "y_pred = grid_model.predict(X_test)"
   ]
  },
  {
   "cell_type": "code",
   "execution_count": 26,
   "id": "7ca6e61a",
   "metadata": {},
   "outputs": [
    {
     "data": {
      "text/plain": [
       "0.7246376811594203"
      ]
     },
     "execution_count": 26,
     "metadata": {},
     "output_type": "execute_result"
    }
   ],
   "source": [
    "metrics.accuracy_score(y_test,y_pred)"
   ]
  },
  {
   "cell_type": "code",
   "execution_count": 27,
   "id": "1d285cb6",
   "metadata": {},
   "outputs": [
    {
     "data": {
      "text/plain": [
       "array([[28,  2,  3],\n",
       "       [ 5, 21,  1],\n",
       "       [ 5,  3,  1]], dtype=int64)"
      ]
     },
     "execution_count": 27,
     "metadata": {},
     "output_type": "execute_result"
    }
   ],
   "source": [
    "metrics.confusion_matrix(y_test,y_pred)"
   ]
  },
  {
   "cell_type": "code",
   "execution_count": 28,
   "id": "97f74b34",
   "metadata": {},
   "outputs": [
    {
     "data": {
      "text/plain": [
       "<sklearn.metrics._plot.confusion_matrix.ConfusionMatrixDisplay at 0x2cc0415ef70>"
      ]
     },
     "execution_count": 28,
     "metadata": {},
     "output_type": "execute_result"
    },
    {
     "data": {
      "image/png": "[encoded data removed]",
      "text/plain": [
       "<Figure size 432x288 with 2 Axes>"
      ]
     },
     "metadata": {
      "needs_background": "light"
     },
     "output_type": "display_data"
    }
   ],
   "source": [
    "metrics.plot_confusion_matrix(grid_model, X_test,y_test)"
   ]
  },
  {
   "cell_type": "code",
   "execution_count": 29,
   "id": "0405f315",
   "metadata": {},
   "outputs": [
    {
     "data": {
      "text/plain": [
       "<sklearn.metrics._plot.confusion_matrix.ConfusionMatrixDisplay at 0x2cc040d1a90>"
      ]
     },
     "execution_count": 29,
     "metadata": {},
     "output_type": "execute_result"
    },
    {
     "data": {
      "image/png": "[encoded data removed]",
      "text/plain": [
       "<Figure size 432x288 with 2 Axes>"
      ]
     },
     "metadata": {
      "needs_background": "light"
     },
     "output_type": "display_data"
    }
   ],
   "source": [
    "metrics.plot_confusion_matrix(grid_model, X_test,y_test,normalize='true')"
   ]
  },
  {
   "cell_type": "code",
   "execution_count": 30,
   "id": "4e30306c",
   "metadata": {},
   "outputs": [
    {
     "name": "stdout",
     "output_type": "stream",
     "text": [
      "              precision    recall  f1-score   support\n",
      "\n",
      "      Biscoe       0.74      0.85      0.79        33\n",
      "       Dream       0.81      0.78      0.79        27\n",
      "   Torgersen       0.20      0.11      0.14         9\n",
      "\n",
      "    accuracy                           0.72        69\n",
      "   macro avg       0.58      0.58      0.57        69\n",
      "weighted avg       0.69      0.72      0.71        69\n",
      "\n"
     ]
    }
   ],
   "source": [
    "print(metrics.classification_report(y_test,y_pred))"
   ]
  },
  {
   "cell_type": "markdown",
   "id": "86640bd0",
   "metadata": {},
   "source": [
    "## Pipeline"
   ]
  },
  {
   "cell_type": "code",
   "execution_count": 31,
   "id": "011533b8",
   "metadata": {},
   "outputs": [],
   "source": [
    "X = df_pen.drop(['island'], axis = 1)\n",
    "y = df_pen['island']"
   ]
  },
  {
   "cell_type": "code",
   "execution_count": 32,
   "id": "c05b8d0e",
   "metadata": {},
   "outputs": [],
   "source": [
    "categorical_x = ['species', 'sex']\n",
    "numerical_x = X.drop(categorical_x, axis = 1).columns"
   ]
  },
  {
   "cell_type": "code",
   "execution_count": 33,
   "id": "30ff095a",
   "metadata": {},
   "outputs": [],
   "source": [
    "## If y is categorical:\n",
    "y.fillna(y.mode(), inplace= True)\n",
    "##If y is numerical\n",
    "# y.fillna(y.mean(), inplace= True)\n",
    "for i in numerical_x:\n",
    "    X[i].fillna(X[i].mean(), inplace = True)\n",
    "\n",
    "for i in categorical_x:\n",
    "    X[i].fillna(X[i].mode().iloc[0], inplace = True)\n",
    "    \n",
    "categoricas = pd.get_dummies(X[categorical_x], drop_first=True)\n",
    "X = pd.concat([categoricas, X[numerical_x]], axis = 1)"
   ]
  },
  {
   "cell_type": "code",
   "execution_count": 34,
   "id": "1d91e632",
   "metadata": {},
   "outputs": [],
   "source": [
    "X_train, X_test, y_train, y_test = train_test_split(X, y, test_size = 0.2, random_state=45)"
   ]
  },
  {
   "cell_type": "markdown",
   "id": "18bf8b1b",
   "metadata": {},
   "source": [
    "## Pipeline Process"
   ]
  },
  {
   "cell_type": "code",
   "execution_count": 35,
   "id": "5858771c",
   "metadata": {},
   "outputs": [],
   "source": [
    "scaler = StandardScaler()"
   ]
  },
  {
   "cell_type": "code",
   "execution_count": 36,
   "id": "bff052e1",
   "metadata": {},
   "outputs": [],
   "source": [
    "knn = KNeighborsClassifier()"
   ]
  },
  {
   "cell_type": "code",
   "execution_count": 37,
   "id": "83b39024",
   "metadata": {},
   "outputs": [],
   "source": [
    "operations = [('scaler',scaler),('knn',knn)]"
   ]
  },
  {
   "cell_type": "code",
   "execution_count": 38,
   "id": "a54eba25",
   "metadata": {},
   "outputs": [],
   "source": [
    "from sklearn.pipeline import Pipeline"
   ]
  },
  {
   "cell_type": "code",
   "execution_count": 39,
   "id": "4fd192fe",
   "metadata": {},
   "outputs": [],
   "source": [
    "pipe = Pipeline(operations)"
   ]
  },
  {
   "cell_type": "code",
   "execution_count": 40,
   "id": "022813a3",
   "metadata": {},
   "outputs": [],
   "source": [
    "k_values = list(range(1,30))"
   ]
  },
  {
   "cell_type": "code",
   "execution_count": 41,
   "id": "6b99d5fd",
   "metadata": {},
   "outputs": [],
   "source": [
    "param_grid = {'knn__n_neighbors': k_values}"
   ]
  },
  {
   "cell_type": "code",
   "execution_count": 42,
   "id": "da6cbb9c",
   "metadata": {},
   "outputs": [],
   "source": [
    "full_cv_classifier = GridSearchCV(pipe,param_grid,cv=5,scoring='accuracy')"
   ]
  },
  {
   "cell_type": "code",
   "execution_count": 43,
   "id": "e2ed613c",
   "metadata": {},
   "outputs": [
    {
     "data": {
      "text/plain": [
       "GridSearchCV(cv=5,\n",
       "             estimator=Pipeline(steps=[('scaler', StandardScaler()),\n",
       "                                       ('knn', KNeighborsClassifier())]),\n",
       "             param_grid={'knn__n_neighbors': [1, 2, 3, 4, 5, 6, 7, 8, 9, 10, 11,\n",
       "                                              12, 13, 14, 15, 16, 17, 18, 19,\n",
       "                                              20, 21, 22, 23, 24, 25, 26, 27,\n",
       "                                              28, 29]},\n",
       "             scoring='accuracy')"
      ]
     },
     "execution_count": 43,
     "metadata": {},
     "output_type": "execute_result"
    }
   ],
   "source": [
    "full_cv_classifier.fit(X_train,y_train)"
   ]
  },
  {
   "cell_type": "code",
   "execution_count": 44,
   "id": "b8ba6600",
   "metadata": {},
   "outputs": [
    {
     "data": {
      "text/plain": [
       "{'memory': None,\n",
       " 'steps': [('scaler', StandardScaler()),\n",
       "  ('knn', KNeighborsClassifier(n_neighbors=9))],\n",
       " 'verbose': False,\n",
       " 'scaler': StandardScaler(),\n",
       " 'knn': KNeighborsClassifier(n_neighbors=9),\n",
       " 'scaler__copy': True,\n",
       " 'scaler__with_mean': True,\n",
       " 'scaler__with_std': True,\n",
       " 'knn__algorithm': 'auto',\n",
       " 'knn__leaf_size': 30,\n",
       " 'knn__metric': 'minkowski',\n",
       " 'knn__metric_params': None,\n",
       " 'knn__n_jobs': None,\n",
       " 'knn__n_neighbors': 9,\n",
       " 'knn__p': 2,\n",
       " 'knn__weights': 'uniform'}"
      ]
     },
     "execution_count": 44,
     "metadata": {},
     "output_type": "execute_result"
    }
   ],
   "source": [
    "full_cv_classifier.best_estimator_.get_params()"
   ]
  },
  {
   "cell_type": "code",
   "execution_count": 45,
   "id": "556277b6",
   "metadata": {},
   "outputs": [
    {
     "data": {
      "text/plain": [
       "dict_keys(['mean_fit_time', 'std_fit_time', 'mean_score_time', 'std_score_time', 'param_knn__n_neighbors', 'params', 'split0_test_score', 'split1_test_score', 'split2_test_score', 'split3_test_score', 'split4_test_score', 'mean_test_score', 'std_test_score', 'rank_test_score'])"
      ]
     },
     "execution_count": 45,
     "metadata": {},
     "output_type": "execute_result"
    }
   ],
   "source": [
    "full_cv_classifier.cv_results_.keys()"
   ]
  },
  {
   "cell_type": "code",
   "execution_count": 46,
   "id": "a61f617c",
   "metadata": {
    "scrolled": true
   },
   "outputs": [
    {
     "data": {
      "text/html": [
       "<div>\n",
       "<style scoped>\n",
       "    .dataframe tbody tr th:only-of-type {\n",
       "        vertical-align: middle;\n",
       "    }\n",
       "\n",
       "    .dataframe tbody tr th {\n",
       "        vertical-align: top;\n",
       "    }\n",
       "\n",
       "    .dataframe thead th {\n",
       "        text-align: right;\n",
       "    }\n",
       "</style>\n",
       "<table border=\"1\" class=\"dataframe\">\n",
       "  <thead>\n",
       "    <tr style=\"text-align: right;\">\n",
       "      <th></th>\n",
       "      <th>mean_fit_time</th>\n",
       "      <th>std_fit_time</th>\n",
       "      <th>mean_score_time</th>\n",
       "      <th>std_score_time</th>\n",
       "      <th>param_knn__n_neighbors</th>\n",
       "      <th>params</th>\n",
       "      <th>split0_test_score</th>\n",
       "      <th>split1_test_score</th>\n",
       "      <th>split2_test_score</th>\n",
       "      <th>split3_test_score</th>\n",
       "      <th>split4_test_score</th>\n",
       "      <th>mean_test_score</th>\n",
       "      <th>std_test_score</th>\n",
       "      <th>rank_test_score</th>\n",
       "    </tr>\n",
       "  </thead>\n",
       "  <tbody>\n",
       "    <tr>\n",
       "      <th>0</th>\n",
       "      <td>0.007340</td>\n",
       "      <td>0.000961</td>\n",
       "      <td>0.005754</td>\n",
       "      <td>0.000807</td>\n",
       "      <td>1</td>\n",
       "      <td>{'knn__n_neighbors': 1}</td>\n",
       "      <td>0.690909</td>\n",
       "      <td>0.727273</td>\n",
       "      <td>0.636364</td>\n",
       "      <td>0.709091</td>\n",
       "      <td>0.672727</td>\n",
       "      <td>0.687273</td>\n",
       "      <td>0.031281</td>\n",
       "      <td>4</td>\n",
       "    </tr>\n",
       "    <tr>\n",
       "      <th>1</th>\n",
       "      <td>0.006346</td>\n",
       "      <td>0.000732</td>\n",
       "      <td>0.005555</td>\n",
       "      <td>0.000586</td>\n",
       "      <td>2</td>\n",
       "      <td>{'knn__n_neighbors': 2}</td>\n",
       "      <td>0.654545</td>\n",
       "      <td>0.654545</td>\n",
       "      <td>0.618182</td>\n",
       "      <td>0.727273</td>\n",
       "      <td>0.727273</td>\n",
       "      <td>0.676364</td>\n",
       "      <td>0.043636</td>\n",
       "      <td>17</td>\n",
       "    </tr>\n",
       "    <tr>\n",
       "      <th>2</th>\n",
       "      <td>0.006154</td>\n",
       "      <td>0.000240</td>\n",
       "      <td>0.005551</td>\n",
       "      <td>0.000200</td>\n",
       "      <td>3</td>\n",
       "      <td>{'knn__n_neighbors': 3}</td>\n",
       "      <td>0.690909</td>\n",
       "      <td>0.727273</td>\n",
       "      <td>0.654545</td>\n",
       "      <td>0.690909</td>\n",
       "      <td>0.672727</td>\n",
       "      <td>0.687273</td>\n",
       "      <td>0.024121</td>\n",
       "      <td>4</td>\n",
       "    </tr>\n",
       "    <tr>\n",
       "      <th>3</th>\n",
       "      <td>0.005754</td>\n",
       "      <td>0.000243</td>\n",
       "      <td>0.004968</td>\n",
       "      <td>0.000011</td>\n",
       "      <td>4</td>\n",
       "      <td>{'knn__n_neighbors': 4}</td>\n",
       "      <td>0.654545</td>\n",
       "      <td>0.727273</td>\n",
       "      <td>0.654545</td>\n",
       "      <td>0.690909</td>\n",
       "      <td>0.636364</td>\n",
       "      <td>0.672727</td>\n",
       "      <td>0.032525</td>\n",
       "      <td>25</td>\n",
       "    </tr>\n",
       "    <tr>\n",
       "      <th>4</th>\n",
       "      <td>0.005754</td>\n",
       "      <td>0.000401</td>\n",
       "      <td>0.004960</td>\n",
       "      <td>0.000315</td>\n",
       "      <td>5</td>\n",
       "      <td>{'knn__n_neighbors': 5}</td>\n",
       "      <td>0.654545</td>\n",
       "      <td>0.672727</td>\n",
       "      <td>0.654545</td>\n",
       "      <td>0.654545</td>\n",
       "      <td>0.690909</td>\n",
       "      <td>0.665455</td>\n",
       "      <td>0.014545</td>\n",
       "      <td>28</td>\n",
       "    </tr>\n",
       "    <tr>\n",
       "      <th>5</th>\n",
       "      <td>0.005761</td>\n",
       "      <td>0.000234</td>\n",
       "      <td>0.004961</td>\n",
       "      <td>0.000013</td>\n",
       "      <td>6</td>\n",
       "      <td>{'knn__n_neighbors': 6}</td>\n",
       "      <td>0.672727</td>\n",
       "      <td>0.690909</td>\n",
       "      <td>0.672727</td>\n",
       "      <td>0.690909</td>\n",
       "      <td>0.654545</td>\n",
       "      <td>0.676364</td>\n",
       "      <td>0.013606</td>\n",
       "      <td>17</td>\n",
       "    </tr>\n",
       "    <tr>\n",
       "      <th>6</th>\n",
       "      <td>0.006048</td>\n",
       "      <td>0.000480</td>\n",
       "      <td>0.004959</td>\n",
       "      <td>0.000011</td>\n",
       "      <td>7</td>\n",
       "      <td>{'knn__n_neighbors': 7}</td>\n",
       "      <td>0.709091</td>\n",
       "      <td>0.654545</td>\n",
       "      <td>0.672727</td>\n",
       "      <td>0.690909</td>\n",
       "      <td>0.709091</td>\n",
       "      <td>0.687273</td>\n",
       "      <td>0.021203</td>\n",
       "      <td>4</td>\n",
       "    </tr>\n",
       "    <tr>\n",
       "      <th>7</th>\n",
       "      <td>0.005948</td>\n",
       "      <td>0.000308</td>\n",
       "      <td>0.005254</td>\n",
       "      <td>0.000396</td>\n",
       "      <td>8</td>\n",
       "      <td>{'knn__n_neighbors': 8}</td>\n",
       "      <td>0.690909</td>\n",
       "      <td>0.672727</td>\n",
       "      <td>0.654545</td>\n",
       "      <td>0.654545</td>\n",
       "      <td>0.690909</td>\n",
       "      <td>0.672727</td>\n",
       "      <td>0.016262</td>\n",
       "      <td>20</td>\n",
       "    </tr>\n",
       "    <tr>\n",
       "      <th>8</th>\n",
       "      <td>0.005754</td>\n",
       "      <td>0.000243</td>\n",
       "      <td>0.005068</td>\n",
       "      <td>0.000374</td>\n",
       "      <td>9</td>\n",
       "      <td>{'knn__n_neighbors': 9}</td>\n",
       "      <td>0.709091</td>\n",
       "      <td>0.690909</td>\n",
       "      <td>0.654545</td>\n",
       "      <td>0.727273</td>\n",
       "      <td>0.709091</td>\n",
       "      <td>0.698182</td>\n",
       "      <td>0.024663</td>\n",
       "      <td>1</td>\n",
       "    </tr>\n",
       "    <tr>\n",
       "      <th>9</th>\n",
       "      <td>0.005756</td>\n",
       "      <td>0.000393</td>\n",
       "      <td>0.005058</td>\n",
       "      <td>0.000204</td>\n",
       "      <td>10</td>\n",
       "      <td>{'knn__n_neighbors': 10}</td>\n",
       "      <td>0.672727</td>\n",
       "      <td>0.690909</td>\n",
       "      <td>0.672727</td>\n",
       "      <td>0.672727</td>\n",
       "      <td>0.672727</td>\n",
       "      <td>0.676364</td>\n",
       "      <td>0.007273</td>\n",
       "      <td>16</td>\n",
       "    </tr>\n",
       "    <tr>\n",
       "      <th>10</th>\n",
       "      <td>0.006348</td>\n",
       "      <td>0.000487</td>\n",
       "      <td>0.005354</td>\n",
       "      <td>0.000210</td>\n",
       "      <td>11</td>\n",
       "      <td>{'knn__n_neighbors': 11}</td>\n",
       "      <td>0.654545</td>\n",
       "      <td>0.672727</td>\n",
       "      <td>0.745455</td>\n",
       "      <td>0.672727</td>\n",
       "      <td>0.672727</td>\n",
       "      <td>0.683636</td>\n",
       "      <td>0.031701</td>\n",
       "      <td>10</td>\n",
       "    </tr>\n",
       "    <tr>\n",
       "      <th>11</th>\n",
       "      <td>0.005944</td>\n",
       "      <td>0.000457</td>\n",
       "      <td>0.005656</td>\n",
       "      <td>0.000251</td>\n",
       "      <td>12</td>\n",
       "      <td>{'knn__n_neighbors': 12}</td>\n",
       "      <td>0.654545</td>\n",
       "      <td>0.654545</td>\n",
       "      <td>0.727273</td>\n",
       "      <td>0.690909</td>\n",
       "      <td>0.636364</td>\n",
       "      <td>0.672727</td>\n",
       "      <td>0.032525</td>\n",
       "      <td>25</td>\n",
       "    </tr>\n",
       "    <tr>\n",
       "      <th>12</th>\n",
       "      <td>0.006449</td>\n",
       "      <td>0.000314</td>\n",
       "      <td>0.005352</td>\n",
       "      <td>0.000207</td>\n",
       "      <td>13</td>\n",
       "      <td>{'knn__n_neighbors': 13}</td>\n",
       "      <td>0.690909</td>\n",
       "      <td>0.672727</td>\n",
       "      <td>0.727273</td>\n",
       "      <td>0.690909</td>\n",
       "      <td>0.672727</td>\n",
       "      <td>0.690909</td>\n",
       "      <td>0.019917</td>\n",
       "      <td>3</td>\n",
       "    </tr>\n",
       "    <tr>\n",
       "      <th>13</th>\n",
       "      <td>0.006142</td>\n",
       "      <td>0.000242</td>\n",
       "      <td>0.005559</td>\n",
       "      <td>0.000206</td>\n",
       "      <td>14</td>\n",
       "      <td>{'knn__n_neighbors': 14}</td>\n",
       "      <td>0.672727</td>\n",
       "      <td>0.727273</td>\n",
       "      <td>0.672727</td>\n",
       "      <td>0.727273</td>\n",
       "      <td>0.690909</td>\n",
       "      <td>0.698182</td>\n",
       "      <td>0.024663</td>\n",
       "      <td>2</td>\n",
       "    </tr>\n",
       "    <tr>\n",
       "      <th>14</th>\n",
       "      <td>0.005750</td>\n",
       "      <td>0.000400</td>\n",
       "      <td>0.005068</td>\n",
       "      <td>0.000204</td>\n",
       "      <td>15</td>\n",
       "      <td>{'knn__n_neighbors': 15}</td>\n",
       "      <td>0.672727</td>\n",
       "      <td>0.636364</td>\n",
       "      <td>0.654545</td>\n",
       "      <td>0.709091</td>\n",
       "      <td>0.690909</td>\n",
       "      <td>0.672727</td>\n",
       "      <td>0.025713</td>\n",
       "      <td>20</td>\n",
       "    </tr>\n",
       "    <tr>\n",
       "      <th>15</th>\n",
       "      <td>0.005651</td>\n",
       "      <td>0.000246</td>\n",
       "      <td>0.005162</td>\n",
       "      <td>0.000396</td>\n",
       "      <td>16</td>\n",
       "      <td>{'knn__n_neighbors': 16}</td>\n",
       "      <td>0.709091</td>\n",
       "      <td>0.709091</td>\n",
       "      <td>0.690909</td>\n",
       "      <td>0.690909</td>\n",
       "      <td>0.636364</td>\n",
       "      <td>0.687273</td>\n",
       "      <td>0.026722</td>\n",
       "      <td>4</td>\n",
       "    </tr>\n",
       "    <tr>\n",
       "      <th>16</th>\n",
       "      <td>0.006353</td>\n",
       "      <td>0.000863</td>\n",
       "      <td>0.005754</td>\n",
       "      <td>0.000864</td>\n",
       "      <td>17</td>\n",
       "      <td>{'knn__n_neighbors': 17}</td>\n",
       "      <td>0.690909</td>\n",
       "      <td>0.690909</td>\n",
       "      <td>0.654545</td>\n",
       "      <td>0.709091</td>\n",
       "      <td>0.672727</td>\n",
       "      <td>0.683636</td>\n",
       "      <td>0.018542</td>\n",
       "      <td>12</td>\n",
       "    </tr>\n",
       "    <tr>\n",
       "      <th>17</th>\n",
       "      <td>0.005555</td>\n",
       "      <td>0.000188</td>\n",
       "      <td>0.005253</td>\n",
       "      <td>0.000386</td>\n",
       "      <td>18</td>\n",
       "      <td>{'knn__n_neighbors': 18}</td>\n",
       "      <td>0.672727</td>\n",
       "      <td>0.727273</td>\n",
       "      <td>0.654545</td>\n",
       "      <td>0.727273</td>\n",
       "      <td>0.654545</td>\n",
       "      <td>0.687273</td>\n",
       "      <td>0.033328</td>\n",
       "      <td>4</td>\n",
       "    </tr>\n",
       "    <tr>\n",
       "      <th>18</th>\n",
       "      <td>0.005659</td>\n",
       "      <td>0.000249</td>\n",
       "      <td>0.004962</td>\n",
       "      <td>0.000308</td>\n",
       "      <td>19</td>\n",
       "      <td>{'knn__n_neighbors': 19}</td>\n",
       "      <td>0.672727</td>\n",
       "      <td>0.690909</td>\n",
       "      <td>0.654545</td>\n",
       "      <td>0.709091</td>\n",
       "      <td>0.636364</td>\n",
       "      <td>0.672727</td>\n",
       "      <td>0.025713</td>\n",
       "      <td>20</td>\n",
       "    </tr>\n",
       "    <tr>\n",
       "      <th>19</th>\n",
       "      <td>0.005849</td>\n",
       "      <td>0.000364</td>\n",
       "      <td>0.005856</td>\n",
       "      <td>0.000581</td>\n",
       "      <td>20</td>\n",
       "      <td>{'knn__n_neighbors': 20}</td>\n",
       "      <td>0.636364</td>\n",
       "      <td>0.690909</td>\n",
       "      <td>0.654545</td>\n",
       "      <td>0.709091</td>\n",
       "      <td>0.654545</td>\n",
       "      <td>0.669091</td>\n",
       "      <td>0.026722</td>\n",
       "      <td>27</td>\n",
       "    </tr>\n",
       "    <tr>\n",
       "      <th>20</th>\n",
       "      <td>0.005651</td>\n",
       "      <td>0.000239</td>\n",
       "      <td>0.005449</td>\n",
       "      <td>0.000314</td>\n",
       "      <td>21</td>\n",
       "      <td>{'knn__n_neighbors': 21}</td>\n",
       "      <td>0.618182</td>\n",
       "      <td>0.709091</td>\n",
       "      <td>0.654545</td>\n",
       "      <td>0.709091</td>\n",
       "      <td>0.672727</td>\n",
       "      <td>0.672727</td>\n",
       "      <td>0.034498</td>\n",
       "      <td>20</td>\n",
       "    </tr>\n",
       "    <tr>\n",
       "      <th>21</th>\n",
       "      <td>0.005655</td>\n",
       "      <td>0.000243</td>\n",
       "      <td>0.005158</td>\n",
       "      <td>0.000243</td>\n",
       "      <td>22</td>\n",
       "      <td>{'knn__n_neighbors': 22}</td>\n",
       "      <td>0.672727</td>\n",
       "      <td>0.709091</td>\n",
       "      <td>0.654545</td>\n",
       "      <td>0.690909</td>\n",
       "      <td>0.672727</td>\n",
       "      <td>0.680000</td>\n",
       "      <td>0.018542</td>\n",
       "      <td>14</td>\n",
       "    </tr>\n",
       "    <tr>\n",
       "      <th>22</th>\n",
       "      <td>0.007143</td>\n",
       "      <td>0.002381</td>\n",
       "      <td>0.006943</td>\n",
       "      <td>0.001504</td>\n",
       "      <td>23</td>\n",
       "      <td>{'knn__n_neighbors': 23}</td>\n",
       "      <td>0.672727</td>\n",
       "      <td>0.727273</td>\n",
       "      <td>0.690909</td>\n",
       "      <td>0.672727</td>\n",
       "      <td>0.672727</td>\n",
       "      <td>0.687273</td>\n",
       "      <td>0.021203</td>\n",
       "      <td>4</td>\n",
       "    </tr>\n",
       "    <tr>\n",
       "      <th>23</th>\n",
       "      <td>0.006051</td>\n",
       "      <td>0.000578</td>\n",
       "      <td>0.005460</td>\n",
       "      <td>0.000544</td>\n",
       "      <td>24</td>\n",
       "      <td>{'knn__n_neighbors': 24}</td>\n",
       "      <td>0.654545</td>\n",
       "      <td>0.727273</td>\n",
       "      <td>0.709091</td>\n",
       "      <td>0.690909</td>\n",
       "      <td>0.636364</td>\n",
       "      <td>0.683636</td>\n",
       "      <td>0.033722</td>\n",
       "      <td>12</td>\n",
       "    </tr>\n",
       "    <tr>\n",
       "      <th>24</th>\n",
       "      <td>0.005662</td>\n",
       "      <td>0.000237</td>\n",
       "      <td>0.005159</td>\n",
       "      <td>0.000244</td>\n",
       "      <td>25</td>\n",
       "      <td>{'knn__n_neighbors': 25}</td>\n",
       "      <td>0.654545</td>\n",
       "      <td>0.654545</td>\n",
       "      <td>0.709091</td>\n",
       "      <td>0.672727</td>\n",
       "      <td>0.672727</td>\n",
       "      <td>0.672727</td>\n",
       "      <td>0.019917</td>\n",
       "      <td>20</td>\n",
       "    </tr>\n",
       "    <tr>\n",
       "      <th>25</th>\n",
       "      <td>0.006052</td>\n",
       "      <td>0.000485</td>\n",
       "      <td>0.005551</td>\n",
       "      <td>0.000200</td>\n",
       "      <td>26</td>\n",
       "      <td>{'knn__n_neighbors': 26}</td>\n",
       "      <td>0.636364</td>\n",
       "      <td>0.672727</td>\n",
       "      <td>0.781818</td>\n",
       "      <td>0.672727</td>\n",
       "      <td>0.636364</td>\n",
       "      <td>0.680000</td>\n",
       "      <td>0.053443</td>\n",
       "      <td>14</td>\n",
       "    </tr>\n",
       "    <tr>\n",
       "      <th>26</th>\n",
       "      <td>0.006151</td>\n",
       "      <td>0.000243</td>\n",
       "      <td>0.005852</td>\n",
       "      <td>0.000371</td>\n",
       "      <td>27</td>\n",
       "      <td>{'knn__n_neighbors': 27}</td>\n",
       "      <td>0.636364</td>\n",
       "      <td>0.672727</td>\n",
       "      <td>0.727273</td>\n",
       "      <td>0.636364</td>\n",
       "      <td>0.618182</td>\n",
       "      <td>0.658182</td>\n",
       "      <td>0.038826</td>\n",
       "      <td>29</td>\n",
       "    </tr>\n",
       "    <tr>\n",
       "      <th>27</th>\n",
       "      <td>0.006051</td>\n",
       "      <td>0.000371</td>\n",
       "      <td>0.005456</td>\n",
       "      <td>0.000314</td>\n",
       "      <td>28</td>\n",
       "      <td>{'knn__n_neighbors': 28}</td>\n",
       "      <td>0.672727</td>\n",
       "      <td>0.690909</td>\n",
       "      <td>0.763636</td>\n",
       "      <td>0.654545</td>\n",
       "      <td>0.636364</td>\n",
       "      <td>0.683636</td>\n",
       "      <td>0.043938</td>\n",
       "      <td>10</td>\n",
       "    </tr>\n",
       "    <tr>\n",
       "      <th>28</th>\n",
       "      <td>0.005658</td>\n",
       "      <td>0.000239</td>\n",
       "      <td>0.005162</td>\n",
       "      <td>0.000240</td>\n",
       "      <td>29</td>\n",
       "      <td>{'knn__n_neighbors': 29}</td>\n",
       "      <td>0.654545</td>\n",
       "      <td>0.672727</td>\n",
       "      <td>0.745455</td>\n",
       "      <td>0.672727</td>\n",
       "      <td>0.636364</td>\n",
       "      <td>0.676364</td>\n",
       "      <td>0.037084</td>\n",
       "      <td>17</td>\n",
       "    </tr>\n",
       "  </tbody>\n",
       "</table>\n",
       "</div>"
      ],
      "text/plain": [
       "    mean_fit_time  std_fit_time  mean_score_time  std_score_time  \\\n",
       "0        0.007340      0.000961         0.005754        0.000807   \n",
       "1        0.006346      0.000732         0.005555        0.000586   \n",
       "2        0.006154      0.000240         0.005551        0.000200   \n",
       "3        0.005754      0.000243         0.004968        0.000011   \n",
       "4        0.005754      0.000401         0.004960        0.000315   \n",
       "5        0.005761      0.000234         0.004961        0.000013   \n",
       "6        0.006048      0.000480         0.004959        0.000011   \n",
       "7        0.005948      0.000308         0.005254        0.000396   \n",
       "8        0.005754      0.000243         0.005068        0.000374   \n",
       "9        0.005756      0.000393         0.005058        0.000204   \n",
       "10       0.006348      0.000487         0.005354        0.000210   \n",
       "11       0.005944      0.000457         0.005656        0.000251   \n",
       "12       0.006449      0.000314         0.005352        0.000207   \n",
       "13       0.006142      0.000242         0.005559        0.000206   \n",
       "14       0.005750      0.000400         0.005068        0.000204   \n",
       "15       0.005651      0.000246         0.005162        0.000396   \n",
       "16       0.006353      0.000863         0.005754        0.000864   \n",
       "17       0.005555      0.000188         0.005253        0.000386   \n",
       "18       0.005659      0.000249         0.004962        0.000308   \n",
       "19       0.005849      0.000364         0.005856        0.000581   \n",
       "20       0.005651      0.000239         0.005449        0.000314   \n",
       "21       0.005655      0.000243         0.005158        0.000243   \n",
       "22       0.007143      0.002381         0.006943        0.001504   \n",
       "23       0.006051      0.000578         0.005460        0.000544   \n",
       "24       0.005662      0.000237         0.005159        0.000244   \n",
       "25       0.006052      0.000485         0.005551        0.000200   \n",
       "26       0.006151      0.000243         0.005852        0.000371   \n",
       "27       0.006051      0.000371         0.005456        0.000314   \n",
       "28       0.005658      0.000239         0.005162        0.000240   \n",
       "\n",
       "   param_knn__n_neighbors                    params  split0_test_score  \\\n",
       "0                       1   {'knn__n_neighbors': 1}           0.690909   \n",
       "1                       2   {'knn__n_neighbors': 2}           0.654545   \n",
       "2                       3   {'knn__n_neighbors': 3}           0.690909   \n",
       "3                       4   {'knn__n_neighbors': 4}           0.654545   \n",
       "4                       5   {'knn__n_neighbors': 5}           0.654545   \n",
       "5                       6   {'knn__n_neighbors': 6}           0.672727   \n",
       "6                       7   {'knn__n_neighbors': 7}           0.709091   \n",
       "7                       8   {'knn__n_neighbors': 8}           0.690909   \n",
       "8                       9   {'knn__n_neighbors': 9}           0.709091   \n",
       "9                      10  {'knn__n_neighbors': 10}           0.672727   \n",
       "10                     11  {'knn__n_neighbors': 11}           0.654545   \n",
       "11                     12  {'knn__n_neighbors': 12}           0.654545   \n",
       "12                     13  {'knn__n_neighbors': 13}           0.690909   \n",
       "13                     14  {'knn__n_neighbors': 14}           0.672727   \n",
       "14                     15  {'knn__n_neighbors': 15}           0.672727   \n",
       "15                     16  {'knn__n_neighbors': 16}           0.709091   \n",
       "16                     17  {'knn__n_neighbors': 17}           0.690909   \n",
       "17                     18  {'knn__n_neighbors': 18}           0.672727   \n",
       "18                     19  {'knn__n_neighbors': 19}           0.672727   \n",
       "19                     20  {'knn__n_neighbors': 20}           0.636364   \n",
       "20                     21  {'knn__n_neighbors': 21}           0.618182   \n",
       "21                     22  {'knn__n_neighbors': 22}           0.672727   \n",
       "22                     23  {'knn__n_neighbors': 23}           0.672727   \n",
       "23                     24  {'knn__n_neighbors': 24}           0.654545   \n",
       "24                     25  {'knn__n_neighbors': 25}           0.654545   \n",
       "25                     26  {'knn__n_neighbors': 26}           0.636364   \n",
       "26                     27  {'knn__n_neighbors': 27}           0.636364   \n",
       "27                     28  {'knn__n_neighbors': 28}           0.672727   \n",
       "28                     29  {'knn__n_neighbors': 29}           0.654545   \n",
       "\n",
       "    split1_test_score  split2_test_score  split3_test_score  \\\n",
       "0            0.727273           0.636364           0.709091   \n",
       "1            0.654545           0.618182           0.727273   \n",
       "2            0.727273           0.654545           0.690909   \n",
       "3            0.727273           0.654545           0.690909   \n",
       "4            0.672727           0.654545           0.654545   \n",
       "5            0.690909           0.672727           0.690909   \n",
       "6            0.654545           0.672727           0.690909   \n",
       "7            0.672727           0.654545           0.654545   \n",
       "8            0.690909           0.654545           0.727273   \n",
       "9            0.690909           0.672727           0.672727   \n",
       "10           0.672727           0.745455           0.672727   \n",
       "11           0.654545           0.727273           0.690909   \n",
       "12           0.672727           0.727273           0.690909   \n",
       "13           0.727273           0.672727           0.727273   \n",
       "14           0.636364           0.654545           0.709091   \n",
       "15           0.709091           0.690909           0.690909   \n",
       "16           0.690909           0.654545           0.709091   \n",
       "17           0.727273           0.654545           0.727273   \n",
       "18           0.690909           0.654545           0.709091   \n",
       "19           0.690909           0.654545           0.709091   \n",
       "20           0.709091           0.654545           0.709091   \n",
       "21           0.709091           0.654545           0.690909   \n",
       "22           0.727273           0.690909           0.672727   \n",
       "23           0.727273           0.709091           0.690909   \n",
       "24           0.654545           0.709091           0.672727   \n",
       "25           0.672727           0.781818           0.672727   \n",
       "26           0.672727           0.727273           0.636364   \n",
       "27           0.690909           0.763636           0.654545   \n",
       "28           0.672727           0.745455           0.672727   \n",
       "\n",
       "    split4_test_score  mean_test_score  std_test_score  rank_test_score  \n",
       "0            0.672727         0.687273        0.031281                4  \n",
       "1            0.727273         0.676364        0.043636               17  \n",
       "2            0.672727         0.687273        0.024121                4  \n",
       "3            0.636364         0.672727        0.032525               25  \n",
       "4            0.690909         0.665455        0.014545               28  \n",
       "5            0.654545         0.676364        0.013606               17  \n",
       "6            0.709091         0.687273        0.021203                4  \n",
       "7            0.690909         0.672727        0.016262               20  \n",
       "8            0.709091         0.698182        0.024663                1  \n",
       "9            0.672727         0.676364        0.007273               16  \n",
       "10           0.672727         0.683636        0.031701               10  \n",
       "11           0.636364         0.672727        0.032525               25  \n",
       "12           0.672727         0.690909        0.019917                3  \n",
       "13           0.690909         0.698182        0.024663                2  \n",
       "14           0.690909         0.672727        0.025713               20  \n",
       "15           0.636364         0.687273        0.026722                4  \n",
       "16           0.672727         0.683636        0.018542               12  \n",
       "17           0.654545         0.687273        0.033328                4  \n",
       "18           0.636364         0.672727        0.025713               20  \n",
       "19           0.654545         0.669091        0.026722               27  \n",
       "20           0.672727         0.672727        0.034498               20  \n",
       "21           0.672727         0.680000        0.018542               14  \n",
       "22           0.672727         0.687273        0.021203                4  \n",
       "23           0.636364         0.683636        0.033722               12  \n",
       "24           0.672727         0.672727        0.019917               20  \n",
       "25           0.636364         0.680000        0.053443               14  \n",
       "26           0.618182         0.658182        0.038826               29  \n",
       "27           0.636364         0.683636        0.043938               10  \n",
       "28           0.636364         0.676364        0.037084               17  "
      ]
     },
     "execution_count": 46,
     "metadata": {},
     "output_type": "execute_result"
    }
   ],
   "source": [
    "pd.DataFrame(full_cv_classifier.cv_results_)"
   ]
  },
  {
   "cell_type": "code",
   "execution_count": 47,
   "id": "6b3b4702",
   "metadata": {},
   "outputs": [],
   "source": [
    "y_pred = full_cv_classifier.predict(X_test)"
   ]
  },
  {
   "cell_type": "code",
   "execution_count": 48,
   "id": "8ea7ea5a",
   "metadata": {},
   "outputs": [
    {
     "data": {
      "text/plain": [
       "0.7246376811594203"
      ]
     },
     "execution_count": 48,
     "metadata": {},
     "output_type": "execute_result"
    }
   ],
   "source": [
    "metrics.accuracy_score(y_test,y_pred)"
   ]
  },
  {
   "cell_type": "code",
   "execution_count": 49,
   "id": "8850e566",
   "metadata": {},
   "outputs": [
    {
     "data": {
      "text/plain": [
       "array([[28,  2,  3],\n",
       "       [ 5, 21,  1],\n",
       "       [ 5,  3,  1]], dtype=int64)"
      ]
     },
     "execution_count": 49,
     "metadata": {},
     "output_type": "execute_result"
    }
   ],
   "source": [
    "metrics.confusion_matrix(y_test,y_pred)"
   ]
  },
  {
   "cell_type": "code",
   "execution_count": 50,
   "id": "79d1e444",
   "metadata": {},
   "outputs": [
    {
     "data": {
      "text/plain": [
       "<sklearn.metrics._plot.confusion_matrix.ConfusionMatrixDisplay at 0x2cc04281760>"
      ]
     },
     "execution_count": 50,
     "metadata": {},
     "output_type": "execute_result"
    },
    {
     "data": {
      "image/png": "[encoded data removed]",
      "text/plain": [
       "<Figure size 432x288 with 2 Axes>"
      ]
     },
     "metadata": {
      "needs_background": "light"
     },
     "output_type": "display_data"
    }
   ],
   "source": [
    "metrics.plot_confusion_matrix(full_cv_classifier, X_test,y_test)"
   ]
  },
  {
   "cell_type": "code",
   "execution_count": 51,
   "id": "6cdce173",
   "metadata": {},
   "outputs": [
    {
     "data": {
      "text/plain": [
       "<sklearn.metrics._plot.confusion_matrix.ConfusionMatrixDisplay at 0x2cc042ae640>"
      ]
     },
     "execution_count": 51,
     "metadata": {},
     "output_type": "execute_result"
    },
    {
     "data": {
      "image/png": "[encoded data removed]",
      "text/plain": [
       "<Figure size 432x288 with 2 Axes>"
      ]
     },
     "metadata": {
      "needs_background": "light"
     },
     "output_type": "display_data"
    }
   ],
   "source": [
    "metrics.plot_confusion_matrix(full_cv_classifier, X_test,y_test,normalize='true')"
   ]
  },
  {
   "cell_type": "code",
   "execution_count": 52,
   "id": "ec846467",
   "metadata": {},
   "outputs": [
    {
     "name": "stdout",
     "output_type": "stream",
     "text": [
      "              precision    recall  f1-score   support\n",
      "\n",
      "      Biscoe       0.74      0.85      0.79        33\n",
      "       Dream       0.81      0.78      0.79        27\n",
      "   Torgersen       0.20      0.11      0.14         9\n",
      "\n",
      "    accuracy                           0.72        69\n",
      "   macro avg       0.58      0.58      0.57        69\n",
      "weighted avg       0.69      0.72      0.71        69\n",
      "\n"
     ]
    }
   ],
   "source": [
    "print(metrics.classification_report(y_test,y_pred))"
   ]
  },
  {
   "cell_type": "markdown",
   "id": "f3fb311b",
   "metadata": {},
   "source": [
    "## Final Model"
   ]
  },
  {
   "cell_type": "code",
   "execution_count": 53,
   "id": "18936722",
   "metadata": {},
   "outputs": [],
   "source": [
    "scaler = StandardScaler()\n",
    "knn9 = KNeighborsClassifier(n_neighbors=9)\n",
    "operations = [('scaler',scaler),('knn9',knn9)]"
   ]
  },
  {
   "cell_type": "code",
   "execution_count": 54,
   "id": "77680038",
   "metadata": {},
   "outputs": [],
   "source": [
    "pipe = Pipeline(operations)"
   ]
  },
  {
   "cell_type": "code",
   "execution_count": 55,
   "id": "99e42b68",
   "metadata": {},
   "outputs": [
    {
     "data": {
      "text/plain": [
       "Pipeline(steps=[('scaler', StandardScaler()),\n",
       "                ('knn9', KNeighborsClassifier(n_neighbors=9))])"
      ]
     },
     "execution_count": 55,
     "metadata": {},
     "output_type": "execute_result"
    }
   ],
   "source": [
    "pipe.fit(X_train,y_train)"
   ]
  },
  {
   "cell_type": "code",
   "execution_count": 56,
   "id": "95e37134",
   "metadata": {},
   "outputs": [],
   "source": [
    "pipe_pred = pipe.predict(X_test)"
   ]
  },
  {
   "cell_type": "code",
   "execution_count": 58,
   "id": "013a73c0",
   "metadata": {},
   "outputs": [
    {
     "name": "stdout",
     "output_type": "stream",
     "text": [
      "              precision    recall  f1-score   support\n",
      "\n",
      "      Biscoe       0.74      0.85      0.79        33\n",
      "       Dream       0.81      0.78      0.79        27\n",
      "   Torgersen       0.20      0.11      0.14         9\n",
      "\n",
      "    accuracy                           0.72        69\n",
      "   macro avg       0.58      0.58      0.57        69\n",
      "weighted avg       0.69      0.72      0.71        69\n",
      "\n"
     ]
    }
   ],
   "source": [
    "print(metrics.classification_report(y_test,pipe_pred))"
   ]
  },
  {
   "cell_type": "code",
   "execution_count": 59,
   "id": "3e3bd9b4",
   "metadata": {},
   "outputs": [],
   "source": [
    "single_sample = X_test.iloc[40]"
   ]
  },
  {
   "cell_type": "code",
   "execution_count": 60,
   "id": "74e0cffb",
   "metadata": {},
   "outputs": [
    {
     "data": {
      "text/plain": [
       "array(['Torgersen'], dtype=object)"
      ]
     },
     "execution_count": 60,
     "metadata": {},
     "output_type": "execute_result"
    }
   ],
   "source": [
    "pipe.predict(single_sample.values.reshape(1, -1))"
   ]
  },
  {
   "cell_type": "code",
   "execution_count": 61,
   "id": "ecf0867d",
   "metadata": {},
   "outputs": [
    {
     "data": {
      "text/plain": [
       "array([[0.11111111, 0.33333333, 0.55555556]])"
      ]
     },
     "execution_count": 61,
     "metadata": {},
     "output_type": "execute_result"
    }
   ],
   "source": [
    "pipe.predict_proba(single_sample.values.reshape(1, -1))"
   ]
  }
 ],
 "metadata": {
  "kernelspec": {
   "display_name": "Python 3",
   "language": "python",
   "name": "python3"
  },
  "language_info": {
   "codemirror_mode": {
    "name": "ipython",
    "version": 3
   },
   "file_extension": ".py",
   "mimetype": "text/x-python",
   "name": "python",
   "nbconvert_exporter": "python",
   "pygments_lexer": "ipython3",
   "version": "3.8.8"
  }
 },
 "nbformat": 4,
 "nbformat_minor": 5
}
