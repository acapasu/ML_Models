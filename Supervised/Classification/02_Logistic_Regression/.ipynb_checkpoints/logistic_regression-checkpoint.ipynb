{
 "cells": [
  {
   "cell_type": "markdown",
   "id": "2cf25e4e",
   "metadata": {},
   "source": [
    "## Import Libraries"
   ]
  },
  {
   "cell_type": "code",
   "execution_count": null,
   "id": "c40ad798",
   "metadata": {},
   "outputs": [],
   "source": [
    "import pandas as pd\n",
    "import numpy as np\n",
    "import matplotlib.pyplot as plt\n",
    "import seaborn as sns\n",
    "import missingno as msno\n",
    "\n",
    "from sklearn.model_selection import train_test_split\n",
    "from sklearn import metrics\n",
    "from sklearn.preprocessing import StandardScaler"
   ]
  },
  {
   "cell_type": "markdown",
   "id": "cd7a397b",
   "metadata": {},
   "source": [
    "## Import Dataset"
   ]
  },
  {
   "cell_type": "code",
   "execution_count": null,
   "id": "2507ae82",
   "metadata": {},
   "outputs": [],
   "source": [
    "df_pen = sns.load_dataset('penguins')"
   ]
  },
  {
   "cell_type": "code",
   "execution_count": null,
   "id": "0c707a95",
   "metadata": {},
   "outputs": [],
   "source": [
    "X = df_pen.drop(['island'], axis = 1)\n",
    "y = df_pen['island']"
   ]
  },
  {
   "cell_type": "markdown",
   "id": "5c19a278",
   "metadata": {},
   "source": [
    "## Data Pre-processing"
   ]
  },
  {
   "cell_type": "code",
   "execution_count": null,
   "id": "30ac289d",
   "metadata": {},
   "outputs": [],
   "source": [
    "categorical_x = ['species', 'sex']\n",
    "numerical_x = X.drop(categorical_x, axis = 1).columns"
   ]
  },
  {
   "cell_type": "code",
   "execution_count": null,
   "id": "088d448d",
   "metadata": {},
   "outputs": [],
   "source": [
    "## If y is categorical:\n",
    "y.fillna(y.mode().iloc[0], inplace= True)\n",
    "##If y is numerical\n",
    "# y.fillna(y.mean(), inplace= True)\n",
    "for i in numerical_x:\n",
    "    X[i].fillna(X[i].mean(), inplace = True)\n",
    "\n",
    "for i in categorical_x:\n",
    "    X[i].fillna(X[i].mode().iloc[0], inplace = True)\n",
    "    \n",
    "categoricas = pd.get_dummies(X[categorical_x], drop_first=True)\n",
    "X = pd.concat([categoricas, X[numerical_x]], axis = 1)"
   ]
  },
  {
   "cell_type": "code",
   "execution_count": null,
   "id": "74bfa7e0",
   "metadata": {},
   "outputs": [],
   "source": [
    "X_train, X_test, y_train, y_test = train_test_split(X, y, test_size = 0.2, random_state=46)"
   ]
  },
  {
   "cell_type": "code",
   "execution_count": null,
   "id": "1c5dcde4",
   "metadata": {},
   "outputs": [],
   "source": [
    "escalador = StandardScaler()\n",
    "escalador.fit(X_train)\n",
    "\n",
    "X_train = escalador.transform(X_train)\n",
    "X_test = escalador.transform(X_test)"
   ]
  },
  {
   "cell_type": "markdown",
   "id": "ead555be",
   "metadata": {},
   "source": [
    "## Multi-Class Logistic Regression Model"
   ]
  },
  {
   "cell_type": "code",
   "execution_count": null,
   "id": "6d2f0a0a",
   "metadata": {},
   "outputs": [],
   "source": [
    "from sklearn.linear_model import LogisticRegression"
   ]
  },
  {
   "cell_type": "code",
   "execution_count": null,
   "id": "94c8f5cf",
   "metadata": {},
   "outputs": [],
   "source": [
    "from sklearn.model_selection import GridSearchCV"
   ]
  },
  {
   "cell_type": "code",
   "execution_count": null,
   "id": "184015f0",
   "metadata": {},
   "outputs": [],
   "source": [
    "log_model = LogisticRegression(solver='saga',multi_class=\"ovr\",max_iter=5000)"
   ]
  },
  {
   "cell_type": "markdown",
   "id": "d7727f3a",
   "metadata": {},
   "source": [
    "## GridSearch"
   ]
  },
  {
   "cell_type": "code",
   "execution_count": null,
   "id": "7a20ff7e",
   "metadata": {},
   "outputs": [],
   "source": [
    "penalty = ['l1', 'l2']\n",
    "\n",
    "C = np.logspace(0, 4, 10)"
   ]
  },
  {
   "cell_type": "code",
   "execution_count": null,
   "id": "cc09b53c",
   "metadata": {},
   "outputs": [],
   "source": [
    "grid_model = GridSearchCV(log_model,param_grid={'C':C,'penalty':penalty})"
   ]
  },
  {
   "cell_type": "code",
   "execution_count": null,
   "id": "3e89895c",
   "metadata": {},
   "outputs": [],
   "source": [
    "grid_model.fit(X_train,y_train)"
   ]
  },
  {
   "cell_type": "code",
   "execution_count": null,
   "id": "8e03a09c",
   "metadata": {},
   "outputs": [],
   "source": [
    "grid_model.best_params_"
   ]
  },
  {
   "cell_type": "markdown",
   "id": "154c2c38",
   "metadata": {},
   "source": [
    "## Metrics"
   ]
  },
  {
   "cell_type": "code",
   "execution_count": null,
   "id": "ed22935c",
   "metadata": {},
   "outputs": [],
   "source": [
    "y_pred = grid_model.predict(X_test)"
   ]
  },
  {
   "cell_type": "code",
   "execution_count": null,
   "id": "b439270c",
   "metadata": {},
   "outputs": [],
   "source": [
    "metrics.accuracy_score(y_test,y_pred)"
   ]
  },
  {
   "cell_type": "code",
   "execution_count": null,
   "id": "3315950a",
   "metadata": {},
   "outputs": [],
   "source": [
    "metrics.confusion_matrix(y_test,y_pred)"
   ]
  },
  {
   "cell_type": "code",
   "execution_count": null,
   "id": "d3286a92",
   "metadata": {},
   "outputs": [],
   "source": [
    "metrics.plot_confusion_matrix(grid_model, X_test,y_test)"
   ]
  },
  {
   "cell_type": "code",
   "execution_count": null,
   "id": "1d8117a4",
   "metadata": {},
   "outputs": [],
   "source": [
    "metrics.plot_confusion_matrix(grid_model, X_test,y_test,normalize='true')"
   ]
  },
  {
   "cell_type": "code",
   "execution_count": null,
   "id": "1c559806",
   "metadata": {},
   "outputs": [],
   "source": [
    "print(metrics.classification_report(y_test,y_pred))"
   ]
  },
  {
   "cell_type": "code",
   "execution_count": null,
   "id": "cd189401",
   "metadata": {},
   "outputs": [],
   "source": [
    "## Codigo copiado directamente desde la documentacion de scikit-learn\n",
    "def plot_multiclass_roc(clf, X_test, y_test, n_classes, figsize=(5,5)):\n",
    "    y_score = clf.decision_function(X_test)\n",
    "\n",
    "    # structures\n",
    "    fpr = dict()\n",
    "    tpr = dict()\n",
    "    roc_auc = dict()\n",
    "\n",
    "    # calculate dummies once\n",
    "    y_test_dummies = pd.get_dummies(y_test, drop_first=False).values\n",
    "    for i in range(n_classes):\n",
    "        fpr[i], tpr[i], _ = metrics.roc_curve(y_test_dummies[:, i], y_score[:, i])\n",
    "        roc_auc[i] = metrics.auc(fpr[i], tpr[i])\n",
    "\n",
    "    # roc for each class\n",
    "    fig, ax = plt.subplots(figsize=figsize)\n",
    "    ax.plot([0, 1], [0, 1], 'k--')\n",
    "    ax.set_xlim([0.0, 1.0])\n",
    "    ax.set_ylim([0.0, 1.05])\n",
    "    ax.set_xlabel('False Positive Rate')\n",
    "    ax.set_ylabel('True Positive Rate')\n",
    "    ax.set_title('Receiver operating characteristic example')\n",
    "    for i in range(n_classes):\n",
    "#         ax.plot(fpr[i], tpr[i], label='ROC curve (area = %0.2f) for label %i' % (roc_auc[i], i))\n",
    "        ax.plot(fpr[i], tpr[i], label= f'ROC curve (area = {roc_auc[i]}) for label {i}')\n",
    "    ax.legend(loc=\"best\")\n",
    "    ax.grid(alpha=.4)\n",
    "    sns.despine()\n",
    "    plt.show()"
   ]
  },
  {
   "cell_type": "code",
   "execution_count": null,
   "id": "31738d76",
   "metadata": {},
   "outputs": [],
   "source": [
    "plot_multiclass_roc(grid_model, X_test, y_test, n_classes=3, figsize=(16, 10))"
   ]
  },
  {
   "cell_type": "code",
   "execution_count": null,
   "id": "c98dcbf9",
   "metadata": {},
   "outputs": [],
   "source": []
  }
 ],
 "metadata": {
  "kernelspec": {
   "display_name": "Python 3",
   "language": "python",
   "name": "python3"
  },
  "language_info": {
   "codemirror_mode": {
    "name": "ipython",
    "version": 3
   },
   "file_extension": ".py",
   "mimetype": "text/x-python",
   "name": "python",
   "nbconvert_exporter": "python",
   "pygments_lexer": "ipython3",
   "version": "3.8.8"
  }
 },
 "nbformat": 4,
 "nbformat_minor": 5
}
