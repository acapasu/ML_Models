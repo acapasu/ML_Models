{
 "cells": [
  {
   "cell_type": "markdown",
   "id": "75154688",
   "metadata": {},
   "source": [
    "## Import Libraries"
   ]
  },
  {
   "cell_type": "code",
   "execution_count": 1,
   "id": "d47097e8",
   "metadata": {},
   "outputs": [],
   "source": [
    "import pandas as pd\n",
    "import numpy as np\n",
    "import matplotlib.pyplot as plt\n",
    "import seaborn as sns\n",
    "import missingno as msno\n",
    "\n",
    "from sklearn.model_selection import train_test_split\n",
    "from sklearn.linear_model import LinearRegression\n",
    "from sklearn import metrics\n",
    "from sklearn.preprocessing import StandardScaler\n",
    "from sklearn.preprocessing import PolynomialFeatures"
   ]
  },
  {
   "cell_type": "markdown",
   "id": "cc02dbc1",
   "metadata": {},
   "source": [
    "## Import Dataset"
   ]
  },
  {
   "cell_type": "code",
   "execution_count": 2,
   "id": "370225de",
   "metadata": {},
   "outputs": [],
   "source": [
    "df_pen = sns.load_dataset('penguins')"
   ]
  },
  {
   "cell_type": "code",
   "execution_count": 3,
   "id": "6bfcb577",
   "metadata": {},
   "outputs": [],
   "source": [
    "X = df_pen.drop(['body_mass_g'], axis = 1)\n",
    "y = df_pen['body_mass_g']"
   ]
  },
  {
   "cell_type": "markdown",
   "id": "d810ac6e",
   "metadata": {},
   "source": [
    "## Data Pre-processing"
   ]
  },
  {
   "cell_type": "code",
   "execution_count": 4,
   "id": "67c0dbf0",
   "metadata": {},
   "outputs": [],
   "source": [
    "categorical_x = ['species', 'island', 'sex']\n",
    "numerical_x = X.drop(categorical_x, axis = 1).columns"
   ]
  },
  {
   "cell_type": "code",
   "execution_count": 5,
   "id": "692d4f87",
   "metadata": {},
   "outputs": [],
   "source": [
    "## If y is categorical:\n",
    "# y.fillna(y.mode(), inplace= True)\n",
    "##If y is numerical\n",
    "y.fillna(y.mean(), inplace= True)\n",
    "for i in numerical_x:\n",
    "    X[i].fillna(X[i].mean(), inplace = True)\n",
    "    \n",
    "\n",
    "for i in categorical_x:\n",
    "    X[i].fillna(X[i].mode().iloc[0], inplace = True)\n",
    "    \n",
    "categoricas = pd.get_dummies(X[categorical_x], drop_first=True)\n",
    "X = pd.concat([categoricas, X[numerical_x]], axis = 1)"
   ]
  },
  {
   "cell_type": "code",
   "execution_count": 6,
   "id": "5e8b4a70",
   "metadata": {},
   "outputs": [],
   "source": [
    "convertidor = PolynomialFeatures(degree=2)\n",
    "Xp = convertidor.fit_transform(X)"
   ]
  },
  {
   "cell_type": "code",
   "execution_count": 7,
   "id": "6c46c590",
   "metadata": {},
   "outputs": [],
   "source": [
    "X_train, X_test, y_train, y_test = train_test_split(Xp, y, test_size = 0.2, random_state=45)"
   ]
  },
  {
   "cell_type": "code",
   "execution_count": 8,
   "id": "d7d1c598",
   "metadata": {},
   "outputs": [],
   "source": [
    "escalador = StandardScaler()\n",
    "escalador.fit(X_train)\n",
    "\n",
    "X_train = escalador.transform(X_train)\n",
    "X_test = escalador.transform(X_test)"
   ]
  },
  {
   "cell_type": "markdown",
   "id": "2dff7b34",
   "metadata": {},
   "source": [
    "## Model implementation"
   ]
  },
  {
   "cell_type": "code",
   "execution_count": 9,
   "id": "9dbc3565",
   "metadata": {},
   "outputs": [],
   "source": [
    "modelo = LinearRegression()"
   ]
  },
  {
   "cell_type": "code",
   "execution_count": 10,
   "id": "91acb760",
   "metadata": {},
   "outputs": [
    {
     "data": {
      "text/plain": [
       "LinearRegression()"
      ]
     },
     "execution_count": 10,
     "metadata": {},
     "output_type": "execute_result"
    }
   ],
   "source": [
    "modelo.fit(X_train, y_train)"
   ]
  },
  {
   "cell_type": "code",
   "execution_count": 11,
   "id": "ef3625af",
   "metadata": {},
   "outputs": [],
   "source": [
    "predicciones = modelo.predict(X_test)"
   ]
  },
  {
   "cell_type": "markdown",
   "id": "35677b34",
   "metadata": {},
   "source": [
    "## Results"
   ]
  },
  {
   "cell_type": "code",
   "execution_count": 12,
   "id": "cbfcaee4",
   "metadata": {},
   "outputs": [],
   "source": [
    "polynomial_feature_names = pd.Series(convertidor.get_feature_names()).str.replace(' ', ' x ')\n",
    "for i in range(len(X.columns)):\n",
    "    polynomial_feature_names = polynomial_feature_names.str.replace('x'+str(i), X.columns[i])"
   ]
  },
  {
   "cell_type": "code",
   "execution_count": 13,
   "id": "1fb5cc85",
   "metadata": {},
   "outputs": [
    {
     "data": {
      "text/html": [
       "<div>\n",
       "<style scoped>\n",
       "    .dataframe tbody tr th:only-of-type {\n",
       "        vertical-align: middle;\n",
       "    }\n",
       "\n",
       "    .dataframe tbody tr th {\n",
       "        vertical-align: top;\n",
       "    }\n",
       "\n",
       "    .dataframe thead th {\n",
       "        text-align: right;\n",
       "    }\n",
       "</style>\n",
       "<table border=\"1\" class=\"dataframe\">\n",
       "  <thead>\n",
       "    <tr style=\"text-align: right;\">\n",
       "      <th></th>\n",
       "      <th>Coeficientes</th>\n",
       "      <th>Magnitude</th>\n",
       "    </tr>\n",
       "  </thead>\n",
       "  <tbody>\n",
       "    <tr>\n",
       "      <th>species_Chinstrap</th>\n",
       "      <td>1.493657e+16</td>\n",
       "      <td>1.493657e+16</td>\n",
       "    </tr>\n",
       "    <tr>\n",
       "      <th>species_Gentoo^2</th>\n",
       "      <td>1.251641e+16</td>\n",
       "      <td>1.251641e+16</td>\n",
       "    </tr>\n",
       "    <tr>\n",
       "      <th>species_Gentoo</th>\n",
       "      <td>-1.251641e+16</td>\n",
       "      <td>1.251641e+16</td>\n",
       "    </tr>\n",
       "    <tr>\n",
       "      <th>island_Dream</th>\n",
       "      <td>-1.106087e+16</td>\n",
       "      <td>1.106087e+16</td>\n",
       "    </tr>\n",
       "    <tr>\n",
       "      <th>island_Dream^2</th>\n",
       "      <td>1.106087e+16</td>\n",
       "      <td>1.106087e+16</td>\n",
       "    </tr>\n",
       "  </tbody>\n",
       "</table>\n",
       "</div>"
      ],
      "text/plain": [
       "                   Coeficientes     Magnitude\n",
       "species_Chinstrap  1.493657e+16  1.493657e+16\n",
       "species_Gentoo^2   1.251641e+16  1.251641e+16\n",
       "species_Gentoo    -1.251641e+16  1.251641e+16\n",
       "island_Dream      -1.106087e+16  1.106087e+16\n",
       "island_Dream^2     1.106087e+16  1.106087e+16"
      ]
     },
     "execution_count": 13,
     "metadata": {},
     "output_type": "execute_result"
    }
   ],
   "source": [
    "# pd.DataFrame(modelo.coef_, polynomial_feature_names.to_list(), columns = ['Coeficientes'])\n",
    "coeficients = pd.DataFrame(modelo.coef_, polynomial_feature_names, columns = ['Coeficientes'])\n",
    "coeficients['Magnitude'] = abs(coeficients['Coeficientes'])\n",
    "coeficients.sort_values('Magnitude', ascending = False).head(5)"
   ]
  },
  {
   "cell_type": "code",
   "execution_count": 14,
   "id": "470f4034",
   "metadata": {},
   "outputs": [
    {
     "data": {
      "text/plain": [
       "<matplotlib.collections.PathCollection at 0x206919fcf40>"
      ]
     },
     "execution_count": 14,
     "metadata": {},
     "output_type": "execute_result"
    },
    {
     "data": {
      "image/png": "[encoded data removed]",
      "text/plain": [
       "<Figure size 432x288 with 1 Axes>"
      ]
     },
     "metadata": {
      "needs_background": "light"
     },
     "output_type": "display_data"
    }
   ],
   "source": [
    "plt.scatter(y_test, predicciones)"
   ]
  },
  {
   "cell_type": "markdown",
   "id": "6860370e",
   "metadata": {},
   "source": [
    "sns.displot(y_test- predicciones, kind = 'hist')"
   ]
  },
  {
   "cell_type": "markdown",
   "id": "157eb9c8",
   "metadata": {},
   "source": [
    "## Metrics"
   ]
  },
  {
   "cell_type": "code",
   "execution_count": 15,
   "id": "a63e59f8",
   "metadata": {},
   "outputs": [
    {
     "name": "stdout",
     "output_type": "stream",
     "text": [
      "Mean Absolute Error: 341.46390680256707\n",
      "Mean Squared Error: 166291.5193584427\n",
      "Root Mean Squared Error: 407.788571883081\n"
     ]
    }
   ],
   "source": [
    "print(f'Mean Absolute Error: {metrics.mean_absolute_error(y_test, predicciones)}')\n",
    "print(f'Mean Squared Error: {metrics.mean_squared_error(y_test, predicciones)}')\n",
    "print(f'Root Mean Squared Error: {np.sqrt(metrics.mean_squared_error(y_test, predicciones))}')"
   ]
  },
  {
   "cell_type": "markdown",
   "id": "672cbdf1",
   "metadata": {},
   "source": [
    "## Regularization"
   ]
  },
  {
   "cell_type": "code",
   "execution_count": 16,
   "id": "8bc49650",
   "metadata": {},
   "outputs": [],
   "source": [
    "error_train_rmse = []\n",
    "error_test_rmse = []\n",
    "\n",
    "for d in range(1,10):\n",
    "    \n",
    "    polinomial = PolynomialFeatures(degree=d)\n",
    "    Xp = polinomial.fit_transform(X)\n",
    "    \n",
    "    X_train, X_test, y_train, y_test = train_test_split(Xp, y, test_size=0.2, random_state=45)\n",
    "    \n",
    "    escalador_polinomial = StandardScaler()\n",
    "    escalador_polinomial.fit(X_train)\n",
    "    \n",
    "    X_train_escalado = escalador_polinomial.transform(X_train)\n",
    "    X_test_escalado = escalador_polinomial.transform(X_test)\n",
    "    \n",
    "    modelo = LinearRegression()\n",
    "    modelo.fit(X_train_escalado,y_train)\n",
    "    \n",
    "    train_pred = modelo.predict(X_train_escalado)\n",
    "    test_pred = modelo.predict(X_test_escalado)\n",
    "    \n",
    "    train_RMSE = np.sqrt(metrics.mean_squared_error(y_train,train_pred))\n",
    "    \n",
    "    test_RMSE = np.sqrt(metrics.mean_squared_error(y_test,test_pred))\n",
    "    \n",
    "   \n",
    "    error_train_rmse.append(train_RMSE)\n",
    "    error_test_rmse.append(test_RMSE)"
   ]
  },
  {
   "cell_type": "code",
   "execution_count": 17,
   "id": "2b8670bc",
   "metadata": {},
   "outputs": [
    {
     "data": {
      "text/plain": [
       "<matplotlib.legend.Legend at 0x20691ae6c40>"
      ]
     },
     "execution_count": 17,
     "metadata": {},
     "output_type": "execute_result"
    },
    {
     "data": {
      "image/png": "[encoded data removed]",
      "text/plain": [
       "<Figure size 432x288 with 1 Axes>"
      ]
     },
     "metadata": {
      "needs_background": "light"
     },
     "output_type": "display_data"
    }
   ],
   "source": [
    "plt.plot(range(1,10),error_train_rmse,label='TRAIN')\n",
    "plt.plot(range(1,10),error_test_rmse,label='TEST')\n",
    "plt.xlabel(\"Grado\")\n",
    "plt.ylabel(\"RMSE\")\n",
    "plt.legend()"
   ]
  },
  {
   "cell_type": "code",
   "execution_count": 18,
   "id": "3b54c854",
   "metadata": {},
   "outputs": [
    {
     "data": {
      "text/plain": [
       "<matplotlib.legend.Legend at 0x206908c7250>"
      ]
     },
     "execution_count": 18,
     "metadata": {},
     "output_type": "execute_result"
    },
    {
     "data": {
      "image/png": "[encoded data removed]",
      "text/plain": [
       "<Figure size 432x288 with 1 Axes>"
      ]
     },
     "metadata": {
      "needs_background": "light"
     },
     "output_type": "display_data"
    }
   ],
   "source": [
    "plt.plot(range(1,5),error_train_rmse[:4],label='TRAIN')\n",
    "plt.plot(range(1,5),error_test_rmse[:4],label='TEST')\n",
    "plt.xlabel(\"Grado\")\n",
    "plt.ylabel(\"RMSE\")\n",
    "plt.legend()"
   ]
  },
  {
   "cell_type": "code",
   "execution_count": 19,
   "id": "074b5371",
   "metadata": {},
   "outputs": [],
   "source": [
    "convertidor = PolynomialFeatures(degree=2)\n",
    "Xp = convertidor.fit_transform(X)"
   ]
  },
  {
   "cell_type": "code",
   "execution_count": 20,
   "id": "3704dd60",
   "metadata": {},
   "outputs": [],
   "source": [
    "X_train, X_test, y_train, y_test = train_test_split(Xp, y, test_size = 0.2, random_state=45)"
   ]
  },
  {
   "cell_type": "code",
   "execution_count": 21,
   "id": "545c05bf",
   "metadata": {},
   "outputs": [],
   "source": [
    "escalador = StandardScaler()\n",
    "escalador.fit(X_train)\n",
    "\n",
    "X_train = escalador.transform(X_train)\n",
    "X_test = escalador.transform(X_test)"
   ]
  },
  {
   "cell_type": "code",
   "execution_count": 22,
   "id": "613a0dd9",
   "metadata": {},
   "outputs": [],
   "source": [
    "modelo = LinearRegression()"
   ]
  },
  {
   "cell_type": "code",
   "execution_count": 23,
   "id": "82d10d4d",
   "metadata": {},
   "outputs": [
    {
     "data": {
      "text/plain": [
       "LinearRegression()"
      ]
     },
     "execution_count": 23,
     "metadata": {},
     "output_type": "execute_result"
    }
   ],
   "source": [
    "modelo.fit(X_train, y_train)"
   ]
  },
  {
   "cell_type": "code",
   "execution_count": 24,
   "id": "402f37c4",
   "metadata": {},
   "outputs": [],
   "source": [
    "predicciones = modelo.predict(X_test)"
   ]
  },
  {
   "cell_type": "code",
   "execution_count": 25,
   "id": "d02dd4a6",
   "metadata": {},
   "outputs": [],
   "source": [
    "polynomial_feature_names = pd.Series(convertidor.get_feature_names()).str.replace(' ', ' x ')\n",
    "for i in range(len(X.columns)):\n",
    "    polynomial_feature_names = polynomial_feature_names.str.replace('x'+str(i), X.columns[i])"
   ]
  },
  {
   "cell_type": "code",
   "execution_count": 26,
   "id": "e2ba8bcb",
   "metadata": {},
   "outputs": [
    {
     "data": {
      "text/html": [
       "<div>\n",
       "<style scoped>\n",
       "    .dataframe tbody tr th:only-of-type {\n",
       "        vertical-align: middle;\n",
       "    }\n",
       "\n",
       "    .dataframe tbody tr th {\n",
       "        vertical-align: top;\n",
       "    }\n",
       "\n",
       "    .dataframe thead th {\n",
       "        text-align: right;\n",
       "    }\n",
       "</style>\n",
       "<table border=\"1\" class=\"dataframe\">\n",
       "  <thead>\n",
       "    <tr style=\"text-align: right;\">\n",
       "      <th></th>\n",
       "      <th>Coeficientes</th>\n",
       "      <th>Magnitude</th>\n",
       "    </tr>\n",
       "  </thead>\n",
       "  <tbody>\n",
       "    <tr>\n",
       "      <th>species_Chinstrap</th>\n",
       "      <td>1.493657e+16</td>\n",
       "      <td>1.493657e+16</td>\n",
       "    </tr>\n",
       "    <tr>\n",
       "      <th>species_Gentoo^2</th>\n",
       "      <td>1.251641e+16</td>\n",
       "      <td>1.251641e+16</td>\n",
       "    </tr>\n",
       "    <tr>\n",
       "      <th>species_Gentoo</th>\n",
       "      <td>-1.251641e+16</td>\n",
       "      <td>1.251641e+16</td>\n",
       "    </tr>\n",
       "    <tr>\n",
       "      <th>island_Dream</th>\n",
       "      <td>-1.106087e+16</td>\n",
       "      <td>1.106087e+16</td>\n",
       "    </tr>\n",
       "    <tr>\n",
       "      <th>island_Dream^2</th>\n",
       "      <td>1.106087e+16</td>\n",
       "      <td>1.106087e+16</td>\n",
       "    </tr>\n",
       "  </tbody>\n",
       "</table>\n",
       "</div>"
      ],
      "text/plain": [
       "                   Coeficientes     Magnitude\n",
       "species_Chinstrap  1.493657e+16  1.493657e+16\n",
       "species_Gentoo^2   1.251641e+16  1.251641e+16\n",
       "species_Gentoo    -1.251641e+16  1.251641e+16\n",
       "island_Dream      -1.106087e+16  1.106087e+16\n",
       "island_Dream^2     1.106087e+16  1.106087e+16"
      ]
     },
     "execution_count": 26,
     "metadata": {},
     "output_type": "execute_result"
    }
   ],
   "source": [
    "# pd.DataFrame(modelo.coef_, polynomial_feature_names.to_list(), columns = ['Coeficientes'])\n",
    "coeficients = pd.DataFrame(modelo.coef_, polynomial_feature_names, columns = ['Coeficientes'])\n",
    "coeficients['Magnitude'] = abs(coeficients['Coeficientes'])\n",
    "coeficients.sort_values('Magnitude', ascending = False).head(5)"
   ]
  },
  {
   "cell_type": "markdown",
   "id": "05619d6d",
   "metadata": {},
   "source": [
    "sns.displot(y_test- predicciones, kind = 'hist')"
   ]
  },
  {
   "cell_type": "code",
   "execution_count": 27,
   "id": "60a76575",
   "metadata": {},
   "outputs": [
    {
     "name": "stdout",
     "output_type": "stream",
     "text": [
      "Mean Absolute Error: 341.46390680256707\n",
      "Mean Squared Error: 166291.5193584427\n",
      "Root Mean Squared Error: 407.788571883081\n"
     ]
    }
   ],
   "source": [
    "print(f'Mean Absolute Error: {metrics.mean_absolute_error(y_test, predicciones)}')\n",
    "print(f'Mean Squared Error: {metrics.mean_squared_error(y_test, predicciones)}')\n",
    "print(f'Root Mean Squared Error: {np.sqrt(metrics.mean_squared_error(y_test, predicciones))}')"
   ]
  },
  {
   "cell_type": "markdown",
   "id": "8f3e1641",
   "metadata": {},
   "source": [
    "### Ridge Regression"
   ]
  },
  {
   "cell_type": "code",
   "execution_count": 28,
   "id": "5e49c433",
   "metadata": {},
   "outputs": [],
   "source": [
    "from sklearn.linear_model import Ridge"
   ]
  },
  {
   "cell_type": "code",
   "execution_count": 29,
   "id": "08fb0081",
   "metadata": {},
   "outputs": [],
   "source": [
    "alpha = []\n",
    "test_rmse_alpha = []\n",
    "train_rmse_alpha = []\n",
    "\n",
    "for a in np.linspace(0,10,101):\n",
    "    ridge_r = Ridge(alpha=a, random_state=43)\n",
    "    ridge_r.fit(X_train,y_train)\n",
    "    \n",
    "    y_pred_test = ridge_r.predict(X_test)\n",
    "    y_pred_train = ridge_r.predict(X_train)\n",
    "    \n",
    "    ridge_rmse_test = np.sqrt(metrics.mean_squared_error(y_test,y_pred_test))\n",
    "    ridge_rmse_train = np.sqrt(metrics.mean_squared_error(y_train,y_pred_train))\n",
    "    \n",
    "    alpha.append(a)\n",
    "    test_rmse_alpha.append(ridge_rmse_test)\n",
    "    train_rmse_alpha.append(ridge_rmse_train)"
   ]
  },
  {
   "cell_type": "code",
   "execution_count": 30,
   "id": "48af7afd",
   "metadata": {},
   "outputs": [
    {
     "data": {
      "text/plain": [
       "<matplotlib.legend.Legend at 0x2069093ea90>"
      ]
     },
     "execution_count": 30,
     "metadata": {},
     "output_type": "execute_result"
    },
    {
     "data": {
      "image/png": "[encoded data removed]",
      "text/plain": [
       "<Figure size 432x288 with 1 Axes>"
      ]
     },
     "metadata": {
      "needs_background": "light"
     },
     "output_type": "display_data"
    }
   ],
   "source": [
    "plt.plot(alpha, train_rmse_alpha, label='TRAIN')\n",
    "plt.plot(alpha, test_rmse_alpha, label='TEST')\n",
    "plt.xlabel(\"Grado\")\n",
    "plt.ylabel(\"RMSE\")\n",
    "plt.legend()"
   ]
  },
  {
   "cell_type": "code",
   "execution_count": 31,
   "id": "0c1224c1",
   "metadata": {},
   "outputs": [],
   "source": [
    "ridge_r = Ridge(alpha= 4, random_state=43)"
   ]
  },
  {
   "cell_type": "code",
   "execution_count": 32,
   "id": "da29a641",
   "metadata": {},
   "outputs": [
    {
     "data": {
      "text/plain": [
       "Ridge(alpha=4, random_state=43)"
      ]
     },
     "execution_count": 32,
     "metadata": {},
     "output_type": "execute_result"
    }
   ],
   "source": [
    "ridge_r.fit(X_train,y_train)"
   ]
  },
  {
   "cell_type": "code",
   "execution_count": 33,
   "id": "12cce918",
   "metadata": {},
   "outputs": [],
   "source": [
    "y_pred = ridge_r.predict(X_test)"
   ]
  },
  {
   "cell_type": "code",
   "execution_count": 34,
   "id": "de40741b",
   "metadata": {},
   "outputs": [
    {
     "data": {
      "text/html": [
       "<div>\n",
       "<style scoped>\n",
       "    .dataframe tbody tr th:only-of-type {\n",
       "        vertical-align: middle;\n",
       "    }\n",
       "\n",
       "    .dataframe tbody tr th {\n",
       "        vertical-align: top;\n",
       "    }\n",
       "\n",
       "    .dataframe thead th {\n",
       "        text-align: right;\n",
       "    }\n",
       "</style>\n",
       "<table border=\"1\" class=\"dataframe\">\n",
       "  <thead>\n",
       "    <tr style=\"text-align: right;\">\n",
       "      <th></th>\n",
       "      <th>Coeficientes</th>\n",
       "      <th>Magnitude</th>\n",
       "    </tr>\n",
       "  </thead>\n",
       "  <tbody>\n",
       "    <tr>\n",
       "      <th>species_Chinstrap x sex_Male</th>\n",
       "      <td>-121.158087</td>\n",
       "      <td>121.158087</td>\n",
       "    </tr>\n",
       "    <tr>\n",
       "      <th>species_Gentoo</th>\n",
       "      <td>117.301915</td>\n",
       "      <td>117.301915</td>\n",
       "    </tr>\n",
       "    <tr>\n",
       "      <th>species_Gentoo^2</th>\n",
       "      <td>117.301915</td>\n",
       "      <td>117.301915</td>\n",
       "    </tr>\n",
       "    <tr>\n",
       "      <th>species_Gentoo x flipper_length_mm</th>\n",
       "      <td>108.944197</td>\n",
       "      <td>108.944197</td>\n",
       "    </tr>\n",
       "    <tr>\n",
       "      <th>flipper_length_mm</th>\n",
       "      <td>98.096931</td>\n",
       "      <td>98.096931</td>\n",
       "    </tr>\n",
       "  </tbody>\n",
       "</table>\n",
       "</div>"
      ],
      "text/plain": [
       "                                    Coeficientes   Magnitude\n",
       "species_Chinstrap x sex_Male         -121.158087  121.158087\n",
       "species_Gentoo                        117.301915  117.301915\n",
       "species_Gentoo^2                      117.301915  117.301915\n",
       "species_Gentoo x flipper_length_mm    108.944197  108.944197\n",
       "flipper_length_mm                      98.096931   98.096931"
      ]
     },
     "execution_count": 34,
     "metadata": {},
     "output_type": "execute_result"
    }
   ],
   "source": [
    "coeficients = pd.DataFrame(ridge_r.coef_, polynomial_feature_names, columns = ['Coeficientes'])\n",
    "coeficients['Magnitude'] = abs(coeficients['Coeficientes'])\n",
    "coeficients.sort_values('Magnitude', ascending = False).head(5)"
   ]
  },
  {
   "cell_type": "code",
   "execution_count": 35,
   "id": "9d6983ca",
   "metadata": {},
   "outputs": [
    {
     "name": "stdout",
     "output_type": "stream",
     "text": [
      "Mean Absolute Error: 208.74203661080088\n",
      "Mean Squared Error: 70092.6450491446\n",
      "Root Mean Squared Error: 264.75015590013277\n"
     ]
    }
   ],
   "source": [
    "print(f'Mean Absolute Error: {metrics.mean_absolute_error(y_test, y_pred)}')\n",
    "print(f'Mean Squared Error: {metrics.mean_squared_error(y_test, y_pred)}')\n",
    "print(f'Root Mean Squared Error: {np.sqrt(metrics.mean_squared_error(y_test, y_pred))}')"
   ]
  },
  {
   "cell_type": "markdown",
   "id": "025f769c",
   "metadata": {},
   "source": [
    "### LASSO Regression"
   ]
  },
  {
   "cell_type": "code",
   "execution_count": 36,
   "id": "1655172a",
   "metadata": {},
   "outputs": [],
   "source": [
    "from sklearn.linear_model import Lasso"
   ]
  },
  {
   "cell_type": "code",
   "execution_count": 37,
   "id": "31dda364",
   "metadata": {},
   "outputs": [
    {
     "name": "stderr",
     "output_type": "stream",
     "text": [
      "C:\\Users\\andre\\anaconda3\\lib\\site-packages\\sklearn\\linear_model\\_coordinate_descent.py:530: ConvergenceWarning: Objective did not converge. You might want to increase the number of iterations. Duality gap: 6676881.082578498, tolerance: 17716.766279554548\n",
      "  model = cd_fast.enet_coordinate_descent(\n",
      "C:\\Users\\andre\\anaconda3\\lib\\site-packages\\sklearn\\linear_model\\_coordinate_descent.py:530: ConvergenceWarning: Objective did not converge. You might want to increase the number of iterations. Duality gap: 3598319.515026549, tolerance: 17716.766279554548\n",
      "  model = cd_fast.enet_coordinate_descent(\n",
      "C:\\Users\\andre\\anaconda3\\lib\\site-packages\\sklearn\\linear_model\\_coordinate_descent.py:530: ConvergenceWarning: Objective did not converge. You might want to increase the number of iterations. Duality gap: 1838408.1989137884, tolerance: 17716.766279554548\n",
      "  model = cd_fast.enet_coordinate_descent(\n",
      "C:\\Users\\andre\\anaconda3\\lib\\site-packages\\sklearn\\linear_model\\_coordinate_descent.py:530: ConvergenceWarning: Objective did not converge. You might want to increase the number of iterations. Duality gap: 998606.5774766989, tolerance: 17716.766279554548\n",
      "  model = cd_fast.enet_coordinate_descent(\n",
      "C:\\Users\\andre\\anaconda3\\lib\\site-packages\\sklearn\\linear_model\\_coordinate_descent.py:530: ConvergenceWarning: Objective did not converge. You might want to increase the number of iterations. Duality gap: 685467.5303008612, tolerance: 17716.766279554548\n",
      "  model = cd_fast.enet_coordinate_descent(\n",
      "C:\\Users\\andre\\anaconda3\\lib\\site-packages\\sklearn\\linear_model\\_coordinate_descent.py:530: ConvergenceWarning: Objective did not converge. You might want to increase the number of iterations. Duality gap: 78472.33813726157, tolerance: 17716.766279554548\n",
      "  model = cd_fast.enet_coordinate_descent(\n",
      "C:\\Users\\andre\\anaconda3\\lib\\site-packages\\sklearn\\linear_model\\_coordinate_descent.py:530: ConvergenceWarning: Objective did not converge. You might want to increase the number of iterations. Duality gap: 41475.7248262018, tolerance: 17716.766279554548\n",
      "  model = cd_fast.enet_coordinate_descent(\n",
      "C:\\Users\\andre\\anaconda3\\lib\\site-packages\\sklearn\\linear_model\\_coordinate_descent.py:530: ConvergenceWarning: Objective did not converge. You might want to increase the number of iterations. Duality gap: 67202.68088861927, tolerance: 17716.766279554548\n",
      "  model = cd_fast.enet_coordinate_descent(\n",
      "C:\\Users\\andre\\anaconda3\\lib\\site-packages\\sklearn\\linear_model\\_coordinate_descent.py:530: ConvergenceWarning: Objective did not converge. You might want to increase the number of iterations. Duality gap: 63645.7027130276, tolerance: 17716.766279554548\n",
      "  model = cd_fast.enet_coordinate_descent(\n",
      "C:\\Users\\andre\\anaconda3\\lib\\site-packages\\sklearn\\linear_model\\_coordinate_descent.py:530: ConvergenceWarning: Objective did not converge. You might want to increase the number of iterations. Duality gap: 62117.357867628336, tolerance: 17716.766279554548\n",
      "  model = cd_fast.enet_coordinate_descent(\n",
      "C:\\Users\\andre\\anaconda3\\lib\\site-packages\\sklearn\\linear_model\\_coordinate_descent.py:530: ConvergenceWarning: Objective did not converge. You might want to increase the number of iterations. Duality gap: 61119.445521045476, tolerance: 17716.766279554548\n",
      "  model = cd_fast.enet_coordinate_descent(\n",
      "C:\\Users\\andre\\anaconda3\\lib\\site-packages\\sklearn\\linear_model\\_coordinate_descent.py:530: ConvergenceWarning: Objective did not converge. You might want to increase the number of iterations. Duality gap: 60002.12919759005, tolerance: 17716.766279554548\n",
      "  model = cd_fast.enet_coordinate_descent(\n",
      "C:\\Users\\andre\\anaconda3\\lib\\site-packages\\sklearn\\linear_model\\_coordinate_descent.py:530: ConvergenceWarning: Objective did not converge. You might want to increase the number of iterations. Duality gap: 58759.193247217685, tolerance: 17716.766279554548\n",
      "  model = cd_fast.enet_coordinate_descent(\n",
      "C:\\Users\\andre\\anaconda3\\lib\\site-packages\\sklearn\\linear_model\\_coordinate_descent.py:530: ConvergenceWarning: Objective did not converge. You might want to increase the number of iterations. Duality gap: 18356.70082875341, tolerance: 17716.766279554548\n",
      "  model = cd_fast.enet_coordinate_descent(\n",
      "C:\\Users\\andre\\anaconda3\\lib\\site-packages\\sklearn\\linear_model\\_coordinate_descent.py:530: ConvergenceWarning: Objective did not converge. You might want to increase the number of iterations. Duality gap: 20068.082046829164, tolerance: 17716.766279554548\n",
      "  model = cd_fast.enet_coordinate_descent(\n",
      "C:\\Users\\andre\\anaconda3\\lib\\site-packages\\sklearn\\linear_model\\_coordinate_descent.py:530: ConvergenceWarning: Objective did not converge. You might want to increase the number of iterations. Duality gap: 19868.67045894265, tolerance: 17716.766279554548\n",
      "  model = cd_fast.enet_coordinate_descent(\n",
      "C:\\Users\\andre\\anaconda3\\lib\\site-packages\\sklearn\\linear_model\\_coordinate_descent.py:530: ConvergenceWarning: Objective did not converge. You might want to increase the number of iterations. Duality gap: 19549.920280985534, tolerance: 17716.766279554548\n",
      "  model = cd_fast.enet_coordinate_descent(\n",
      "C:\\Users\\andre\\anaconda3\\lib\\site-packages\\sklearn\\linear_model\\_coordinate_descent.py:530: ConvergenceWarning: Objective did not converge. You might want to increase the number of iterations. Duality gap: 19586.255499988794, tolerance: 17716.766279554548\n",
      "  model = cd_fast.enet_coordinate_descent(\n",
      "C:\\Users\\andre\\anaconda3\\lib\\site-packages\\sklearn\\linear_model\\_coordinate_descent.py:530: ConvergenceWarning: Objective did not converge. You might want to increase the number of iterations. Duality gap: 19623.596277549863, tolerance: 17716.766279554548\n",
      "  model = cd_fast.enet_coordinate_descent(\n",
      "C:\\Users\\andre\\anaconda3\\lib\\site-packages\\sklearn\\linear_model\\_coordinate_descent.py:530: ConvergenceWarning: Objective did not converge. You might want to increase the number of iterations. Duality gap: 19661.65650093183, tolerance: 17716.766279554548\n",
      "  model = cd_fast.enet_coordinate_descent(\n",
      "C:\\Users\\andre\\anaconda3\\lib\\site-packages\\sklearn\\linear_model\\_coordinate_descent.py:530: ConvergenceWarning: Objective did not converge. You might want to increase the number of iterations. Duality gap: 18004.509955327958, tolerance: 17716.766279554548\n",
      "  model = cd_fast.enet_coordinate_descent(\n",
      "C:\\Users\\andre\\anaconda3\\lib\\site-packages\\sklearn\\linear_model\\_coordinate_descent.py:530: ConvergenceWarning: Objective did not converge. You might want to increase the number of iterations. Duality gap: 18427.009624574333, tolerance: 17716.766279554548\n",
      "  model = cd_fast.enet_coordinate_descent(\n",
      "C:\\Users\\andre\\anaconda3\\lib\\site-packages\\sklearn\\linear_model\\_coordinate_descent.py:530: ConvergenceWarning: Objective did not converge. You might want to increase the number of iterations. Duality gap: 18820.757169291377, tolerance: 17716.766279554548\n",
      "  model = cd_fast.enet_coordinate_descent(\n",
      "C:\\Users\\andre\\anaconda3\\lib\\site-packages\\sklearn\\linear_model\\_coordinate_descent.py:530: ConvergenceWarning: Objective did not converge. You might want to increase the number of iterations. Duality gap: 19230.95019096136, tolerance: 17716.766279554548\n",
      "  model = cd_fast.enet_coordinate_descent(\n",
      "C:\\Users\\andre\\anaconda3\\lib\\site-packages\\sklearn\\linear_model\\_coordinate_descent.py:530: ConvergenceWarning: Objective did not converge. You might want to increase the number of iterations. Duality gap: 19642.976501718163, tolerance: 17716.766279554548\n",
      "  model = cd_fast.enet_coordinate_descent(\n",
      "C:\\Users\\andre\\anaconda3\\lib\\site-packages\\sklearn\\linear_model\\_coordinate_descent.py:530: ConvergenceWarning: Objective did not converge. You might want to increase the number of iterations. Duality gap: 20054.78319889307, tolerance: 17716.766279554548\n",
      "  model = cd_fast.enet_coordinate_descent(\n",
      "C:\\Users\\andre\\anaconda3\\lib\\site-packages\\sklearn\\linear_model\\_coordinate_descent.py:530: ConvergenceWarning: Objective did not converge. You might want to increase the number of iterations. Duality gap: 20461.606217239052, tolerance: 17716.766279554548\n",
      "  model = cd_fast.enet_coordinate_descent(\n",
      "C:\\Users\\andre\\anaconda3\\lib\\site-packages\\sklearn\\linear_model\\_coordinate_descent.py:530: ConvergenceWarning: Objective did not converge. You might want to increase the number of iterations. Duality gap: 20863.540623102337, tolerance: 17716.766279554548\n",
      "  model = cd_fast.enet_coordinate_descent(\n",
      "C:\\Users\\andre\\anaconda3\\lib\\site-packages\\sklearn\\linear_model\\_coordinate_descent.py:530: ConvergenceWarning: Objective did not converge. You might want to increase the number of iterations. Duality gap: 21262.93223289773, tolerance: 17716.766279554548\n",
      "  model = cd_fast.enet_coordinate_descent(\n",
      "C:\\Users\\andre\\anaconda3\\lib\\site-packages\\sklearn\\linear_model\\_coordinate_descent.py:530: ConvergenceWarning: Objective did not converge. You might want to increase the number of iterations. Duality gap: 21657.018572457135, tolerance: 17716.766279554548\n",
      "  model = cd_fast.enet_coordinate_descent(\n",
      "C:\\Users\\andre\\anaconda3\\lib\\site-packages\\sklearn\\linear_model\\_coordinate_descent.py:530: ConvergenceWarning: Objective did not converge. You might want to increase the number of iterations. Duality gap: 22046.685163654387, tolerance: 17716.766279554548\n",
      "  model = cd_fast.enet_coordinate_descent(\n",
      "C:\\Users\\andre\\anaconda3\\lib\\site-packages\\sklearn\\linear_model\\_coordinate_descent.py:530: ConvergenceWarning: Objective did not converge. You might want to increase the number of iterations. Duality gap: 22432.98616534844, tolerance: 17716.766279554548\n",
      "  model = cd_fast.enet_coordinate_descent(\n",
      "C:\\Users\\andre\\anaconda3\\lib\\site-packages\\sklearn\\linear_model\\_coordinate_descent.py:530: ConvergenceWarning: Objective did not converge. You might want to increase the number of iterations. Duality gap: 22814.651394765824, tolerance: 17716.766279554548\n",
      "  model = cd_fast.enet_coordinate_descent(\n",
      "C:\\Users\\andre\\anaconda3\\lib\\site-packages\\sklearn\\linear_model\\_coordinate_descent.py:530: ConvergenceWarning: Objective did not converge. You might want to increase the number of iterations. Duality gap: 23188.25961882621, tolerance: 17716.766279554548\n",
      "  model = cd_fast.enet_coordinate_descent(\n",
      "C:\\Users\\andre\\anaconda3\\lib\\site-packages\\sklearn\\linear_model\\_coordinate_descent.py:530: ConvergenceWarning: Objective did not converge. You might want to increase the number of iterations. Duality gap: 23557.03609985113, tolerance: 17716.766279554548\n",
      "  model = cd_fast.enet_coordinate_descent(\n",
      "C:\\Users\\andre\\anaconda3\\lib\\site-packages\\sklearn\\linear_model\\_coordinate_descent.py:530: ConvergenceWarning: Objective did not converge. You might want to increase the number of iterations. Duality gap: 23922.166225541383, tolerance: 17716.766279554548\n",
      "  model = cd_fast.enet_coordinate_descent(\n",
      "C:\\Users\\andre\\anaconda3\\lib\\site-packages\\sklearn\\linear_model\\_coordinate_descent.py:530: ConvergenceWarning: Objective did not converge. You might want to increase the number of iterations. Duality gap: 25129.079570997506, tolerance: 17716.766279554548\n",
      "  model = cd_fast.enet_coordinate_descent(\n",
      "C:\\Users\\andre\\anaconda3\\lib\\site-packages\\sklearn\\linear_model\\_coordinate_descent.py:530: ConvergenceWarning: Objective did not converge. You might want to increase the number of iterations. Duality gap: 25595.169704232365, tolerance: 17716.766279554548\n",
      "  model = cd_fast.enet_coordinate_descent(\n",
      "C:\\Users\\andre\\anaconda3\\lib\\site-packages\\sklearn\\linear_model\\_coordinate_descent.py:530: ConvergenceWarning: Objective did not converge. You might want to increase the number of iterations. Duality gap: 26007.497949689627, tolerance: 17716.766279554548\n",
      "  model = cd_fast.enet_coordinate_descent(\n",
      "C:\\Users\\andre\\anaconda3\\lib\\site-packages\\sklearn\\linear_model\\_coordinate_descent.py:530: ConvergenceWarning: Objective did not converge. You might want to increase the number of iterations. Duality gap: 26408.561346195638, tolerance: 17716.766279554548\n",
      "  model = cd_fast.enet_coordinate_descent(\n",
      "C:\\Users\\andre\\anaconda3\\lib\\site-packages\\sklearn\\linear_model\\_coordinate_descent.py:530: ConvergenceWarning: Objective did not converge. You might want to increase the number of iterations. Duality gap: 26814.480721037835, tolerance: 17716.766279554548\n",
      "  model = cd_fast.enet_coordinate_descent(\n",
      "C:\\Users\\andre\\anaconda3\\lib\\site-packages\\sklearn\\linear_model\\_coordinate_descent.py:530: ConvergenceWarning: Objective did not converge. You might want to increase the number of iterations. Duality gap: 27212.22118985653, tolerance: 17716.766279554548\n",
      "  model = cd_fast.enet_coordinate_descent(\n",
      "C:\\Users\\andre\\anaconda3\\lib\\site-packages\\sklearn\\linear_model\\_coordinate_descent.py:530: ConvergenceWarning: Objective did not converge. You might want to increase the number of iterations. Duality gap: 27604.72197011113, tolerance: 17716.766279554548\n",
      "  model = cd_fast.enet_coordinate_descent(\n",
      "C:\\Users\\andre\\anaconda3\\lib\\site-packages\\sklearn\\linear_model\\_coordinate_descent.py:530: ConvergenceWarning: Objective did not converge. You might want to increase the number of iterations. Duality gap: 27993.07983098179, tolerance: 17716.766279554548\n",
      "  model = cd_fast.enet_coordinate_descent(\n"
     ]
    },
    {
     "name": "stderr",
     "output_type": "stream",
     "text": [
      "C:\\Users\\andre\\anaconda3\\lib\\site-packages\\sklearn\\linear_model\\_coordinate_descent.py:530: ConvergenceWarning: Objective did not converge. You might want to increase the number of iterations. Duality gap: 28386.459683299065, tolerance: 17716.766279554548\n",
      "  model = cd_fast.enet_coordinate_descent(\n",
      "C:\\Users\\andre\\anaconda3\\lib\\site-packages\\sklearn\\linear_model\\_coordinate_descent.py:530: ConvergenceWarning: Objective did not converge. You might want to increase the number of iterations. Duality gap: 28785.000415626913, tolerance: 17716.766279554548\n",
      "  model = cd_fast.enet_coordinate_descent(\n",
      "C:\\Users\\andre\\anaconda3\\lib\\site-packages\\sklearn\\linear_model\\_coordinate_descent.py:530: ConvergenceWarning: Objective did not converge. You might want to increase the number of iterations. Duality gap: 29180.366754565388, tolerance: 17716.766279554548\n",
      "  model = cd_fast.enet_coordinate_descent(\n",
      "C:\\Users\\andre\\anaconda3\\lib\\site-packages\\sklearn\\linear_model\\_coordinate_descent.py:530: ConvergenceWarning: Objective did not converge. You might want to increase the number of iterations. Duality gap: 29572.52926721424, tolerance: 17716.766279554548\n",
      "  model = cd_fast.enet_coordinate_descent(\n",
      "C:\\Users\\andre\\anaconda3\\lib\\site-packages\\sklearn\\linear_model\\_coordinate_descent.py:530: ConvergenceWarning: Objective did not converge. You might want to increase the number of iterations. Duality gap: 29961.220867615193, tolerance: 17716.766279554548\n",
      "  model = cd_fast.enet_coordinate_descent(\n",
      "C:\\Users\\andre\\anaconda3\\lib\\site-packages\\sklearn\\linear_model\\_coordinate_descent.py:530: ConvergenceWarning: Objective did not converge. You might want to increase the number of iterations. Duality gap: 30348.165043313056, tolerance: 17716.766279554548\n",
      "  model = cd_fast.enet_coordinate_descent(\n",
      "C:\\Users\\andre\\anaconda3\\lib\\site-packages\\sklearn\\linear_model\\_coordinate_descent.py:530: ConvergenceWarning: Objective did not converge. You might want to increase the number of iterations. Duality gap: 30732.671197321266, tolerance: 17716.766279554548\n",
      "  model = cd_fast.enet_coordinate_descent(\n",
      "C:\\Users\\andre\\anaconda3\\lib\\site-packages\\sklearn\\linear_model\\_coordinate_descent.py:530: ConvergenceWarning: Objective did not converge. You might want to increase the number of iterations. Duality gap: 31115.050614532083, tolerance: 17716.766279554548\n",
      "  model = cd_fast.enet_coordinate_descent(\n",
      "C:\\Users\\andre\\anaconda3\\lib\\site-packages\\sklearn\\linear_model\\_coordinate_descent.py:530: ConvergenceWarning: Objective did not converge. You might want to increase the number of iterations. Duality gap: 31496.37054077536, tolerance: 17716.766279554548\n",
      "  model = cd_fast.enet_coordinate_descent(\n",
      "C:\\Users\\andre\\anaconda3\\lib\\site-packages\\sklearn\\linear_model\\_coordinate_descent.py:530: ConvergenceWarning: Objective did not converge. You might want to increase the number of iterations. Duality gap: 31874.49697734788, tolerance: 17716.766279554548\n",
      "  model = cd_fast.enet_coordinate_descent(\n",
      "C:\\Users\\andre\\anaconda3\\lib\\site-packages\\sklearn\\linear_model\\_coordinate_descent.py:530: ConvergenceWarning: Objective did not converge. You might want to increase the number of iterations. Duality gap: 32246.31485964358, tolerance: 17716.766279554548\n",
      "  model = cd_fast.enet_coordinate_descent(\n",
      "C:\\Users\\andre\\anaconda3\\lib\\site-packages\\sklearn\\linear_model\\_coordinate_descent.py:530: ConvergenceWarning: Objective did not converge. You might want to increase the number of iterations. Duality gap: 32607.050749495625, tolerance: 17716.766279554548\n",
      "  model = cd_fast.enet_coordinate_descent(\n",
      "C:\\Users\\andre\\anaconda3\\lib\\site-packages\\sklearn\\linear_model\\_coordinate_descent.py:530: ConvergenceWarning: Objective did not converge. You might want to increase the number of iterations. Duality gap: 32968.92476417497, tolerance: 17716.766279554548\n",
      "  model = cd_fast.enet_coordinate_descent(\n",
      "C:\\Users\\andre\\anaconda3\\lib\\site-packages\\sklearn\\linear_model\\_coordinate_descent.py:530: ConvergenceWarning: Objective did not converge. You might want to increase the number of iterations. Duality gap: 33330.75927173346, tolerance: 17716.766279554548\n",
      "  model = cd_fast.enet_coordinate_descent(\n",
      "C:\\Users\\andre\\anaconda3\\lib\\site-packages\\sklearn\\linear_model\\_coordinate_descent.py:530: ConvergenceWarning: Objective did not converge. You might want to increase the number of iterations. Duality gap: 33689.2947300449, tolerance: 17716.766279554548\n",
      "  model = cd_fast.enet_coordinate_descent(\n"
     ]
    }
   ],
   "source": [
    "alpha = []\n",
    "test_rmse_alpha = []\n",
    "train_rmse_alpha = []\n",
    "\n",
    "for a in np.linspace(0.1,10,101):\n",
    "    lasso_r = Lasso(alpha=a, random_state=43)\n",
    "    lasso_r.fit(X_train,y_train)\n",
    "    \n",
    "    y_pred_test = lasso_r.predict(X_test)\n",
    "    y_pred_train = lasso_r.predict(X_train)\n",
    "    \n",
    "    lasso_rmse_test = np.sqrt(metrics.mean_squared_error(y_test,y_pred_test))\n",
    "    lasso_rmse_train = np.sqrt(metrics.mean_squared_error(y_train,y_pred_train))\n",
    "    \n",
    "    alpha.append(a)\n",
    "    test_rmse_alpha.append(lasso_rmse_test)\n",
    "    train_rmse_alpha.append(lasso_rmse_train)"
   ]
  },
  {
   "cell_type": "code",
   "execution_count": 38,
   "id": "b18893ae",
   "metadata": {},
   "outputs": [
    {
     "data": {
      "text/plain": [
       "<matplotlib.legend.Legend at 0x206909de880>"
      ]
     },
     "execution_count": 38,
     "metadata": {},
     "output_type": "execute_result"
    },
    {
     "data": {
      "image/png": "[encoded data removed]",
      "text/plain": [
       "<Figure size 432x288 with 1 Axes>"
      ]
     },
     "metadata": {
      "needs_background": "light"
     },
     "output_type": "display_data"
    }
   ],
   "source": [
    "plt.plot(alpha, train_rmse_alpha, label='TRAIN')\n",
    "plt.plot(alpha, test_rmse_alpha, label='TEST')\n",
    "plt.xlabel(\"Grado\")\n",
    "plt.ylabel(\"RMSE\")\n",
    "plt.legend()"
   ]
  },
  {
   "cell_type": "code",
   "execution_count": 39,
   "id": "7564e452",
   "metadata": {},
   "outputs": [],
   "source": [
    "lasso_r = Lasso(alpha=0.01, random_state=43)"
   ]
  },
  {
   "cell_type": "code",
   "execution_count": 40,
   "id": "3ff45142",
   "metadata": {},
   "outputs": [
    {
     "name": "stderr",
     "output_type": "stream",
     "text": [
      "C:\\Users\\andre\\anaconda3\\lib\\site-packages\\sklearn\\linear_model\\_coordinate_descent.py:530: ConvergenceWarning: Objective did not converge. You might want to increase the number of iterations. Duality gap: 9792991.996381998, tolerance: 17716.766279554548\n",
      "  model = cd_fast.enet_coordinate_descent(\n"
     ]
    },
    {
     "data": {
      "text/plain": [
       "Lasso(alpha=0.01, random_state=43)"
      ]
     },
     "execution_count": 40,
     "metadata": {},
     "output_type": "execute_result"
    }
   ],
   "source": [
    "lasso_r.fit(X_train,y_train)"
   ]
  },
  {
   "cell_type": "code",
   "execution_count": 41,
   "id": "397702f4",
   "metadata": {},
   "outputs": [],
   "source": [
    "y_pred = lasso_r.predict(X_test)"
   ]
  },
  {
   "cell_type": "code",
   "execution_count": 42,
   "id": "c6eac882",
   "metadata": {},
   "outputs": [
    {
     "data": {
      "text/html": [
       "<div>\n",
       "<style scoped>\n",
       "    .dataframe tbody tr th:only-of-type {\n",
       "        vertical-align: middle;\n",
       "    }\n",
       "\n",
       "    .dataframe tbody tr th {\n",
       "        vertical-align: top;\n",
       "    }\n",
       "\n",
       "    .dataframe thead th {\n",
       "        text-align: right;\n",
       "    }\n",
       "</style>\n",
       "<table border=\"1\" class=\"dataframe\">\n",
       "  <thead>\n",
       "    <tr style=\"text-align: right;\">\n",
       "      <th></th>\n",
       "      <th>Coeficientes</th>\n",
       "      <th>Magnitude</th>\n",
       "    </tr>\n",
       "  </thead>\n",
       "  <tbody>\n",
       "    <tr>\n",
       "      <th>sex_Male x bill_depth_mm</th>\n",
       "      <td>-772.617486</td>\n",
       "      <td>772.617486</td>\n",
       "    </tr>\n",
       "    <tr>\n",
       "      <th>sex_Male x flipper_length_mm</th>\n",
       "      <td>608.430454</td>\n",
       "      <td>608.430454</td>\n",
       "    </tr>\n",
       "    <tr>\n",
       "      <th>island_Torgersen x flipper_length_mm</th>\n",
       "      <td>-606.596563</td>\n",
       "      <td>606.596563</td>\n",
       "    </tr>\n",
       "    <tr>\n",
       "      <th>species_Chinstrap</th>\n",
       "      <td>-570.737946</td>\n",
       "      <td>570.737946</td>\n",
       "    </tr>\n",
       "    <tr>\n",
       "      <th>sex_Male</th>\n",
       "      <td>434.964837</td>\n",
       "      <td>434.964837</td>\n",
       "    </tr>\n",
       "  </tbody>\n",
       "</table>\n",
       "</div>"
      ],
      "text/plain": [
       "                                      Coeficientes   Magnitude\n",
       "sex_Male x bill_depth_mm               -772.617486  772.617486\n",
       "sex_Male x flipper_length_mm            608.430454  608.430454\n",
       "island_Torgersen x flipper_length_mm   -606.596563  606.596563\n",
       "species_Chinstrap                      -570.737946  570.737946\n",
       "sex_Male                                434.964837  434.964837"
      ]
     },
     "execution_count": 42,
     "metadata": {},
     "output_type": "execute_result"
    }
   ],
   "source": [
    "coeficients = pd.DataFrame(lasso_r.coef_, polynomial_feature_names, columns = ['Coeficientes'])\n",
    "coeficients['Magnitude'] = abs(coeficients['Coeficientes'])\n",
    "coeficients.sort_values('Magnitude', ascending = False).head(5)"
   ]
  },
  {
   "cell_type": "code",
   "execution_count": 43,
   "id": "9e57e00b",
   "metadata": {},
   "outputs": [
    {
     "name": "stdout",
     "output_type": "stream",
     "text": [
      "Mean Absolute Error: 222.5048617305058\n",
      "Mean Squared Error: 79583.19615912129\n",
      "Root Mean Squared Error: 282.10493820406845\n"
     ]
    }
   ],
   "source": [
    "print(f'Mean Absolute Error: {metrics.mean_absolute_error(y_test, y_pred)}')\n",
    "print(f'Mean Squared Error: {metrics.mean_squared_error(y_test, y_pred)}')\n",
    "print(f'Root Mean Squared Error: {np.sqrt(metrics.mean_squared_error(y_test, y_pred))}')"
   ]
  },
  {
   "cell_type": "markdown",
   "id": "ea034cd6",
   "metadata": {},
   "source": [
    "### Elastic Net"
   ]
  },
  {
   "cell_type": "code",
   "execution_count": 44,
   "id": "aa8d6e03",
   "metadata": {},
   "outputs": [],
   "source": [
    "from sklearn.linear_model import ElasticNet"
   ]
  },
  {
   "cell_type": "code",
   "execution_count": 45,
   "id": "c2ccabbe",
   "metadata": {},
   "outputs": [],
   "source": [
    "alpha = []\n",
    "test_rmse_alpha = []\n",
    "train_rmse_alpha = []\n",
    "\n",
    "for a in np.linspace(0.1,10,101):\n",
    "    elastic_r = ElasticNet(alpha=a, random_state=43)\n",
    "    elastic_r.fit(X_train,y_train)\n",
    "    \n",
    "    y_pred_test = elastic_r.predict(X_test)\n",
    "    y_pred_train = elastic_r.predict(X_train)\n",
    "    \n",
    "    elastic_rmse_test = np.sqrt(metrics.mean_squared_error(y_test,y_pred_test))\n",
    "    elastic_rmse_train = np.sqrt(metrics.mean_squared_error(y_train,y_pred_train))\n",
    "    \n",
    "    alpha.append(a)\n",
    "    test_rmse_alpha.append(elastic_rmse_test)\n",
    "    train_rmse_alpha.append(elastic_rmse_train)"
   ]
  },
  {
   "cell_type": "code",
   "execution_count": 46,
   "id": "5a650705",
   "metadata": {},
   "outputs": [
    {
     "data": {
      "text/plain": [
       "<matplotlib.legend.Legend at 0x20690930640>"
      ]
     },
     "execution_count": 46,
     "metadata": {},
     "output_type": "execute_result"
    },
    {
     "data": {
      "image/png": "[encoded data removed]",
      "text/plain": [
       "<Figure size 432x288 with 1 Axes>"
      ]
     },
     "metadata": {
      "needs_background": "light"
     },
     "output_type": "display_data"
    }
   ],
   "source": [
    "plt.plot(alpha, train_rmse_alpha, label='TRAIN')\n",
    "plt.plot(alpha, test_rmse_alpha, label='TEST')\n",
    "plt.xlabel(\"Alpha\")\n",
    "plt.ylabel(\"RMSE\")\n",
    "plt.legend()"
   ]
  },
  {
   "cell_type": "code",
   "execution_count": 47,
   "id": "3e5b387f",
   "metadata": {},
   "outputs": [],
   "source": [
    "elastic_r = ElasticNet(alpha=0.01, random_state=43)"
   ]
  },
  {
   "cell_type": "code",
   "execution_count": 48,
   "id": "72c64c6e",
   "metadata": {},
   "outputs": [
    {
     "name": "stderr",
     "output_type": "stream",
     "text": [
      "C:\\Users\\andre\\anaconda3\\lib\\site-packages\\sklearn\\linear_model\\_coordinate_descent.py:530: ConvergenceWarning: Objective did not converge. You might want to increase the number of iterations. Duality gap: 10324558.152594596, tolerance: 17716.766279554548\n",
      "  model = cd_fast.enet_coordinate_descent(\n"
     ]
    },
    {
     "data": {
      "text/plain": [
       "ElasticNet(alpha=0.01, random_state=43)"
      ]
     },
     "execution_count": 48,
     "metadata": {},
     "output_type": "execute_result"
    }
   ],
   "source": [
    "elastic_r.fit(X_train,y_train)"
   ]
  },
  {
   "cell_type": "code",
   "execution_count": 49,
   "id": "723f884a",
   "metadata": {},
   "outputs": [],
   "source": [
    "y_pred = elastic_r.predict(X_test)"
   ]
  },
  {
   "cell_type": "code",
   "execution_count": 50,
   "id": "a0d1b600",
   "metadata": {},
   "outputs": [
    {
     "data": {
      "text/html": [
       "<div>\n",
       "<style scoped>\n",
       "    .dataframe tbody tr th:only-of-type {\n",
       "        vertical-align: middle;\n",
       "    }\n",
       "\n",
       "    .dataframe tbody tr th {\n",
       "        vertical-align: top;\n",
       "    }\n",
       "\n",
       "    .dataframe thead th {\n",
       "        text-align: right;\n",
       "    }\n",
       "</style>\n",
       "<table border=\"1\" class=\"dataframe\">\n",
       "  <thead>\n",
       "    <tr style=\"text-align: right;\">\n",
       "      <th></th>\n",
       "      <th>Coeficientes</th>\n",
       "      <th>Magnitude</th>\n",
       "    </tr>\n",
       "  </thead>\n",
       "  <tbody>\n",
       "    <tr>\n",
       "      <th>species_Gentoo^2</th>\n",
       "      <td>161.117217</td>\n",
       "      <td>161.117217</td>\n",
       "    </tr>\n",
       "    <tr>\n",
       "      <th>species_Gentoo x flipper_length_mm</th>\n",
       "      <td>160.130125</td>\n",
       "      <td>160.130125</td>\n",
       "    </tr>\n",
       "    <tr>\n",
       "      <th>sex_Male</th>\n",
       "      <td>137.744045</td>\n",
       "      <td>137.744045</td>\n",
       "    </tr>\n",
       "    <tr>\n",
       "      <th>sex_Male^2</th>\n",
       "      <td>133.264786</td>\n",
       "      <td>133.264786</td>\n",
       "    </tr>\n",
       "    <tr>\n",
       "      <th>sex_Male x bill_depth_mm</th>\n",
       "      <td>-129.498334</td>\n",
       "      <td>129.498334</td>\n",
       "    </tr>\n",
       "  </tbody>\n",
       "</table>\n",
       "</div>"
      ],
      "text/plain": [
       "                                    Coeficientes   Magnitude\n",
       "species_Gentoo^2                      161.117217  161.117217\n",
       "species_Gentoo x flipper_length_mm    160.130125  160.130125\n",
       "sex_Male                              137.744045  137.744045\n",
       "sex_Male^2                            133.264786  133.264786\n",
       "sex_Male x bill_depth_mm             -129.498334  129.498334"
      ]
     },
     "execution_count": 50,
     "metadata": {},
     "output_type": "execute_result"
    }
   ],
   "source": [
    "coeficients = pd.DataFrame(elastic_r.coef_, polynomial_feature_names, columns = ['Coeficientes'])\n",
    "coeficients['Magnitude'] = abs(coeficients['Coeficientes'])\n",
    "coeficients.sort_values('Magnitude', ascending = False).head(5)"
   ]
  },
  {
   "cell_type": "code",
   "execution_count": 51,
   "id": "48b599b4",
   "metadata": {},
   "outputs": [
    {
     "name": "stdout",
     "output_type": "stream",
     "text": [
      "Mean Absolute Error: 211.52040164138765\n",
      "Mean Squared Error: 71646.57963630505\n",
      "Root Mean Squared Error: 267.6687871910078\n"
     ]
    }
   ],
   "source": [
    "print(f'Mean Absolute Error: {metrics.mean_absolute_error(y_test, y_pred)}')\n",
    "print(f'Mean Squared Error: {metrics.mean_squared_error(y_test, y_pred)}')\n",
    "print(f'Root Mean Squared Error: {np.sqrt(metrics.mean_squared_error(y_test, y_pred))}')"
   ]
  }
 ],
 "metadata": {
  "kernelspec": {
   "display_name": "Python 3",
   "language": "python",
   "name": "python3"
  },
  "language_info": {
   "codemirror_mode": {
    "name": "ipython",
    "version": 3
   },
   "file_extension": ".py",
   "mimetype": "text/x-python",
   "name": "python",
   "nbconvert_exporter": "python",
   "pygments_lexer": "ipython3",
   "version": "3.8.8"
  }
 },
 "nbformat": 4,
 "nbformat_minor": 5
}
