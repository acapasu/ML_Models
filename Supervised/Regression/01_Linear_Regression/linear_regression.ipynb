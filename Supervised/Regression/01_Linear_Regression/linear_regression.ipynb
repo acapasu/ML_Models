{
 "cells": [
  {
   "cell_type": "markdown",
   "id": "69ba173e",
   "metadata": {},
   "source": [
    "## Import Libraries"
   ]
  },
  {
   "cell_type": "code",
   "execution_count": 1,
   "id": "64fe8744",
   "metadata": {},
   "outputs": [],
   "source": [
    "import pandas as pd\n",
    "import numpy as np\n",
    "import matplotlib.pyplot as plt\n",
    "import seaborn as sns\n",
    "import missingno as msno\n",
    "\n",
    "from sklearn.model_selection import train_test_split\n",
    "from sklearn.linear_model import LinearRegression\n",
    "from sklearn import metrics\n",
    "from sklearn.preprocessing import StandardScaler\n",
    "from sklearn.model_selection import GridSearchCV\n"
   ]
  },
  {
   "cell_type": "markdown",
   "id": "21cd1cf2",
   "metadata": {},
   "source": [
    "## Import Dataset"
   ]
  },
  {
   "cell_type": "code",
   "execution_count": 2,
   "id": "6cc8e4ba",
   "metadata": {},
   "outputs": [],
   "source": [
    "df_pen = sns.load_dataset('penguins')"
   ]
  },
  {
   "cell_type": "code",
   "execution_count": 3,
   "id": "c28bba96",
   "metadata": {},
   "outputs": [],
   "source": [
    "X = df_pen.drop(['body_mass_g'], axis = 1)\n",
    "y = df_pen['body_mass_g']"
   ]
  },
  {
   "cell_type": "markdown",
   "id": "54e3f8d4",
   "metadata": {},
   "source": [
    "## Data Pre-processing"
   ]
  },
  {
   "cell_type": "code",
   "execution_count": 4,
   "id": "469cfd2c",
   "metadata": {},
   "outputs": [],
   "source": [
    "categorical_x = ['species', 'island', 'sex']\n",
    "numerical_x = X.drop(categorical_x, axis = 1).columns"
   ]
  },
  {
   "cell_type": "code",
   "execution_count": 5,
   "id": "b614f1de",
   "metadata": {},
   "outputs": [],
   "source": [
    "## If y is categorical:\n",
    "# y.fillna(y.mode(), inplace= True)\n",
    "##If y is numerical\n",
    "y.fillna(y.mean(), inplace= True)\n",
    "for i in numerical_x:\n",
    "    X[i].fillna(X[i].mean(), inplace = True)\n",
    "\n",
    "for i in categorical_x:\n",
    "    X[i].fillna(X[i].mode().iloc[0], inplace = True)\n",
    "    \n",
    "categoricas = pd.get_dummies(X[categorical_x], drop_first=True)\n",
    "X = pd.concat([categoricas, X[numerical_x]], axis = 1)"
   ]
  },
  {
   "cell_type": "code",
   "execution_count": 6,
   "id": "5decc30e",
   "metadata": {},
   "outputs": [],
   "source": [
    "X_train, X_test, y_train, y_test = train_test_split(X, y, test_size = 0.2, random_state=45)"
   ]
  },
  {
   "cell_type": "code",
   "execution_count": 7,
   "id": "4711ecb6",
   "metadata": {},
   "outputs": [],
   "source": [
    "escalador = StandardScaler()\n",
    "escalador.fit(X_train)\n",
    "\n",
    "X_train = escalador.transform(X_train)\n",
    "X_test = escalador.transform(X_test)"
   ]
  },
  {
   "cell_type": "markdown",
   "id": "55ad997f",
   "metadata": {},
   "source": [
    "## Model implementation"
   ]
  },
  {
   "cell_type": "code",
   "execution_count": 8,
   "id": "b11f6b2f",
   "metadata": {},
   "outputs": [],
   "source": [
    "modelo = LinearRegression()"
   ]
  },
  {
   "cell_type": "code",
   "execution_count": 9,
   "id": "5a993e82",
   "metadata": {},
   "outputs": [
    {
     "data": {
      "text/plain": [
       "LinearRegression()"
      ]
     },
     "execution_count": 9,
     "metadata": {},
     "output_type": "execute_result"
    }
   ],
   "source": [
    "modelo.fit(X_train, y_train)"
   ]
  },
  {
   "cell_type": "code",
   "execution_count": 10,
   "id": "d71b0e5e",
   "metadata": {},
   "outputs": [],
   "source": [
    "predicciones = modelo.predict(X_test)"
   ]
  },
  {
   "cell_type": "markdown",
   "id": "eef6af48",
   "metadata": {},
   "source": [
    "## Results"
   ]
  },
  {
   "cell_type": "code",
   "execution_count": 11,
   "id": "3ec5b580",
   "metadata": {},
   "outputs": [
    {
     "data": {
      "text/html": [
       "<div>\n",
       "<style scoped>\n",
       "    .dataframe tbody tr th:only-of-type {\n",
       "        vertical-align: middle;\n",
       "    }\n",
       "\n",
       "    .dataframe tbody tr th {\n",
       "        vertical-align: top;\n",
       "    }\n",
       "\n",
       "    .dataframe thead th {\n",
       "        text-align: right;\n",
       "    }\n",
       "</style>\n",
       "<table border=\"1\" class=\"dataframe\">\n",
       "  <thead>\n",
       "    <tr style=\"text-align: right;\">\n",
       "      <th></th>\n",
       "      <th>Coeficientes</th>\n",
       "      <th>Magnitude</th>\n",
       "    </tr>\n",
       "  </thead>\n",
       "  <tbody>\n",
       "    <tr>\n",
       "      <th>species_Gentoo</th>\n",
       "      <td>422.436962</td>\n",
       "      <td>422.436962</td>\n",
       "    </tr>\n",
       "    <tr>\n",
       "      <th>flipper_length_mm</th>\n",
       "      <td>258.512330</td>\n",
       "      <td>258.512330</td>\n",
       "    </tr>\n",
       "    <tr>\n",
       "      <th>sex_Male</th>\n",
       "      <td>153.039618</td>\n",
       "      <td>153.039618</td>\n",
       "    </tr>\n",
       "    <tr>\n",
       "      <th>bill_depth_mm</th>\n",
       "      <td>139.478700</td>\n",
       "      <td>139.478700</td>\n",
       "    </tr>\n",
       "    <tr>\n",
       "      <th>bill_length_mm</th>\n",
       "      <td>136.892777</td>\n",
       "      <td>136.892777</td>\n",
       "    </tr>\n",
       "  </tbody>\n",
       "</table>\n",
       "</div>"
      ],
      "text/plain": [
       "                   Coeficientes   Magnitude\n",
       "species_Gentoo       422.436962  422.436962\n",
       "flipper_length_mm    258.512330  258.512330\n",
       "sex_Male             153.039618  153.039618\n",
       "bill_depth_mm        139.478700  139.478700\n",
       "bill_length_mm       136.892777  136.892777"
      ]
     },
     "execution_count": 11,
     "metadata": {},
     "output_type": "execute_result"
    }
   ],
   "source": [
    "coeficients = pd.DataFrame(modelo.coef_, X.columns, columns = ['Coeficientes'])\n",
    "coeficients['Magnitude'] = abs(coeficients['Coeficientes'])\n",
    "coeficients.sort_values('Magnitude', ascending = False).head(5)"
   ]
  },
  {
   "cell_type": "code",
   "execution_count": 12,
   "id": "46de1ffd",
   "metadata": {},
   "outputs": [
    {
     "data": {
      "text/plain": [
       "<matplotlib.collections.PathCollection at 0x1c0c3d805b0>"
      ]
     },
     "execution_count": 12,
     "metadata": {},
     "output_type": "execute_result"
    },
    {
     "data": {
      "image/png": "[encoded data removed]",
      "text/plain": [
       "<Figure size 432x288 with 1 Axes>"
      ]
     },
     "metadata": {
      "needs_background": "light"
     },
     "output_type": "display_data"
    }
   ],
   "source": [
    "plt.scatter(y_test, predicciones)"
   ]
  },
  {
   "cell_type": "code",
   "execution_count": 13,
   "id": "b62b2e23",
   "metadata": {},
   "outputs": [
    {
     "data": {
      "text/plain": [
       "<seaborn.axisgrid.FacetGrid at 0x1c0c3de1790>"
      ]
     },
     "execution_count": 13,
     "metadata": {},
     "output_type": "execute_result"
    },
    {
     "data": {
      "image/png": "[encoded data removed]",
      "text/plain": [
       "<Figure size 360x360 with 1 Axes>"
      ]
     },
     "metadata": {
      "needs_background": "light"
     },
     "output_type": "display_data"
    }
   ],
   "source": [
    "sns.displot(y_test- predicciones)"
   ]
  },
  {
   "cell_type": "markdown",
   "id": "765f0430",
   "metadata": {},
   "source": [
    "## Metrics"
   ]
  },
  {
   "cell_type": "code",
   "execution_count": 14,
   "id": "fbb4b5f8",
   "metadata": {},
   "outputs": [
    {
     "name": "stdout",
     "output_type": "stream",
     "text": [
      "Mean Absolute Error: 223.57129575984763\n",
      "Mean Squared Error: 80171.50575505779\n",
      "Root Mean Squared Error: 283.14573236243166\n"
     ]
    }
   ],
   "source": [
    "print(f'Mean Absolute Error: {metrics.mean_absolute_error(y_test, predicciones)}')\n",
    "print(f'Mean Squared Error: {metrics.mean_squared_error(y_test, predicciones)}')\n",
    "print(f'Root Mean Squared Error: {np.sqrt(metrics.mean_squared_error(y_test, predicciones))}')"
   ]
  },
  {
   "cell_type": "markdown",
   "id": "caf7a8a7",
   "metadata": {},
   "source": [
    "## Regularization"
   ]
  },
  {
   "cell_type": "markdown",
   "id": "6113b248",
   "metadata": {},
   "source": [
    "### Ridge Regression"
   ]
  },
  {
   "cell_type": "code",
   "execution_count": 15,
   "id": "e088049f",
   "metadata": {},
   "outputs": [],
   "source": [
    "from sklearn.linear_model import Ridge"
   ]
  },
  {
   "cell_type": "code",
   "execution_count": 16,
   "id": "2fb5f210",
   "metadata": {},
   "outputs": [],
   "source": [
    "alpha = []\n",
    "test_rmse_alpha = []\n",
    "train_rmse_alpha = []\n",
    "\n",
    "for a in np.linspace(0,10,101):\n",
    "    ridge_r = Ridge(alpha=a, random_state=43)\n",
    "    ridge_r.fit(X_train,y_train)\n",
    "    \n",
    "    y_pred_test = ridge_r.predict(X_test)\n",
    "    y_pred_train = ridge_r.predict(X_train)\n",
    "    \n",
    "    ridge_rmse_test = np.sqrt(metrics.mean_squared_error(y_test,y_pred_test))\n",
    "    ridge_rmse_train = np.sqrt(metrics.mean_squared_error(y_train,y_pred_train))\n",
    "    \n",
    "    alpha.append(a)\n",
    "    test_rmse_alpha.append(ridge_rmse_test)\n",
    "    train_rmse_alpha.append(ridge_rmse_train)"
   ]
  },
  {
   "cell_type": "code",
   "execution_count": 17,
   "id": "d0c08f8a",
   "metadata": {},
   "outputs": [
    {
     "data": {
      "text/plain": [
       "<matplotlib.legend.Legend at 0x1c0c4faac10>"
      ]
     },
     "execution_count": 17,
     "metadata": {},
     "output_type": "execute_result"
    },
    {
     "data": {
      "image/png": "[encoded data removed]",
      "text/plain": [
       "<Figure size 432x288 with 1 Axes>"
      ]
     },
     "metadata": {
      "needs_background": "light"
     },
     "output_type": "display_data"
    }
   ],
   "source": [
    "plt.plot(alpha, train_rmse_alpha, label='TRAIN')\n",
    "plt.plot(alpha, test_rmse_alpha, label='TEST')\n",
    "plt.xlabel(\"Grado\")\n",
    "plt.ylabel(\"RMSE\")\n",
    "plt.legend()"
   ]
  },
  {
   "cell_type": "code",
   "execution_count": 18,
   "id": "e4923568",
   "metadata": {},
   "outputs": [],
   "source": [
    "ridge_r = Ridge(alpha= 4, random_state=43)"
   ]
  },
  {
   "cell_type": "code",
   "execution_count": 19,
   "id": "8eca7bdd",
   "metadata": {},
   "outputs": [
    {
     "data": {
      "text/plain": [
       "Ridge(alpha=4, random_state=43)"
      ]
     },
     "execution_count": 19,
     "metadata": {},
     "output_type": "execute_result"
    }
   ],
   "source": [
    "ridge_r.fit(X_train,y_train)"
   ]
  },
  {
   "cell_type": "code",
   "execution_count": 20,
   "id": "44883f2c",
   "metadata": {},
   "outputs": [],
   "source": [
    "y_pred = ridge_r.predict(X_test)"
   ]
  },
  {
   "cell_type": "code",
   "execution_count": 21,
   "id": "02902a38",
   "metadata": {},
   "outputs": [
    {
     "data": {
      "text/html": [
       "<div>\n",
       "<style scoped>\n",
       "    .dataframe tbody tr th:only-of-type {\n",
       "        vertical-align: middle;\n",
       "    }\n",
       "\n",
       "    .dataframe tbody tr th {\n",
       "        vertical-align: top;\n",
       "    }\n",
       "\n",
       "    .dataframe thead th {\n",
       "        text-align: right;\n",
       "    }\n",
       "</style>\n",
       "<table border=\"1\" class=\"dataframe\">\n",
       "  <thead>\n",
       "    <tr style=\"text-align: right;\">\n",
       "      <th></th>\n",
       "      <th>Coeficientes</th>\n",
       "      <th>Magnitude</th>\n",
       "    </tr>\n",
       "  </thead>\n",
       "  <tbody>\n",
       "    <tr>\n",
       "      <th>species_Gentoo</th>\n",
       "      <td>364.629069</td>\n",
       "      <td>364.629069</td>\n",
       "    </tr>\n",
       "    <tr>\n",
       "      <th>flipper_length_mm</th>\n",
       "      <td>271.839506</td>\n",
       "      <td>271.839506</td>\n",
       "    </tr>\n",
       "    <tr>\n",
       "      <th>sex_Male</th>\n",
       "      <td>157.160870</td>\n",
       "      <td>157.160870</td>\n",
       "    </tr>\n",
       "    <tr>\n",
       "      <th>bill_length_mm</th>\n",
       "      <td>146.538241</td>\n",
       "      <td>146.538241</td>\n",
       "    </tr>\n",
       "    <tr>\n",
       "      <th>species_Chinstrap</th>\n",
       "      <td>-134.917951</td>\n",
       "      <td>134.917951</td>\n",
       "    </tr>\n",
       "  </tbody>\n",
       "</table>\n",
       "</div>"
      ],
      "text/plain": [
       "                   Coeficientes   Magnitude\n",
       "species_Gentoo       364.629069  364.629069\n",
       "flipper_length_mm    271.839506  271.839506\n",
       "sex_Male             157.160870  157.160870\n",
       "bill_length_mm       146.538241  146.538241\n",
       "species_Chinstrap   -134.917951  134.917951"
      ]
     },
     "execution_count": 21,
     "metadata": {},
     "output_type": "execute_result"
    }
   ],
   "source": [
    "coeficients = pd.DataFrame(ridge_r.coef_, X.columns, columns = ['Coeficientes'])\n",
    "coeficients['Magnitude'] = abs(coeficients['Coeficientes'])\n",
    "coeficients.sort_values('Magnitude', ascending = False).head(5)"
   ]
  },
  {
   "cell_type": "code",
   "execution_count": 22,
   "id": "10bc466a",
   "metadata": {},
   "outputs": [
    {
     "name": "stdout",
     "output_type": "stream",
     "text": [
      "Mean Absolute Error: 221.2627341482798\n",
      "Mean Squared Error: 79606.44007794428\n",
      "Root Mean Squared Error: 282.1461324880146\n"
     ]
    }
   ],
   "source": [
    "print(f'Mean Absolute Error: {metrics.mean_absolute_error(y_test, y_pred)}')\n",
    "print(f'Mean Squared Error: {metrics.mean_squared_error(y_test, y_pred)}')\n",
    "print(f'Root Mean Squared Error: {np.sqrt(metrics.mean_squared_error(y_test, y_pred))}')"
   ]
  },
  {
   "cell_type": "markdown",
   "id": "fbe3ac34",
   "metadata": {},
   "source": [
    "### LASSO Regression"
   ]
  },
  {
   "cell_type": "code",
   "execution_count": 23,
   "id": "bd5a58f1",
   "metadata": {},
   "outputs": [],
   "source": [
    "from sklearn.linear_model import Lasso"
   ]
  },
  {
   "cell_type": "code",
   "execution_count": 24,
   "id": "cf5e3f96",
   "metadata": {},
   "outputs": [],
   "source": [
    "alpha = []\n",
    "test_rmse_alpha = []\n",
    "train_rmse_alpha = []\n",
    "\n",
    "for a in np.linspace(0.1,10,101):\n",
    "    lasso_r = Lasso(alpha=a, random_state=43)\n",
    "    lasso_r.fit(X_train,y_train)\n",
    "    \n",
    "    y_pred_test = lasso_r.predict(X_test)\n",
    "    y_pred_train = lasso_r.predict(X_train)\n",
    "    \n",
    "    lasso_rmse_test = np.sqrt(metrics.mean_squared_error(y_test,y_pred_test))\n",
    "    lasso_rmse_train = np.sqrt(metrics.mean_squared_error(y_train,y_pred_train))\n",
    "    \n",
    "    alpha.append(a)\n",
    "    test_rmse_alpha.append(lasso_rmse_test)\n",
    "    train_rmse_alpha.append(lasso_rmse_train)"
   ]
  },
  {
   "cell_type": "code",
   "execution_count": 25,
   "id": "798c690a",
   "metadata": {},
   "outputs": [
    {
     "data": {
      "text/plain": [
       "<matplotlib.legend.Legend at 0x1c0c5024760>"
      ]
     },
     "execution_count": 25,
     "metadata": {},
     "output_type": "execute_result"
    },
    {
     "data": {
      "image/png": "[encoded data removed]",
      "text/plain": [
       "<Figure size 432x288 with 1 Axes>"
      ]
     },
     "metadata": {
      "needs_background": "light"
     },
     "output_type": "display_data"
    }
   ],
   "source": [
    "plt.plot(alpha, train_rmse_alpha, label='TRAIN')\n",
    "plt.plot(alpha, test_rmse_alpha, label='TEST')\n",
    "plt.xlabel(\"Grado\")\n",
    "plt.ylabel(\"RMSE\")\n",
    "plt.legend()"
   ]
  },
  {
   "cell_type": "code",
   "execution_count": 26,
   "id": "9eaf5adb",
   "metadata": {},
   "outputs": [],
   "source": [
    "lasso_r = Lasso(alpha=0.01, random_state=43)"
   ]
  },
  {
   "cell_type": "code",
   "execution_count": 27,
   "id": "b597ba40",
   "metadata": {},
   "outputs": [
    {
     "data": {
      "text/plain": [
       "Lasso(alpha=0.01, random_state=43)"
      ]
     },
     "execution_count": 27,
     "metadata": {},
     "output_type": "execute_result"
    }
   ],
   "source": [
    "lasso_r.fit(X_train,y_train)"
   ]
  },
  {
   "cell_type": "code",
   "execution_count": 28,
   "id": "e67c4d89",
   "metadata": {},
   "outputs": [],
   "source": [
    "y_pred = lasso_r.predict(X_test)"
   ]
  },
  {
   "cell_type": "code",
   "execution_count": 29,
   "id": "04fbea50",
   "metadata": {},
   "outputs": [
    {
     "data": {
      "text/html": [
       "<div>\n",
       "<style scoped>\n",
       "    .dataframe tbody tr th:only-of-type {\n",
       "        vertical-align: middle;\n",
       "    }\n",
       "\n",
       "    .dataframe tbody tr th {\n",
       "        vertical-align: top;\n",
       "    }\n",
       "\n",
       "    .dataframe thead th {\n",
       "        text-align: right;\n",
       "    }\n",
       "</style>\n",
       "<table border=\"1\" class=\"dataframe\">\n",
       "  <thead>\n",
       "    <tr style=\"text-align: right;\">\n",
       "      <th></th>\n",
       "      <th>Coeficientes</th>\n",
       "      <th>Magnitude</th>\n",
       "    </tr>\n",
       "  </thead>\n",
       "  <tbody>\n",
       "    <tr>\n",
       "      <th>species_Gentoo</th>\n",
       "      <td>422.382570</td>\n",
       "      <td>422.382570</td>\n",
       "    </tr>\n",
       "    <tr>\n",
       "      <th>flipper_length_mm</th>\n",
       "      <td>258.531120</td>\n",
       "      <td>258.531120</td>\n",
       "    </tr>\n",
       "    <tr>\n",
       "      <th>sex_Male</th>\n",
       "      <td>153.061452</td>\n",
       "      <td>153.061452</td>\n",
       "    </tr>\n",
       "    <tr>\n",
       "      <th>bill_depth_mm</th>\n",
       "      <td>139.401294</td>\n",
       "      <td>139.401294</td>\n",
       "    </tr>\n",
       "    <tr>\n",
       "      <th>bill_length_mm</th>\n",
       "      <td>136.868161</td>\n",
       "      <td>136.868161</td>\n",
       "    </tr>\n",
       "  </tbody>\n",
       "</table>\n",
       "</div>"
      ],
      "text/plain": [
       "                   Coeficientes   Magnitude\n",
       "species_Gentoo       422.382570  422.382570\n",
       "flipper_length_mm    258.531120  258.531120\n",
       "sex_Male             153.061452  153.061452\n",
       "bill_depth_mm        139.401294  139.401294\n",
       "bill_length_mm       136.868161  136.868161"
      ]
     },
     "execution_count": 29,
     "metadata": {},
     "output_type": "execute_result"
    }
   ],
   "source": [
    "coeficients = pd.DataFrame(lasso_r.coef_, X.columns, columns = ['Coeficientes'])\n",
    "coeficients['Magnitude'] = abs(coeficients['Coeficientes'])\n",
    "coeficients.sort_values('Magnitude', ascending = False).head(5)"
   ]
  },
  {
   "cell_type": "code",
   "execution_count": 30,
   "id": "36a5b4ac",
   "metadata": {},
   "outputs": [
    {
     "name": "stdout",
     "output_type": "stream",
     "text": [
      "Mean Absolute Error: 223.57323459005792\n",
      "Mean Squared Error: 80172.08279964002\n",
      "Root Mean Squared Error: 283.1467513492606\n"
     ]
    }
   ],
   "source": [
    "print(f'Mean Absolute Error: {metrics.mean_absolute_error(y_test, y_pred)}')\n",
    "print(f'Mean Squared Error: {metrics.mean_squared_error(y_test, y_pred)}')\n",
    "print(f'Root Mean Squared Error: {np.sqrt(metrics.mean_squared_error(y_test, y_pred))}')"
   ]
  },
  {
   "cell_type": "markdown",
   "id": "89ef2bb4",
   "metadata": {},
   "source": [
    "### Elastic Net"
   ]
  },
  {
   "cell_type": "code",
   "execution_count": 31,
   "id": "b9f447de",
   "metadata": {},
   "outputs": [],
   "source": [
    "from sklearn.linear_model import ElasticNet"
   ]
  },
  {
   "cell_type": "code",
   "execution_count": 32,
   "id": "066e625b",
   "metadata": {},
   "outputs": [],
   "source": [
    "alpha = []\n",
    "test_rmse_alpha = []\n",
    "train_rmse_alpha = []\n",
    "\n",
    "for a in np.linspace(0.1,10,101):\n",
    "    elastic_r = ElasticNet(alpha=a, random_state=43)\n",
    "    elastic_r.fit(X_train,y_train)\n",
    "    \n",
    "    y_pred_test = elastic_r.predict(X_test)\n",
    "    y_pred_train = elastic_r.predict(X_train)\n",
    "    \n",
    "    elastic_rmse_test = np.sqrt(metrics.mean_squared_error(y_test,y_pred_test))\n",
    "    elastic_rmse_train = np.sqrt(metrics.mean_squared_error(y_train,y_pred_train))\n",
    "    \n",
    "    alpha.append(a)\n",
    "    test_rmse_alpha.append(elastic_rmse_test)\n",
    "    train_rmse_alpha.append(elastic_rmse_train)"
   ]
  },
  {
   "cell_type": "code",
   "execution_count": 33,
   "id": "625097cb",
   "metadata": {},
   "outputs": [
    {
     "data": {
      "text/plain": [
       "<matplotlib.legend.Legend at 0x1c0c508e430>"
      ]
     },
     "execution_count": 33,
     "metadata": {},
     "output_type": "execute_result"
    },
    {
     "data": {
      "image/png": "[encoded data removed]",
      "text/plain": [
       "<Figure size 432x288 with 1 Axes>"
      ]
     },
     "metadata": {
      "needs_background": "light"
     },
     "output_type": "display_data"
    }
   ],
   "source": [
    "plt.plot(alpha, train_rmse_alpha, label='TRAIN')\n",
    "plt.plot(alpha, test_rmse_alpha, label='TEST')\n",
    "plt.xlabel(\"Alpha\")\n",
    "plt.ylabel(\"RMSE\")\n",
    "plt.legend()"
   ]
  },
  {
   "cell_type": "code",
   "execution_count": 34,
   "id": "497ab559",
   "metadata": {},
   "outputs": [],
   "source": [
    "elastic_r = ElasticNet(alpha=0.01, random_state=43)"
   ]
  },
  {
   "cell_type": "code",
   "execution_count": 35,
   "id": "39f8bd20",
   "metadata": {},
   "outputs": [
    {
     "data": {
      "text/plain": [
       "ElasticNet(alpha=0.01, random_state=43)"
      ]
     },
     "execution_count": 35,
     "metadata": {},
     "output_type": "execute_result"
    }
   ],
   "source": [
    "elastic_r.fit(X_train,y_train)"
   ]
  },
  {
   "cell_type": "code",
   "execution_count": 36,
   "id": "9685bed4",
   "metadata": {},
   "outputs": [],
   "source": [
    "y_pred = elastic_r.predict(X_test)"
   ]
  },
  {
   "cell_type": "code",
   "execution_count": 37,
   "id": "8a98f17e",
   "metadata": {},
   "outputs": [
    {
     "data": {
      "text/html": [
       "<div>\n",
       "<style scoped>\n",
       "    .dataframe tbody tr th:only-of-type {\n",
       "        vertical-align: middle;\n",
       "    }\n",
       "\n",
       "    .dataframe tbody tr th {\n",
       "        vertical-align: top;\n",
       "    }\n",
       "\n",
       "    .dataframe thead th {\n",
       "        text-align: right;\n",
       "    }\n",
       "</style>\n",
       "<table border=\"1\" class=\"dataframe\">\n",
       "  <thead>\n",
       "    <tr style=\"text-align: right;\">\n",
       "      <th></th>\n",
       "      <th>Coeficientes</th>\n",
       "      <th>Magnitude</th>\n",
       "    </tr>\n",
       "  </thead>\n",
       "  <tbody>\n",
       "    <tr>\n",
       "      <th>species_Gentoo</th>\n",
       "      <td>398.599264</td>\n",
       "      <td>398.599264</td>\n",
       "    </tr>\n",
       "    <tr>\n",
       "      <th>flipper_length_mm</th>\n",
       "      <td>264.503183</td>\n",
       "      <td>264.503183</td>\n",
       "    </tr>\n",
       "    <tr>\n",
       "      <th>sex_Male</th>\n",
       "      <td>154.587393</td>\n",
       "      <td>154.587393</td>\n",
       "    </tr>\n",
       "    <tr>\n",
       "      <th>bill_length_mm</th>\n",
       "      <td>141.060478</td>\n",
       "      <td>141.060478</td>\n",
       "    </tr>\n",
       "    <tr>\n",
       "      <th>species_Chinstrap</th>\n",
       "      <td>-132.560623</td>\n",
       "      <td>132.560623</td>\n",
       "    </tr>\n",
       "  </tbody>\n",
       "</table>\n",
       "</div>"
      ],
      "text/plain": [
       "                   Coeficientes   Magnitude\n",
       "species_Gentoo       398.599264  398.599264\n",
       "flipper_length_mm    264.503183  264.503183\n",
       "sex_Male             154.587393  154.587393\n",
       "bill_length_mm       141.060478  141.060478\n",
       "species_Chinstrap   -132.560623  132.560623"
      ]
     },
     "execution_count": 37,
     "metadata": {},
     "output_type": "execute_result"
    }
   ],
   "source": [
    "coeficients = pd.DataFrame(elastic_r.coef_, X.columns, columns = ['Coeficientes'])\n",
    "coeficients['Magnitude'] = abs(coeficients['Coeficientes'])\n",
    "coeficients.sort_values('Magnitude', ascending = False).head(5)"
   ]
  },
  {
   "cell_type": "code",
   "execution_count": 38,
   "id": "4f289b03",
   "metadata": {},
   "outputs": [
    {
     "name": "stdout",
     "output_type": "stream",
     "text": [
      "Mean Absolute Error: 222.3375063123067\n",
      "Mean Squared Error: 79867.79068925059\n",
      "Root Mean Squared Error: 282.60890058391755\n"
     ]
    }
   ],
   "source": [
    "print(f'Mean Absolute Error: {metrics.mean_absolute_error(y_test, y_pred)}')\n",
    "print(f'Mean Squared Error: {metrics.mean_squared_error(y_test, y_pred)}')\n",
    "print(f'Root Mean Squared Error: {np.sqrt(metrics.mean_squared_error(y_test, y_pred))}')"
   ]
  }
 ],
 "metadata": {
  "kernelspec": {
   "display_name": "Python 3",
   "language": "python",
   "name": "python3"
  },
  "language_info": {
   "codemirror_mode": {
    "name": "ipython",
    "version": 3
   },
   "file_extension": ".py",
   "mimetype": "text/x-python",
   "name": "python",
   "nbconvert_exporter": "python",
   "pygments_lexer": "ipython3",
   "version": "3.8.8"
  }
 },
 "nbformat": 4,
 "nbformat_minor": 5
}
