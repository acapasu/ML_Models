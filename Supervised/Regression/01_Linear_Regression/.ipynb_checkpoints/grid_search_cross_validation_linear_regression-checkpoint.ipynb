{
 "cells": [
  {
   "cell_type": "markdown",
   "id": "5ada403c",
   "metadata": {},
   "source": [
    "## Import Libraries"
   ]
  },
  {
   "cell_type": "code",
   "execution_count": 1,
   "id": "115e56e4",
   "metadata": {},
   "outputs": [],
   "source": [
    "import pandas as pd\n",
    "import numpy as np\n",
    "import matplotlib.pyplot as plt\n",
    "import seaborn as sns\n",
    "import missingno as msno\n",
    "\n",
    "from sklearn.model_selection import train_test_split\n",
    "from sklearn.linear_model import LinearRegression\n",
    "from sklearn import metrics\n",
    "from sklearn.preprocessing import StandardScaler"
   ]
  },
  {
   "cell_type": "markdown",
   "id": "603a65bf",
   "metadata": {},
   "source": [
    "## Import Dataset"
   ]
  },
  {
   "cell_type": "code",
   "execution_count": 2,
   "id": "1ae9ed66",
   "metadata": {},
   "outputs": [],
   "source": [
    "df_pen = sns.load_dataset('penguins')"
   ]
  },
  {
   "cell_type": "code",
   "execution_count": 3,
   "id": "23874217",
   "metadata": {},
   "outputs": [],
   "source": [
    "X = df_pen.drop(['body_mass_g'], axis = 1)\n",
    "y = df_pen['body_mass_g']"
   ]
  },
  {
   "cell_type": "markdown",
   "id": "9b0089f6",
   "metadata": {},
   "source": [
    "## Data Pre-processing"
   ]
  },
  {
   "cell_type": "code",
   "execution_count": 4,
   "id": "7046910b",
   "metadata": {},
   "outputs": [],
   "source": [
    "categorical_x = ['species', 'island', 'sex']\n",
    "numerical_x = X.drop(categorical_x, axis = 1).columns"
   ]
  },
  {
   "cell_type": "code",
   "execution_count": 5,
   "id": "53f514b3",
   "metadata": {},
   "outputs": [],
   "source": [
    "## If y is categorical:\n",
    "# y.fillna(y.mode(), inplace= True)\n",
    "##If y is numerical\n",
    "y.fillna(y.mean(), inplace= True)\n",
    "for i in numerical_x:\n",
    "    X[i].fillna(X[i].mean(), inplace = True)\n",
    "    \n",
    "\n",
    "for i in categorical_x:\n",
    "    X[i].fillna(X[i].mode().iloc[0], inplace = True)\n",
    "    \n",
    "categoricas = pd.get_dummies(X[categorical_x], drop_first=True)\n",
    "X = pd.concat([categoricas, X[numerical_x]], axis = 1)\n",
    "variable_names = X.columns"
   ]
  },
  {
   "cell_type": "code",
   "execution_count": 6,
   "id": "7144f4b0",
   "metadata": {},
   "outputs": [
    {
     "data": {
      "text/html": [
       "<div>\n",
       "<style scoped>\n",
       "    .dataframe tbody tr th:only-of-type {\n",
       "        vertical-align: middle;\n",
       "    }\n",
       "\n",
       "    .dataframe tbody tr th {\n",
       "        vertical-align: top;\n",
       "    }\n",
       "\n",
       "    .dataframe thead th {\n",
       "        text-align: right;\n",
       "    }\n",
       "</style>\n",
       "<table border=\"1\" class=\"dataframe\">\n",
       "  <thead>\n",
       "    <tr style=\"text-align: right;\">\n",
       "      <th></th>\n",
       "      <th>species_Chinstrap</th>\n",
       "      <th>species_Gentoo</th>\n",
       "      <th>island_Dream</th>\n",
       "      <th>island_Torgersen</th>\n",
       "      <th>sex_Male</th>\n",
       "    </tr>\n",
       "  </thead>\n",
       "  <tbody>\n",
       "    <tr>\n",
       "      <th>0</th>\n",
       "      <td>0</td>\n",
       "      <td>0</td>\n",
       "      <td>0</td>\n",
       "      <td>1</td>\n",
       "      <td>1</td>\n",
       "    </tr>\n",
       "    <tr>\n",
       "      <th>1</th>\n",
       "      <td>0</td>\n",
       "      <td>0</td>\n",
       "      <td>0</td>\n",
       "      <td>1</td>\n",
       "      <td>0</td>\n",
       "    </tr>\n",
       "    <tr>\n",
       "      <th>2</th>\n",
       "      <td>0</td>\n",
       "      <td>0</td>\n",
       "      <td>0</td>\n",
       "      <td>1</td>\n",
       "      <td>0</td>\n",
       "    </tr>\n",
       "    <tr>\n",
       "      <th>3</th>\n",
       "      <td>0</td>\n",
       "      <td>0</td>\n",
       "      <td>0</td>\n",
       "      <td>1</td>\n",
       "      <td>1</td>\n",
       "    </tr>\n",
       "    <tr>\n",
       "      <th>4</th>\n",
       "      <td>0</td>\n",
       "      <td>0</td>\n",
       "      <td>0</td>\n",
       "      <td>1</td>\n",
       "      <td>0</td>\n",
       "    </tr>\n",
       "    <tr>\n",
       "      <th>...</th>\n",
       "      <td>...</td>\n",
       "      <td>...</td>\n",
       "      <td>...</td>\n",
       "      <td>...</td>\n",
       "      <td>...</td>\n",
       "    </tr>\n",
       "    <tr>\n",
       "      <th>339</th>\n",
       "      <td>0</td>\n",
       "      <td>1</td>\n",
       "      <td>0</td>\n",
       "      <td>0</td>\n",
       "      <td>1</td>\n",
       "    </tr>\n",
       "    <tr>\n",
       "      <th>340</th>\n",
       "      <td>0</td>\n",
       "      <td>1</td>\n",
       "      <td>0</td>\n",
       "      <td>0</td>\n",
       "      <td>0</td>\n",
       "    </tr>\n",
       "    <tr>\n",
       "      <th>341</th>\n",
       "      <td>0</td>\n",
       "      <td>1</td>\n",
       "      <td>0</td>\n",
       "      <td>0</td>\n",
       "      <td>1</td>\n",
       "    </tr>\n",
       "    <tr>\n",
       "      <th>342</th>\n",
       "      <td>0</td>\n",
       "      <td>1</td>\n",
       "      <td>0</td>\n",
       "      <td>0</td>\n",
       "      <td>0</td>\n",
       "    </tr>\n",
       "    <tr>\n",
       "      <th>343</th>\n",
       "      <td>0</td>\n",
       "      <td>1</td>\n",
       "      <td>0</td>\n",
       "      <td>0</td>\n",
       "      <td>1</td>\n",
       "    </tr>\n",
       "  </tbody>\n",
       "</table>\n",
       "<p>344 rows × 5 columns</p>\n",
       "</div>"
      ],
      "text/plain": [
       "     species_Chinstrap  species_Gentoo  island_Dream  island_Torgersen  \\\n",
       "0                    0               0             0                 1   \n",
       "1                    0               0             0                 1   \n",
       "2                    0               0             0                 1   \n",
       "3                    0               0             0                 1   \n",
       "4                    0               0             0                 1   \n",
       "..                 ...             ...           ...               ...   \n",
       "339                  0               1             0                 0   \n",
       "340                  0               1             0                 0   \n",
       "341                  0               1             0                 0   \n",
       "342                  0               1             0                 0   \n",
       "343                  0               1             0                 0   \n",
       "\n",
       "     sex_Male  \n",
       "0           1  \n",
       "1           0  \n",
       "2           0  \n",
       "3           1  \n",
       "4           0  \n",
       "..        ...  \n",
       "339         1  \n",
       "340         0  \n",
       "341         1  \n",
       "342         0  \n",
       "343         1  \n",
       "\n",
       "[344 rows x 5 columns]"
      ]
     },
     "execution_count": 6,
     "metadata": {},
     "output_type": "execute_result"
    }
   ],
   "source": [
    "categoricas"
   ]
  },
  {
   "cell_type": "code",
   "execution_count": 7,
   "id": "e82cf19d",
   "metadata": {},
   "outputs": [],
   "source": [
    "escalador = StandardScaler()\n",
    "escalador.fit(X)\n",
    "\n",
    "X = escalador.transform(X)"
   ]
  },
  {
   "cell_type": "markdown",
   "id": "47b272d5",
   "metadata": {},
   "source": [
    "## Model implementation"
   ]
  },
  {
   "cell_type": "code",
   "execution_count": 8,
   "id": "c5318a1b",
   "metadata": {},
   "outputs": [],
   "source": [
    "linear_r = LinearRegression()"
   ]
  },
  {
   "cell_type": "markdown",
   "id": "f7170fdd",
   "metadata": {},
   "source": [
    "## Cross - Validation"
   ]
  },
  {
   "cell_type": "code",
   "execution_count": 9,
   "id": "51e2d56c",
   "metadata": {},
   "outputs": [],
   "source": [
    "from sklearn.model_selection import cross_val_score"
   ]
  },
  {
   "cell_type": "code",
   "execution_count": 10,
   "id": "c0418ac9",
   "metadata": {},
   "outputs": [],
   "source": [
    "metricas = cross_val_score(linear_r, X, y, scoring='neg_mean_squared_error', cv=10)"
   ]
  },
  {
   "cell_type": "code",
   "execution_count": 11,
   "id": "0410e8b0",
   "metadata": {},
   "outputs": [
    {
     "data": {
      "text/plain": [
       "array([ -73926.44795515, -102886.13502858, -101272.51322135,\n",
       "       -120773.41754458, -117381.1347245 ,  -88397.67093519,\n",
       "       -107087.77218328, -105752.79378834,  -57158.62608072,\n",
       "        -80267.01511167])"
      ]
     },
     "execution_count": 11,
     "metadata": {},
     "output_type": "execute_result"
    }
   ],
   "source": [
    "metricas"
   ]
  },
  {
   "cell_type": "code",
   "execution_count": 12,
   "id": "108ccac0",
   "metadata": {},
   "outputs": [
    {
     "data": {
      "text/plain": [
       "0   -95490.352657\n",
       "dtype: float64"
      ]
     },
     "execution_count": 12,
     "metadata": {},
     "output_type": "execute_result"
    }
   ],
   "source": [
    "pd.DataFrame(metricas).mean()"
   ]
  },
  {
   "cell_type": "markdown",
   "id": "9ca95ea4",
   "metadata": {},
   "source": [
    "## Cross_Validate"
   ]
  },
  {
   "cell_type": "code",
   "execution_count": 13,
   "id": "26b875d9",
   "metadata": {},
   "outputs": [],
   "source": [
    "from sklearn.model_selection import cross_validate"
   ]
  },
  {
   "cell_type": "code",
   "execution_count": 14,
   "id": "7f408d34",
   "metadata": {},
   "outputs": [],
   "source": [
    "metricas = cross_validate(\n",
    "    linear_r, X, y, \n",
    "    scoring=['neg_mean_squared_error', 'max_error', 'neg_mean_absolute_error', 'r2'], cv=10)"
   ]
  },
  {
   "cell_type": "code",
   "execution_count": 15,
   "id": "0abe5219",
   "metadata": {},
   "outputs": [
    {
     "data": {
      "text/html": [
       "<div>\n",
       "<style scoped>\n",
       "    .dataframe tbody tr th:only-of-type {\n",
       "        vertical-align: middle;\n",
       "    }\n",
       "\n",
       "    .dataframe tbody tr th {\n",
       "        vertical-align: top;\n",
       "    }\n",
       "\n",
       "    .dataframe thead th {\n",
       "        text-align: right;\n",
       "    }\n",
       "</style>\n",
       "<table border=\"1\" class=\"dataframe\">\n",
       "  <thead>\n",
       "    <tr style=\"text-align: right;\">\n",
       "      <th></th>\n",
       "      <th>fit_time</th>\n",
       "      <th>score_time</th>\n",
       "      <th>test_neg_mean_squared_error</th>\n",
       "      <th>test_max_error</th>\n",
       "      <th>test_neg_mean_absolute_error</th>\n",
       "      <th>test_r2</th>\n",
       "    </tr>\n",
       "  </thead>\n",
       "  <tbody>\n",
       "    <tr>\n",
       "      <th>0</th>\n",
       "      <td>0.002976</td>\n",
       "      <td>0.003967</td>\n",
       "      <td>-73926.447955</td>\n",
       "      <td>-697.273361</td>\n",
       "      <td>-234.472494</td>\n",
       "      <td>0.507833</td>\n",
       "    </tr>\n",
       "    <tr>\n",
       "      <th>1</th>\n",
       "      <td>0.003473</td>\n",
       "      <td>0.002480</td>\n",
       "      <td>-102886.135029</td>\n",
       "      <td>-827.346046</td>\n",
       "      <td>-243.851143</td>\n",
       "      <td>0.626566</td>\n",
       "    </tr>\n",
       "    <tr>\n",
       "      <th>2</th>\n",
       "      <td>0.004464</td>\n",
       "      <td>0.003969</td>\n",
       "      <td>-101272.513221</td>\n",
       "      <td>-795.757535</td>\n",
       "      <td>-238.578186</td>\n",
       "      <td>0.513113</td>\n",
       "    </tr>\n",
       "    <tr>\n",
       "      <th>3</th>\n",
       "      <td>0.002977</td>\n",
       "      <td>0.002975</td>\n",
       "      <td>-120773.417545</td>\n",
       "      <td>-727.393271</td>\n",
       "      <td>-286.105008</td>\n",
       "      <td>0.448531</td>\n",
       "    </tr>\n",
       "    <tr>\n",
       "      <th>4</th>\n",
       "      <td>0.001984</td>\n",
       "      <td>0.002479</td>\n",
       "      <td>-117381.134724</td>\n",
       "      <td>-748.852644</td>\n",
       "      <td>-287.776716</td>\n",
       "      <td>-0.243709</td>\n",
       "    </tr>\n",
       "    <tr>\n",
       "      <th>5</th>\n",
       "      <td>0.001984</td>\n",
       "      <td>0.002479</td>\n",
       "      <td>-88397.670935</td>\n",
       "      <td>-635.492151</td>\n",
       "      <td>-248.458627</td>\n",
       "      <td>0.597667</td>\n",
       "    </tr>\n",
       "    <tr>\n",
       "      <th>6</th>\n",
       "      <td>0.003472</td>\n",
       "      <td>0.002975</td>\n",
       "      <td>-107087.772183</td>\n",
       "      <td>-987.227530</td>\n",
       "      <td>-240.008924</td>\n",
       "      <td>0.839243</td>\n",
       "    </tr>\n",
       "    <tr>\n",
       "      <th>7</th>\n",
       "      <td>0.002976</td>\n",
       "      <td>0.002975</td>\n",
       "      <td>-105752.793788</td>\n",
       "      <td>-1004.047715</td>\n",
       "      <td>-257.265969</td>\n",
       "      <td>0.548025</td>\n",
       "    </tr>\n",
       "    <tr>\n",
       "      <th>8</th>\n",
       "      <td>0.001983</td>\n",
       "      <td>0.005457</td>\n",
       "      <td>-57158.626081</td>\n",
       "      <td>-583.024805</td>\n",
       "      <td>-190.993179</td>\n",
       "      <td>0.775050</td>\n",
       "    </tr>\n",
       "    <tr>\n",
       "      <th>9</th>\n",
       "      <td>0.003472</td>\n",
       "      <td>0.002480</td>\n",
       "      <td>-80267.015112</td>\n",
       "      <td>-803.477635</td>\n",
       "      <td>-215.901803</td>\n",
       "      <td>0.605565</td>\n",
       "    </tr>\n",
       "  </tbody>\n",
       "</table>\n",
       "</div>"
      ],
      "text/plain": [
       "   fit_time  score_time  test_neg_mean_squared_error  test_max_error  \\\n",
       "0  0.002976    0.003967                -73926.447955     -697.273361   \n",
       "1  0.003473    0.002480               -102886.135029     -827.346046   \n",
       "2  0.004464    0.003969               -101272.513221     -795.757535   \n",
       "3  0.002977    0.002975               -120773.417545     -727.393271   \n",
       "4  0.001984    0.002479               -117381.134724     -748.852644   \n",
       "5  0.001984    0.002479                -88397.670935     -635.492151   \n",
       "6  0.003472    0.002975               -107087.772183     -987.227530   \n",
       "7  0.002976    0.002975               -105752.793788    -1004.047715   \n",
       "8  0.001983    0.005457                -57158.626081     -583.024805   \n",
       "9  0.003472    0.002480                -80267.015112     -803.477635   \n",
       "\n",
       "   test_neg_mean_absolute_error   test_r2  \n",
       "0                   -234.472494  0.507833  \n",
       "1                   -243.851143  0.626566  \n",
       "2                   -238.578186  0.513113  \n",
       "3                   -286.105008  0.448531  \n",
       "4                   -287.776716 -0.243709  \n",
       "5                   -248.458627  0.597667  \n",
       "6                   -240.008924  0.839243  \n",
       "7                   -257.265969  0.548025  \n",
       "8                   -190.993179  0.775050  \n",
       "9                   -215.901803  0.605565  "
      ]
     },
     "execution_count": 15,
     "metadata": {},
     "output_type": "execute_result"
    }
   ],
   "source": [
    "pd.DataFrame(metricas)"
   ]
  },
  {
   "cell_type": "code",
   "execution_count": 16,
   "id": "2ca237ed",
   "metadata": {},
   "outputs": [
    {
     "data": {
      "text/plain": [
       "fit_time                            0.002976\n",
       "score_time                          0.003224\n",
       "test_neg_mean_squared_error    -95490.352657\n",
       "test_max_error                   -780.989269\n",
       "test_neg_mean_absolute_error     -244.341205\n",
       "test_r2                             0.521788\n",
       "dtype: float64"
      ]
     },
     "execution_count": 16,
     "metadata": {},
     "output_type": "execute_result"
    }
   ],
   "source": [
    "pd.DataFrame(metricas).mean()"
   ]
  },
  {
   "cell_type": "markdown",
   "id": "598fa9bf",
   "metadata": {},
   "source": [
    "## Ridge"
   ]
  },
  {
   "cell_type": "markdown",
   "id": "4ea435ff",
   "metadata": {},
   "source": [
    "### Ridge CV"
   ]
  },
  {
   "cell_type": "code",
   "execution_count": 17,
   "id": "a37795ef",
   "metadata": {},
   "outputs": [],
   "source": [
    "from sklearn.linear_model import RidgeCV"
   ]
  },
  {
   "cell_type": "code",
   "execution_count": 18,
   "id": "e6535cf4",
   "metadata": {},
   "outputs": [],
   "source": [
    "ridge_r_cv = RidgeCV(alphas=np.linspace(0.1,10,100), scoring = 'neg_mean_squared_error', cv = 10)"
   ]
  },
  {
   "cell_type": "code",
   "execution_count": 19,
   "id": "e265e8da",
   "metadata": {},
   "outputs": [
    {
     "data": {
      "text/plain": [
       "RidgeCV(alphas=array([ 0.1,  0.2,  0.3,  0.4,  0.5,  0.6,  0.7,  0.8,  0.9,  1. ,  1.1,\n",
       "        1.2,  1.3,  1.4,  1.5,  1.6,  1.7,  1.8,  1.9,  2. ,  2.1,  2.2,\n",
       "        2.3,  2.4,  2.5,  2.6,  2.7,  2.8,  2.9,  3. ,  3.1,  3.2,  3.3,\n",
       "        3.4,  3.5,  3.6,  3.7,  3.8,  3.9,  4. ,  4.1,  4.2,  4.3,  4.4,\n",
       "        4.5,  4.6,  4.7,  4.8,  4.9,  5. ,  5.1,  5.2,  5.3,  5.4,  5.5,\n",
       "        5.6,  5.7,  5.8,  5.9,  6. ,  6.1,  6.2,  6.3,  6.4,  6.5,  6.6,\n",
       "        6.7,  6.8,  6.9,  7. ,  7.1,  7.2,  7.3,  7.4,  7.5,  7.6,  7.7,\n",
       "        7.8,  7.9,  8. ,  8.1,  8.2,  8.3,  8.4,  8.5,  8.6,  8.7,  8.8,\n",
       "        8.9,  9. ,  9.1,  9.2,  9.3,  9.4,  9.5,  9.6,  9.7,  9.8,  9.9,\n",
       "       10. ]),\n",
       "        cv=10, scoring='neg_mean_squared_error')"
      ]
     },
     "execution_count": 19,
     "metadata": {},
     "output_type": "execute_result"
    }
   ],
   "source": [
    "ridge_r_cv.fit(X, y)"
   ]
  },
  {
   "cell_type": "code",
   "execution_count": 20,
   "id": "cf6af822",
   "metadata": {},
   "outputs": [
    {
     "data": {
      "text/plain": [
       "0.1"
      ]
     },
     "execution_count": 20,
     "metadata": {},
     "output_type": "execute_result"
    }
   ],
   "source": [
    "ridge_r_cv.alpha_"
   ]
  },
  {
   "cell_type": "code",
   "execution_count": 21,
   "id": "ce472562",
   "metadata": {},
   "outputs": [
    {
     "data": {
      "text/html": [
       "<div>\n",
       "<style scoped>\n",
       "    .dataframe tbody tr th:only-of-type {\n",
       "        vertical-align: middle;\n",
       "    }\n",
       "\n",
       "    .dataframe tbody tr th {\n",
       "        vertical-align: top;\n",
       "    }\n",
       "\n",
       "    .dataframe thead th {\n",
       "        text-align: right;\n",
       "    }\n",
       "</style>\n",
       "<table border=\"1\" class=\"dataframe\">\n",
       "  <thead>\n",
       "    <tr style=\"text-align: right;\">\n",
       "      <th></th>\n",
       "      <th>Coeficientes</th>\n",
       "      <th>Magnitude</th>\n",
       "    </tr>\n",
       "  </thead>\n",
       "  <tbody>\n",
       "    <tr>\n",
       "      <th>species_Gentoo</th>\n",
       "      <td>397.561314</td>\n",
       "      <td>397.561314</td>\n",
       "    </tr>\n",
       "    <tr>\n",
       "      <th>flipper_length_mm</th>\n",
       "      <td>262.311004</td>\n",
       "      <td>262.311004</td>\n",
       "    </tr>\n",
       "    <tr>\n",
       "      <th>sex_Male</th>\n",
       "      <td>157.480600</td>\n",
       "      <td>157.480600</td>\n",
       "    </tr>\n",
       "    <tr>\n",
       "      <th>bill_length_mm</th>\n",
       "      <td>143.839028</td>\n",
       "      <td>143.839028</td>\n",
       "    </tr>\n",
       "    <tr>\n",
       "      <th>species_Chinstrap</th>\n",
       "      <td>-138.888358</td>\n",
       "      <td>138.888358</td>\n",
       "    </tr>\n",
       "  </tbody>\n",
       "</table>\n",
       "</div>"
      ],
      "text/plain": [
       "                   Coeficientes   Magnitude\n",
       "species_Gentoo       397.561314  397.561314\n",
       "flipper_length_mm    262.311004  262.311004\n",
       "sex_Male             157.480600  157.480600\n",
       "bill_length_mm       143.839028  143.839028\n",
       "species_Chinstrap   -138.888358  138.888358"
      ]
     },
     "execution_count": 21,
     "metadata": {},
     "output_type": "execute_result"
    }
   ],
   "source": [
    "coeficients = pd.DataFrame(ridge_r_cv.coef_, variable_names, columns = ['Coeficientes'])\n",
    "coeficients['Magnitude'] = abs(coeficients['Coeficientes'])\n",
    "coeficients.sort_values('Magnitude', ascending = False).head(5)"
   ]
  },
  {
   "cell_type": "code",
   "execution_count": 22,
   "id": "8b1a290b",
   "metadata": {},
   "outputs": [],
   "source": [
    "metricas = cross_validate(\n",
    "    ridge_r_cv, X, y, \n",
    "    scoring=['neg_mean_squared_error', 'max_error', 'neg_mean_absolute_error', 'r2'], cv=10)"
   ]
  },
  {
   "cell_type": "code",
   "execution_count": 23,
   "id": "fd4e0781",
   "metadata": {},
   "outputs": [
    {
     "data": {
      "text/html": [
       "<div>\n",
       "<style scoped>\n",
       "    .dataframe tbody tr th:only-of-type {\n",
       "        vertical-align: middle;\n",
       "    }\n",
       "\n",
       "    .dataframe tbody tr th {\n",
       "        vertical-align: top;\n",
       "    }\n",
       "\n",
       "    .dataframe thead th {\n",
       "        text-align: right;\n",
       "    }\n",
       "</style>\n",
       "<table border=\"1\" class=\"dataframe\">\n",
       "  <thead>\n",
       "    <tr style=\"text-align: right;\">\n",
       "      <th></th>\n",
       "      <th>fit_time</th>\n",
       "      <th>score_time</th>\n",
       "      <th>test_neg_mean_squared_error</th>\n",
       "      <th>test_max_error</th>\n",
       "      <th>test_neg_mean_absolute_error</th>\n",
       "      <th>test_r2</th>\n",
       "    </tr>\n",
       "  </thead>\n",
       "  <tbody>\n",
       "    <tr>\n",
       "      <th>0</th>\n",
       "      <td>2.385759</td>\n",
       "      <td>0.002479</td>\n",
       "      <td>-75800.236263</td>\n",
       "      <td>-716.294629</td>\n",
       "      <td>-232.044885</td>\n",
       "      <td>0.495359</td>\n",
       "    </tr>\n",
       "    <tr>\n",
       "      <th>1</th>\n",
       "      <td>2.746846</td>\n",
       "      <td>0.002481</td>\n",
       "      <td>-102992.335145</td>\n",
       "      <td>-827.933922</td>\n",
       "      <td>-243.907434</td>\n",
       "      <td>0.626180</td>\n",
       "    </tr>\n",
       "    <tr>\n",
       "      <th>2</th>\n",
       "      <td>2.385759</td>\n",
       "      <td>0.000992</td>\n",
       "      <td>-101207.358695</td>\n",
       "      <td>-794.860811</td>\n",
       "      <td>-238.528227</td>\n",
       "      <td>0.513426</td>\n",
       "    </tr>\n",
       "    <tr>\n",
       "      <th>3</th>\n",
       "      <td>2.321795</td>\n",
       "      <td>0.001984</td>\n",
       "      <td>-121331.015504</td>\n",
       "      <td>-731.262409</td>\n",
       "      <td>-286.387830</td>\n",
       "      <td>0.445985</td>\n",
       "    </tr>\n",
       "    <tr>\n",
       "      <th>4</th>\n",
       "      <td>2.701693</td>\n",
       "      <td>0.001982</td>\n",
       "      <td>-117434.885179</td>\n",
       "      <td>-745.623031</td>\n",
       "      <td>-288.623096</td>\n",
       "      <td>-0.244279</td>\n",
       "    </tr>\n",
       "    <tr>\n",
       "      <th>5</th>\n",
       "      <td>3.164479</td>\n",
       "      <td>0.001985</td>\n",
       "      <td>-89407.525670</td>\n",
       "      <td>-668.204106</td>\n",
       "      <td>-247.233281</td>\n",
       "      <td>0.593071</td>\n",
       "    </tr>\n",
       "    <tr>\n",
       "      <th>6</th>\n",
       "      <td>2.855967</td>\n",
       "      <td>0.001982</td>\n",
       "      <td>-107000.071714</td>\n",
       "      <td>-986.981870</td>\n",
       "      <td>-240.956534</td>\n",
       "      <td>0.839375</td>\n",
       "    </tr>\n",
       "    <tr>\n",
       "      <th>7</th>\n",
       "      <td>3.155056</td>\n",
       "      <td>0.002480</td>\n",
       "      <td>-105469.904302</td>\n",
       "      <td>-1002.915749</td>\n",
       "      <td>-256.809667</td>\n",
       "      <td>0.549234</td>\n",
       "    </tr>\n",
       "    <tr>\n",
       "      <th>8</th>\n",
       "      <td>3.224988</td>\n",
       "      <td>0.001984</td>\n",
       "      <td>-57218.505606</td>\n",
       "      <td>-594.496196</td>\n",
       "      <td>-189.613450</td>\n",
       "      <td>0.774814</td>\n",
       "    </tr>\n",
       "    <tr>\n",
       "      <th>9</th>\n",
       "      <td>2.407588</td>\n",
       "      <td>0.001982</td>\n",
       "      <td>-79500.362071</td>\n",
       "      <td>-776.286454</td>\n",
       "      <td>-216.729563</td>\n",
       "      <td>0.609333</td>\n",
       "    </tr>\n",
       "  </tbody>\n",
       "</table>\n",
       "</div>"
      ],
      "text/plain": [
       "   fit_time  score_time  test_neg_mean_squared_error  test_max_error  \\\n",
       "0  2.385759    0.002479                -75800.236263     -716.294629   \n",
       "1  2.746846    0.002481               -102992.335145     -827.933922   \n",
       "2  2.385759    0.000992               -101207.358695     -794.860811   \n",
       "3  2.321795    0.001984               -121331.015504     -731.262409   \n",
       "4  2.701693    0.001982               -117434.885179     -745.623031   \n",
       "5  3.164479    0.001985                -89407.525670     -668.204106   \n",
       "6  2.855967    0.001982               -107000.071714     -986.981870   \n",
       "7  3.155056    0.002480               -105469.904302    -1002.915749   \n",
       "8  3.224988    0.001984                -57218.505606     -594.496196   \n",
       "9  2.407588    0.001982                -79500.362071     -776.286454   \n",
       "\n",
       "   test_neg_mean_absolute_error   test_r2  \n",
       "0                   -232.044885  0.495359  \n",
       "1                   -243.907434  0.626180  \n",
       "2                   -238.528227  0.513426  \n",
       "3                   -286.387830  0.445985  \n",
       "4                   -288.623096 -0.244279  \n",
       "5                   -247.233281  0.593071  \n",
       "6                   -240.956534  0.839375  \n",
       "7                   -256.809667  0.549234  \n",
       "8                   -189.613450  0.774814  \n",
       "9                   -216.729563  0.609333  "
      ]
     },
     "execution_count": 23,
     "metadata": {},
     "output_type": "execute_result"
    }
   ],
   "source": [
    "pd.DataFrame(metricas)"
   ]
  },
  {
   "cell_type": "code",
   "execution_count": 24,
   "id": "1b0a37e3",
   "metadata": {},
   "outputs": [
    {
     "data": {
      "text/plain": [
       "fit_time                            2.734993\n",
       "score_time                          0.002033\n",
       "test_neg_mean_squared_error    -95736.220015\n",
       "test_max_error                   -784.485918\n",
       "test_neg_mean_absolute_error     -244.083397\n",
       "test_r2                             0.520250\n",
       "dtype: float64"
      ]
     },
     "execution_count": 24,
     "metadata": {},
     "output_type": "execute_result"
    }
   ],
   "source": [
    "pd.DataFrame(metricas).mean()"
   ]
  },
  {
   "cell_type": "markdown",
   "id": "5d4ac402",
   "metadata": {},
   "source": [
    "### Ridge Grid Search"
   ]
  },
  {
   "cell_type": "code",
   "execution_count": 25,
   "id": "9655585e",
   "metadata": {},
   "outputs": [],
   "source": [
    "from sklearn.model_selection import GridSearchCV\n",
    "from sklearn.linear_model import Ridge"
   ]
  },
  {
   "cell_type": "code",
   "execution_count": 26,
   "id": "48903933",
   "metadata": {},
   "outputs": [],
   "source": [
    "ridge_r = Ridge()"
   ]
  },
  {
   "cell_type": "code",
   "execution_count": 27,
   "id": "f5fc7624",
   "metadata": {},
   "outputs": [],
   "source": [
    "parametros = {'alpha': np.linspace(0.1,10,100)}\n",
    "ridge_r_cv = GridSearchCV(estimator = ridge_r, \n",
    "                            param_grid=parametros, \n",
    "                            scoring= 'neg_mean_squared_error',\n",
    "                            cv=10,)"
   ]
  },
  {
   "cell_type": "code",
   "execution_count": 28,
   "id": "9c78e0ad",
   "metadata": {},
   "outputs": [
    {
     "data": {
      "text/plain": [
       "GridSearchCV(cv=10, estimator=Ridge(),\n",
       "             param_grid={'alpha': array([ 0.1,  0.2,  0.3,  0.4,  0.5,  0.6,  0.7,  0.8,  0.9,  1. ,  1.1,\n",
       "        1.2,  1.3,  1.4,  1.5,  1.6,  1.7,  1.8,  1.9,  2. ,  2.1,  2.2,\n",
       "        2.3,  2.4,  2.5,  2.6,  2.7,  2.8,  2.9,  3. ,  3.1,  3.2,  3.3,\n",
       "        3.4,  3.5,  3.6,  3.7,  3.8,  3.9,  4. ,  4.1,  4.2,  4.3,  4.4,\n",
       "        4.5,  4.6,  4.7,  4.8,  4.9,  5. ,  5.1,  5.2,  5.3,  5.4,  5.5,\n",
       "        5.6,  5.7,  5.8,  5.9,  6. ,  6.1,  6.2,  6.3,  6.4,  6.5,  6.6,\n",
       "        6.7,  6.8,  6.9,  7. ,  7.1,  7.2,  7.3,  7.4,  7.5,  7.6,  7.7,\n",
       "        7.8,  7.9,  8. ,  8.1,  8.2,  8.3,  8.4,  8.5,  8.6,  8.7,  8.8,\n",
       "        8.9,  9. ,  9.1,  9.2,  9.3,  9.4,  9.5,  9.6,  9.7,  9.8,  9.9,\n",
       "       10. ])},\n",
       "             scoring='neg_mean_squared_error')"
      ]
     },
     "execution_count": 28,
     "metadata": {},
     "output_type": "execute_result"
    }
   ],
   "source": [
    "ridge_r_cv.fit(X, y)"
   ]
  },
  {
   "cell_type": "code",
   "execution_count": 29,
   "id": "0acf3012",
   "metadata": {},
   "outputs": [
    {
     "data": {
      "text/plain": [
       "Ridge(alpha=0.1)"
      ]
     },
     "execution_count": 29,
     "metadata": {},
     "output_type": "execute_result"
    }
   ],
   "source": [
    "ridge_r_cv.best_estimator_"
   ]
  },
  {
   "cell_type": "code",
   "execution_count": 30,
   "id": "a34e2022",
   "metadata": {},
   "outputs": [
    {
     "data": {
      "text/plain": [
       "{'alpha': 0.1}"
      ]
     },
     "execution_count": 30,
     "metadata": {},
     "output_type": "execute_result"
    }
   ],
   "source": [
    "ridge_r_cv.best_params_"
   ]
  },
  {
   "cell_type": "code",
   "execution_count": 31,
   "id": "de496652",
   "metadata": {},
   "outputs": [],
   "source": [
    "ridge_r = Ridge(alpha = ridge_r_cv.best_params_['alpha'])"
   ]
  },
  {
   "cell_type": "code",
   "execution_count": 32,
   "id": "d6f30902",
   "metadata": {},
   "outputs": [],
   "source": [
    "metricas = cross_validate(\n",
    "    ridge_r, X, y, \n",
    "    scoring=['neg_mean_squared_error', 'max_error', 'neg_mean_absolute_error', 'r2'], cv=10)"
   ]
  },
  {
   "cell_type": "code",
   "execution_count": 33,
   "id": "05b17146",
   "metadata": {},
   "outputs": [
    {
     "data": {
      "text/html": [
       "<div>\n",
       "<style scoped>\n",
       "    .dataframe tbody tr th:only-of-type {\n",
       "        vertical-align: middle;\n",
       "    }\n",
       "\n",
       "    .dataframe tbody tr th {\n",
       "        vertical-align: top;\n",
       "    }\n",
       "\n",
       "    .dataframe thead th {\n",
       "        text-align: right;\n",
       "    }\n",
       "</style>\n",
       "<table border=\"1\" class=\"dataframe\">\n",
       "  <thead>\n",
       "    <tr style=\"text-align: right;\">\n",
       "      <th></th>\n",
       "      <th>fit_time</th>\n",
       "      <th>score_time</th>\n",
       "      <th>test_neg_mean_squared_error</th>\n",
       "      <th>test_max_error</th>\n",
       "      <th>test_neg_mean_absolute_error</th>\n",
       "      <th>test_r2</th>\n",
       "    </tr>\n",
       "  </thead>\n",
       "  <tbody>\n",
       "    <tr>\n",
       "      <th>0</th>\n",
       "      <td>0.004464</td>\n",
       "      <td>0.004969</td>\n",
       "      <td>-73965.670491</td>\n",
       "      <td>-697.685894</td>\n",
       "      <td>-234.445947</td>\n",
       "      <td>0.507572</td>\n",
       "    </tr>\n",
       "    <tr>\n",
       "      <th>1</th>\n",
       "      <td>0.002479</td>\n",
       "      <td>0.002974</td>\n",
       "      <td>-102992.335145</td>\n",
       "      <td>-827.933922</td>\n",
       "      <td>-243.907434</td>\n",
       "      <td>0.626180</td>\n",
       "    </tr>\n",
       "    <tr>\n",
       "      <th>2</th>\n",
       "      <td>0.002480</td>\n",
       "      <td>0.002485</td>\n",
       "      <td>-101207.358695</td>\n",
       "      <td>-794.860811</td>\n",
       "      <td>-238.528227</td>\n",
       "      <td>0.513426</td>\n",
       "    </tr>\n",
       "    <tr>\n",
       "      <th>3</th>\n",
       "      <td>0.001985</td>\n",
       "      <td>0.003474</td>\n",
       "      <td>-120785.759868</td>\n",
       "      <td>-727.565934</td>\n",
       "      <td>-286.115558</td>\n",
       "      <td>0.448475</td>\n",
       "    </tr>\n",
       "    <tr>\n",
       "      <th>4</th>\n",
       "      <td>0.002477</td>\n",
       "      <td>0.001986</td>\n",
       "      <td>-117389.275459</td>\n",
       "      <td>-748.532465</td>\n",
       "      <td>-287.863757</td>\n",
       "      <td>-0.243796</td>\n",
       "    </tr>\n",
       "    <tr>\n",
       "      <th>5</th>\n",
       "      <td>0.001487</td>\n",
       "      <td>0.001983</td>\n",
       "      <td>-88411.153411</td>\n",
       "      <td>-636.196285</td>\n",
       "      <td>-248.431243</td>\n",
       "      <td>0.597606</td>\n",
       "    </tr>\n",
       "    <tr>\n",
       "      <th>6</th>\n",
       "      <td>0.001489</td>\n",
       "      <td>0.002479</td>\n",
       "      <td>-107081.944349</td>\n",
       "      <td>-987.201435</td>\n",
       "      <td>-240.053050</td>\n",
       "      <td>0.839252</td>\n",
       "    </tr>\n",
       "    <tr>\n",
       "      <th>7</th>\n",
       "      <td>0.003471</td>\n",
       "      <td>0.002479</td>\n",
       "      <td>-105733.654498</td>\n",
       "      <td>-1003.975183</td>\n",
       "      <td>-257.206878</td>\n",
       "      <td>0.548107</td>\n",
       "    </tr>\n",
       "    <tr>\n",
       "      <th>8</th>\n",
       "      <td>0.001980</td>\n",
       "      <td>0.001986</td>\n",
       "      <td>-57159.229810</td>\n",
       "      <td>-583.648213</td>\n",
       "      <td>-190.914151</td>\n",
       "      <td>0.775047</td>\n",
       "    </tr>\n",
       "    <tr>\n",
       "      <th>9</th>\n",
       "      <td>0.001984</td>\n",
       "      <td>0.002482</td>\n",
       "      <td>-80209.847868</td>\n",
       "      <td>-801.582967</td>\n",
       "      <td>-215.932045</td>\n",
       "      <td>0.605846</td>\n",
       "    </tr>\n",
       "  </tbody>\n",
       "</table>\n",
       "</div>"
      ],
      "text/plain": [
       "   fit_time  score_time  test_neg_mean_squared_error  test_max_error  \\\n",
       "0  0.004464    0.004969                -73965.670491     -697.685894   \n",
       "1  0.002479    0.002974               -102992.335145     -827.933922   \n",
       "2  0.002480    0.002485               -101207.358695     -794.860811   \n",
       "3  0.001985    0.003474               -120785.759868     -727.565934   \n",
       "4  0.002477    0.001986               -117389.275459     -748.532465   \n",
       "5  0.001487    0.001983                -88411.153411     -636.196285   \n",
       "6  0.001489    0.002479               -107081.944349     -987.201435   \n",
       "7  0.003471    0.002479               -105733.654498    -1003.975183   \n",
       "8  0.001980    0.001986                -57159.229810     -583.648213   \n",
       "9  0.001984    0.002482                -80209.847868     -801.582967   \n",
       "\n",
       "   test_neg_mean_absolute_error   test_r2  \n",
       "0                   -234.445947  0.507572  \n",
       "1                   -243.907434  0.626180  \n",
       "2                   -238.528227  0.513426  \n",
       "3                   -286.115558  0.448475  \n",
       "4                   -287.863757 -0.243796  \n",
       "5                   -248.431243  0.597606  \n",
       "6                   -240.053050  0.839252  \n",
       "7                   -257.206878  0.548107  \n",
       "8                   -190.914151  0.775047  \n",
       "9                   -215.932045  0.605846  "
      ]
     },
     "execution_count": 33,
     "metadata": {},
     "output_type": "execute_result"
    }
   ],
   "source": [
    "pd.DataFrame(metricas)"
   ]
  },
  {
   "cell_type": "code",
   "execution_count": 34,
   "id": "0d743a5f",
   "metadata": {},
   "outputs": [
    {
     "data": {
      "text/plain": [
       "fit_time                            0.002430\n",
       "score_time                          0.002730\n",
       "test_neg_mean_squared_error    -95493.622959\n",
       "test_max_error                   -780.918311\n",
       "test_neg_mean_absolute_error     -244.339829\n",
       "test_r2                             0.521772\n",
       "dtype: float64"
      ]
     },
     "execution_count": 34,
     "metadata": {},
     "output_type": "execute_result"
    }
   ],
   "source": [
    "pd.DataFrame(metricas).mean()"
   ]
  },
  {
   "cell_type": "markdown",
   "id": "607ae93d",
   "metadata": {},
   "source": [
    "## LASSO"
   ]
  },
  {
   "cell_type": "markdown",
   "id": "35c69f8f",
   "metadata": {},
   "source": [
    "### LASSO CV"
   ]
  },
  {
   "cell_type": "code",
   "execution_count": 35,
   "id": "247c09bf",
   "metadata": {},
   "outputs": [],
   "source": [
    "from sklearn.linear_model import LassoCV"
   ]
  },
  {
   "cell_type": "code",
   "execution_count": 36,
   "id": "c73fb8e2",
   "metadata": {},
   "outputs": [],
   "source": [
    "lasso_r_cv = LassoCV(alphas=np.linspace(0.1,10,100), cv = 10)"
   ]
  },
  {
   "cell_type": "code",
   "execution_count": 37,
   "id": "f68fb757",
   "metadata": {},
   "outputs": [
    {
     "data": {
      "text/plain": [
       "LassoCV(alphas=array([ 0.1,  0.2,  0.3,  0.4,  0.5,  0.6,  0.7,  0.8,  0.9,  1. ,  1.1,\n",
       "        1.2,  1.3,  1.4,  1.5,  1.6,  1.7,  1.8,  1.9,  2. ,  2.1,  2.2,\n",
       "        2.3,  2.4,  2.5,  2.6,  2.7,  2.8,  2.9,  3. ,  3.1,  3.2,  3.3,\n",
       "        3.4,  3.5,  3.6,  3.7,  3.8,  3.9,  4. ,  4.1,  4.2,  4.3,  4.4,\n",
       "        4.5,  4.6,  4.7,  4.8,  4.9,  5. ,  5.1,  5.2,  5.3,  5.4,  5.5,\n",
       "        5.6,  5.7,  5.8,  5.9,  6. ,  6.1,  6.2,  6.3,  6.4,  6.5,  6.6,\n",
       "        6.7,  6.8,  6.9,  7. ,  7.1,  7.2,  7.3,  7.4,  7.5,  7.6,  7.7,\n",
       "        7.8,  7.9,  8. ,  8.1,  8.2,  8.3,  8.4,  8.5,  8.6,  8.7,  8.8,\n",
       "        8.9,  9. ,  9.1,  9.2,  9.3,  9.4,  9.5,  9.6,  9.7,  9.8,  9.9,\n",
       "       10. ]),\n",
       "        cv=10)"
      ]
     },
     "execution_count": 37,
     "metadata": {},
     "output_type": "execute_result"
    }
   ],
   "source": [
    "lasso_r_cv.fit(X, y)"
   ]
  },
  {
   "cell_type": "code",
   "execution_count": 38,
   "id": "da1da410",
   "metadata": {},
   "outputs": [
    {
     "data": {
      "text/plain": [
       "4.3"
      ]
     },
     "execution_count": 38,
     "metadata": {},
     "output_type": "execute_result"
    }
   ],
   "source": [
    "lasso_r_cv.alpha_"
   ]
  },
  {
   "cell_type": "code",
   "execution_count": 39,
   "id": "b1d26eeb",
   "metadata": {},
   "outputs": [
    {
     "data": {
      "text/html": [
       "<div>\n",
       "<style scoped>\n",
       "    .dataframe tbody tr th:only-of-type {\n",
       "        vertical-align: middle;\n",
       "    }\n",
       "\n",
       "    .dataframe tbody tr th {\n",
       "        vertical-align: top;\n",
       "    }\n",
       "\n",
       "    .dataframe thead th {\n",
       "        text-align: right;\n",
       "    }\n",
       "</style>\n",
       "<table border=\"1\" class=\"dataframe\">\n",
       "  <thead>\n",
       "    <tr style=\"text-align: right;\">\n",
       "      <th></th>\n",
       "      <th>Coeficientes</th>\n",
       "      <th>Magnitude</th>\n",
       "    </tr>\n",
       "  </thead>\n",
       "  <tbody>\n",
       "    <tr>\n",
       "      <th>species_Gentoo</th>\n",
       "      <td>373.650518</td>\n",
       "      <td>373.650518</td>\n",
       "    </tr>\n",
       "    <tr>\n",
       "      <th>flipper_length_mm</th>\n",
       "      <td>270.849592</td>\n",
       "      <td>270.849592</td>\n",
       "    </tr>\n",
       "    <tr>\n",
       "      <th>sex_Male</th>\n",
       "      <td>166.746614</td>\n",
       "      <td>166.746614</td>\n",
       "    </tr>\n",
       "    <tr>\n",
       "      <th>bill_length_mm</th>\n",
       "      <td>133.097267</td>\n",
       "      <td>133.097267</td>\n",
       "    </tr>\n",
       "    <tr>\n",
       "      <th>species_Chinstrap</th>\n",
       "      <td>-128.441422</td>\n",
       "      <td>128.441422</td>\n",
       "    </tr>\n",
       "  </tbody>\n",
       "</table>\n",
       "</div>"
      ],
      "text/plain": [
       "                   Coeficientes   Magnitude\n",
       "species_Gentoo       373.650518  373.650518\n",
       "flipper_length_mm    270.849592  270.849592\n",
       "sex_Male             166.746614  166.746614\n",
       "bill_length_mm       133.097267  133.097267\n",
       "species_Chinstrap   -128.441422  128.441422"
      ]
     },
     "execution_count": 39,
     "metadata": {},
     "output_type": "execute_result"
    }
   ],
   "source": [
    "coeficients = pd.DataFrame(lasso_r_cv.coef_, variable_names, columns = ['Coeficientes'])\n",
    "coeficients['Magnitude'] = abs(coeficients['Coeficientes'])\n",
    "coeficients.sort_values('Magnitude', ascending = False).head(5)"
   ]
  },
  {
   "cell_type": "code",
   "execution_count": 40,
   "id": "45c3c845",
   "metadata": {},
   "outputs": [],
   "source": [
    "metricas = cross_validate(\n",
    "    lasso_r_cv, X, y, \n",
    "    scoring=['neg_mean_squared_error', 'max_error', 'neg_mean_absolute_error', 'r2'], cv=10)"
   ]
  },
  {
   "cell_type": "code",
   "execution_count": 41,
   "id": "1d107e66",
   "metadata": {},
   "outputs": [
    {
     "data": {
      "text/html": [
       "<div>\n",
       "<style scoped>\n",
       "    .dataframe tbody tr th:only-of-type {\n",
       "        vertical-align: middle;\n",
       "    }\n",
       "\n",
       "    .dataframe tbody tr th {\n",
       "        vertical-align: top;\n",
       "    }\n",
       "\n",
       "    .dataframe thead th {\n",
       "        text-align: right;\n",
       "    }\n",
       "</style>\n",
       "<table border=\"1\" class=\"dataframe\">\n",
       "  <thead>\n",
       "    <tr style=\"text-align: right;\">\n",
       "      <th></th>\n",
       "      <th>fit_time</th>\n",
       "      <th>score_time</th>\n",
       "      <th>test_neg_mean_squared_error</th>\n",
       "      <th>test_max_error</th>\n",
       "      <th>test_neg_mean_absolute_error</th>\n",
       "      <th>test_r2</th>\n",
       "    </tr>\n",
       "  </thead>\n",
       "  <tbody>\n",
       "    <tr>\n",
       "      <th>0</th>\n",
       "      <td>0.244032</td>\n",
       "      <td>0.001985</td>\n",
       "      <td>-75996.715102</td>\n",
       "      <td>-698.506233</td>\n",
       "      <td>-233.016756</td>\n",
       "      <td>0.494050</td>\n",
       "    </tr>\n",
       "    <tr>\n",
       "      <th>1</th>\n",
       "      <td>0.234112</td>\n",
       "      <td>0.001984</td>\n",
       "      <td>-102901.424428</td>\n",
       "      <td>-827.692184</td>\n",
       "      <td>-243.825821</td>\n",
       "      <td>0.626510</td>\n",
       "    </tr>\n",
       "    <tr>\n",
       "      <th>2</th>\n",
       "      <td>0.287185</td>\n",
       "      <td>0.002478</td>\n",
       "      <td>-101151.237383</td>\n",
       "      <td>-795.039580</td>\n",
       "      <td>-238.496901</td>\n",
       "      <td>0.513696</td>\n",
       "    </tr>\n",
       "    <tr>\n",
       "      <th>3</th>\n",
       "      <td>0.195425</td>\n",
       "      <td>0.002976</td>\n",
       "      <td>-118859.025236</td>\n",
       "      <td>-713.834784</td>\n",
       "      <td>-284.165845</td>\n",
       "      <td>0.457272</td>\n",
       "    </tr>\n",
       "    <tr>\n",
       "      <th>4</th>\n",
       "      <td>0.232128</td>\n",
       "      <td>0.002481</td>\n",
       "      <td>-116826.627022</td>\n",
       "      <td>-745.244402</td>\n",
       "      <td>-288.914980</td>\n",
       "      <td>-0.237834</td>\n",
       "    </tr>\n",
       "    <tr>\n",
       "      <th>5</th>\n",
       "      <td>0.218239</td>\n",
       "      <td>0.002480</td>\n",
       "      <td>-89375.882785</td>\n",
       "      <td>-669.824711</td>\n",
       "      <td>-246.517578</td>\n",
       "      <td>0.593215</td>\n",
       "    </tr>\n",
       "    <tr>\n",
       "      <th>6</th>\n",
       "      <td>0.222207</td>\n",
       "      <td>0.001491</td>\n",
       "      <td>-106973.014370</td>\n",
       "      <td>-987.635535</td>\n",
       "      <td>-241.600927</td>\n",
       "      <td>0.839416</td>\n",
       "    </tr>\n",
       "    <tr>\n",
       "      <th>7</th>\n",
       "      <td>0.201376</td>\n",
       "      <td>0.001488</td>\n",
       "      <td>-106730.955491</td>\n",
       "      <td>-1018.608392</td>\n",
       "      <td>-258.386730</td>\n",
       "      <td>0.543844</td>\n",
       "    </tr>\n",
       "    <tr>\n",
       "      <th>8</th>\n",
       "      <td>0.176574</td>\n",
       "      <td>0.002481</td>\n",
       "      <td>-58165.608282</td>\n",
       "      <td>-594.215848</td>\n",
       "      <td>-189.034965</td>\n",
       "      <td>0.771087</td>\n",
       "    </tr>\n",
       "    <tr>\n",
       "      <th>9</th>\n",
       "      <td>0.183022</td>\n",
       "      <td>0.001984</td>\n",
       "      <td>-79501.217907</td>\n",
       "      <td>-774.333786</td>\n",
       "      <td>-217.530820</td>\n",
       "      <td>0.609329</td>\n",
       "    </tr>\n",
       "  </tbody>\n",
       "</table>\n",
       "</div>"
      ],
      "text/plain": [
       "   fit_time  score_time  test_neg_mean_squared_error  test_max_error  \\\n",
       "0  0.244032    0.001985                -75996.715102     -698.506233   \n",
       "1  0.234112    0.001984               -102901.424428     -827.692184   \n",
       "2  0.287185    0.002478               -101151.237383     -795.039580   \n",
       "3  0.195425    0.002976               -118859.025236     -713.834784   \n",
       "4  0.232128    0.002481               -116826.627022     -745.244402   \n",
       "5  0.218239    0.002480                -89375.882785     -669.824711   \n",
       "6  0.222207    0.001491               -106973.014370     -987.635535   \n",
       "7  0.201376    0.001488               -106730.955491    -1018.608392   \n",
       "8  0.176574    0.002481                -58165.608282     -594.215848   \n",
       "9  0.183022    0.001984                -79501.217907     -774.333786   \n",
       "\n",
       "   test_neg_mean_absolute_error   test_r2  \n",
       "0                   -233.016756  0.494050  \n",
       "1                   -243.825821  0.626510  \n",
       "2                   -238.496901  0.513696  \n",
       "3                   -284.165845  0.457272  \n",
       "4                   -288.914980 -0.237834  \n",
       "5                   -246.517578  0.593215  \n",
       "6                   -241.600927  0.839416  \n",
       "7                   -258.386730  0.543844  \n",
       "8                   -189.034965  0.771087  \n",
       "9                   -217.530820  0.609329  "
      ]
     },
     "execution_count": 41,
     "metadata": {},
     "output_type": "execute_result"
    }
   ],
   "source": [
    "pd.DataFrame(metricas)"
   ]
  },
  {
   "cell_type": "code",
   "execution_count": 42,
   "id": "63eef4ad",
   "metadata": {},
   "outputs": [
    {
     "data": {
      "text/plain": [
       "fit_time                            0.219430\n",
       "score_time                          0.002183\n",
       "test_neg_mean_squared_error    -95648.170801\n",
       "test_max_error                   -782.493545\n",
       "test_neg_mean_absolute_error     -244.149132\n",
       "test_r2                             0.521059\n",
       "dtype: float64"
      ]
     },
     "execution_count": 42,
     "metadata": {},
     "output_type": "execute_result"
    }
   ],
   "source": [
    "pd.DataFrame(metricas).mean()"
   ]
  },
  {
   "cell_type": "markdown",
   "id": "9dac3d56",
   "metadata": {},
   "source": [
    "### LASSO Grid Search"
   ]
  },
  {
   "cell_type": "code",
   "execution_count": 43,
   "id": "1cb72bbd",
   "metadata": {},
   "outputs": [],
   "source": [
    "from sklearn.model_selection import GridSearchCV\n",
    "from sklearn.linear_model import Lasso"
   ]
  },
  {
   "cell_type": "code",
   "execution_count": 44,
   "id": "73c5cd3e",
   "metadata": {},
   "outputs": [],
   "source": [
    "lasso_r = Lasso()"
   ]
  },
  {
   "cell_type": "code",
   "execution_count": 45,
   "id": "d7d1ec4a",
   "metadata": {},
   "outputs": [],
   "source": [
    "parametros = {'alpha': np.linspace(0.1,10,100)}\n",
    "lasso_r_cv = GridSearchCV(estimator = lasso_r, \n",
    "                            param_grid=parametros, \n",
    "                            scoring= 'neg_mean_squared_error',\n",
    "                            cv=10,)"
   ]
  },
  {
   "cell_type": "code",
   "execution_count": 46,
   "id": "c12c321b",
   "metadata": {},
   "outputs": [
    {
     "data": {
      "text/plain": [
       "GridSearchCV(cv=10, estimator=Lasso(),\n",
       "             param_grid={'alpha': array([ 0.1,  0.2,  0.3,  0.4,  0.5,  0.6,  0.7,  0.8,  0.9,  1. ,  1.1,\n",
       "        1.2,  1.3,  1.4,  1.5,  1.6,  1.7,  1.8,  1.9,  2. ,  2.1,  2.2,\n",
       "        2.3,  2.4,  2.5,  2.6,  2.7,  2.8,  2.9,  3. ,  3.1,  3.2,  3.3,\n",
       "        3.4,  3.5,  3.6,  3.7,  3.8,  3.9,  4. ,  4.1,  4.2,  4.3,  4.4,\n",
       "        4.5,  4.6,  4.7,  4.8,  4.9,  5. ,  5.1,  5.2,  5.3,  5.4,  5.5,\n",
       "        5.6,  5.7,  5.8,  5.9,  6. ,  6.1,  6.2,  6.3,  6.4,  6.5,  6.6,\n",
       "        6.7,  6.8,  6.9,  7. ,  7.1,  7.2,  7.3,  7.4,  7.5,  7.6,  7.7,\n",
       "        7.8,  7.9,  8. ,  8.1,  8.2,  8.3,  8.4,  8.5,  8.6,  8.7,  8.8,\n",
       "        8.9,  9. ,  9.1,  9.2,  9.3,  9.4,  9.5,  9.6,  9.7,  9.8,  9.9,\n",
       "       10. ])},\n",
       "             scoring='neg_mean_squared_error')"
      ]
     },
     "execution_count": 46,
     "metadata": {},
     "output_type": "execute_result"
    }
   ],
   "source": [
    "lasso_r_cv.fit(X, y)"
   ]
  },
  {
   "cell_type": "code",
   "execution_count": 47,
   "id": "d0f3ca76",
   "metadata": {},
   "outputs": [
    {
     "data": {
      "text/plain": [
       "Lasso(alpha=4.3)"
      ]
     },
     "execution_count": 47,
     "metadata": {},
     "output_type": "execute_result"
    }
   ],
   "source": [
    "lasso_r_cv.best_estimator_"
   ]
  },
  {
   "cell_type": "code",
   "execution_count": 48,
   "id": "eae1394c",
   "metadata": {},
   "outputs": [
    {
     "data": {
      "text/plain": [
       "{'alpha': 4.3}"
      ]
     },
     "execution_count": 48,
     "metadata": {},
     "output_type": "execute_result"
    }
   ],
   "source": [
    "lasso_r_cv.best_params_"
   ]
  },
  {
   "cell_type": "code",
   "execution_count": 49,
   "id": "208e9310",
   "metadata": {},
   "outputs": [],
   "source": [
    "lasso_r = Lasso(alpha = lasso_r_cv.best_params_['alpha'])"
   ]
  },
  {
   "cell_type": "code",
   "execution_count": 50,
   "id": "d8d0afc0",
   "metadata": {},
   "outputs": [],
   "source": [
    "metricas = cross_validate(\n",
    "    lasso_r, X, y, \n",
    "    scoring=['neg_mean_squared_error', 'max_error', 'neg_mean_absolute_error', 'r2'], cv=10)"
   ]
  },
  {
   "cell_type": "code",
   "execution_count": 51,
   "id": "7f59ad65",
   "metadata": {},
   "outputs": [
    {
     "data": {
      "text/html": [
       "<div>\n",
       "<style scoped>\n",
       "    .dataframe tbody tr th:only-of-type {\n",
       "        vertical-align: middle;\n",
       "    }\n",
       "\n",
       "    .dataframe tbody tr th {\n",
       "        vertical-align: top;\n",
       "    }\n",
       "\n",
       "    .dataframe thead th {\n",
       "        text-align: right;\n",
       "    }\n",
       "</style>\n",
       "<table border=\"1\" class=\"dataframe\">\n",
       "  <thead>\n",
       "    <tr style=\"text-align: right;\">\n",
       "      <th></th>\n",
       "      <th>fit_time</th>\n",
       "      <th>score_time</th>\n",
       "      <th>test_neg_mean_squared_error</th>\n",
       "      <th>test_max_error</th>\n",
       "      <th>test_neg_mean_absolute_error</th>\n",
       "      <th>test_r2</th>\n",
       "    </tr>\n",
       "  </thead>\n",
       "  <tbody>\n",
       "    <tr>\n",
       "      <th>0</th>\n",
       "      <td>0.002977</td>\n",
       "      <td>0.002977</td>\n",
       "      <td>-75451.081330</td>\n",
       "      <td>-698.247621</td>\n",
       "      <td>-233.007022</td>\n",
       "      <td>0.497683</td>\n",
       "    </tr>\n",
       "    <tr>\n",
       "      <th>1</th>\n",
       "      <td>0.002480</td>\n",
       "      <td>0.002977</td>\n",
       "      <td>-104116.683066</td>\n",
       "      <td>-843.409886</td>\n",
       "      <td>-247.487116</td>\n",
       "      <td>0.622099</td>\n",
       "    </tr>\n",
       "    <tr>\n",
       "      <th>2</th>\n",
       "      <td>0.001970</td>\n",
       "      <td>0.002480</td>\n",
       "      <td>-96261.344109</td>\n",
       "      <td>-763.155953</td>\n",
       "      <td>-234.696579</td>\n",
       "      <td>0.537205</td>\n",
       "    </tr>\n",
       "    <tr>\n",
       "      <th>3</th>\n",
       "      <td>0.001983</td>\n",
       "      <td>0.002480</td>\n",
       "      <td>-118295.421935</td>\n",
       "      <td>-709.211903</td>\n",
       "      <td>-283.505490</td>\n",
       "      <td>0.459846</td>\n",
       "    </tr>\n",
       "    <tr>\n",
       "      <th>4</th>\n",
       "      <td>0.000993</td>\n",
       "      <td>0.001488</td>\n",
       "      <td>-115954.833740</td>\n",
       "      <td>-738.976830</td>\n",
       "      <td>-290.425022</td>\n",
       "      <td>-0.228597</td>\n",
       "    </tr>\n",
       "    <tr>\n",
       "      <th>5</th>\n",
       "      <td>0.002983</td>\n",
       "      <td>0.002969</td>\n",
       "      <td>-89672.383368</td>\n",
       "      <td>-676.516549</td>\n",
       "      <td>-246.280016</td>\n",
       "      <td>0.591866</td>\n",
       "    </tr>\n",
       "    <tr>\n",
       "      <th>6</th>\n",
       "      <td>0.001487</td>\n",
       "      <td>0.001489</td>\n",
       "      <td>-106981.656127</td>\n",
       "      <td>-987.971158</td>\n",
       "      <td>-242.875267</td>\n",
       "      <td>0.839403</td>\n",
       "    </tr>\n",
       "    <tr>\n",
       "      <th>7</th>\n",
       "      <td>0.001487</td>\n",
       "      <td>0.001488</td>\n",
       "      <td>-107114.895726</td>\n",
       "      <td>-1023.587511</td>\n",
       "      <td>-258.785682</td>\n",
       "      <td>0.542203</td>\n",
       "    </tr>\n",
       "    <tr>\n",
       "      <th>8</th>\n",
       "      <td>0.001487</td>\n",
       "      <td>0.002978</td>\n",
       "      <td>-58429.956355</td>\n",
       "      <td>-596.793424</td>\n",
       "      <td>-188.661042</td>\n",
       "      <td>0.770046</td>\n",
       "    </tr>\n",
       "    <tr>\n",
       "      <th>9</th>\n",
       "      <td>0.002973</td>\n",
       "      <td>0.002480</td>\n",
       "      <td>-79349.558063</td>\n",
       "      <td>-764.206388</td>\n",
       "      <td>-218.116615</td>\n",
       "      <td>0.610074</td>\n",
       "    </tr>\n",
       "  </tbody>\n",
       "</table>\n",
       "</div>"
      ],
      "text/plain": [
       "   fit_time  score_time  test_neg_mean_squared_error  test_max_error  \\\n",
       "0  0.002977    0.002977                -75451.081330     -698.247621   \n",
       "1  0.002480    0.002977               -104116.683066     -843.409886   \n",
       "2  0.001970    0.002480                -96261.344109     -763.155953   \n",
       "3  0.001983    0.002480               -118295.421935     -709.211903   \n",
       "4  0.000993    0.001488               -115954.833740     -738.976830   \n",
       "5  0.002983    0.002969                -89672.383368     -676.516549   \n",
       "6  0.001487    0.001489               -106981.656127     -987.971158   \n",
       "7  0.001487    0.001488               -107114.895726    -1023.587511   \n",
       "8  0.001487    0.002978                -58429.956355     -596.793424   \n",
       "9  0.002973    0.002480                -79349.558063     -764.206388   \n",
       "\n",
       "   test_neg_mean_absolute_error   test_r2  \n",
       "0                   -233.007022  0.497683  \n",
       "1                   -247.487116  0.622099  \n",
       "2                   -234.696579  0.537205  \n",
       "3                   -283.505490  0.459846  \n",
       "4                   -290.425022 -0.228597  \n",
       "5                   -246.280016  0.591866  \n",
       "6                   -242.875267  0.839403  \n",
       "7                   -258.785682  0.542203  \n",
       "8                   -188.661042  0.770046  \n",
       "9                   -218.116615  0.610074  "
      ]
     },
     "execution_count": 51,
     "metadata": {},
     "output_type": "execute_result"
    }
   ],
   "source": [
    "pd.DataFrame(metricas)"
   ]
  },
  {
   "cell_type": "code",
   "execution_count": 52,
   "id": "2330bd59",
   "metadata": {},
   "outputs": [
    {
     "data": {
      "text/plain": [
       "fit_time                            0.002082\n",
       "score_time                          0.002381\n",
       "test_neg_mean_squared_error    -95162.781382\n",
       "test_max_error                   -780.207723\n",
       "test_neg_mean_absolute_error     -244.383985\n",
       "test_r2                             0.524183\n",
       "dtype: float64"
      ]
     },
     "execution_count": 52,
     "metadata": {},
     "output_type": "execute_result"
    }
   ],
   "source": [
    "pd.DataFrame(metricas).mean()"
   ]
  },
  {
   "cell_type": "markdown",
   "id": "de8a9602",
   "metadata": {},
   "source": [
    "## Elastic net"
   ]
  },
  {
   "cell_type": "markdown",
   "id": "b7f08dbd",
   "metadata": {},
   "source": [
    "### Elastic CV"
   ]
  },
  {
   "cell_type": "code",
   "execution_count": 53,
   "id": "be1c08e8",
   "metadata": {},
   "outputs": [],
   "source": [
    "from sklearn.linear_model import ElasticNetCV"
   ]
  },
  {
   "cell_type": "code",
   "execution_count": 54,
   "id": "85f43db9",
   "metadata": {},
   "outputs": [],
   "source": [
    "elastic_r_cv = ElasticNetCV(alphas=np.linspace(0.1,10,100), l1_ratio = np.linspace(0.01, 0.99, 100), cv = 10)"
   ]
  },
  {
   "cell_type": "code",
   "execution_count": 55,
   "id": "e2bf0504",
   "metadata": {},
   "outputs": [
    {
     "data": {
      "text/plain": [
       "ElasticNetCV(alphas=array([ 0.1,  0.2,  0.3,  0.4,  0.5,  0.6,  0.7,  0.8,  0.9,  1. ,  1.1,\n",
       "        1.2,  1.3,  1.4,  1.5,  1.6,  1.7,  1.8,  1.9,  2. ,  2.1,  2.2,\n",
       "        2.3,  2.4,  2.5,  2.6,  2.7,  2.8,  2.9,  3. ,  3.1,  3.2,  3.3,\n",
       "        3.4,  3.5,  3.6,  3.7,  3.8,  3.9,  4. ,  4.1,  4.2,  4.3,  4.4,\n",
       "        4.5,  4.6,  4.7,  4.8,  4.9,  5. ,  5.1,  5.2,  5.3,  5.4,  5.5,\n",
       "        5.6,  5.7,  5.8,  5.9,  6. ,  6.1,  6.2,  6.3,  6.4,  6.5,  6.6,\n",
       "        6.7,  6.8,  6.9,  7. ,  7.1,  7.2,  7.3,  7.4,  7.5,  7.6,  7.7,\n",
       "        7.8,  7.9,  8. ,  8.1,  8.2,  8.3...\n",
       "       0.65343434, 0.66333333, 0.67323232, 0.68313131, 0.6930303 ,\n",
       "       0.70292929, 0.71282828, 0.72272727, 0.73262626, 0.74252525,\n",
       "       0.75242424, 0.76232323, 0.77222222, 0.78212121, 0.7920202 ,\n",
       "       0.80191919, 0.81181818, 0.82171717, 0.83161616, 0.84151515,\n",
       "       0.85141414, 0.86131313, 0.87121212, 0.88111111, 0.8910101 ,\n",
       "       0.90090909, 0.91080808, 0.92070707, 0.93060606, 0.94050505,\n",
       "       0.95040404, 0.96030303, 0.97020202, 0.98010101, 0.99      ]))"
      ]
     },
     "execution_count": 55,
     "metadata": {},
     "output_type": "execute_result"
    }
   ],
   "source": [
    "elastic_r_cv.fit(X, y)"
   ]
  },
  {
   "cell_type": "code",
   "execution_count": 56,
   "id": "24ce0587",
   "metadata": {},
   "outputs": [
    {
     "data": {
      "text/plain": [
       "0.1"
      ]
     },
     "execution_count": 56,
     "metadata": {},
     "output_type": "execute_result"
    }
   ],
   "source": [
    "elastic_r_cv.alpha_"
   ]
  },
  {
   "cell_type": "code",
   "execution_count": 57,
   "id": "13f6f6be",
   "metadata": {},
   "outputs": [
    {
     "data": {
      "text/plain": [
       "0.99"
      ]
     },
     "execution_count": 57,
     "metadata": {},
     "output_type": "execute_result"
    }
   ],
   "source": [
    "elastic_r_cv.l1_ratio_"
   ]
  },
  {
   "cell_type": "code",
   "execution_count": 58,
   "id": "1d585a06",
   "metadata": {},
   "outputs": [
    {
     "data": {
      "text/html": [
       "<div>\n",
       "<style scoped>\n",
       "    .dataframe tbody tr th:only-of-type {\n",
       "        vertical-align: middle;\n",
       "    }\n",
       "\n",
       "    .dataframe tbody tr th {\n",
       "        vertical-align: top;\n",
       "    }\n",
       "\n",
       "    .dataframe thead th {\n",
       "        text-align: right;\n",
       "    }\n",
       "</style>\n",
       "<table border=\"1\" class=\"dataframe\">\n",
       "  <thead>\n",
       "    <tr style=\"text-align: right;\">\n",
       "      <th></th>\n",
       "      <th>Coeficientes</th>\n",
       "      <th>Magnitude</th>\n",
       "    </tr>\n",
       "  </thead>\n",
       "  <tbody>\n",
       "    <tr>\n",
       "      <th>species_Gentoo</th>\n",
       "      <td>393.822356</td>\n",
       "      <td>393.822356</td>\n",
       "    </tr>\n",
       "    <tr>\n",
       "      <th>flipper_length_mm</th>\n",
       "      <td>263.242522</td>\n",
       "      <td>263.242522</td>\n",
       "    </tr>\n",
       "    <tr>\n",
       "      <th>sex_Male</th>\n",
       "      <td>157.927410</td>\n",
       "      <td>157.927410</td>\n",
       "    </tr>\n",
       "    <tr>\n",
       "      <th>bill_length_mm</th>\n",
       "      <td>144.069201</td>\n",
       "      <td>144.069201</td>\n",
       "    </tr>\n",
       "    <tr>\n",
       "      <th>species_Chinstrap</th>\n",
       "      <td>-138.897264</td>\n",
       "      <td>138.897264</td>\n",
       "    </tr>\n",
       "  </tbody>\n",
       "</table>\n",
       "</div>"
      ],
      "text/plain": [
       "                   Coeficientes   Magnitude\n",
       "species_Gentoo       393.822356  393.822356\n",
       "flipper_length_mm    263.242522  263.242522\n",
       "sex_Male             157.927410  157.927410\n",
       "bill_length_mm       144.069201  144.069201\n",
       "species_Chinstrap   -138.897264  138.897264"
      ]
     },
     "execution_count": 58,
     "metadata": {},
     "output_type": "execute_result"
    }
   ],
   "source": [
    "coeficients = pd.DataFrame(elastic_r_cv.coef_, variable_names, columns = ['Coeficientes'])\n",
    "coeficients['Magnitude'] = abs(coeficients['Coeficientes'])\n",
    "coeficients.sort_values('Magnitude', ascending = False).head(5)"
   ]
  },
  {
   "cell_type": "code",
   "execution_count": 59,
   "id": "1b712216",
   "metadata": {},
   "outputs": [],
   "source": [
    "metricas = cross_validate(\n",
    "    elastic_r_cv, X, y, \n",
    "    scoring=['neg_mean_squared_error', 'max_error', 'neg_mean_absolute_error', 'r2'], cv=10)"
   ]
  },
  {
   "cell_type": "code",
   "execution_count": 60,
   "id": "f8e6d07f",
   "metadata": {},
   "outputs": [
    {
     "data": {
      "text/html": [
       "<div>\n",
       "<style scoped>\n",
       "    .dataframe tbody tr th:only-of-type {\n",
       "        vertical-align: middle;\n",
       "    }\n",
       "\n",
       "    .dataframe tbody tr th {\n",
       "        vertical-align: top;\n",
       "    }\n",
       "\n",
       "    .dataframe thead th {\n",
       "        text-align: right;\n",
       "    }\n",
       "</style>\n",
       "<table border=\"1\" class=\"dataframe\">\n",
       "  <thead>\n",
       "    <tr style=\"text-align: right;\">\n",
       "      <th></th>\n",
       "      <th>fit_time</th>\n",
       "      <th>score_time</th>\n",
       "      <th>test_neg_mean_squared_error</th>\n",
       "      <th>test_max_error</th>\n",
       "      <th>test_neg_mean_absolute_error</th>\n",
       "      <th>test_r2</th>\n",
       "    </tr>\n",
       "  </thead>\n",
       "  <tbody>\n",
       "    <tr>\n",
       "      <th>0</th>\n",
       "      <td>20.451559</td>\n",
       "      <td>0.002479</td>\n",
       "      <td>-76408.579841</td>\n",
       "      <td>-715.121980</td>\n",
       "      <td>-231.452787</td>\n",
       "      <td>0.491308</td>\n",
       "    </tr>\n",
       "    <tr>\n",
       "      <th>1</th>\n",
       "      <td>21.180203</td>\n",
       "      <td>0.000991</td>\n",
       "      <td>-103229.146938</td>\n",
       "      <td>-829.466603</td>\n",
       "      <td>-244.195131</td>\n",
       "      <td>0.625321</td>\n",
       "    </tr>\n",
       "    <tr>\n",
       "      <th>2</th>\n",
       "      <td>20.763029</td>\n",
       "      <td>0.003473</td>\n",
       "      <td>-100956.011686</td>\n",
       "      <td>-792.320796</td>\n",
       "      <td>-238.346821</td>\n",
       "      <td>0.514635</td>\n",
       "    </tr>\n",
       "    <tr>\n",
       "      <th>3</th>\n",
       "      <td>20.786856</td>\n",
       "      <td>0.000994</td>\n",
       "      <td>-120701.561398</td>\n",
       "      <td>-725.556139</td>\n",
       "      <td>-285.532637</td>\n",
       "      <td>0.448859</td>\n",
       "    </tr>\n",
       "    <tr>\n",
       "      <th>4</th>\n",
       "      <td>22.868568</td>\n",
       "      <td>0.001486</td>\n",
       "      <td>-117312.691687</td>\n",
       "      <td>-745.504698</td>\n",
       "      <td>-288.678633</td>\n",
       "      <td>-0.242984</td>\n",
       "    </tr>\n",
       "    <tr>\n",
       "      <th>5</th>\n",
       "      <td>20.687656</td>\n",
       "      <td>0.002481</td>\n",
       "      <td>-89407.583757</td>\n",
       "      <td>-669.295610</td>\n",
       "      <td>-247.020391</td>\n",
       "      <td>0.593071</td>\n",
       "    </tr>\n",
       "    <tr>\n",
       "      <th>6</th>\n",
       "      <td>21.223828</td>\n",
       "      <td>0.002480</td>\n",
       "      <td>-107003.629732</td>\n",
       "      <td>-987.092951</td>\n",
       "      <td>-240.785291</td>\n",
       "      <td>0.839370</td>\n",
       "    </tr>\n",
       "    <tr>\n",
       "      <th>7</th>\n",
       "      <td>22.335865</td>\n",
       "      <td>0.002479</td>\n",
       "      <td>-105659.562870</td>\n",
       "      <td>-1005.874534</td>\n",
       "      <td>-257.041607</td>\n",
       "      <td>0.548423</td>\n",
       "    </tr>\n",
       "    <tr>\n",
       "      <th>8</th>\n",
       "      <td>20.276971</td>\n",
       "      <td>0.002478</td>\n",
       "      <td>-57478.241799</td>\n",
       "      <td>-599.392406</td>\n",
       "      <td>-189.057856</td>\n",
       "      <td>0.773792</td>\n",
       "    </tr>\n",
       "    <tr>\n",
       "      <th>9</th>\n",
       "      <td>24.461220</td>\n",
       "      <td>0.002478</td>\n",
       "      <td>-79281.117716</td>\n",
       "      <td>-767.790945</td>\n",
       "      <td>-217.139814</td>\n",
       "      <td>0.610410</td>\n",
       "    </tr>\n",
       "  </tbody>\n",
       "</table>\n",
       "</div>"
      ],
      "text/plain": [
       "    fit_time  score_time  test_neg_mean_squared_error  test_max_error  \\\n",
       "0  20.451559    0.002479                -76408.579841     -715.121980   \n",
       "1  21.180203    0.000991               -103229.146938     -829.466603   \n",
       "2  20.763029    0.003473               -100956.011686     -792.320796   \n",
       "3  20.786856    0.000994               -120701.561398     -725.556139   \n",
       "4  22.868568    0.001486               -117312.691687     -745.504698   \n",
       "5  20.687656    0.002481                -89407.583757     -669.295610   \n",
       "6  21.223828    0.002480               -107003.629732     -987.092951   \n",
       "7  22.335865    0.002479               -105659.562870    -1005.874534   \n",
       "8  20.276971    0.002478                -57478.241799     -599.392406   \n",
       "9  24.461220    0.002478                -79281.117716     -767.790945   \n",
       "\n",
       "   test_neg_mean_absolute_error   test_r2  \n",
       "0                   -231.452787  0.491308  \n",
       "1                   -244.195131  0.625321  \n",
       "2                   -238.346821  0.514635  \n",
       "3                   -285.532637  0.448859  \n",
       "4                   -288.678633 -0.242984  \n",
       "5                   -247.020391  0.593071  \n",
       "6                   -240.785291  0.839370  \n",
       "7                   -257.041607  0.548423  \n",
       "8                   -189.057856  0.773792  \n",
       "9                   -217.139814  0.610410  "
      ]
     },
     "execution_count": 60,
     "metadata": {},
     "output_type": "execute_result"
    }
   ],
   "source": [
    "pd.DataFrame(metricas)"
   ]
  },
  {
   "cell_type": "code",
   "execution_count": 61,
   "id": "cdf891b0",
   "metadata": {},
   "outputs": [
    {
     "data": {
      "text/plain": [
       "fit_time                           21.503576\n",
       "score_time                          0.002182\n",
       "test_neg_mean_squared_error    -95743.812742\n",
       "test_max_error                   -783.741666\n",
       "test_neg_mean_absolute_error     -243.925097\n",
       "test_r2                             0.520220\n",
       "dtype: float64"
      ]
     },
     "execution_count": 61,
     "metadata": {},
     "output_type": "execute_result"
    }
   ],
   "source": [
    "pd.DataFrame(metricas).mean()"
   ]
  },
  {
   "cell_type": "markdown",
   "id": "d8e720de",
   "metadata": {},
   "source": [
    "### Elastic Grid Search"
   ]
  },
  {
   "cell_type": "code",
   "execution_count": 62,
   "id": "d49c5ec5",
   "metadata": {},
   "outputs": [],
   "source": [
    "from sklearn.model_selection import GridSearchCV\n",
    "from sklearn.linear_model import ElasticNet"
   ]
  },
  {
   "cell_type": "code",
   "execution_count": 63,
   "id": "8fc36b0a",
   "metadata": {},
   "outputs": [],
   "source": [
    "elastic_r = ElasticNet()"
   ]
  },
  {
   "cell_type": "code",
   "execution_count": 64,
   "id": "30ee9d75",
   "metadata": {},
   "outputs": [],
   "source": [
    "parametros = {'alpha': np.linspace(0.1,10,100), 'l1_ratio': np.linspace(0.01, 0.99, 100)}\n",
    "elastic_r_cv = GridSearchCV(estimator = elastic_r, \n",
    "                            param_grid=parametros, \n",
    "                            scoring= 'neg_mean_squared_error',\n",
    "                            cv=10,)"
   ]
  },
  {
   "cell_type": "code",
   "execution_count": 65,
   "id": "1f1be680",
   "metadata": {},
   "outputs": [
    {
     "data": {
      "text/plain": [
       "GridSearchCV(cv=10, estimator=ElasticNet(),\n",
       "             param_grid={'alpha': array([ 0.1,  0.2,  0.3,  0.4,  0.5,  0.6,  0.7,  0.8,  0.9,  1. ,  1.1,\n",
       "        1.2,  1.3,  1.4,  1.5,  1.6,  1.7,  1.8,  1.9,  2. ,  2.1,  2.2,\n",
       "        2.3,  2.4,  2.5,  2.6,  2.7,  2.8,  2.9,  3. ,  3.1,  3.2,  3.3,\n",
       "        3.4,  3.5,  3.6,  3.7,  3.8,  3.9,  4. ,  4.1,  4.2,  4.3,  4.4,\n",
       "        4.5,  4.6,  4.7,  4.8,  4.9,  5. ,  5.1,  5.2,  5.3,  5.4,  5.5,\n",
       "        5.6,  5.7,  5.8,  5.9,  6. ,  6.1,  6.2,  6.3,  6.4,  6.5,  6.6,\n",
       "        6.7,  6.8,  6.9,  7. ,  7.1,  7.2,...\n",
       "       0.70292929, 0.71282828, 0.72272727, 0.73262626, 0.74252525,\n",
       "       0.75242424, 0.76232323, 0.77222222, 0.78212121, 0.7920202 ,\n",
       "       0.80191919, 0.81181818, 0.82171717, 0.83161616, 0.84151515,\n",
       "       0.85141414, 0.86131313, 0.87121212, 0.88111111, 0.8910101 ,\n",
       "       0.90090909, 0.91080808, 0.92070707, 0.93060606, 0.94050505,\n",
       "       0.95040404, 0.96030303, 0.97020202, 0.98010101, 0.99      ])},\n",
       "             scoring='neg_mean_squared_error')"
      ]
     },
     "execution_count": 65,
     "metadata": {},
     "output_type": "execute_result"
    }
   ],
   "source": [
    "elastic_r_cv.fit(X, y)"
   ]
  },
  {
   "cell_type": "code",
   "execution_count": 66,
   "id": "0043449e",
   "metadata": {},
   "outputs": [
    {
     "data": {
      "text/plain": [
       "ElasticNet(alpha=0.1, l1_ratio=0.99)"
      ]
     },
     "execution_count": 66,
     "metadata": {},
     "output_type": "execute_result"
    }
   ],
   "source": [
    "elastic_r_cv.best_estimator_"
   ]
  },
  {
   "cell_type": "code",
   "execution_count": 67,
   "id": "c44289f9",
   "metadata": {},
   "outputs": [
    {
     "data": {
      "text/plain": [
       "{'alpha': 0.1, 'l1_ratio': 0.99}"
      ]
     },
     "execution_count": 67,
     "metadata": {},
     "output_type": "execute_result"
    }
   ],
   "source": [
    "elastic_r_cv.best_params_"
   ]
  },
  {
   "cell_type": "code",
   "execution_count": 68,
   "id": "95f535e2",
   "metadata": {},
   "outputs": [],
   "source": [
    "elastic_r = ElasticNet(alpha = elastic_r_cv.best_params_['alpha'], l1_ratio = elastic_r_cv.best_params_['l1_ratio'])"
   ]
  },
  {
   "cell_type": "code",
   "execution_count": 69,
   "id": "2bf49494",
   "metadata": {},
   "outputs": [],
   "source": [
    "metricas = cross_validate(\n",
    "    elastic_r, X, y, \n",
    "    scoring=['neg_mean_squared_error', 'max_error', 'neg_mean_absolute_error', 'r2'], cv=10)"
   ]
  },
  {
   "cell_type": "code",
   "execution_count": 70,
   "id": "9d4aa9b3",
   "metadata": {},
   "outputs": [
    {
     "data": {
      "text/html": [
       "<div>\n",
       "<style scoped>\n",
       "    .dataframe tbody tr th:only-of-type {\n",
       "        vertical-align: middle;\n",
       "    }\n",
       "\n",
       "    .dataframe tbody tr th {\n",
       "        vertical-align: top;\n",
       "    }\n",
       "\n",
       "    .dataframe thead th {\n",
       "        text-align: right;\n",
       "    }\n",
       "</style>\n",
       "<table border=\"1\" class=\"dataframe\">\n",
       "  <thead>\n",
       "    <tr style=\"text-align: right;\">\n",
       "      <th></th>\n",
       "      <th>fit_time</th>\n",
       "      <th>score_time</th>\n",
       "      <th>test_neg_mean_squared_error</th>\n",
       "      <th>test_max_error</th>\n",
       "      <th>test_neg_mean_absolute_error</th>\n",
       "      <th>test_r2</th>\n",
       "    </tr>\n",
       "  </thead>\n",
       "  <tbody>\n",
       "    <tr>\n",
       "      <th>0</th>\n",
       "      <td>0.001979</td>\n",
       "      <td>0.001491</td>\n",
       "      <td>-74070.508430</td>\n",
       "      <td>-698.537962</td>\n",
       "      <td>-234.348350</td>\n",
       "      <td>0.506874</td>\n",
       "    </tr>\n",
       "    <tr>\n",
       "      <th>1</th>\n",
       "      <td>0.002004</td>\n",
       "      <td>0.001468</td>\n",
       "      <td>-103229.146938</td>\n",
       "      <td>-829.466603</td>\n",
       "      <td>-244.195131</td>\n",
       "      <td>0.625321</td>\n",
       "    </tr>\n",
       "    <tr>\n",
       "      <th>2</th>\n",
       "      <td>0.001508</td>\n",
       "      <td>0.001488</td>\n",
       "      <td>-100956.011686</td>\n",
       "      <td>-792.320796</td>\n",
       "      <td>-238.346821</td>\n",
       "      <td>0.514635</td>\n",
       "    </tr>\n",
       "    <tr>\n",
       "      <th>3</th>\n",
       "      <td>0.000988</td>\n",
       "      <td>0.001964</td>\n",
       "      <td>-120744.023763</td>\n",
       "      <td>-727.463968</td>\n",
       "      <td>-286.072383</td>\n",
       "      <td>0.448665</td>\n",
       "    </tr>\n",
       "    <tr>\n",
       "      <th>4</th>\n",
       "      <td>0.001492</td>\n",
       "      <td>0.001486</td>\n",
       "      <td>-117363.288082</td>\n",
       "      <td>-747.682804</td>\n",
       "      <td>-288.098406</td>\n",
       "      <td>-0.243520</td>\n",
       "    </tr>\n",
       "    <tr>\n",
       "      <th>5</th>\n",
       "      <td>0.001488</td>\n",
       "      <td>0.001469</td>\n",
       "      <td>-88457.504207</td>\n",
       "      <td>-638.586964</td>\n",
       "      <td>-248.314903</td>\n",
       "      <td>0.597395</td>\n",
       "    </tr>\n",
       "    <tr>\n",
       "      <th>6</th>\n",
       "      <td>0.000973</td>\n",
       "      <td>0.001510</td>\n",
       "      <td>-107061.217719</td>\n",
       "      <td>-987.167503</td>\n",
       "      <td>-240.206949</td>\n",
       "      <td>0.839283</td>\n",
       "    </tr>\n",
       "    <tr>\n",
       "      <th>7</th>\n",
       "      <td>0.000994</td>\n",
       "      <td>0.001505</td>\n",
       "      <td>-105725.431335</td>\n",
       "      <td>-1004.299699</td>\n",
       "      <td>-257.177258</td>\n",
       "      <td>0.548142</td>\n",
       "    </tr>\n",
       "    <tr>\n",
       "      <th>8</th>\n",
       "      <td>0.001965</td>\n",
       "      <td>0.002482</td>\n",
       "      <td>-57188.749854</td>\n",
       "      <td>-585.232614</td>\n",
       "      <td>-190.700568</td>\n",
       "      <td>0.774931</td>\n",
       "    </tr>\n",
       "    <tr>\n",
       "      <th>9</th>\n",
       "      <td>0.001488</td>\n",
       "      <td>0.001488</td>\n",
       "      <td>-80067.865796</td>\n",
       "      <td>-796.921879</td>\n",
       "      <td>-216.072074</td>\n",
       "      <td>0.606544</td>\n",
       "    </tr>\n",
       "  </tbody>\n",
       "</table>\n",
       "</div>"
      ],
      "text/plain": [
       "   fit_time  score_time  test_neg_mean_squared_error  test_max_error  \\\n",
       "0  0.001979    0.001491                -74070.508430     -698.537962   \n",
       "1  0.002004    0.001468               -103229.146938     -829.466603   \n",
       "2  0.001508    0.001488               -100956.011686     -792.320796   \n",
       "3  0.000988    0.001964               -120744.023763     -727.463968   \n",
       "4  0.001492    0.001486               -117363.288082     -747.682804   \n",
       "5  0.001488    0.001469                -88457.504207     -638.586964   \n",
       "6  0.000973    0.001510               -107061.217719     -987.167503   \n",
       "7  0.000994    0.001505               -105725.431335    -1004.299699   \n",
       "8  0.001965    0.002482                -57188.749854     -585.232614   \n",
       "9  0.001488    0.001488                -80067.865796     -796.921879   \n",
       "\n",
       "   test_neg_mean_absolute_error   test_r2  \n",
       "0                   -234.348350  0.506874  \n",
       "1                   -244.195131  0.625321  \n",
       "2                   -238.346821  0.514635  \n",
       "3                   -286.072383  0.448665  \n",
       "4                   -288.098406 -0.243520  \n",
       "5                   -248.314903  0.597395  \n",
       "6                   -240.206949  0.839283  \n",
       "7                   -257.177258  0.548142  \n",
       "8                   -190.700568  0.774931  \n",
       "9                   -216.072074  0.606544  "
      ]
     },
     "execution_count": 70,
     "metadata": {},
     "output_type": "execute_result"
    }
   ],
   "source": [
    "pd.DataFrame(metricas)"
   ]
  },
  {
   "cell_type": "code",
   "execution_count": 71,
   "id": "3f622066",
   "metadata": {},
   "outputs": [
    {
     "data": {
      "text/plain": [
       "fit_time                            0.001488\n",
       "score_time                          0.001635\n",
       "test_neg_mean_squared_error    -95486.374781\n",
       "test_max_error                   -780.768079\n",
       "test_neg_mean_absolute_error     -244.353284\n",
       "test_r2                             0.521827\n",
       "dtype: float64"
      ]
     },
     "execution_count": 71,
     "metadata": {},
     "output_type": "execute_result"
    }
   ],
   "source": [
    "pd.DataFrame(metricas).mean()"
   ]
  }
 ],
 "metadata": {
  "kernelspec": {
   "display_name": "Python 3",
   "language": "python",
   "name": "python3"
  },
  "language_info": {
   "codemirror_mode": {
    "name": "ipython",
    "version": 3
   },
   "file_extension": ".py",
   "mimetype": "text/x-python",
   "name": "python",
   "nbconvert_exporter": "python",
   "pygments_lexer": "ipython3",
   "version": "3.8.8"
  }
 },
 "nbformat": 4,
 "nbformat_minor": 5
}
