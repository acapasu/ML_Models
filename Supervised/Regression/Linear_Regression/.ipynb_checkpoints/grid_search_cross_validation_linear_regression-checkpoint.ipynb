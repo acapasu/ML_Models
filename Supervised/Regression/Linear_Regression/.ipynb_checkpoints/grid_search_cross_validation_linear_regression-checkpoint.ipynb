{
 "cells": [
  {
   "cell_type": "markdown",
   "id": "5ada403c",
   "metadata": {},
   "source": [
    "## Import Libraries"
   ]
  },
  {
   "cell_type": "code",
   "execution_count": 1,
   "id": "115e56e4",
   "metadata": {},
   "outputs": [],
   "source": [
    "import pandas as pd\n",
    "import numpy as np\n",
    "import matplotlib.pyplot as plt\n",
    "import seaborn as sns\n",
    "import missingno as msno\n",
    "\n",
    "from sklearn.model_selection import train_test_split\n",
    "from sklearn.linear_model import LinearRegression\n",
    "from sklearn import metrics\n",
    "from sklearn.preprocessing import StandardScaler"
   ]
  },
  {
   "cell_type": "markdown",
   "id": "603a65bf",
   "metadata": {},
   "source": [
    "## Import Dataset"
   ]
  },
  {
   "cell_type": "code",
   "execution_count": 2,
   "id": "1ae9ed66",
   "metadata": {},
   "outputs": [],
   "source": [
    "df_pen = sns.load_dataset('penguins')"
   ]
  },
  {
   "cell_type": "code",
   "execution_count": 3,
   "id": "23874217",
   "metadata": {},
   "outputs": [],
   "source": [
    "X = df_pen.drop(['body_mass_g'], axis = 1)\n",
    "y = df_pen['body_mass_g']"
   ]
  },
  {
   "cell_type": "markdown",
   "id": "9b0089f6",
   "metadata": {},
   "source": [
    "## Data Pre-processing"
   ]
  },
  {
   "cell_type": "code",
   "execution_count": 4,
   "id": "7046910b",
   "metadata": {},
   "outputs": [],
   "source": [
    "categorical_x = ['species', 'island', 'sex']\n",
    "numerical_x = X.drop(categorical_x, axis = 1).columns"
   ]
  },
  {
   "cell_type": "code",
   "execution_count": 5,
   "id": "53f514b3",
   "metadata": {},
   "outputs": [],
   "source": [
    "## If y is categorical:\n",
    "# y.fillna(y.mode(), inplace= True)\n",
    "##If y is numerical\n",
    "y.fillna(y.mean(), inplace= True)\n",
    "for i in numerical_x:\n",
    "    X[i].fillna(X[i].mean(), inplace = True)\n",
    "    \n",
    "\n",
    "for i in categorical_x:\n",
    "    X[i].fillna(X[i].mode().iloc[0], inplace = True)\n",
    "    \n",
    "categoricas = pd.get_dummies(X[categorical_x], drop_first=True)\n",
    "X = pd.concat([categoricas, X[numerical_x]], axis = 1)\n",
    "variable_names = X.columns"
   ]
  },
  {
   "cell_type": "code",
   "execution_count": 6,
   "id": "e82cf19d",
   "metadata": {},
   "outputs": [],
   "source": [
    "escalador = StandardScaler()\n",
    "escalador.fit(X)\n",
    "\n",
    "X = escalador.transform(X)"
   ]
  },
  {
   "cell_type": "markdown",
   "id": "47b272d5",
   "metadata": {},
   "source": [
    "## Model implementation"
   ]
  },
  {
   "cell_type": "code",
   "execution_count": 7,
   "id": "c5318a1b",
   "metadata": {},
   "outputs": [],
   "source": [
    "linear_r = LinearRegression()"
   ]
  },
  {
   "cell_type": "markdown",
   "id": "f7170fdd",
   "metadata": {},
   "source": [
    "## Cross - Validation"
   ]
  },
  {
   "cell_type": "code",
   "execution_count": 8,
   "id": "51e2d56c",
   "metadata": {},
   "outputs": [],
   "source": [
    "from sklearn.model_selection import cross_val_score"
   ]
  },
  {
   "cell_type": "code",
   "execution_count": 9,
   "id": "c0418ac9",
   "metadata": {},
   "outputs": [],
   "source": [
    "metricas = cross_val_score(linear_r, X, y, scoring='neg_mean_squared_error', cv=10)"
   ]
  },
  {
   "cell_type": "code",
   "execution_count": 10,
   "id": "0410e8b0",
   "metadata": {},
   "outputs": [
    {
     "data": {
      "text/plain": [
       "array([ -88518.32887519,  -92494.50848003,  -88764.41940317,\n",
       "       -137871.25730511, -121731.05472199,  -92708.86183285,\n",
       "        -98692.05583413,  -91905.47616587,  -52355.76220468,\n",
       "        -58833.95990778])"
      ]
     },
     "execution_count": 10,
     "metadata": {},
     "output_type": "execute_result"
    }
   ],
   "source": [
    "metricas"
   ]
  },
  {
   "cell_type": "code",
   "execution_count": 11,
   "id": "108ccac0",
   "metadata": {},
   "outputs": [
    {
     "data": {
      "text/plain": [
       "0   -92387.568473\n",
       "dtype: float64"
      ]
     },
     "execution_count": 11,
     "metadata": {},
     "output_type": "execute_result"
    }
   ],
   "source": [
    "pd.DataFrame(metricas).mean()"
   ]
  },
  {
   "cell_type": "markdown",
   "id": "9ca95ea4",
   "metadata": {},
   "source": [
    "## Cross_Validate"
   ]
  },
  {
   "cell_type": "code",
   "execution_count": 12,
   "id": "26b875d9",
   "metadata": {},
   "outputs": [],
   "source": [
    "from sklearn.model_selection import cross_validate"
   ]
  },
  {
   "cell_type": "code",
   "execution_count": 13,
   "id": "7f408d34",
   "metadata": {},
   "outputs": [],
   "source": [
    "metricas = cross_validate(\n",
    "    linear_r, X, y, \n",
    "    scoring=['neg_mean_squared_error', 'max_error', 'neg_mean_absolute_error', 'r2'], cv=10)"
   ]
  },
  {
   "cell_type": "code",
   "execution_count": 14,
   "id": "0abe5219",
   "metadata": {},
   "outputs": [
    {
     "data": {
      "text/html": [
       "<div>\n",
       "<style scoped>\n",
       "    .dataframe tbody tr th:only-of-type {\n",
       "        vertical-align: middle;\n",
       "    }\n",
       "\n",
       "    .dataframe tbody tr th {\n",
       "        vertical-align: top;\n",
       "    }\n",
       "\n",
       "    .dataframe thead th {\n",
       "        text-align: right;\n",
       "    }\n",
       "</style>\n",
       "<table border=\"1\" class=\"dataframe\">\n",
       "  <thead>\n",
       "    <tr style=\"text-align: right;\">\n",
       "      <th></th>\n",
       "      <th>fit_time</th>\n",
       "      <th>score_time</th>\n",
       "      <th>test_neg_mean_squared_error</th>\n",
       "      <th>test_max_error</th>\n",
       "      <th>test_neg_mean_absolute_error</th>\n",
       "      <th>test_r2</th>\n",
       "    </tr>\n",
       "  </thead>\n",
       "  <tbody>\n",
       "    <tr>\n",
       "      <th>0</th>\n",
       "      <td>0.002478</td>\n",
       "      <td>0.002481</td>\n",
       "      <td>-88518.328875</td>\n",
       "      <td>-675.521304</td>\n",
       "      <td>-239.101618</td>\n",
       "      <td>0.410688</td>\n",
       "    </tr>\n",
       "    <tr>\n",
       "      <th>1</th>\n",
       "      <td>0.001489</td>\n",
       "      <td>0.004463</td>\n",
       "      <td>-92494.508480</td>\n",
       "      <td>-808.681074</td>\n",
       "      <td>-235.172392</td>\n",
       "      <td>0.664283</td>\n",
       "    </tr>\n",
       "    <tr>\n",
       "      <th>2</th>\n",
       "      <td>0.001983</td>\n",
       "      <td>0.001487</td>\n",
       "      <td>-88764.419403</td>\n",
       "      <td>-737.040991</td>\n",
       "      <td>-223.473209</td>\n",
       "      <td>0.573248</td>\n",
       "    </tr>\n",
       "    <tr>\n",
       "      <th>3</th>\n",
       "      <td>0.000992</td>\n",
       "      <td>0.001488</td>\n",
       "      <td>-137871.257305</td>\n",
       "      <td>-778.033430</td>\n",
       "      <td>-304.193471</td>\n",
       "      <td>0.370460</td>\n",
       "    </tr>\n",
       "    <tr>\n",
       "      <th>4</th>\n",
       "      <td>0.000992</td>\n",
       "      <td>0.000992</td>\n",
       "      <td>-121731.054722</td>\n",
       "      <td>-761.217954</td>\n",
       "      <td>-298.268763</td>\n",
       "      <td>-0.289799</td>\n",
       "    </tr>\n",
       "    <tr>\n",
       "      <th>5</th>\n",
       "      <td>0.000992</td>\n",
       "      <td>0.001985</td>\n",
       "      <td>-92708.861833</td>\n",
       "      <td>-639.858076</td>\n",
       "      <td>-253.080079</td>\n",
       "      <td>0.578045</td>\n",
       "    </tr>\n",
       "    <tr>\n",
       "      <th>6</th>\n",
       "      <td>0.001984</td>\n",
       "      <td>0.001984</td>\n",
       "      <td>-98692.055834</td>\n",
       "      <td>-953.516755</td>\n",
       "      <td>-235.319421</td>\n",
       "      <td>0.851847</td>\n",
       "    </tr>\n",
       "    <tr>\n",
       "      <th>7</th>\n",
       "      <td>0.001488</td>\n",
       "      <td>0.001984</td>\n",
       "      <td>-91905.476166</td>\n",
       "      <td>-673.884947</td>\n",
       "      <td>-250.614796</td>\n",
       "      <td>0.607207</td>\n",
       "    </tr>\n",
       "    <tr>\n",
       "      <th>8</th>\n",
       "      <td>0.000993</td>\n",
       "      <td>0.001486</td>\n",
       "      <td>-52355.762205</td>\n",
       "      <td>-550.386594</td>\n",
       "      <td>-181.677906</td>\n",
       "      <td>0.793952</td>\n",
       "    </tr>\n",
       "    <tr>\n",
       "      <th>9</th>\n",
       "      <td>0.000992</td>\n",
       "      <td>0.000992</td>\n",
       "      <td>-58833.959908</td>\n",
       "      <td>-556.909867</td>\n",
       "      <td>-184.290675</td>\n",
       "      <td>0.710888</td>\n",
       "    </tr>\n",
       "  </tbody>\n",
       "</table>\n",
       "</div>"
      ],
      "text/plain": [
       "   fit_time  score_time  test_neg_mean_squared_error  test_max_error  \\\n",
       "0  0.002478    0.002481                -88518.328875     -675.521304   \n",
       "1  0.001489    0.004463                -92494.508480     -808.681074   \n",
       "2  0.001983    0.001487                -88764.419403     -737.040991   \n",
       "3  0.000992    0.001488               -137871.257305     -778.033430   \n",
       "4  0.000992    0.000992               -121731.054722     -761.217954   \n",
       "5  0.000992    0.001985                -92708.861833     -639.858076   \n",
       "6  0.001984    0.001984                -98692.055834     -953.516755   \n",
       "7  0.001488    0.001984                -91905.476166     -673.884947   \n",
       "8  0.000993    0.001486                -52355.762205     -550.386594   \n",
       "9  0.000992    0.000992                -58833.959908     -556.909867   \n",
       "\n",
       "   test_neg_mean_absolute_error   test_r2  \n",
       "0                   -239.101618  0.410688  \n",
       "1                   -235.172392  0.664283  \n",
       "2                   -223.473209  0.573248  \n",
       "3                   -304.193471  0.370460  \n",
       "4                   -298.268763 -0.289799  \n",
       "5                   -253.080079  0.578045  \n",
       "6                   -235.319421  0.851847  \n",
       "7                   -250.614796  0.607207  \n",
       "8                   -181.677906  0.793952  \n",
       "9                   -184.290675  0.710888  "
      ]
     },
     "execution_count": 14,
     "metadata": {},
     "output_type": "execute_result"
    }
   ],
   "source": [
    "pd.DataFrame(metricas)"
   ]
  },
  {
   "cell_type": "code",
   "execution_count": 15,
   "id": "2ca237ed",
   "metadata": {},
   "outputs": [
    {
     "data": {
      "text/plain": [
       "fit_time                            0.001438\n",
       "score_time                          0.001934\n",
       "test_neg_mean_squared_error    -92387.568473\n",
       "test_max_error                   -713.505099\n",
       "test_neg_mean_absolute_error     -240.519233\n",
       "test_r2                             0.527082\n",
       "dtype: float64"
      ]
     },
     "execution_count": 15,
     "metadata": {},
     "output_type": "execute_result"
    }
   ],
   "source": [
    "pd.DataFrame(metricas).mean()"
   ]
  },
  {
   "cell_type": "markdown",
   "id": "598fa9bf",
   "metadata": {},
   "source": [
    "## Ridge"
   ]
  },
  {
   "cell_type": "markdown",
   "id": "4ea435ff",
   "metadata": {},
   "source": [
    "### Ridge CV"
   ]
  },
  {
   "cell_type": "code",
   "execution_count": 16,
   "id": "a37795ef",
   "metadata": {},
   "outputs": [],
   "source": [
    "from sklearn.linear_model import RidgeCV"
   ]
  },
  {
   "cell_type": "code",
   "execution_count": 17,
   "id": "e6535cf4",
   "metadata": {},
   "outputs": [],
   "source": [
    "ridge_r_cv = RidgeCV(alphas=np.linspace(0.1,10,100), scoring = 'neg_mean_squared_error', cv = 10)"
   ]
  },
  {
   "cell_type": "code",
   "execution_count": 18,
   "id": "e265e8da",
   "metadata": {},
   "outputs": [
    {
     "data": {
      "text/plain": [
       "RidgeCV(alphas=array([ 0.1,  0.2,  0.3,  0.4,  0.5,  0.6,  0.7,  0.8,  0.9,  1. ,  1.1,\n",
       "        1.2,  1.3,  1.4,  1.5,  1.6,  1.7,  1.8,  1.9,  2. ,  2.1,  2.2,\n",
       "        2.3,  2.4,  2.5,  2.6,  2.7,  2.8,  2.9,  3. ,  3.1,  3.2,  3.3,\n",
       "        3.4,  3.5,  3.6,  3.7,  3.8,  3.9,  4. ,  4.1,  4.2,  4.3,  4.4,\n",
       "        4.5,  4.6,  4.7,  4.8,  4.9,  5. ,  5.1,  5.2,  5.3,  5.4,  5.5,\n",
       "        5.6,  5.7,  5.8,  5.9,  6. ,  6.1,  6.2,  6.3,  6.4,  6.5,  6.6,\n",
       "        6.7,  6.8,  6.9,  7. ,  7.1,  7.2,  7.3,  7.4,  7.5,  7.6,  7.7,\n",
       "        7.8,  7.9,  8. ,  8.1,  8.2,  8.3,  8.4,  8.5,  8.6,  8.7,  8.8,\n",
       "        8.9,  9. ,  9.1,  9.2,  9.3,  9.4,  9.5,  9.6,  9.7,  9.8,  9.9,\n",
       "       10. ]),\n",
       "        cv=10, scoring='neg_mean_squared_error')"
      ]
     },
     "execution_count": 18,
     "metadata": {},
     "output_type": "execute_result"
    }
   ],
   "source": [
    "ridge_r_cv.fit(X, y)"
   ]
  },
  {
   "cell_type": "code",
   "execution_count": 19,
   "id": "cf6af822",
   "metadata": {},
   "outputs": [
    {
     "data": {
      "text/plain": [
       "0.1"
      ]
     },
     "execution_count": 19,
     "metadata": {},
     "output_type": "execute_result"
    }
   ],
   "source": [
    "ridge_r_cv.alpha_"
   ]
  },
  {
   "cell_type": "code",
   "execution_count": 20,
   "id": "ce472562",
   "metadata": {},
   "outputs": [
    {
     "data": {
      "text/html": [
       "<div>\n",
       "<style scoped>\n",
       "    .dataframe tbody tr th:only-of-type {\n",
       "        vertical-align: middle;\n",
       "    }\n",
       "\n",
       "    .dataframe tbody tr th {\n",
       "        vertical-align: top;\n",
       "    }\n",
       "\n",
       "    .dataframe thead th {\n",
       "        text-align: right;\n",
       "    }\n",
       "</style>\n",
       "<table border=\"1\" class=\"dataframe\">\n",
       "  <thead>\n",
       "    <tr style=\"text-align: right;\">\n",
       "      <th></th>\n",
       "      <th>Coeficientes</th>\n",
       "      <th>Magnitude</th>\n",
       "    </tr>\n",
       "  </thead>\n",
       "  <tbody>\n",
       "    <tr>\n",
       "      <th>species_Gentoo</th>\n",
       "      <td>428.566912</td>\n",
       "      <td>428.566912</td>\n",
       "    </tr>\n",
       "    <tr>\n",
       "      <th>flipper_length_mm</th>\n",
       "      <td>239.303802</td>\n",
       "      <td>239.303802</td>\n",
       "    </tr>\n",
       "    <tr>\n",
       "      <th>sex_Male</th>\n",
       "      <td>189.806189</td>\n",
       "      <td>189.806189</td>\n",
       "    </tr>\n",
       "    <tr>\n",
       "      <th>bill_length_mm</th>\n",
       "      <td>120.363690</td>\n",
       "      <td>120.363690</td>\n",
       "    </tr>\n",
       "    <tr>\n",
       "      <th>species_Chinstrap</th>\n",
       "      <td>-118.749976</td>\n",
       "      <td>118.749976</td>\n",
       "    </tr>\n",
       "  </tbody>\n",
       "</table>\n",
       "</div>"
      ],
      "text/plain": [
       "                   Coeficientes   Magnitude\n",
       "species_Gentoo       428.566912  428.566912\n",
       "flipper_length_mm    239.303802  239.303802\n",
       "sex_Male             189.806189  189.806189\n",
       "bill_length_mm       120.363690  120.363690\n",
       "species_Chinstrap   -118.749976  118.749976"
      ]
     },
     "execution_count": 20,
     "metadata": {},
     "output_type": "execute_result"
    }
   ],
   "source": [
    "coeficients = pd.DataFrame(ridge_r_cv.coef_, variable_names, columns = ['Coeficientes'])\n",
    "coeficients['Magnitude'] = abs(coeficients['Coeficientes'])\n",
    "coeficients.sort_values('Magnitude', ascending = False).head(5)"
   ]
  },
  {
   "cell_type": "code",
   "execution_count": 21,
   "id": "8b1a290b",
   "metadata": {},
   "outputs": [],
   "source": [
    "metricas = cross_validate(\n",
    "    ridge_r_cv, X, y, \n",
    "    scoring=['neg_mean_squared_error', 'max_error', 'neg_mean_absolute_error', 'r2'], cv=10)"
   ]
  },
  {
   "cell_type": "code",
   "execution_count": 22,
   "id": "fd4e0781",
   "metadata": {},
   "outputs": [
    {
     "data": {
      "text/html": [
       "<div>\n",
       "<style scoped>\n",
       "    .dataframe tbody tr th:only-of-type {\n",
       "        vertical-align: middle;\n",
       "    }\n",
       "\n",
       "    .dataframe tbody tr th {\n",
       "        vertical-align: top;\n",
       "    }\n",
       "\n",
       "    .dataframe thead th {\n",
       "        text-align: right;\n",
       "    }\n",
       "</style>\n",
       "<table border=\"1\" class=\"dataframe\">\n",
       "  <thead>\n",
       "    <tr style=\"text-align: right;\">\n",
       "      <th></th>\n",
       "      <th>fit_time</th>\n",
       "      <th>score_time</th>\n",
       "      <th>test_neg_mean_squared_error</th>\n",
       "      <th>test_max_error</th>\n",
       "      <th>test_neg_mean_absolute_error</th>\n",
       "      <th>test_r2</th>\n",
       "    </tr>\n",
       "  </thead>\n",
       "  <tbody>\n",
       "    <tr>\n",
       "      <th>0</th>\n",
       "      <td>2.571760</td>\n",
       "      <td>0.001487</td>\n",
       "      <td>-91271.368137</td>\n",
       "      <td>-697.143215</td>\n",
       "      <td>-239.700772</td>\n",
       "      <td>0.392359</td>\n",
       "    </tr>\n",
       "    <tr>\n",
       "      <th>1</th>\n",
       "      <td>2.492897</td>\n",
       "      <td>0.001487</td>\n",
       "      <td>-92626.620609</td>\n",
       "      <td>-809.308085</td>\n",
       "      <td>-235.312575</td>\n",
       "      <td>0.663803</td>\n",
       "    </tr>\n",
       "    <tr>\n",
       "      <th>2</th>\n",
       "      <td>2.590607</td>\n",
       "      <td>0.001488</td>\n",
       "      <td>-88706.685198</td>\n",
       "      <td>-736.105578</td>\n",
       "      <td>-223.422909</td>\n",
       "      <td>0.573526</td>\n",
       "    </tr>\n",
       "    <tr>\n",
       "      <th>3</th>\n",
       "      <td>2.229520</td>\n",
       "      <td>0.001487</td>\n",
       "      <td>-137929.967780</td>\n",
       "      <td>-779.061918</td>\n",
       "      <td>-304.192181</td>\n",
       "      <td>0.370192</td>\n",
       "    </tr>\n",
       "    <tr>\n",
       "      <th>4</th>\n",
       "      <td>2.129826</td>\n",
       "      <td>0.000991</td>\n",
       "      <td>-121815.160732</td>\n",
       "      <td>-759.250718</td>\n",
       "      <td>-298.713291</td>\n",
       "      <td>-0.290690</td>\n",
       "    </tr>\n",
       "    <tr>\n",
       "      <th>5</th>\n",
       "      <td>2.082208</td>\n",
       "      <td>0.000993</td>\n",
       "      <td>-93165.337213</td>\n",
       "      <td>-668.512222</td>\n",
       "      <td>-252.124564</td>\n",
       "      <td>0.575968</td>\n",
       "    </tr>\n",
       "    <tr>\n",
       "      <th>6</th>\n",
       "      <td>2.103535</td>\n",
       "      <td>0.000992</td>\n",
       "      <td>-98771.064050</td>\n",
       "      <td>-953.644327</td>\n",
       "      <td>-235.680395</td>\n",
       "      <td>0.851728</td>\n",
       "    </tr>\n",
       "    <tr>\n",
       "      <th>7</th>\n",
       "      <td>2.354016</td>\n",
       "      <td>0.000992</td>\n",
       "      <td>-91585.960878</td>\n",
       "      <td>-672.523427</td>\n",
       "      <td>-250.097504</td>\n",
       "      <td>0.608572</td>\n",
       "    </tr>\n",
       "    <tr>\n",
       "      <th>8</th>\n",
       "      <td>2.135280</td>\n",
       "      <td>0.001985</td>\n",
       "      <td>-52330.887908</td>\n",
       "      <td>-555.952841</td>\n",
       "      <td>-181.212655</td>\n",
       "      <td>0.794049</td>\n",
       "    </tr>\n",
       "    <tr>\n",
       "      <th>9</th>\n",
       "      <td>2.195792</td>\n",
       "      <td>0.001488</td>\n",
       "      <td>-58702.983090</td>\n",
       "      <td>-561.280103</td>\n",
       "      <td>-184.955357</td>\n",
       "      <td>0.711532</td>\n",
       "    </tr>\n",
       "  </tbody>\n",
       "</table>\n",
       "</div>"
      ],
      "text/plain": [
       "   fit_time  score_time  test_neg_mean_squared_error  test_max_error  \\\n",
       "0  2.571760    0.001487                -91271.368137     -697.143215   \n",
       "1  2.492897    0.001487                -92626.620609     -809.308085   \n",
       "2  2.590607    0.001488                -88706.685198     -736.105578   \n",
       "3  2.229520    0.001487               -137929.967780     -779.061918   \n",
       "4  2.129826    0.000991               -121815.160732     -759.250718   \n",
       "5  2.082208    0.000993                -93165.337213     -668.512222   \n",
       "6  2.103535    0.000992                -98771.064050     -953.644327   \n",
       "7  2.354016    0.000992                -91585.960878     -672.523427   \n",
       "8  2.135280    0.001985                -52330.887908     -555.952841   \n",
       "9  2.195792    0.001488                -58702.983090     -561.280103   \n",
       "\n",
       "   test_neg_mean_absolute_error   test_r2  \n",
       "0                   -239.700772  0.392359  \n",
       "1                   -235.312575  0.663803  \n",
       "2                   -223.422909  0.573526  \n",
       "3                   -304.192181  0.370192  \n",
       "4                   -298.713291 -0.290690  \n",
       "5                   -252.124564  0.575968  \n",
       "6                   -235.680395  0.851728  \n",
       "7                   -250.097504  0.608572  \n",
       "8                   -181.212655  0.794049  \n",
       "9                   -184.955357  0.711532  "
      ]
     },
     "execution_count": 22,
     "metadata": {},
     "output_type": "execute_result"
    }
   ],
   "source": [
    "pd.DataFrame(metricas)"
   ]
  },
  {
   "cell_type": "code",
   "execution_count": 23,
   "id": "1b0a37e3",
   "metadata": {},
   "outputs": [
    {
     "data": {
      "text/plain": [
       "fit_time                            2.288544\n",
       "score_time                          0.001339\n",
       "test_neg_mean_squared_error    -92690.603560\n",
       "test_max_error                   -719.278243\n",
       "test_neg_mean_absolute_error     -240.541220\n",
       "test_r2                             0.525104\n",
       "dtype: float64"
      ]
     },
     "execution_count": 23,
     "metadata": {},
     "output_type": "execute_result"
    }
   ],
   "source": [
    "pd.DataFrame(metricas).mean()"
   ]
  },
  {
   "cell_type": "markdown",
   "id": "5d4ac402",
   "metadata": {},
   "source": [
    "### Ridge Grid Search"
   ]
  },
  {
   "cell_type": "code",
   "execution_count": 24,
   "id": "9655585e",
   "metadata": {},
   "outputs": [],
   "source": [
    "from sklearn.model_selection import GridSearchCV\n",
    "from sklearn.linear_model import Ridge"
   ]
  },
  {
   "cell_type": "code",
   "execution_count": 25,
   "id": "48903933",
   "metadata": {},
   "outputs": [],
   "source": [
    "ridge_r = Ridge()"
   ]
  },
  {
   "cell_type": "code",
   "execution_count": 26,
   "id": "f5fc7624",
   "metadata": {},
   "outputs": [],
   "source": [
    "parametros = {'alpha': np.linspace(0.1,10,100)}\n",
    "ridge_r_cv = GridSearchCV(estimator = ridge_r, \n",
    "                            param_grid=parametros, \n",
    "                            scoring= 'neg_mean_squared_error',\n",
    "                            cv=10,)"
   ]
  },
  {
   "cell_type": "code",
   "execution_count": 27,
   "id": "9c78e0ad",
   "metadata": {},
   "outputs": [
    {
     "data": {
      "text/plain": [
       "GridSearchCV(cv=10, estimator=Ridge(),\n",
       "             param_grid={'alpha': array([ 0.1,  0.2,  0.3,  0.4,  0.5,  0.6,  0.7,  0.8,  0.9,  1. ,  1.1,\n",
       "        1.2,  1.3,  1.4,  1.5,  1.6,  1.7,  1.8,  1.9,  2. ,  2.1,  2.2,\n",
       "        2.3,  2.4,  2.5,  2.6,  2.7,  2.8,  2.9,  3. ,  3.1,  3.2,  3.3,\n",
       "        3.4,  3.5,  3.6,  3.7,  3.8,  3.9,  4. ,  4.1,  4.2,  4.3,  4.4,\n",
       "        4.5,  4.6,  4.7,  4.8,  4.9,  5. ,  5.1,  5.2,  5.3,  5.4,  5.5,\n",
       "        5.6,  5.7,  5.8,  5.9,  6. ,  6.1,  6.2,  6.3,  6.4,  6.5,  6.6,\n",
       "        6.7,  6.8,  6.9,  7. ,  7.1,  7.2,  7.3,  7.4,  7.5,  7.6,  7.7,\n",
       "        7.8,  7.9,  8. ,  8.1,  8.2,  8.3,  8.4,  8.5,  8.6,  8.7,  8.8,\n",
       "        8.9,  9. ,  9.1,  9.2,  9.3,  9.4,  9.5,  9.6,  9.7,  9.8,  9.9,\n",
       "       10. ])},\n",
       "             scoring='neg_mean_squared_error')"
      ]
     },
     "execution_count": 27,
     "metadata": {},
     "output_type": "execute_result"
    }
   ],
   "source": [
    "ridge_r_cv.fit(X, y)"
   ]
  },
  {
   "cell_type": "code",
   "execution_count": 28,
   "id": "0acf3012",
   "metadata": {},
   "outputs": [
    {
     "data": {
      "text/plain": [
       "Ridge(alpha=0.1)"
      ]
     },
     "execution_count": 28,
     "metadata": {},
     "output_type": "execute_result"
    }
   ],
   "source": [
    "ridge_r_cv.best_estimator_"
   ]
  },
  {
   "cell_type": "code",
   "execution_count": 29,
   "id": "a34e2022",
   "metadata": {},
   "outputs": [
    {
     "data": {
      "text/plain": [
       "{'alpha': 0.1}"
      ]
     },
     "execution_count": 29,
     "metadata": {},
     "output_type": "execute_result"
    }
   ],
   "source": [
    "ridge_r_cv.best_params_"
   ]
  },
  {
   "cell_type": "code",
   "execution_count": 30,
   "id": "de496652",
   "metadata": {},
   "outputs": [],
   "source": [
    "ridge_r = Ridge(alpha = ridge_r_cv.best_params_['alpha'])"
   ]
  },
  {
   "cell_type": "code",
   "execution_count": 31,
   "id": "d6f30902",
   "metadata": {},
   "outputs": [],
   "source": [
    "metricas = cross_validate(\n",
    "    ridge_r, X, y, \n",
    "    scoring=['neg_mean_squared_error', 'max_error', 'neg_mean_absolute_error', 'r2'], cv=10)"
   ]
  },
  {
   "cell_type": "code",
   "execution_count": 32,
   "id": "05b17146",
   "metadata": {},
   "outputs": [
    {
     "data": {
      "text/html": [
       "<div>\n",
       "<style scoped>\n",
       "    .dataframe tbody tr th:only-of-type {\n",
       "        vertical-align: middle;\n",
       "    }\n",
       "\n",
       "    .dataframe tbody tr th {\n",
       "        vertical-align: top;\n",
       "    }\n",
       "\n",
       "    .dataframe thead th {\n",
       "        text-align: right;\n",
       "    }\n",
       "</style>\n",
       "<table border=\"1\" class=\"dataframe\">\n",
       "  <thead>\n",
       "    <tr style=\"text-align: right;\">\n",
       "      <th></th>\n",
       "      <th>fit_time</th>\n",
       "      <th>score_time</th>\n",
       "      <th>test_neg_mean_squared_error</th>\n",
       "      <th>test_max_error</th>\n",
       "      <th>test_neg_mean_absolute_error</th>\n",
       "      <th>test_r2</th>\n",
       "    </tr>\n",
       "  </thead>\n",
       "  <tbody>\n",
       "    <tr>\n",
       "      <th>0</th>\n",
       "      <td>0.001983</td>\n",
       "      <td>0.001985</td>\n",
       "      <td>-88580.932887</td>\n",
       "      <td>-676.041401</td>\n",
       "      <td>-239.127047</td>\n",
       "      <td>0.410271</td>\n",
       "    </tr>\n",
       "    <tr>\n",
       "      <th>1</th>\n",
       "      <td>0.002975</td>\n",
       "      <td>0.001488</td>\n",
       "      <td>-92626.620609</td>\n",
       "      <td>-809.308085</td>\n",
       "      <td>-235.312575</td>\n",
       "      <td>0.663803</td>\n",
       "    </tr>\n",
       "    <tr>\n",
       "      <th>2</th>\n",
       "      <td>0.001487</td>\n",
       "      <td>0.000992</td>\n",
       "      <td>-88706.685198</td>\n",
       "      <td>-736.105578</td>\n",
       "      <td>-223.422909</td>\n",
       "      <td>0.573526</td>\n",
       "    </tr>\n",
       "    <tr>\n",
       "      <th>3</th>\n",
       "      <td>0.001489</td>\n",
       "      <td>0.002479</td>\n",
       "      <td>-137881.935133</td>\n",
       "      <td>-778.249391</td>\n",
       "      <td>-304.193396</td>\n",
       "      <td>0.370411</td>\n",
       "    </tr>\n",
       "    <tr>\n",
       "      <th>4</th>\n",
       "      <td>0.001984</td>\n",
       "      <td>0.001986</td>\n",
       "      <td>-121749.440487</td>\n",
       "      <td>-760.810735</td>\n",
       "      <td>-298.362332</td>\n",
       "      <td>-0.289994</td>\n",
       "    </tr>\n",
       "    <tr>\n",
       "      <th>5</th>\n",
       "      <td>0.001487</td>\n",
       "      <td>0.001983</td>\n",
       "      <td>-92707.274261</td>\n",
       "      <td>-639.761099</td>\n",
       "      <td>-253.062545</td>\n",
       "      <td>0.578053</td>\n",
       "    </tr>\n",
       "    <tr>\n",
       "      <th>6</th>\n",
       "      <td>0.001488</td>\n",
       "      <td>0.000992</td>\n",
       "      <td>-98698.006210</td>\n",
       "      <td>-953.520697</td>\n",
       "      <td>-235.350080</td>\n",
       "      <td>0.851838</td>\n",
       "    </tr>\n",
       "    <tr>\n",
       "      <th>7</th>\n",
       "      <td>0.000495</td>\n",
       "      <td>0.001488</td>\n",
       "      <td>-91856.712706</td>\n",
       "      <td>-673.683656</td>\n",
       "      <td>-250.531967</td>\n",
       "      <td>0.607415</td>\n",
       "    </tr>\n",
       "    <tr>\n",
       "      <th>8</th>\n",
       "      <td>0.000991</td>\n",
       "      <td>0.000991</td>\n",
       "      <td>-52351.598306</td>\n",
       "      <td>-551.106881</td>\n",
       "      <td>-181.618213</td>\n",
       "      <td>0.793968</td>\n",
       "    </tr>\n",
       "    <tr>\n",
       "      <th>9</th>\n",
       "      <td>0.000993</td>\n",
       "      <td>0.000991</td>\n",
       "      <td>-58816.305599</td>\n",
       "      <td>-557.411197</td>\n",
       "      <td>-184.357350</td>\n",
       "      <td>0.710975</td>\n",
       "    </tr>\n",
       "  </tbody>\n",
       "</table>\n",
       "</div>"
      ],
      "text/plain": [
       "   fit_time  score_time  test_neg_mean_squared_error  test_max_error  \\\n",
       "0  0.001983    0.001985                -88580.932887     -676.041401   \n",
       "1  0.002975    0.001488                -92626.620609     -809.308085   \n",
       "2  0.001487    0.000992                -88706.685198     -736.105578   \n",
       "3  0.001489    0.002479               -137881.935133     -778.249391   \n",
       "4  0.001984    0.001986               -121749.440487     -760.810735   \n",
       "5  0.001487    0.001983                -92707.274261     -639.761099   \n",
       "6  0.001488    0.000992                -98698.006210     -953.520697   \n",
       "7  0.000495    0.001488                -91856.712706     -673.683656   \n",
       "8  0.000991    0.000991                -52351.598306     -551.106881   \n",
       "9  0.000993    0.000991                -58816.305599     -557.411197   \n",
       "\n",
       "   test_neg_mean_absolute_error   test_r2  \n",
       "0                   -239.127047  0.410271  \n",
       "1                   -235.312575  0.663803  \n",
       "2                   -223.422909  0.573526  \n",
       "3                   -304.193396  0.370411  \n",
       "4                   -298.362332 -0.289994  \n",
       "5                   -253.062545  0.578053  \n",
       "6                   -235.350080  0.851838  \n",
       "7                   -250.531967  0.607415  \n",
       "8                   -181.618213  0.793968  \n",
       "9                   -184.357350  0.710975  "
      ]
     },
     "execution_count": 32,
     "metadata": {},
     "output_type": "execute_result"
    }
   ],
   "source": [
    "pd.DataFrame(metricas)"
   ]
  },
  {
   "cell_type": "code",
   "execution_count": 33,
   "id": "0d743a5f",
   "metadata": {},
   "outputs": [
    {
     "data": {
      "text/plain": [
       "fit_time                            0.001537\n",
       "score_time                          0.001538\n",
       "test_neg_mean_squared_error    -92397.551140\n",
       "test_max_error                   -713.599872\n",
       "test_neg_mean_absolute_error     -240.533841\n",
       "test_r2                             0.527027\n",
       "dtype: float64"
      ]
     },
     "execution_count": 33,
     "metadata": {},
     "output_type": "execute_result"
    }
   ],
   "source": [
    "pd.DataFrame(metricas).mean()"
   ]
  },
  {
   "cell_type": "markdown",
   "id": "607ae93d",
   "metadata": {},
   "source": [
    "## LASSO"
   ]
  },
  {
   "cell_type": "markdown",
   "id": "35c69f8f",
   "metadata": {},
   "source": [
    "### LASSO CV"
   ]
  },
  {
   "cell_type": "code",
   "execution_count": 34,
   "id": "247c09bf",
   "metadata": {},
   "outputs": [],
   "source": [
    "from sklearn.linear_model import LassoCV"
   ]
  },
  {
   "cell_type": "code",
   "execution_count": 35,
   "id": "c73fb8e2",
   "metadata": {},
   "outputs": [],
   "source": [
    "lasso_r_cv = LassoCV(alphas=np.linspace(0.1,10,100), cv = 10)"
   ]
  },
  {
   "cell_type": "code",
   "execution_count": 36,
   "id": "f68fb757",
   "metadata": {},
   "outputs": [
    {
     "data": {
      "text/plain": [
       "LassoCV(alphas=array([ 0.1,  0.2,  0.3,  0.4,  0.5,  0.6,  0.7,  0.8,  0.9,  1. ,  1.1,\n",
       "        1.2,  1.3,  1.4,  1.5,  1.6,  1.7,  1.8,  1.9,  2. ,  2.1,  2.2,\n",
       "        2.3,  2.4,  2.5,  2.6,  2.7,  2.8,  2.9,  3. ,  3.1,  3.2,  3.3,\n",
       "        3.4,  3.5,  3.6,  3.7,  3.8,  3.9,  4. ,  4.1,  4.2,  4.3,  4.4,\n",
       "        4.5,  4.6,  4.7,  4.8,  4.9,  5. ,  5.1,  5.2,  5.3,  5.4,  5.5,\n",
       "        5.6,  5.7,  5.8,  5.9,  6. ,  6.1,  6.2,  6.3,  6.4,  6.5,  6.6,\n",
       "        6.7,  6.8,  6.9,  7. ,  7.1,  7.2,  7.3,  7.4,  7.5,  7.6,  7.7,\n",
       "        7.8,  7.9,  8. ,  8.1,  8.2,  8.3,  8.4,  8.5,  8.6,  8.7,  8.8,\n",
       "        8.9,  9. ,  9.1,  9.2,  9.3,  9.4,  9.5,  9.6,  9.7,  9.8,  9.9,\n",
       "       10. ]),\n",
       "        cv=10)"
      ]
     },
     "execution_count": 36,
     "metadata": {},
     "output_type": "execute_result"
    }
   ],
   "source": [
    "lasso_r_cv.fit(X, y)"
   ]
  },
  {
   "cell_type": "code",
   "execution_count": 37,
   "id": "da1da410",
   "metadata": {},
   "outputs": [
    {
     "data": {
      "text/plain": [
       "4.1"
      ]
     },
     "execution_count": 37,
     "metadata": {},
     "output_type": "execute_result"
    }
   ],
   "source": [
    "lasso_r_cv.alpha_"
   ]
  },
  {
   "cell_type": "code",
   "execution_count": 38,
   "id": "b1d26eeb",
   "metadata": {},
   "outputs": [
    {
     "data": {
      "text/html": [
       "<div>\n",
       "<style scoped>\n",
       "    .dataframe tbody tr th:only-of-type {\n",
       "        vertical-align: middle;\n",
       "    }\n",
       "\n",
       "    .dataframe tbody tr th {\n",
       "        vertical-align: top;\n",
       "    }\n",
       "\n",
       "    .dataframe thead th {\n",
       "        text-align: right;\n",
       "    }\n",
       "</style>\n",
       "<table border=\"1\" class=\"dataframe\">\n",
       "  <thead>\n",
       "    <tr style=\"text-align: right;\">\n",
       "      <th></th>\n",
       "      <th>Coeficientes</th>\n",
       "      <th>Magnitude</th>\n",
       "    </tr>\n",
       "  </thead>\n",
       "  <tbody>\n",
       "    <tr>\n",
       "      <th>species_Gentoo</th>\n",
       "      <td>406.630220</td>\n",
       "      <td>406.630220</td>\n",
       "    </tr>\n",
       "    <tr>\n",
       "      <th>flipper_length_mm</th>\n",
       "      <td>246.610008</td>\n",
       "      <td>246.610008</td>\n",
       "    </tr>\n",
       "    <tr>\n",
       "      <th>sex_Male</th>\n",
       "      <td>199.482752</td>\n",
       "      <td>199.482752</td>\n",
       "    </tr>\n",
       "    <tr>\n",
       "      <th>bill_length_mm</th>\n",
       "      <td>109.413160</td>\n",
       "      <td>109.413160</td>\n",
       "    </tr>\n",
       "    <tr>\n",
       "      <th>species_Chinstrap</th>\n",
       "      <td>-108.229646</td>\n",
       "      <td>108.229646</td>\n",
       "    </tr>\n",
       "  </tbody>\n",
       "</table>\n",
       "</div>"
      ],
      "text/plain": [
       "                   Coeficientes   Magnitude\n",
       "species_Gentoo       406.630220  406.630220\n",
       "flipper_length_mm    246.610008  246.610008\n",
       "sex_Male             199.482752  199.482752\n",
       "bill_length_mm       109.413160  109.413160\n",
       "species_Chinstrap   -108.229646  108.229646"
      ]
     },
     "execution_count": 38,
     "metadata": {},
     "output_type": "execute_result"
    }
   ],
   "source": [
    "coeficients = pd.DataFrame(lasso_r_cv.coef_, variable_names, columns = ['Coeficientes'])\n",
    "coeficients['Magnitude'] = abs(coeficients['Coeficientes'])\n",
    "coeficients.sort_values('Magnitude', ascending = False).head(5)"
   ]
  },
  {
   "cell_type": "code",
   "execution_count": 39,
   "id": "45c3c845",
   "metadata": {},
   "outputs": [],
   "source": [
    "metricas = cross_validate(\n",
    "    lasso_r_cv, X, y, \n",
    "    scoring=['neg_mean_squared_error', 'max_error', 'neg_mean_absolute_error', 'r2'], cv=10)"
   ]
  },
  {
   "cell_type": "code",
   "execution_count": 40,
   "id": "1d107e66",
   "metadata": {},
   "outputs": [
    {
     "data": {
      "text/html": [
       "<div>\n",
       "<style scoped>\n",
       "    .dataframe tbody tr th:only-of-type {\n",
       "        vertical-align: middle;\n",
       "    }\n",
       "\n",
       "    .dataframe tbody tr th {\n",
       "        vertical-align: top;\n",
       "    }\n",
       "\n",
       "    .dataframe thead th {\n",
       "        text-align: right;\n",
       "    }\n",
       "</style>\n",
       "<table border=\"1\" class=\"dataframe\">\n",
       "  <thead>\n",
       "    <tr style=\"text-align: right;\">\n",
       "      <th></th>\n",
       "      <th>fit_time</th>\n",
       "      <th>score_time</th>\n",
       "      <th>test_neg_mean_squared_error</th>\n",
       "      <th>test_max_error</th>\n",
       "      <th>test_neg_mean_absolute_error</th>\n",
       "      <th>test_r2</th>\n",
       "    </tr>\n",
       "  </thead>\n",
       "  <tbody>\n",
       "    <tr>\n",
       "      <th>0</th>\n",
       "      <td>0.165664</td>\n",
       "      <td>0.001488</td>\n",
       "      <td>-90453.128528</td>\n",
       "      <td>-699.097304</td>\n",
       "      <td>-238.438600</td>\n",
       "      <td>0.397807</td>\n",
       "    </tr>\n",
       "    <tr>\n",
       "      <th>1</th>\n",
       "      <td>0.156237</td>\n",
       "      <td>0.000992</td>\n",
       "      <td>-92547.231982</td>\n",
       "      <td>-809.670493</td>\n",
       "      <td>-235.276641</td>\n",
       "      <td>0.664092</td>\n",
       "    </tr>\n",
       "    <tr>\n",
       "      <th>2</th>\n",
       "      <td>0.126976</td>\n",
       "      <td>0.001984</td>\n",
       "      <td>-86695.324773</td>\n",
       "      <td>-722.076329</td>\n",
       "      <td>-221.704071</td>\n",
       "      <td>0.583196</td>\n",
       "    </tr>\n",
       "    <tr>\n",
       "      <th>3</th>\n",
       "      <td>0.157233</td>\n",
       "      <td>0.001984</td>\n",
       "      <td>-137693.227267</td>\n",
       "      <td>-776.643238</td>\n",
       "      <td>-304.022933</td>\n",
       "      <td>0.371273</td>\n",
       "    </tr>\n",
       "    <tr>\n",
       "      <th>4</th>\n",
       "      <td>0.138384</td>\n",
       "      <td>0.001984</td>\n",
       "      <td>-121003.207367</td>\n",
       "      <td>-755.798709</td>\n",
       "      <td>-299.406409</td>\n",
       "      <td>-0.282087</td>\n",
       "    </tr>\n",
       "    <tr>\n",
       "      <th>5</th>\n",
       "      <td>0.132433</td>\n",
       "      <td>0.000992</td>\n",
       "      <td>-94099.763703</td>\n",
       "      <td>-672.022778</td>\n",
       "      <td>-251.819313</td>\n",
       "      <td>0.571715</td>\n",
       "    </tr>\n",
       "    <tr>\n",
       "      <th>6</th>\n",
       "      <td>0.162191</td>\n",
       "      <td>0.001487</td>\n",
       "      <td>-98495.553520</td>\n",
       "      <td>-952.968166</td>\n",
       "      <td>-237.590211</td>\n",
       "      <td>0.852142</td>\n",
       "    </tr>\n",
       "    <tr>\n",
       "      <th>7</th>\n",
       "      <td>0.139376</td>\n",
       "      <td>0.000991</td>\n",
       "      <td>-92423.974910</td>\n",
       "      <td>-676.181305</td>\n",
       "      <td>-251.788495</td>\n",
       "      <td>0.604991</td>\n",
       "    </tr>\n",
       "    <tr>\n",
       "      <th>8</th>\n",
       "      <td>0.153264</td>\n",
       "      <td>0.001488</td>\n",
       "      <td>-53573.223610</td>\n",
       "      <td>-565.083822</td>\n",
       "      <td>-179.652144</td>\n",
       "      <td>0.789160</td>\n",
       "    </tr>\n",
       "    <tr>\n",
       "      <th>9</th>\n",
       "      <td>0.141856</td>\n",
       "      <td>0.001488</td>\n",
       "      <td>-57914.936285</td>\n",
       "      <td>-578.410979</td>\n",
       "      <td>-186.133673</td>\n",
       "      <td>0.715404</td>\n",
       "    </tr>\n",
       "  </tbody>\n",
       "</table>\n",
       "</div>"
      ],
      "text/plain": [
       "   fit_time  score_time  test_neg_mean_squared_error  test_max_error  \\\n",
       "0  0.165664    0.001488                -90453.128528     -699.097304   \n",
       "1  0.156237    0.000992                -92547.231982     -809.670493   \n",
       "2  0.126976    0.001984                -86695.324773     -722.076329   \n",
       "3  0.157233    0.001984               -137693.227267     -776.643238   \n",
       "4  0.138384    0.001984               -121003.207367     -755.798709   \n",
       "5  0.132433    0.000992                -94099.763703     -672.022778   \n",
       "6  0.162191    0.001487                -98495.553520     -952.968166   \n",
       "7  0.139376    0.000991                -92423.974910     -676.181305   \n",
       "8  0.153264    0.001488                -53573.223610     -565.083822   \n",
       "9  0.141856    0.001488                -57914.936285     -578.410979   \n",
       "\n",
       "   test_neg_mean_absolute_error   test_r2  \n",
       "0                   -238.438600  0.397807  \n",
       "1                   -235.276641  0.664092  \n",
       "2                   -221.704071  0.583196  \n",
       "3                   -304.022933  0.371273  \n",
       "4                   -299.406409 -0.282087  \n",
       "5                   -251.819313  0.571715  \n",
       "6                   -237.590211  0.852142  \n",
       "7                   -251.788495  0.604991  \n",
       "8                   -179.652144  0.789160  \n",
       "9                   -186.133673  0.715404  "
      ]
     },
     "execution_count": 40,
     "metadata": {},
     "output_type": "execute_result"
    }
   ],
   "source": [
    "pd.DataFrame(metricas)"
   ]
  },
  {
   "cell_type": "code",
   "execution_count": 41,
   "id": "63eef4ad",
   "metadata": {},
   "outputs": [
    {
     "data": {
      "text/plain": [
       "fit_time                            0.147361\n",
       "score_time                          0.001488\n",
       "test_neg_mean_squared_error    -92489.957195\n",
       "test_max_error                   -720.795312\n",
       "test_neg_mean_absolute_error     -240.583249\n",
       "test_r2                             0.526769\n",
       "dtype: float64"
      ]
     },
     "execution_count": 41,
     "metadata": {},
     "output_type": "execute_result"
    }
   ],
   "source": [
    "pd.DataFrame(metricas).mean()"
   ]
  },
  {
   "cell_type": "markdown",
   "id": "9dac3d56",
   "metadata": {},
   "source": [
    "### LASSO Grid Search"
   ]
  },
  {
   "cell_type": "code",
   "execution_count": 42,
   "id": "1cb72bbd",
   "metadata": {},
   "outputs": [],
   "source": [
    "from sklearn.model_selection import GridSearchCV\n",
    "from sklearn.linear_model import Lasso"
   ]
  },
  {
   "cell_type": "code",
   "execution_count": 43,
   "id": "73c5cd3e",
   "metadata": {},
   "outputs": [],
   "source": [
    "lasso_r = Lasso()"
   ]
  },
  {
   "cell_type": "code",
   "execution_count": 44,
   "id": "d7d1ec4a",
   "metadata": {},
   "outputs": [],
   "source": [
    "parametros = {'alpha': np.linspace(0.1,10,100)}\n",
    "lasso_r_cv = GridSearchCV(estimator = lasso_r, \n",
    "                            param_grid=parametros, \n",
    "                            scoring= 'neg_mean_squared_error',\n",
    "                            cv=10,)"
   ]
  },
  {
   "cell_type": "code",
   "execution_count": 45,
   "id": "c12c321b",
   "metadata": {},
   "outputs": [
    {
     "data": {
      "text/plain": [
       "GridSearchCV(cv=10, estimator=Lasso(),\n",
       "             param_grid={'alpha': array([ 0.1,  0.2,  0.3,  0.4,  0.5,  0.6,  0.7,  0.8,  0.9,  1. ,  1.1,\n",
       "        1.2,  1.3,  1.4,  1.5,  1.6,  1.7,  1.8,  1.9,  2. ,  2.1,  2.2,\n",
       "        2.3,  2.4,  2.5,  2.6,  2.7,  2.8,  2.9,  3. ,  3.1,  3.2,  3.3,\n",
       "        3.4,  3.5,  3.6,  3.7,  3.8,  3.9,  4. ,  4.1,  4.2,  4.3,  4.4,\n",
       "        4.5,  4.6,  4.7,  4.8,  4.9,  5. ,  5.1,  5.2,  5.3,  5.4,  5.5,\n",
       "        5.6,  5.7,  5.8,  5.9,  6. ,  6.1,  6.2,  6.3,  6.4,  6.5,  6.6,\n",
       "        6.7,  6.8,  6.9,  7. ,  7.1,  7.2,  7.3,  7.4,  7.5,  7.6,  7.7,\n",
       "        7.8,  7.9,  8. ,  8.1,  8.2,  8.3,  8.4,  8.5,  8.6,  8.7,  8.8,\n",
       "        8.9,  9. ,  9.1,  9.2,  9.3,  9.4,  9.5,  9.6,  9.7,  9.8,  9.9,\n",
       "       10. ])},\n",
       "             scoring='neg_mean_squared_error')"
      ]
     },
     "execution_count": 45,
     "metadata": {},
     "output_type": "execute_result"
    }
   ],
   "source": [
    "lasso_r_cv.fit(X, y)"
   ]
  },
  {
   "cell_type": "code",
   "execution_count": 46,
   "id": "d0f3ca76",
   "metadata": {},
   "outputs": [
    {
     "data": {
      "text/plain": [
       "Lasso(alpha=4.1)"
      ]
     },
     "execution_count": 46,
     "metadata": {},
     "output_type": "execute_result"
    }
   ],
   "source": [
    "lasso_r_cv.best_estimator_"
   ]
  },
  {
   "cell_type": "code",
   "execution_count": 47,
   "id": "eae1394c",
   "metadata": {},
   "outputs": [
    {
     "data": {
      "text/plain": [
       "{'alpha': 4.1}"
      ]
     },
     "execution_count": 47,
     "metadata": {},
     "output_type": "execute_result"
    }
   ],
   "source": [
    "lasso_r_cv.best_params_"
   ]
  },
  {
   "cell_type": "code",
   "execution_count": 48,
   "id": "208e9310",
   "metadata": {},
   "outputs": [],
   "source": [
    "lasso_r = Lasso(alpha = lasso_r_cv.best_params_['alpha'])"
   ]
  },
  {
   "cell_type": "code",
   "execution_count": 49,
   "id": "d8d0afc0",
   "metadata": {},
   "outputs": [],
   "source": [
    "metricas = cross_validate(\n",
    "    lasso_r, X, y, \n",
    "    scoring=['neg_mean_squared_error', 'max_error', 'neg_mean_absolute_error', 'r2'], cv=10)"
   ]
  },
  {
   "cell_type": "code",
   "execution_count": 50,
   "id": "7f59ad65",
   "metadata": {},
   "outputs": [
    {
     "data": {
      "text/html": [
       "<div>\n",
       "<style scoped>\n",
       "    .dataframe tbody tr th:only-of-type {\n",
       "        vertical-align: middle;\n",
       "    }\n",
       "\n",
       "    .dataframe tbody tr th {\n",
       "        vertical-align: top;\n",
       "    }\n",
       "\n",
       "    .dataframe thead th {\n",
       "        text-align: right;\n",
       "    }\n",
       "</style>\n",
       "<table border=\"1\" class=\"dataframe\">\n",
       "  <thead>\n",
       "    <tr style=\"text-align: right;\">\n",
       "      <th></th>\n",
       "      <th>fit_time</th>\n",
       "      <th>score_time</th>\n",
       "      <th>test_neg_mean_squared_error</th>\n",
       "      <th>test_max_error</th>\n",
       "      <th>test_neg_mean_absolute_error</th>\n",
       "      <th>test_r2</th>\n",
       "    </tr>\n",
       "  </thead>\n",
       "  <tbody>\n",
       "    <tr>\n",
       "      <th>0</th>\n",
       "      <td>0.001989</td>\n",
       "      <td>0.002476</td>\n",
       "      <td>-89710.953341</td>\n",
       "      <td>-679.663975</td>\n",
       "      <td>-237.291863</td>\n",
       "      <td>0.402748</td>\n",
       "    </tr>\n",
       "    <tr>\n",
       "      <th>1</th>\n",
       "      <td>0.001985</td>\n",
       "      <td>0.002478</td>\n",
       "      <td>-93791.519798</td>\n",
       "      <td>-823.220793</td>\n",
       "      <td>-239.418041</td>\n",
       "      <td>0.659575</td>\n",
       "    </tr>\n",
       "    <tr>\n",
       "      <th>2</th>\n",
       "      <td>0.000993</td>\n",
       "      <td>0.001487</td>\n",
       "      <td>-84256.852653</td>\n",
       "      <td>-702.908751</td>\n",
       "      <td>-219.406731</td>\n",
       "      <td>0.594919</td>\n",
       "    </tr>\n",
       "    <tr>\n",
       "      <th>3</th>\n",
       "      <td>0.001490</td>\n",
       "      <td>0.001485</td>\n",
       "      <td>-136156.335924</td>\n",
       "      <td>-762.493715</td>\n",
       "      <td>-303.279738</td>\n",
       "      <td>0.378290</td>\n",
       "    </tr>\n",
       "    <tr>\n",
       "      <th>4</th>\n",
       "      <td>0.000495</td>\n",
       "      <td>0.000992</td>\n",
       "      <td>-120686.021591</td>\n",
       "      <td>-752.247580</td>\n",
       "      <td>-300.231945</td>\n",
       "      <td>-0.278726</td>\n",
       "    </tr>\n",
       "    <tr>\n",
       "      <th>5</th>\n",
       "      <td>0.000496</td>\n",
       "      <td>0.000992</td>\n",
       "      <td>-94146.365624</td>\n",
       "      <td>-672.980328</td>\n",
       "      <td>-251.784039</td>\n",
       "      <td>0.571503</td>\n",
       "    </tr>\n",
       "    <tr>\n",
       "      <th>6</th>\n",
       "      <td>0.000495</td>\n",
       "      <td>0.000992</td>\n",
       "      <td>-98496.272379</td>\n",
       "      <td>-952.943057</td>\n",
       "      <td>-237.717620</td>\n",
       "      <td>0.852141</td>\n",
       "    </tr>\n",
       "    <tr>\n",
       "      <th>7</th>\n",
       "      <td>0.000496</td>\n",
       "      <td>0.001990</td>\n",
       "      <td>-92299.357947</td>\n",
       "      <td>-675.686612</td>\n",
       "      <td>-251.575405</td>\n",
       "      <td>0.605523</td>\n",
       "    </tr>\n",
       "    <tr>\n",
       "      <th>8</th>\n",
       "      <td>0.000991</td>\n",
       "      <td>0.000992</td>\n",
       "      <td>-53322.399203</td>\n",
       "      <td>-562.559900</td>\n",
       "      <td>-179.954707</td>\n",
       "      <td>0.790147</td>\n",
       "    </tr>\n",
       "    <tr>\n",
       "      <th>9</th>\n",
       "      <td>0.000496</td>\n",
       "      <td>0.000992</td>\n",
       "      <td>-57955.202224</td>\n",
       "      <td>-576.068453</td>\n",
       "      <td>-185.903624</td>\n",
       "      <td>0.715206</td>\n",
       "    </tr>\n",
       "  </tbody>\n",
       "</table>\n",
       "</div>"
      ],
      "text/plain": [
       "   fit_time  score_time  test_neg_mean_squared_error  test_max_error  \\\n",
       "0  0.001989    0.002476                -89710.953341     -679.663975   \n",
       "1  0.001985    0.002478                -93791.519798     -823.220793   \n",
       "2  0.000993    0.001487                -84256.852653     -702.908751   \n",
       "3  0.001490    0.001485               -136156.335924     -762.493715   \n",
       "4  0.000495    0.000992               -120686.021591     -752.247580   \n",
       "5  0.000496    0.000992                -94146.365624     -672.980328   \n",
       "6  0.000495    0.000992                -98496.272379     -952.943057   \n",
       "7  0.000496    0.001990                -92299.357947     -675.686612   \n",
       "8  0.000991    0.000992                -53322.399203     -562.559900   \n",
       "9  0.000496    0.000992                -57955.202224     -576.068453   \n",
       "\n",
       "   test_neg_mean_absolute_error   test_r2  \n",
       "0                   -237.291863  0.402748  \n",
       "1                   -239.418041  0.659575  \n",
       "2                   -219.406731  0.594919  \n",
       "3                   -303.279738  0.378290  \n",
       "4                   -300.231945 -0.278726  \n",
       "5                   -251.784039  0.571503  \n",
       "6                   -237.717620  0.852141  \n",
       "7                   -251.575405  0.605523  \n",
       "8                   -179.954707  0.790147  \n",
       "9                   -185.903624  0.715206  "
      ]
     },
     "execution_count": 50,
     "metadata": {},
     "output_type": "execute_result"
    }
   ],
   "source": [
    "pd.DataFrame(metricas)"
   ]
  },
  {
   "cell_type": "code",
   "execution_count": 51,
   "id": "2330bd59",
   "metadata": {},
   "outputs": [
    {
     "data": {
      "text/plain": [
       "fit_time                            0.000993\n",
       "score_time                          0.001488\n",
       "test_neg_mean_squared_error    -92082.128068\n",
       "test_max_error                   -716.077316\n",
       "test_neg_mean_absolute_error     -240.656371\n",
       "test_r2                             0.529133\n",
       "dtype: float64"
      ]
     },
     "execution_count": 51,
     "metadata": {},
     "output_type": "execute_result"
    }
   ],
   "source": [
    "pd.DataFrame(metricas).mean()"
   ]
  },
  {
   "cell_type": "markdown",
   "id": "de8a9602",
   "metadata": {},
   "source": [
    "## Elastic net"
   ]
  },
  {
   "cell_type": "markdown",
   "id": "b7f08dbd",
   "metadata": {},
   "source": [
    "### Elastic CV"
   ]
  },
  {
   "cell_type": "code",
   "execution_count": 52,
   "id": "be1c08e8",
   "metadata": {},
   "outputs": [],
   "source": [
    "from sklearn.linear_model import ElasticNetCV"
   ]
  },
  {
   "cell_type": "code",
   "execution_count": 53,
   "id": "85f43db9",
   "metadata": {},
   "outputs": [],
   "source": [
    "elastic_r_cv = ElasticNetCV(alphas=np.linspace(0.1,10,100), l1_ratio = np.linspace(0.01, 0.99, 100), cv = 10)"
   ]
  },
  {
   "cell_type": "code",
   "execution_count": 54,
   "id": "e2bf0504",
   "metadata": {},
   "outputs": [
    {
     "data": {
      "text/plain": [
       "ElasticNetCV(alphas=array([ 0.1,  0.2,  0.3,  0.4,  0.5,  0.6,  0.7,  0.8,  0.9,  1. ,  1.1,\n",
       "        1.2,  1.3,  1.4,  1.5,  1.6,  1.7,  1.8,  1.9,  2. ,  2.1,  2.2,\n",
       "        2.3,  2.4,  2.5,  2.6,  2.7,  2.8,  2.9,  3. ,  3.1,  3.2,  3.3,\n",
       "        3.4,  3.5,  3.6,  3.7,  3.8,  3.9,  4. ,  4.1,  4.2,  4.3,  4.4,\n",
       "        4.5,  4.6,  4.7,  4.8,  4.9,  5. ,  5.1,  5.2,  5.3,  5.4,  5.5,\n",
       "        5.6,  5.7,  5.8,  5.9,  6. ,  6.1,  6.2,  6.3,  6.4,  6.5,  6.6,\n",
       "        6.7,  6.8,  6.9,  7. ,  7.1,  7.2,  7.3,  7.4,  7.5,  7.6,  7.7,\n",
       "        7.8,  7.9,  8. ,  8.1,  8.2,  8.3...\n",
       "       0.65343434, 0.66333333, 0.67323232, 0.68313131, 0.6930303 ,\n",
       "       0.70292929, 0.71282828, 0.72272727, 0.73262626, 0.74252525,\n",
       "       0.75242424, 0.76232323, 0.77222222, 0.78212121, 0.7920202 ,\n",
       "       0.80191919, 0.81181818, 0.82171717, 0.83161616, 0.84151515,\n",
       "       0.85141414, 0.86131313, 0.87121212, 0.88111111, 0.8910101 ,\n",
       "       0.90090909, 0.91080808, 0.92070707, 0.93060606, 0.94050505,\n",
       "       0.95040404, 0.96030303, 0.97020202, 0.98010101, 0.99      ]))"
      ]
     },
     "execution_count": 54,
     "metadata": {},
     "output_type": "execute_result"
    }
   ],
   "source": [
    "elastic_r_cv.fit(X, y)"
   ]
  },
  {
   "cell_type": "code",
   "execution_count": 55,
   "id": "24ce0587",
   "metadata": {},
   "outputs": [
    {
     "data": {
      "text/plain": [
       "0.1"
      ]
     },
     "execution_count": 55,
     "metadata": {},
     "output_type": "execute_result"
    }
   ],
   "source": [
    "elastic_r_cv.alpha_"
   ]
  },
  {
   "cell_type": "code",
   "execution_count": 56,
   "id": "13f6f6be",
   "metadata": {},
   "outputs": [
    {
     "data": {
      "text/plain": [
       "0.99"
      ]
     },
     "execution_count": 56,
     "metadata": {},
     "output_type": "execute_result"
    }
   ],
   "source": [
    "elastic_r_cv.l1_ratio_"
   ]
  },
  {
   "cell_type": "code",
   "execution_count": 57,
   "id": "1d585a06",
   "metadata": {},
   "outputs": [
    {
     "data": {
      "text/html": [
       "<div>\n",
       "<style scoped>\n",
       "    .dataframe tbody tr th:only-of-type {\n",
       "        vertical-align: middle;\n",
       "    }\n",
       "\n",
       "    .dataframe tbody tr th {\n",
       "        vertical-align: top;\n",
       "    }\n",
       "\n",
       "    .dataframe thead th {\n",
       "        text-align: right;\n",
       "    }\n",
       "</style>\n",
       "<table border=\"1\" class=\"dataframe\">\n",
       "  <thead>\n",
       "    <tr style=\"text-align: right;\">\n",
       "      <th></th>\n",
       "      <th>Coeficientes</th>\n",
       "      <th>Magnitude</th>\n",
       "    </tr>\n",
       "  </thead>\n",
       "  <tbody>\n",
       "    <tr>\n",
       "      <th>species_Gentoo</th>\n",
       "      <td>424.383333</td>\n",
       "      <td>424.383333</td>\n",
       "    </tr>\n",
       "    <tr>\n",
       "      <th>flipper_length_mm</th>\n",
       "      <td>240.435330</td>\n",
       "      <td>240.435330</td>\n",
       "    </tr>\n",
       "    <tr>\n",
       "      <th>sex_Male</th>\n",
       "      <td>190.093789</td>\n",
       "      <td>190.093789</td>\n",
       "    </tr>\n",
       "    <tr>\n",
       "      <th>bill_length_mm</th>\n",
       "      <td>120.830639</td>\n",
       "      <td>120.830639</td>\n",
       "    </tr>\n",
       "    <tr>\n",
       "      <th>species_Chinstrap</th>\n",
       "      <td>-119.001372</td>\n",
       "      <td>119.001372</td>\n",
       "    </tr>\n",
       "  </tbody>\n",
       "</table>\n",
       "</div>"
      ],
      "text/plain": [
       "                   Coeficientes   Magnitude\n",
       "species_Gentoo       424.383333  424.383333\n",
       "flipper_length_mm    240.435330  240.435330\n",
       "sex_Male             190.093789  190.093789\n",
       "bill_length_mm       120.830639  120.830639\n",
       "species_Chinstrap   -119.001372  119.001372"
      ]
     },
     "execution_count": 57,
     "metadata": {},
     "output_type": "execute_result"
    }
   ],
   "source": [
    "coeficients = pd.DataFrame(elastic_r_cv.coef_, variable_names, columns = ['Coeficientes'])\n",
    "coeficients['Magnitude'] = abs(coeficients['Coeficientes'])\n",
    "coeficients.sort_values('Magnitude', ascending = False).head(5)"
   ]
  },
  {
   "cell_type": "code",
   "execution_count": 58,
   "id": "1b712216",
   "metadata": {},
   "outputs": [],
   "source": [
    "metricas = cross_validate(\n",
    "    elastic_r_cv, X, y, \n",
    "    scoring=['neg_mean_squared_error', 'max_error', 'neg_mean_absolute_error', 'r2'], cv=10)"
   ]
  },
  {
   "cell_type": "code",
   "execution_count": 59,
   "id": "f8e6d07f",
   "metadata": {},
   "outputs": [
    {
     "data": {
      "text/html": [
       "<div>\n",
       "<style scoped>\n",
       "    .dataframe tbody tr th:only-of-type {\n",
       "        vertical-align: middle;\n",
       "    }\n",
       "\n",
       "    .dataframe tbody tr th {\n",
       "        vertical-align: top;\n",
       "    }\n",
       "\n",
       "    .dataframe thead th {\n",
       "        text-align: right;\n",
       "    }\n",
       "</style>\n",
       "<table border=\"1\" class=\"dataframe\">\n",
       "  <thead>\n",
       "    <tr style=\"text-align: right;\">\n",
       "      <th></th>\n",
       "      <th>fit_time</th>\n",
       "      <th>score_time</th>\n",
       "      <th>test_neg_mean_squared_error</th>\n",
       "      <th>test_max_error</th>\n",
       "      <th>test_neg_mean_absolute_error</th>\n",
       "      <th>test_r2</th>\n",
       "    </tr>\n",
       "  </thead>\n",
       "  <tbody>\n",
       "    <tr>\n",
       "      <th>0</th>\n",
       "      <td>15.200910</td>\n",
       "      <td>0.001983</td>\n",
       "      <td>-91962.017560</td>\n",
       "      <td>-698.553318</td>\n",
       "      <td>-239.684886</td>\n",
       "      <td>0.387761</td>\n",
       "    </tr>\n",
       "    <tr>\n",
       "      <th>1</th>\n",
       "      <td>16.432498</td>\n",
       "      <td>0.000991</td>\n",
       "      <td>-92917.519461</td>\n",
       "      <td>-810.901331</td>\n",
       "      <td>-235.632576</td>\n",
       "      <td>0.662748</td>\n",
       "    </tr>\n",
       "    <tr>\n",
       "      <th>2</th>\n",
       "      <td>15.072922</td>\n",
       "      <td>0.001487</td>\n",
       "      <td>-88476.121322</td>\n",
       "      <td>-733.407387</td>\n",
       "      <td>-223.229746</td>\n",
       "      <td>0.574634</td>\n",
       "    </tr>\n",
       "    <tr>\n",
       "      <th>3</th>\n",
       "      <td>15.268366</td>\n",
       "      <td>0.001984</td>\n",
       "      <td>-137862.254250</td>\n",
       "      <td>-778.337686</td>\n",
       "      <td>-304.150092</td>\n",
       "      <td>0.370501</td>\n",
       "    </tr>\n",
       "    <tr>\n",
       "      <th>4</th>\n",
       "      <td>15.240113</td>\n",
       "      <td>0.001488</td>\n",
       "      <td>-121805.035500</td>\n",
       "      <td>-757.137631</td>\n",
       "      <td>-299.242045</td>\n",
       "      <td>-0.290583</td>\n",
       "    </tr>\n",
       "    <tr>\n",
       "      <th>5</th>\n",
       "      <td>15.174601</td>\n",
       "      <td>0.001985</td>\n",
       "      <td>-93598.862092</td>\n",
       "      <td>-675.157504</td>\n",
       "      <td>-251.895743</td>\n",
       "      <td>0.573995</td>\n",
       "    </tr>\n",
       "    <tr>\n",
       "      <th>6</th>\n",
       "      <td>15.298126</td>\n",
       "      <td>0.001984</td>\n",
       "      <td>-98778.424737</td>\n",
       "      <td>-953.743058</td>\n",
       "      <td>-236.201360</td>\n",
       "      <td>0.851717</td>\n",
       "    </tr>\n",
       "    <tr>\n",
       "      <th>7</th>\n",
       "      <td>15.220752</td>\n",
       "      <td>0.001508</td>\n",
       "      <td>-91304.697061</td>\n",
       "      <td>-671.248472</td>\n",
       "      <td>-249.760185</td>\n",
       "      <td>0.609774</td>\n",
       "    </tr>\n",
       "    <tr>\n",
       "      <th>8</th>\n",
       "      <td>15.294635</td>\n",
       "      <td>0.000992</td>\n",
       "      <td>-52460.791488</td>\n",
       "      <td>-564.376269</td>\n",
       "      <td>-180.404310</td>\n",
       "      <td>0.793538</td>\n",
       "    </tr>\n",
       "    <tr>\n",
       "      <th>9</th>\n",
       "      <td>16.152237</td>\n",
       "      <td>0.001984</td>\n",
       "      <td>-58488.178535</td>\n",
       "      <td>-568.281072</td>\n",
       "      <td>-185.958764</td>\n",
       "      <td>0.712587</td>\n",
       "    </tr>\n",
       "  </tbody>\n",
       "</table>\n",
       "</div>"
      ],
      "text/plain": [
       "    fit_time  score_time  test_neg_mean_squared_error  test_max_error  \\\n",
       "0  15.200910    0.001983                -91962.017560     -698.553318   \n",
       "1  16.432498    0.000991                -92917.519461     -810.901331   \n",
       "2  15.072922    0.001487                -88476.121322     -733.407387   \n",
       "3  15.268366    0.001984               -137862.254250     -778.337686   \n",
       "4  15.240113    0.001488               -121805.035500     -757.137631   \n",
       "5  15.174601    0.001985                -93598.862092     -675.157504   \n",
       "6  15.298126    0.001984                -98778.424737     -953.743058   \n",
       "7  15.220752    0.001508                -91304.697061     -671.248472   \n",
       "8  15.294635    0.000992                -52460.791488     -564.376269   \n",
       "9  16.152237    0.001984                -58488.178535     -568.281072   \n",
       "\n",
       "   test_neg_mean_absolute_error   test_r2  \n",
       "0                   -239.684886  0.387761  \n",
       "1                   -235.632576  0.662748  \n",
       "2                   -223.229746  0.574634  \n",
       "3                   -304.150092  0.370501  \n",
       "4                   -299.242045 -0.290583  \n",
       "5                   -251.895743  0.573995  \n",
       "6                   -236.201360  0.851717  \n",
       "7                   -249.760185  0.609774  \n",
       "8                   -180.404310  0.793538  \n",
       "9                   -185.958764  0.712587  "
      ]
     },
     "execution_count": 59,
     "metadata": {},
     "output_type": "execute_result"
    }
   ],
   "source": [
    "pd.DataFrame(metricas)"
   ]
  },
  {
   "cell_type": "code",
   "execution_count": 60,
   "id": "cdf891b0",
   "metadata": {},
   "outputs": [
    {
     "data": {
      "text/plain": [
       "fit_time                           15.435516\n",
       "score_time                          0.001639\n",
       "test_neg_mean_squared_error    -92765.390201\n",
       "test_max_error                   -721.114373\n",
       "test_neg_mean_absolute_error     -240.615971\n",
       "test_r2                             0.524667\n",
       "dtype: float64"
      ]
     },
     "execution_count": 60,
     "metadata": {},
     "output_type": "execute_result"
    }
   ],
   "source": [
    "pd.DataFrame(metricas).mean()"
   ]
  },
  {
   "cell_type": "markdown",
   "id": "d8e720de",
   "metadata": {},
   "source": [
    "### Elastic Grid Search"
   ]
  },
  {
   "cell_type": "code",
   "execution_count": 61,
   "id": "d49c5ec5",
   "metadata": {},
   "outputs": [],
   "source": [
    "from sklearn.model_selection import GridSearchCV\n",
    "from sklearn.linear_model import ElasticNet"
   ]
  },
  {
   "cell_type": "code",
   "execution_count": 62,
   "id": "8fc36b0a",
   "metadata": {},
   "outputs": [],
   "source": [
    "elastic_r = ElasticNet()"
   ]
  },
  {
   "cell_type": "code",
   "execution_count": 63,
   "id": "30ee9d75",
   "metadata": {},
   "outputs": [],
   "source": [
    "parametros = {'alpha': np.linspace(0.1,10,100), 'l1_ratio': np.linspace(0.01, 0.99, 100)}\n",
    "elastic_r_cv = GridSearchCV(estimator = elastic_r, \n",
    "                            param_grid=parametros, \n",
    "                            scoring= 'neg_mean_squared_error',\n",
    "                            cv=10,)"
   ]
  },
  {
   "cell_type": "code",
   "execution_count": 64,
   "id": "1f1be680",
   "metadata": {},
   "outputs": [
    {
     "data": {
      "text/plain": [
       "GridSearchCV(cv=10, estimator=ElasticNet(),\n",
       "             param_grid={'alpha': array([ 0.1,  0.2,  0.3,  0.4,  0.5,  0.6,  0.7,  0.8,  0.9,  1. ,  1.1,\n",
       "        1.2,  1.3,  1.4,  1.5,  1.6,  1.7,  1.8,  1.9,  2. ,  2.1,  2.2,\n",
       "        2.3,  2.4,  2.5,  2.6,  2.7,  2.8,  2.9,  3. ,  3.1,  3.2,  3.3,\n",
       "        3.4,  3.5,  3.6,  3.7,  3.8,  3.9,  4. ,  4.1,  4.2,  4.3,  4.4,\n",
       "        4.5,  4.6,  4.7,  4.8,  4.9,  5. ,  5.1,  5.2,  5.3,  5.4,  5.5,\n",
       "        5.6,  5.7,  5.8,  5.9,  6. ,  6.1,  6.2,  6.3,  6.4,  6.5,  6.6,\n",
       "        6.7,  6.8,  6.9,  7. ,  7.1,  7.2,...\n",
       "       0.70292929, 0.71282828, 0.72272727, 0.73262626, 0.74252525,\n",
       "       0.75242424, 0.76232323, 0.77222222, 0.78212121, 0.7920202 ,\n",
       "       0.80191919, 0.81181818, 0.82171717, 0.83161616, 0.84151515,\n",
       "       0.85141414, 0.86131313, 0.87121212, 0.88111111, 0.8910101 ,\n",
       "       0.90090909, 0.91080808, 0.92070707, 0.93060606, 0.94050505,\n",
       "       0.95040404, 0.96030303, 0.97020202, 0.98010101, 0.99      ])},\n",
       "             scoring='neg_mean_squared_error')"
      ]
     },
     "execution_count": 64,
     "metadata": {},
     "output_type": "execute_result"
    }
   ],
   "source": [
    "elastic_r_cv.fit(X, y)"
   ]
  },
  {
   "cell_type": "code",
   "execution_count": 65,
   "id": "0043449e",
   "metadata": {},
   "outputs": [
    {
     "data": {
      "text/plain": [
       "ElasticNet(alpha=0.1, l1_ratio=0.99)"
      ]
     },
     "execution_count": 65,
     "metadata": {},
     "output_type": "execute_result"
    }
   ],
   "source": [
    "elastic_r_cv.best_estimator_"
   ]
  },
  {
   "cell_type": "code",
   "execution_count": 66,
   "id": "c44289f9",
   "metadata": {},
   "outputs": [
    {
     "data": {
      "text/plain": [
       "{'alpha': 0.1, 'l1_ratio': 0.99}"
      ]
     },
     "execution_count": 66,
     "metadata": {},
     "output_type": "execute_result"
    }
   ],
   "source": [
    "elastic_r_cv.best_params_"
   ]
  },
  {
   "cell_type": "code",
   "execution_count": 67,
   "id": "95f535e2",
   "metadata": {},
   "outputs": [],
   "source": [
    "elastic_r = ElasticNet(alpha = elastic_r_cv.best_params_['alpha'], l1_ratio = elastic_r_cv.best_params_['l1_ratio'])"
   ]
  },
  {
   "cell_type": "code",
   "execution_count": 68,
   "id": "2bf49494",
   "metadata": {},
   "outputs": [],
   "source": [
    "metricas = cross_validate(\n",
    "    elastic_r, X, y, \n",
    "    scoring=['neg_mean_squared_error', 'max_error', 'neg_mean_absolute_error', 'r2'], cv=10)"
   ]
  },
  {
   "cell_type": "code",
   "execution_count": 69,
   "id": "9d4aa9b3",
   "metadata": {},
   "outputs": [
    {
     "data": {
      "text/html": [
       "<div>\n",
       "<style scoped>\n",
       "    .dataframe tbody tr th:only-of-type {\n",
       "        vertical-align: middle;\n",
       "    }\n",
       "\n",
       "    .dataframe tbody tr th {\n",
       "        vertical-align: top;\n",
       "    }\n",
       "\n",
       "    .dataframe thead th {\n",
       "        text-align: right;\n",
       "    }\n",
       "</style>\n",
       "<table border=\"1\" class=\"dataframe\">\n",
       "  <thead>\n",
       "    <tr style=\"text-align: right;\">\n",
       "      <th></th>\n",
       "      <th>fit_time</th>\n",
       "      <th>score_time</th>\n",
       "      <th>test_neg_mean_squared_error</th>\n",
       "      <th>test_max_error</th>\n",
       "      <th>test_neg_mean_absolute_error</th>\n",
       "      <th>test_r2</th>\n",
       "    </tr>\n",
       "  </thead>\n",
       "  <tbody>\n",
       "    <tr>\n",
       "      <th>0</th>\n",
       "      <td>0.002483</td>\n",
       "      <td>0.000988</td>\n",
       "      <td>-88730.857860</td>\n",
       "      <td>-677.106895</td>\n",
       "      <td>-239.103469</td>\n",
       "      <td>0.409273</td>\n",
       "    </tr>\n",
       "    <tr>\n",
       "      <th>1</th>\n",
       "      <td>0.001473</td>\n",
       "      <td>0.000994</td>\n",
       "      <td>-92917.519461</td>\n",
       "      <td>-810.901331</td>\n",
       "      <td>-235.632576</td>\n",
       "      <td>0.662748</td>\n",
       "    </tr>\n",
       "    <tr>\n",
       "      <th>2</th>\n",
       "      <td>0.000992</td>\n",
       "      <td>0.000992</td>\n",
       "      <td>-88476.121322</td>\n",
       "      <td>-733.407387</td>\n",
       "      <td>-223.229746</td>\n",
       "      <td>0.574634</td>\n",
       "    </tr>\n",
       "    <tr>\n",
       "      <th>3</th>\n",
       "      <td>0.001992</td>\n",
       "      <td>0.000982</td>\n",
       "      <td>-137862.254250</td>\n",
       "      <td>-778.337686</td>\n",
       "      <td>-304.150092</td>\n",
       "      <td>0.370501</td>\n",
       "    </tr>\n",
       "    <tr>\n",
       "      <th>4</th>\n",
       "      <td>0.000992</td>\n",
       "      <td>0.000992</td>\n",
       "      <td>-121761.619662</td>\n",
       "      <td>-759.794389</td>\n",
       "      <td>-298.615476</td>\n",
       "      <td>-0.290123</td>\n",
       "    </tr>\n",
       "    <tr>\n",
       "      <th>5</th>\n",
       "      <td>0.000991</td>\n",
       "      <td>0.000991</td>\n",
       "      <td>-92730.177931</td>\n",
       "      <td>-639.864503</td>\n",
       "      <td>-252.998301</td>\n",
       "      <td>0.577948</td>\n",
       "    </tr>\n",
       "    <tr>\n",
       "      <th>6</th>\n",
       "      <td>0.000992</td>\n",
       "      <td>0.000992</td>\n",
       "      <td>-98699.767926</td>\n",
       "      <td>-953.516473</td>\n",
       "      <td>-235.468996</td>\n",
       "      <td>0.851835</td>\n",
       "    </tr>\n",
       "    <tr>\n",
       "      <th>7</th>\n",
       "      <td>0.000994</td>\n",
       "      <td>0.000990</td>\n",
       "      <td>-91767.301862</td>\n",
       "      <td>-673.321603</td>\n",
       "      <td>-250.367700</td>\n",
       "      <td>0.607797</td>\n",
       "    </tr>\n",
       "    <tr>\n",
       "      <th>8</th>\n",
       "      <td>0.000992</td>\n",
       "      <td>0.000992</td>\n",
       "      <td>-52365.029746</td>\n",
       "      <td>-552.874149</td>\n",
       "      <td>-181.455329</td>\n",
       "      <td>0.793915</td>\n",
       "    </tr>\n",
       "    <tr>\n",
       "      <th>9</th>\n",
       "      <td>0.000994</td>\n",
       "      <td>0.001486</td>\n",
       "      <td>-58750.964234</td>\n",
       "      <td>-558.895166</td>\n",
       "      <td>-184.504545</td>\n",
       "      <td>0.711296</td>\n",
       "    </tr>\n",
       "  </tbody>\n",
       "</table>\n",
       "</div>"
      ],
      "text/plain": [
       "   fit_time  score_time  test_neg_mean_squared_error  test_max_error  \\\n",
       "0  0.002483    0.000988                -88730.857860     -677.106895   \n",
       "1  0.001473    0.000994                -92917.519461     -810.901331   \n",
       "2  0.000992    0.000992                -88476.121322     -733.407387   \n",
       "3  0.001992    0.000982               -137862.254250     -778.337686   \n",
       "4  0.000992    0.000992               -121761.619662     -759.794389   \n",
       "5  0.000991    0.000991                -92730.177931     -639.864503   \n",
       "6  0.000992    0.000992                -98699.767926     -953.516473   \n",
       "7  0.000994    0.000990                -91767.301862     -673.321603   \n",
       "8  0.000992    0.000992                -52365.029746     -552.874149   \n",
       "9  0.000994    0.001486                -58750.964234     -558.895166   \n",
       "\n",
       "   test_neg_mean_absolute_error   test_r2  \n",
       "0                   -239.103469  0.409273  \n",
       "1                   -235.632576  0.662748  \n",
       "2                   -223.229746  0.574634  \n",
       "3                   -304.150092  0.370501  \n",
       "4                   -298.615476 -0.290123  \n",
       "5                   -252.998301  0.577948  \n",
       "6                   -235.468996  0.851835  \n",
       "7                   -250.367700  0.607797  \n",
       "8                   -181.455329  0.793915  \n",
       "9                   -184.504545  0.711296  "
      ]
     },
     "execution_count": 69,
     "metadata": {},
     "output_type": "execute_result"
    }
   ],
   "source": [
    "pd.DataFrame(metricas)"
   ]
  },
  {
   "cell_type": "code",
   "execution_count": 70,
   "id": "3f622066",
   "metadata": {},
   "outputs": [
    {
     "data": {
      "text/plain": [
       "fit_time                            0.001290\n",
       "score_time                          0.001040\n",
       "test_neg_mean_squared_error    -92406.161425\n",
       "test_max_error                   -713.801958\n",
       "test_neg_mean_absolute_error     -240.552623\n",
       "test_r2                             0.526982\n",
       "dtype: float64"
      ]
     },
     "execution_count": 70,
     "metadata": {},
     "output_type": "execute_result"
    }
   ],
   "source": [
    "pd.DataFrame(metricas).mean()"
   ]
  }
 ],
 "metadata": {
  "kernelspec": {
   "display_name": "Python 3",
   "language": "python",
   "name": "python3"
  },
  "language_info": {
   "codemirror_mode": {
    "name": "ipython",
    "version": 3
   },
   "file_extension": ".py",
   "mimetype": "text/x-python",
   "name": "python",
   "nbconvert_exporter": "python",
   "pygments_lexer": "ipython3",
   "version": "3.8.8"
  }
 },
 "nbformat": 4,
 "nbformat_minor": 5
}
