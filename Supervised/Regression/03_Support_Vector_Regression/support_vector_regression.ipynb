{
 "cells": [
  {
   "cell_type": "markdown",
   "id": "099559d0",
   "metadata": {},
   "source": [
    "## Import Libraries"
   ]
  },
  {
   "cell_type": "code",
   "execution_count": 1,
   "id": "409ce958",
   "metadata": {},
   "outputs": [],
   "source": [
    "import numpy as np\n",
    "import pandas as pd\n",
    "import seaborn as sns\n",
    "import matplotlib.pyplot as plt\n",
    "\n",
    "from sklearn.model_selection import train_test_split\n",
    "\n",
    "from sklearn import metrics\n",
    "from sklearn.preprocessing import StandardScaler\n",
    "from sklearn.svm import SVR\n",
    "from sklearn.model_selection import GridSearchCV\n"
   ]
  },
  {
   "cell_type": "markdown",
   "id": "f9957b64",
   "metadata": {},
   "source": [
    "## Import Dataset"
   ]
  },
  {
   "cell_type": "code",
   "execution_count": 2,
   "id": "85f68743",
   "metadata": {},
   "outputs": [],
   "source": [
    "df_pen = sns.load_dataset('penguins')"
   ]
  },
  {
   "cell_type": "code",
   "execution_count": 3,
   "id": "c7f8afaf",
   "metadata": {},
   "outputs": [],
   "source": [
    "df_pen = df_pen.sample(frac=1).reset_index(drop=True)"
   ]
  },
  {
   "cell_type": "code",
   "execution_count": 4,
   "id": "a17248f3",
   "metadata": {},
   "outputs": [],
   "source": [
    "X = df_pen.drop(['body_mass_g'], axis = 1)\n",
    "y = df_pen['body_mass_g']"
   ]
  },
  {
   "cell_type": "markdown",
   "id": "2229e212",
   "metadata": {},
   "source": [
    "## Data Pre-processing"
   ]
  },
  {
   "cell_type": "code",
   "execution_count": 5,
   "id": "9aae2544",
   "metadata": {},
   "outputs": [],
   "source": [
    "categorical_x = ['species', 'island', 'sex']\n",
    "numerical_x = X.drop(categorical_x, axis = 1).columns"
   ]
  },
  {
   "cell_type": "code",
   "execution_count": 6,
   "id": "2007191e",
   "metadata": {},
   "outputs": [],
   "source": [
    "## If y is categorical:\n",
    "# y.fillna(y.mode(), inplace= True)\n",
    "##If y is numerical\n",
    "y.fillna(y.mean(), inplace= True)\n",
    "for i in numerical_x:\n",
    "    X[i].fillna(X[i].mean(), inplace = True)\n",
    "\n",
    "for i in categorical_x:\n",
    "    X[i].fillna(X[i].mode().iloc[0], inplace = True)\n",
    "    \n",
    "categoricas = pd.get_dummies(X[categorical_x], drop_first=True)\n",
    "X = pd.concat([categoricas, X[numerical_x]], axis = 1)"
   ]
  },
  {
   "cell_type": "code",
   "execution_count": 7,
   "id": "7ea569b1",
   "metadata": {},
   "outputs": [],
   "source": [
    "X_train, X_test, y_train, y_test = train_test_split(X, y, test_size = 0.2, random_state=45)"
   ]
  },
  {
   "cell_type": "code",
   "execution_count": 8,
   "id": "93d132eb",
   "metadata": {},
   "outputs": [],
   "source": [
    "escalador = StandardScaler()\n",
    "escalador.fit(X_train)\n",
    "\n",
    "X_train = escalador.transform(X_train)\n",
    "X_test = escalador.transform(X_test)"
   ]
  },
  {
   "cell_type": "markdown",
   "id": "ae4eadb3",
   "metadata": {},
   "source": [
    "## Model implementation"
   ]
  },
  {
   "cell_type": "code",
   "execution_count": 9,
   "id": "23fc5291",
   "metadata": {},
   "outputs": [],
   "source": [
    "base_model = SVR()"
   ]
  },
  {
   "cell_type": "code",
   "execution_count": 10,
   "id": "20ca5950",
   "metadata": {},
   "outputs": [
    {
     "data": {
      "text/plain": [
       "SVR()"
      ]
     },
     "execution_count": 10,
     "metadata": {},
     "output_type": "execute_result"
    }
   ],
   "source": [
    "base_model.fit(X_train,y_train)"
   ]
  },
  {
   "cell_type": "code",
   "execution_count": 11,
   "id": "e81817f4",
   "metadata": {},
   "outputs": [],
   "source": [
    "base_preds = base_model.predict(X_test)"
   ]
  },
  {
   "cell_type": "markdown",
   "id": "e003f2a4",
   "metadata": {},
   "source": [
    "### Evaluation"
   ]
  },
  {
   "cell_type": "code",
   "execution_count": 12,
   "id": "fcde0f6c",
   "metadata": {},
   "outputs": [
    {
     "name": "stdout",
     "output_type": "stream",
     "text": [
      "Mean Absolute Error: 667.8253728804834\n",
      "Mean Squared Error: 660690.06728429\n",
      "Root Mean Squared Error: 812.8284365622859\n"
     ]
    }
   ],
   "source": [
    "print(f'Mean Absolute Error: {metrics.mean_absolute_error(y_test, base_preds)}')\n",
    "print(f'Mean Squared Error: {metrics.mean_squared_error(y_test, base_preds)}')\n",
    "print(f'Root Mean Squared Error: {np.sqrt(metrics.mean_squared_error(y_test, base_preds))}')"
   ]
  },
  {
   "cell_type": "markdown",
   "id": "3c553288",
   "metadata": {},
   "source": [
    "## Grid Search"
   ]
  },
  {
   "cell_type": "code",
   "execution_count": 13,
   "id": "631b32eb",
   "metadata": {},
   "outputs": [],
   "source": [
    "parametros = {'C':[0.001,0.01,0.1,0.5,1],\n",
    "             'kernel':['linear','rbf','poly'],\n",
    "              'gamma':['scale','auto'],\n",
    "              'degree':[1,2,3,4],\n",
    "              'epsilon':[0,0.01,0.1,0.5,1,2]}"
   ]
  },
  {
   "cell_type": "code",
   "execution_count": 14,
   "id": "a5e6d476",
   "metadata": {},
   "outputs": [],
   "source": [
    "svr = SVR()\n",
    "grid = GridSearchCV(svr,param_grid=parametros, scoring = 'neg_mean_squared_error')"
   ]
  },
  {
   "cell_type": "code",
   "execution_count": 15,
   "id": "68d714d6",
   "metadata": {},
   "outputs": [
    {
     "data": {
      "text/plain": [
       "GridSearchCV(estimator=SVR(),\n",
       "             param_grid={'C': [0.001, 0.01, 0.1, 0.5, 1],\n",
       "                         'degree': [1, 2, 3, 4],\n",
       "                         'epsilon': [0, 0.01, 0.1, 0.5, 1, 2],\n",
       "                         'gamma': ['scale', 'auto'],\n",
       "                         'kernel': ['linear', 'rbf', 'poly']},\n",
       "             scoring='neg_mean_squared_error')"
      ]
     },
     "execution_count": 15,
     "metadata": {},
     "output_type": "execute_result"
    }
   ],
   "source": [
    "grid.fit(X_train,y_train)"
   ]
  },
  {
   "cell_type": "code",
   "execution_count": 16,
   "id": "2499ee91",
   "metadata": {},
   "outputs": [
    {
     "data": {
      "text/plain": [
       "{'C': 1, 'degree': 1, 'epsilon': 0.5, 'gamma': 'scale', 'kernel': 'linear'}"
      ]
     },
     "execution_count": 16,
     "metadata": {},
     "output_type": "execute_result"
    }
   ],
   "source": [
    "grid.best_params_"
   ]
  },
  {
   "cell_type": "code",
   "execution_count": 17,
   "id": "7e45eb84",
   "metadata": {},
   "outputs": [],
   "source": [
    "grid_preds = grid.predict(X_test)"
   ]
  },
  {
   "cell_type": "markdown",
   "id": "c8f44919",
   "metadata": {},
   "source": [
    "### Evaluation"
   ]
  },
  {
   "cell_type": "code",
   "execution_count": 18,
   "id": "567b50ef",
   "metadata": {},
   "outputs": [
    {
     "name": "stdout",
     "output_type": "stream",
     "text": [
      "Mean Absolute Error: 383.99742267398824\n",
      "Mean Squared Error: 215296.67087939047\n",
      "Root Mean Squared Error: 464.00072292981446\n"
     ]
    }
   ],
   "source": [
    "print(f'Mean Absolute Error: {metrics.mean_absolute_error(y_test, grid_preds)}')\n",
    "print(f'Mean Squared Error: {metrics.mean_squared_error(y_test, grid_preds)}')\n",
    "print(f'Root Mean Squared Error: {np.sqrt(metrics.mean_squared_error(y_test, grid_preds))}')"
   ]
  },
  {
   "cell_type": "code",
   "execution_count": null,
   "id": "699a1506",
   "metadata": {},
   "outputs": [],
   "source": []
  },
  {
   "cell_type": "code",
   "execution_count": null,
   "id": "4065b8e0",
   "metadata": {},
   "outputs": [],
   "source": []
  },
  {
   "cell_type": "code",
   "execution_count": null,
   "id": "de3ee2da",
   "metadata": {},
   "outputs": [],
   "source": []
  },
  {
   "cell_type": "code",
   "execution_count": null,
   "id": "219642be",
   "metadata": {},
   "outputs": [],
   "source": []
  }
 ],
 "metadata": {
  "kernelspec": {
   "display_name": "Python 3",
   "language": "python",
   "name": "python3"
  },
  "language_info": {
   "codemirror_mode": {
    "name": "ipython",
    "version": 3
   },
   "file_extension": ".py",
   "mimetype": "text/x-python",
   "name": "python",
   "nbconvert_exporter": "python",
   "pygments_lexer": "ipython3",
   "version": "3.8.8"
  }
 },
 "nbformat": 4,
 "nbformat_minor": 5
}
