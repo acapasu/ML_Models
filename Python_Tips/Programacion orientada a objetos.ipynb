{
 "cells": [
  {
   "cell_type": "markdown",
   "metadata": {},
   "source": [
    "# Programacion orientada a objetos"
   ]
  },
  {
   "cell_type": "code",
   "execution_count": 1,
   "metadata": {},
   "outputs": [],
   "source": [
    "lista = [1,2,3]"
   ]
  },
  {
   "cell_type": "code",
   "execution_count": 2,
   "metadata": {},
   "outputs": [],
   "source": [
    "lista.append(4)"
   ]
  },
  {
   "cell_type": "code",
   "execution_count": 3,
   "metadata": {},
   "outputs": [
    {
     "data": {
      "text/plain": [
       "[1, 2, 3, 4]"
      ]
     },
     "execution_count": 3,
     "metadata": {},
     "output_type": "execute_result"
    }
   ],
   "source": [
    "lista"
   ]
  },
  {
   "cell_type": "markdown",
   "metadata": {},
   "source": [
    "## Objetos"
   ]
  },
  {
   "cell_type": "code",
   "execution_count": 4,
   "metadata": {},
   "outputs": [
    {
     "name": "stdout",
     "output_type": "stream",
     "text": [
      "<class 'int'>\n",
      "<class 'list'>\n",
      "<class 'tuple'>\n",
      "<class 'dict'>\n"
     ]
    }
   ],
   "source": [
    "print(type(1))\n",
    "print(type([]))\n",
    "print(type(()))\n",
    "print(type({}))"
   ]
  },
  {
   "cell_type": "markdown",
   "metadata": {},
   "source": [
    "### Las clases son las herramientas para crear nuevos objetos"
   ]
  },
  {
   "cell_type": "code",
   "execution_count": 5,
   "metadata": {},
   "outputs": [
    {
     "name": "stdout",
     "output_type": "stream",
     "text": [
      "<class '__main__.ejemplo'>\n"
     ]
    }
   ],
   "source": [
    "class ejemplo:\n",
    "    pass\n",
    "\n",
    "\n",
    "x = ejemplo()\n",
    "\n",
    "print(type(x))"
   ]
  },
  {
   "cell_type": "code",
   "execution_count": 6,
   "metadata": {},
   "outputs": [],
   "source": [
    "class Perro:\n",
    "    \n",
    "    def __init__(self, raza):\n",
    "        self.raza = raza\n",
    "        \n",
    "sam = Perro(raza='Lab')\n",
    "frank = Perro(raza='Huskie')"
   ]
  },
  {
   "cell_type": "code",
   "execution_count": 7,
   "metadata": {},
   "outputs": [
    {
     "data": {
      "text/plain": [
       "__main__.Perro"
      ]
     },
     "execution_count": 7,
     "metadata": {},
     "output_type": "execute_result"
    }
   ],
   "source": [
    "type(sam)"
   ]
  },
  {
   "cell_type": "code",
   "execution_count": 8,
   "metadata": {},
   "outputs": [
    {
     "data": {
      "text/plain": [
       "'Lab'"
      ]
     },
     "execution_count": 8,
     "metadata": {},
     "output_type": "execute_result"
    }
   ],
   "source": [
    "sam.raza"
   ]
  },
  {
   "cell_type": "code",
   "execution_count": 35,
   "metadata": {},
   "outputs": [
    {
     "data": {
      "text/plain": [
       "'Huskie'"
      ]
     },
     "execution_count": 35,
     "metadata": {},
     "output_type": "execute_result"
    }
   ],
   "source": [
    "frank.raza"
   ]
  },
  {
   "cell_type": "code",
   "execution_count": 36,
   "metadata": {},
   "outputs": [],
   "source": [
    "class Perro:\n",
    "    \n",
    "    numero_patas = 4\n",
    "    \n",
    "    def __init__(self, raza):\n",
    "        self.raza = raza\n",
    "        \n",
    "sam = Perro(raza='Lab')\n",
    "frank = Perro(raza='Huskie')"
   ]
  },
  {
   "cell_type": "code",
   "execution_count": 37,
   "metadata": {},
   "outputs": [
    {
     "data": {
      "text/plain": [
       "4"
      ]
     },
     "execution_count": 37,
     "metadata": {},
     "output_type": "execute_result"
    }
   ],
   "source": [
    "sam.numero_patas"
   ]
  },
  {
   "cell_type": "code",
   "execution_count": 11,
   "metadata": {},
   "outputs": [
    {
     "name": "stdout",
     "output_type": "stream",
     "text": [
      "El radio es:  1\n",
      "El area es:  3.14\n",
      "la circunferencia es:  6.28\n"
     ]
    }
   ],
   "source": [
    "class Circulo:\n",
    "    pi = 3.14\n",
    "\n",
    "    def __init__(self, radio=1):\n",
    "        self.radio = radio \n",
    "        self.area = radio * radio * Circulo.pi\n",
    "\n",
    "    def cambiarRadio(self, nuevo_radio):\n",
    "        self.radio = nuevo_radio\n",
    "        self.area = nuevo_radio * nuevo_radio * self.pi\n",
    "\n",
    "\n",
    "    def mostrarCircunderencia(self):\n",
    "        return self.radio * self.pi * 2\n",
    "\n",
    "\n",
    "cir = Circulo()\n",
    "\n",
    "print('El radio es: ',cir.radio)\n",
    "print('El area es: ',cir.area)\n",
    "print('la circunferencia es: ',cir.mostrarCircunderencia())"
   ]
  },
  {
   "cell_type": "code",
   "execution_count": 12,
   "metadata": {},
   "outputs": [],
   "source": [
    "cir.cambiarRadio(2)"
   ]
  },
  {
   "cell_type": "code",
   "execution_count": 13,
   "metadata": {},
   "outputs": [
    {
     "name": "stdout",
     "output_type": "stream",
     "text": [
      "el radio del circulo es: 2\n",
      "el area es: 12.56\n",
      "la circunferencia es : 12.56\n"
     ]
    }
   ],
   "source": [
    "print(f'el radio del circulo es: {cir.radio}')\n",
    "print(f'el area es: {cir.area}')\n",
    "print(f'la circunferencia es : {cir.mostrarCircunderencia()}')\n",
    "\n"
   ]
  },
  {
   "cell_type": "markdown",
   "metadata": {},
   "source": [
    "## Herencia"
   ]
  },
  {
   "cell_type": "code",
   "execution_count": 14,
   "metadata": {},
   "outputs": [],
   "source": [
    "class Animal:\n",
    "    def __init__(self):\n",
    "        print(\"Animal creado\")\n",
    "\n",
    "    def quiensoy(self):\n",
    "        print(\"Animal\")\n",
    "\n",
    "    def comer(self):\n",
    "        print(\"Comiendo\")\n",
    "        \n",
    "class Gato(Animal):\n",
    "    \n",
    "    especie = 'Felino'\n",
    "    \n",
    "    def __init__(self, nombre, color):\n",
    "        self.nombre = nombre\n",
    "        self.color = color\n",
    "    def cambiarColor (self, nuevo_color):\n",
    "        self.color = nuevo_color\n",
    "    def cambiarNombre(self, nuevo_nombre):\n",
    "        self.nombre = nuevo_nombre\n",
    "        "
   ]
  },
  {
   "cell_type": "code",
   "execution_count": 15,
   "metadata": {},
   "outputs": [],
   "source": [
    "mit = Gato('Mittens', 'negro')"
   ]
  },
  {
   "cell_type": "code",
   "execution_count": 16,
   "metadata": {},
   "outputs": [],
   "source": [
    "mit.cambiarColor('azul')"
   ]
  },
  {
   "cell_type": "code",
   "execution_count": 17,
   "metadata": {},
   "outputs": [
    {
     "data": {
      "text/plain": [
       "'azul'"
      ]
     },
     "execution_count": 17,
     "metadata": {},
     "output_type": "execute_result"
    }
   ],
   "source": [
    "mit.color"
   ]
  },
  {
   "cell_type": "code",
   "execution_count": 18,
   "metadata": {},
   "outputs": [
    {
     "name": "stdout",
     "output_type": "stream",
     "text": [
      "Comiendo\n"
     ]
    }
   ],
   "source": [
    "mit.comer()"
   ]
  },
  {
   "cell_type": "markdown",
   "metadata": {},
   "source": [
    "## Mismo metodo para mas de una clase"
   ]
  },
  {
   "cell_type": "code",
   "execution_count": 19,
   "metadata": {},
   "outputs": [],
   "source": [
    "class Gato():\n",
    "    \n",
    "    especie = 'Felino'\n",
    "    \n",
    "    def __init__(self, nombre, color):\n",
    "        self.nombre = nombre\n",
    "        self.color = color\n",
    "    def cambiarColor (self, nuevo_color):\n",
    "        self.color = nuevo_color\n",
    "    def cambiarNombre(self, nuevo_nombre):\n",
    "        self.nombre = nuevo_nombre\n",
    "    def hablar (self):\n",
    "        print('Miau')\n",
    "        \n",
    "class Perro:\n",
    "    \n",
    "    numero_patas = 4\n",
    "    \n",
    "    def __init__(self, raza):\n",
    "        self.raza = raza\n",
    "        \n",
    "    def hablar (self):\n",
    "        print('Guau')\n",
    "\n",
    "        \n",
    "sam = Perro(raza='Lab')\n",
    "mit = Gato('Mittesns', 'Blanco')"
   ]
  },
  {
   "cell_type": "code",
   "execution_count": 20,
   "metadata": {},
   "outputs": [
    {
     "name": "stdout",
     "output_type": "stream",
     "text": [
      "Guau\n"
     ]
    }
   ],
   "source": [
    "sam.hablar()"
   ]
  },
  {
   "cell_type": "code",
   "execution_count": 21,
   "metadata": {},
   "outputs": [
    {
     "name": "stdout",
     "output_type": "stream",
     "text": [
      "Miau\n"
     ]
    }
   ],
   "source": [
    "mit.hablar()"
   ]
  },
  {
   "cell_type": "code",
   "execution_count": 22,
   "metadata": {},
   "outputs": [
    {
     "name": "stdout",
     "output_type": "stream",
     "text": [
      "Guau\n",
      "Miau\n"
     ]
    }
   ],
   "source": [
    "# Ejemplo con for\n",
    "mascotas = [sam, mit]\n",
    "for mas in mascotas:\n",
    "    mas.hablar()"
   ]
  },
  {
   "cell_type": "code",
   "execution_count": 23,
   "metadata": {},
   "outputs": [],
   "source": [
    "# Ejemplo con funcion\n",
    "def mascota_habla(mascota):\n",
    "    return mascota.hablar()"
   ]
  },
  {
   "cell_type": "code",
   "execution_count": 24,
   "metadata": {},
   "outputs": [
    {
     "name": "stdout",
     "output_type": "stream",
     "text": [
      "Miau\n"
     ]
    }
   ],
   "source": [
    "mascota_habla(mit)"
   ]
  },
  {
   "cell_type": "code",
   "execution_count": 25,
   "metadata": {},
   "outputs": [
    {
     "name": "stdout",
     "output_type": "stream",
     "text": [
      "Guau\n"
     ]
    }
   ],
   "source": [
    "mascota_habla(sam)"
   ]
  },
  {
   "cell_type": "code",
   "execution_count": 26,
   "metadata": {},
   "outputs": [],
   "source": [
    "# Ejemplo donde se definen clases sin metodos reales\n",
    "\n",
    "class Animal():\n",
    "    \n",
    "    estado = 'vivo'\n",
    "    \n",
    "    def __init__(self, nombre):\n",
    "        self.nombre = nombre\n",
    "    \n",
    "    def hablar(self):\n",
    "        raise NotImplementedError('Este metodo debe ser definido en las subclases')\n",
    "\n",
    "class Perro(Animal):\n",
    "    def __init__(self, nombre, raza):\n",
    "        self.nombre = nombre\n",
    "        self.raza = raza\n",
    "        \n",
    "    def hablar(self):\n",
    "        return ('Guau')\n",
    "        \n",
    "class Gato(Animal):\n",
    "    def __init__(self, nombre, color):\n",
    "        self.nombre = nombre\n",
    "        self.color = color\n",
    "        \n",
    "    def hablar(self):\n",
    "        return ('Miau')\n",
    "        \n",
    "mit = Gato(\"Mittens\", 'Negro')\n",
    "mat = Perro('Mat', 'Labrador')"
   ]
  },
  {
   "cell_type": "code",
   "execution_count": 27,
   "metadata": {},
   "outputs": [
    {
     "data": {
      "text/plain": [
       "'vivo'"
      ]
     },
     "execution_count": 27,
     "metadata": {},
     "output_type": "execute_result"
    }
   ],
   "source": [
    "mat.estado"
   ]
  },
  {
   "cell_type": "code",
   "execution_count": 28,
   "metadata": {},
   "outputs": [
    {
     "data": {
      "text/plain": [
       "'Guau'"
      ]
     },
     "execution_count": 28,
     "metadata": {},
     "output_type": "execute_result"
    }
   ],
   "source": [
    "mat.hablar()"
   ]
  },
  {
   "cell_type": "code",
   "execution_count": 29,
   "metadata": {},
   "outputs": [
    {
     "data": {
      "text/plain": [
       "'Miau'"
      ]
     },
     "execution_count": 29,
     "metadata": {},
     "output_type": "execute_result"
    }
   ],
   "source": [
    "mit.hablar()"
   ]
  },
  {
   "cell_type": "markdown",
   "metadata": {},
   "source": [
    "### Algunos metodos especiales para las funciones"
   ]
  },
  {
   "cell_type": "code",
   "execution_count": 30,
   "metadata": {},
   "outputs": [],
   "source": [
    "a = [1,2,3]"
   ]
  },
  {
   "cell_type": "code",
   "execution_count": 31,
   "metadata": {},
   "outputs": [
    {
     "data": {
      "text/plain": [
       "3"
      ]
     },
     "execution_count": 31,
     "metadata": {},
     "output_type": "execute_result"
    }
   ],
   "source": [
    "len(a)"
   ]
  },
  {
   "cell_type": "code",
   "execution_count": 32,
   "metadata": {},
   "outputs": [
    {
     "data": {
      "text/plain": [
       "'[1, 2, 3]'"
      ]
     },
     "execution_count": 32,
     "metadata": {},
     "output_type": "execute_result"
    }
   ],
   "source": [
    "str(a)"
   ]
  },
  {
   "cell_type": "code",
   "execution_count": 33,
   "metadata": {},
   "outputs": [],
   "source": [
    "del(a)"
   ]
  },
  {
   "cell_type": "code",
   "execution_count": 34,
   "metadata": {},
   "outputs": [
    {
     "ename": "NameError",
     "evalue": "name 'a' is not defined",
     "output_type": "error",
     "traceback": [
      "\u001b[1;31m---------------------------------------------------------------------------\u001b[0m",
      "\u001b[1;31mNameError\u001b[0m                                 Traceback (most recent call last)",
      "\u001b[1;32m<ipython-input-34-3f786850e387>\u001b[0m in \u001b[0;36m<module>\u001b[1;34m\u001b[0m\n\u001b[1;32m----> 1\u001b[1;33m \u001b[0ma\u001b[0m\u001b[1;33m\u001b[0m\u001b[1;33m\u001b[0m\u001b[0m\n\u001b[0m",
      "\u001b[1;31mNameError\u001b[0m: name 'a' is not defined"
     ]
    }
   ],
   "source": [
    "a"
   ]
  },
  {
   "cell_type": "code",
   "execution_count": null,
   "metadata": {},
   "outputs": [],
   "source": [
    "mit"
   ]
  },
  {
   "cell_type": "code",
   "execution_count": null,
   "metadata": {},
   "outputs": [],
   "source": [
    "len(mit)"
   ]
  },
  {
   "cell_type": "code",
   "execution_count": null,
   "metadata": {},
   "outputs": [],
   "source": [
    "str(mit)"
   ]
  },
  {
   "cell_type": "code",
   "execution_count": null,
   "metadata": {},
   "outputs": [],
   "source": [
    "del(mit)"
   ]
  },
  {
   "cell_type": "code",
   "execution_count": null,
   "metadata": {},
   "outputs": [],
   "source": [
    "mit"
   ]
  },
  {
   "cell_type": "code",
   "execution_count": null,
   "metadata": {},
   "outputs": [],
   "source": [
    "class Libro():\n",
    "    def __init__ (self, autor, numero_paginas, titulo):\n",
    "        self.autor = autor\n",
    "        self.numero_paginas = numero_paginas\n",
    "        self. titulo = titulo\n",
    "\n",
    "    def __len__(self):\n",
    "        return self.numero_paginas\n",
    "    def __str__(self):\n",
    "        return self.titulo\n",
    "    def __del__(self):\n",
    "        print(\"Has destruido este libro\") \n",
    "        "
   ]
  },
  {
   "cell_type": "code",
   "execution_count": null,
   "metadata": {},
   "outputs": [],
   "source": [
    "harry = Libro('J.K. Rowlin', 200, 'Harry Potter')"
   ]
  },
  {
   "cell_type": "code",
   "execution_count": null,
   "metadata": {},
   "outputs": [],
   "source": [
    "harry.autor"
   ]
  },
  {
   "cell_type": "code",
   "execution_count": null,
   "metadata": {},
   "outputs": [],
   "source": [
    "str(harry)"
   ]
  },
  {
   "cell_type": "code",
   "execution_count": null,
   "metadata": {},
   "outputs": [],
   "source": [
    "len(harry)"
   ]
  },
  {
   "cell_type": "code",
   "execution_count": null,
   "metadata": {},
   "outputs": [],
   "source": [
    "del(harry)"
   ]
  },
  {
   "cell_type": "code",
   "execution_count": null,
   "metadata": {},
   "outputs": [],
   "source": [
    "harry"
   ]
  },
  {
   "cell_type": "code",
   "execution_count": null,
   "metadata": {},
   "outputs": [],
   "source": []
  }
 ],
 "metadata": {
  "kernelspec": {
   "display_name": "Python 3",
   "language": "python",
   "name": "python3"
  },
  "language_info": {
   "codemirror_mode": {
    "name": "ipython",
    "version": 3
   },
   "file_extension": ".py",
   "mimetype": "text/x-python",
   "name": "python",
   "nbconvert_exporter": "python",
   "pygments_lexer": "ipython3",
   "version": "3.8.8"
  }
 },
 "nbformat": 4,
 "nbformat_minor": 4
}
