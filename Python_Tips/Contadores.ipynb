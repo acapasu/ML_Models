{
 "cells": [
  {
   "cell_type": "code",
   "execution_count": 1,
   "metadata": {},
   "outputs": [],
   "source": [
    "from collections import Counter"
   ]
  },
  {
   "cell_type": "code",
   "execution_count": 2,
   "metadata": {},
   "outputs": [],
   "source": [
    "lista = [0,0,0,2,2,5,5,4,6,8,5,5,7]"
   ]
  },
  {
   "cell_type": "code",
   "execution_count": 23,
   "metadata": {},
   "outputs": [],
   "source": [
    "c = Counter(lista)"
   ]
  },
  {
   "cell_type": "code",
   "execution_count": 25,
   "metadata": {},
   "outputs": [
    {
     "data": {
      "text/plain": [
       "(5, 4)"
      ]
     },
     "execution_count": 25,
     "metadata": {},
     "output_type": "execute_result"
    }
   ],
   "source": [
    "c.most_common()[0]"
   ]
  },
  {
   "cell_type": "code",
   "execution_count": null,
   "metadata": {},
   "outputs": [],
   "source": [
    "st = 'kajshdfkasjdhvalkssjghflkasjdhf'"
   ]
  },
  {
   "cell_type": "code",
   "execution_count": 5,
   "metadata": {},
   "outputs": [
    {
     "data": {
      "text/plain": [
       "Counter({'k': 4,\n",
       "         'a': 4,\n",
       "         'j': 4,\n",
       "         's': 5,\n",
       "         'h': 4,\n",
       "         'd': 3,\n",
       "         'f': 3,\n",
       "         'v': 1,\n",
       "         'l': 2,\n",
       "         'g': 1})"
      ]
     },
     "execution_count": 5,
     "metadata": {},
     "output_type": "execute_result"
    }
   ],
   "source": [
    "Counter(st)"
   ]
  },
  {
   "cell_type": "code",
   "execution_count": 16,
   "metadata": {},
   "outputs": [],
   "source": [
    "frase = ('tres tristes tigres comen trigo en tres tristes platos')\n",
    "frase = frase.split()"
   ]
  },
  {
   "cell_type": "code",
   "execution_count": 17,
   "metadata": {},
   "outputs": [
    {
     "data": {
      "text/plain": [
       "Counter({'tres': 2,\n",
       "         'tristes': 2,\n",
       "         'tigres': 1,\n",
       "         'comen': 1,\n",
       "         'trigo': 1,\n",
       "         'en': 1,\n",
       "         'platos': 1})"
      ]
     },
     "execution_count": 17,
     "metadata": {},
     "output_type": "execute_result"
    }
   ],
   "source": [
    "Counter(frase)"
   ]
  },
  {
   "cell_type": "code",
   "execution_count": 27,
   "metadata": {},
   "outputs": [],
   "source": [
    "c = Counter(frase)"
   ]
  },
  {
   "cell_type": "code",
   "execution_count": 21,
   "metadata": {},
   "outputs": [
    {
     "data": {
      "text/plain": [
       "collections.Counter"
      ]
     },
     "execution_count": 21,
     "metadata": {},
     "output_type": "execute_result"
    }
   ],
   "source": [
    "type(c)"
   ]
  },
  {
   "cell_type": "code",
   "execution_count": 19,
   "metadata": {},
   "outputs": [
    {
     "data": {
      "text/plain": [
       "[('tres', 2), ('tristes', 2)]"
      ]
     },
     "execution_count": 19,
     "metadata": {},
     "output_type": "execute_result"
    }
   ],
   "source": [
    "c.most_common(2)"
   ]
  },
  {
   "cell_type": "code",
   "execution_count": 22,
   "metadata": {},
   "outputs": [
    {
     "data": {
      "text/plain": [
       "dict_values([2, 2, 1, 1, 1, 1, 1])"
      ]
     },
     "execution_count": 22,
     "metadata": {},
     "output_type": "execute_result"
    }
   ],
   "source": [
    "c.values()"
   ]
  },
  {
   "cell_type": "code",
   "execution_count": 23,
   "metadata": {},
   "outputs": [
    {
     "data": {
      "text/plain": [
       "9"
      ]
     },
     "execution_count": 23,
     "metadata": {},
     "output_type": "execute_result"
    }
   ],
   "source": [
    "sum(c.values())"
   ]
  },
  {
   "cell_type": "code",
   "execution_count": 29,
   "metadata": {},
   "outputs": [],
   "source": [
    "c.clear()"
   ]
  },
  {
   "cell_type": "code",
   "execution_count": 30,
   "metadata": {},
   "outputs": [
    {
     "data": {
      "text/plain": [
       "Counter()"
      ]
     },
     "execution_count": 30,
     "metadata": {},
     "output_type": "execute_result"
    }
   ],
   "source": [
    "c"
   ]
  },
  {
   "cell_type": "code",
   "execution_count": 43,
   "metadata": {},
   "outputs": [],
   "source": [
    "c = Counter('kljashdfkajshglkasjhglkjfghalskjhfgaslkjgh')"
   ]
  },
  {
   "cell_type": "code",
   "execution_count": 44,
   "metadata": {},
   "outputs": [
    {
     "data": {
      "text/plain": [
       "Counter({'k': 6,\n",
       "         'l': 5,\n",
       "         'j': 6,\n",
       "         'a': 5,\n",
       "         's': 5,\n",
       "         'h': 6,\n",
       "         'd': 1,\n",
       "         'f': 3,\n",
       "         'g': 5})"
      ]
     },
     "execution_count": 44,
     "metadata": {},
     "output_type": "execute_result"
    }
   ],
   "source": [
    "c"
   ]
  },
  {
   "cell_type": "code",
   "execution_count": 45,
   "metadata": {},
   "outputs": [
    {
     "data": {
      "text/plain": [
       "['k', 'l', 'j', 'a', 's', 'h', 'd', 'f', 'g']"
      ]
     },
     "execution_count": 45,
     "metadata": {},
     "output_type": "execute_result"
    }
   ],
   "source": [
    "list(c)"
   ]
  },
  {
   "cell_type": "code",
   "execution_count": 47,
   "metadata": {},
   "outputs": [
    {
     "data": {
      "text/plain": [
       "{'a', 'd', 'f', 'g', 'h', 'j', 'k', 'l', 's'}"
      ]
     },
     "execution_count": 47,
     "metadata": {},
     "output_type": "execute_result"
    }
   ],
   "source": [
    "set(c)"
   ]
  },
  {
   "cell_type": "code",
   "execution_count": 48,
   "metadata": {},
   "outputs": [
    {
     "data": {
      "text/plain": [
       "{'k': 6, 'l': 5, 'j': 6, 'a': 5, 's': 5, 'h': 6, 'd': 1, 'f': 3, 'g': 5}"
      ]
     },
     "execution_count": 48,
     "metadata": {},
     "output_type": "execute_result"
    }
   ],
   "source": [
    "dict(c)"
   ]
  },
  {
   "cell_type": "code",
   "execution_count": 49,
   "metadata": {},
   "outputs": [
    {
     "data": {
      "text/plain": [
       "dict_items([('k', 6), ('l', 5), ('j', 6), ('a', 5), ('s', 5), ('h', 6), ('d', 1), ('f', 3), ('g', 5)])"
      ]
     },
     "execution_count": 49,
     "metadata": {},
     "output_type": "execute_result"
    }
   ],
   "source": [
    "c.items()"
   ]
  },
  {
   "cell_type": "code",
   "execution_count": 54,
   "metadata": {},
   "outputs": [
    {
     "data": {
      "text/plain": [
       "Counter({'a': 6, 'b': 4, 'c': 3})"
      ]
     },
     "execution_count": 54,
     "metadata": {},
     "output_type": "execute_result"
    }
   ],
   "source": [
    "Counter(dict([('a',6),('b',4),('c',3)]))"
   ]
  },
  {
   "cell_type": "code",
   "execution_count": 58,
   "metadata": {},
   "outputs": [
    {
     "data": {
      "text/plain": [
       "[('k', 6),\n",
       " ('j', 6),\n",
       " ('h', 6),\n",
       " ('l', 5),\n",
       " ('a', 5),\n",
       " ('s', 5),\n",
       " ('g', 5),\n",
       " ('f', 3),\n",
       " ('d', 1)]"
      ]
     },
     "execution_count": 58,
     "metadata": {},
     "output_type": "execute_result"
    }
   ],
   "source": [
    "c.most_common()"
   ]
  },
  {
   "cell_type": "code",
   "execution_count": 69,
   "metadata": {},
   "outputs": [
    {
     "data": {
      "text/plain": [
       "[('d', 1), ('f', 3), ('g', 5), ('s', 5)]"
      ]
     },
     "execution_count": 69,
     "metadata": {},
     "output_type": "execute_result"
    }
   ],
   "source": [
    "c.most_common()[:-4-1:-1] "
   ]
  },
  {
   "cell_type": "code",
   "execution_count": 67,
   "metadata": {},
   "outputs": [],
   "source": [
    "import os"
   ]
  },
  {
   "cell_type": "code",
   "execution_count": 71,
   "metadata": {},
   "outputs": [
    {
     "data": {
      "text/plain": [
       "'C:\\\\Users\\\\andre\\\\Desktop\\\\Curso de Ciencia de Datos\\\\semana3\\\\clase10'"
      ]
     },
     "execution_count": 71,
     "metadata": {},
     "output_type": "execute_result"
    }
   ],
   "source": [
    "os.getcwd()"
   ]
  },
  {
   "cell_type": "code",
   "execution_count": 72,
   "metadata": {},
   "outputs": [
    {
     "data": {
      "text/plain": [
       "['.ipynb_checkpoints', 'Contadores ejercicios.ipynb', 'Contadores.ipynb']"
      ]
     },
     "execution_count": 72,
     "metadata": {},
     "output_type": "execute_result"
    }
   ],
   "source": [
    "os.listdir()"
   ]
  },
  {
   "cell_type": "code",
   "execution_count": 84,
   "metadata": {},
   "outputs": [
    {
     "data": {
      "text/plain": [
       "['Aim Hero.url',\n",
       " 'Among Us.url',\n",
       " 'Andres Paez',\n",
       " 'articydraft 3.url',\n",
       " 'BioShock Remastered.url',\n",
       " 'Call of Duty Modern Warfare 2 - Multiplayer.url',\n",
       " 'Call of Duty Modern Warfare 2.url',\n",
       " 'Contrato',\n",
       " 'Cosas random',\n",
       " 'Curso de Ciencia de Datos',\n",
       " 'desktop.ini',\n",
       " 'Discord.lnk',\n",
       " 'Documentos Tutoria',\n",
       " 'Facturas abuelo Ferchoo',\n",
       " 'Fall Guys.url',\n",
       " 'godzilla.docx',\n",
       " 'Grand Theft Auto San Andreas.url',\n",
       " 'KovaaK 2.0.url',\n",
       " 'Librealo',\n",
       " 'MSI Afterburner.lnk',\n",
       " 'MURDERED SOUL SUSPECT™.url',\n",
       " 'nuevaLocacion',\n",
       " 'Olive.lnk',\n",
       " 'Outward.url',\n",
       " 'Programacion orientada a objetos.pdf',\n",
       " 'proyecto_dibujos',\n",
       " 'Pure Chess.url',\n",
       " 'renpy - Shortcut.lnk',\n",
       " 'Rise of Nations Extended Edition.url',\n",
       " 'Rockstar Games Launcher.lnk',\n",
       " 'Sekiro™ Shadows Die Twice.url',\n",
       " 'Slack.lnk',\n",
       " 'Super Meat Boy.url',\n",
       " 'Talentu',\n",
       " 'Tesis',\n",
       " 'The Talos Principle.url',\n",
       " 'Tomb Raider.url',\n",
       " 'Udemy',\n",
       " 'Zoom.lnk']"
      ]
     },
     "execution_count": 84,
     "metadata": {},
     "output_type": "execute_result"
    }
   ],
   "source": [
    "os.listdir(\"C:\\\\Users\\\\andre\\\\Desktop\")"
   ]
  },
  {
   "cell_type": "code",
   "execution_count": 123,
   "metadata": {},
   "outputs": [
    {
     "data": {
      "text/plain": [
       "('C:\\\\Users\\\\andre\\\\Desktop\\\\Curso de Ciencia de Datos',\n",
       " ['.ipynb_checkpoints', 'semana1', 'semana2', 'semana3'],\n",
       " ['ejemplo1.txt', 'ejemplo2.txt'])"
      ]
     },
     "execution_count": 123,
     "metadata": {},
     "output_type": "execute_result"
    }
   ],
   "source": [
    "next(os.walk(\"C:\\\\Users\\\\andre\\\\Desktop\\\\Curso de Ciencia de Datos\"))"
   ]
  },
  {
   "cell_type": "code",
   "execution_count": 124,
   "metadata": {},
   "outputs": [],
   "source": [
    "direccion, carpetas, archivos = next(os.walk(\"C:\\\\Users\\\\andre\\\\Desktop\\\\Curso de Ciencia de Datos\"))"
   ]
  },
  {
   "cell_type": "code",
   "execution_count": 128,
   "metadata": {},
   "outputs": [
    {
     "name": "stdout",
     "output_type": "stream",
     "text": [
      "la direccion que estamos viendo es: C:\\Users\\andre\\Desktop\\Curso de Ciencia de Datos\n",
      "las carpetas que estamos viendo son: ['.ipynb_checkpoints', 'semana1', 'semana2', 'semana3']\n",
      "los archivos que estamos viendo son: ['ejemplo1.txt', 'ejemplo2.txt']\n"
     ]
    }
   ],
   "source": [
    "print('la direccion que estamos viendo es: ' + str(direccion))\n",
    "print('las carpetas que estamos viendo son: ' + str(carpetas))\n",
    "print('los archivos que estamos viendo son: ' + str(archivos))"
   ]
  },
  {
   "cell_type": "code",
   "execution_count": 137,
   "metadata": {},
   "outputs": [
    {
     "name": "stdout",
     "output_type": "stream",
     "text": [
      "la direccion que estamos viendo es: C:\\Users\\andre\\Desktop\\Curso de Ciencia de Datos\n",
      "las carpetas que estamos viendo son: ['.ipynb_checkpoints', 'semana1', 'semana2', 'semana3']\n",
      "los archivos que estamos viendo son: []\n",
      "la direccion que estamos viendo es: C:\\Users\\andre\\Desktop\\Curso de Ciencia de Datos\\.ipynb_checkpoints\n",
      "las carpetas que estamos viendo son: []\n",
      "los archivos que estamos viendo son: []\n",
      "la direccion que estamos viendo es: C:\\Users\\andre\\Desktop\\Curso de Ciencia de Datos\\semana1\n",
      "las carpetas que estamos viendo son: ['.ipynb_checkpoints', 'clase1', 'clase2', 'clase3']\n",
      "los archivos que estamos viendo son: []\n",
      "la direccion que estamos viendo es: C:\\Users\\andre\\Desktop\\Curso de Ciencia de Datos\\semana1\\.ipynb_checkpoints\n",
      "las carpetas que estamos viendo son: []\n",
      "los archivos que estamos viendo son: []\n",
      "la direccion que estamos viendo es: C:\\Users\\andre\\Desktop\\Curso de Ciencia de Datos\\semana1\\clase1\n",
      "las carpetas que estamos viendo son: []\n",
      "los archivos que estamos viendo son: ['que es ciencia de datos.pptx']\n",
      "la direccion que estamos viendo es: C:\\Users\\andre\\Desktop\\Curso de Ciencia de Datos\\semana1\\clase2\n",
      "las carpetas que estamos viendo son: ['.ipynb_checkpoints']\n",
      "los archivos que estamos viendo son: ['Objetos basicos de Python.ipynb', 'Tipos basicos de objetos en Python Ejercicio.ipynb']\n",
      "la direccion que estamos viendo es: C:\\Users\\andre\\Desktop\\Curso de Ciencia de Datos\\semana1\\clase2\\.ipynb_checkpoints\n",
      "las carpetas que estamos viendo son: []\n",
      "los archivos que estamos viendo son: ['Objetos basicos de Python-checkpoint.ipynb', 'Tipos basicos de objetos en Python Ejercicio-checkpoint.ipynb']\n",
      "la direccion que estamos viendo es: C:\\Users\\andre\\Desktop\\Curso de Ciencia de Datos\\semana1\\clase3\n",
      "las carpetas que estamos viendo son: ['.ipynb_checkpoints']\n",
      "los archivos que estamos viendo son: ['iteradores en Python Ejercicios.ipynb', 'Iteradores en Python.ipynb']\n",
      "la direccion que estamos viendo es: C:\\Users\\andre\\Desktop\\Curso de Ciencia de Datos\\semana1\\clase3\\.ipynb_checkpoints\n",
      "las carpetas que estamos viendo son: []\n",
      "los archivos que estamos viendo son: ['iteradores en Python Ejercicios-checkpoint.ipynb', 'Iteradores en Python-checkpoint.ipynb']\n",
      "la direccion que estamos viendo es: C:\\Users\\andre\\Desktop\\Curso de Ciencia de Datos\\semana2\n",
      "las carpetas que estamos viendo son: ['.ipynb_checkpoints', 'clase4', 'clase5', 'clase6', 'clase7']\n",
      "los archivos que estamos viendo son: []\n",
      "la direccion que estamos viendo es: C:\\Users\\andre\\Desktop\\Curso de Ciencia de Datos\\semana2\\.ipynb_checkpoints\n",
      "las carpetas que estamos viendo son: []\n",
      "los archivos que estamos viendo son: []\n",
      "la direccion que estamos viendo es: C:\\Users\\andre\\Desktop\\Curso de Ciencia de Datos\\semana2\\clase4\n",
      "las carpetas que estamos viendo son: ['.ipynb_checkpoints']\n",
      "los archivos que estamos viendo son: ['Funciones ejercicios.ipynb', 'Funciones.ipynb', 'Untitled.ipynb']\n",
      "la direccion que estamos viendo es: C:\\Users\\andre\\Desktop\\Curso de Ciencia de Datos\\semana2\\clase4\\.ipynb_checkpoints\n",
      "las carpetas que estamos viendo son: []\n",
      "los archivos que estamos viendo son: ['Funciones ejercicios-checkpoint.ipynb', 'Funciones-checkpoint.ipynb', 'Untitled-checkpoint.ipynb']\n",
      "la direccion que estamos viendo es: C:\\Users\\andre\\Desktop\\Curso de Ciencia de Datos\\semana2\\clase5\n",
      "las carpetas que estamos viendo son: ['.ipynb_checkpoints']\n",
      "los archivos que estamos viendo son: ['Ejercicios clase 5 y Primer proyecto.ipynb', 'Jerarquias, argumentos args y tips.ipynb', 'Solucion Triqui primer intento.ipynb', 'solucion triqui segundo intento.ipynb', 'triqui_con_clases.ipynb', 'Untitled.ipynb', 'Untitled1.ipynb']\n",
      "la direccion que estamos viendo es: C:\\Users\\andre\\Desktop\\Curso de Ciencia de Datos\\semana2\\clase5\\.ipynb_checkpoints\n",
      "las carpetas que estamos viendo son: []\n",
      "los archivos que estamos viendo son: ['Ejercicios clase 5 y Primer proyecto-checkpoint.ipynb', 'Jerarquias, argumentos args y tips-checkpoint.ipynb', 'Solucion Triqui primer intento-checkpoint.ipynb', 'solucion triqui segundo intento-checkpoint.ipynb', 'triqui_con_clases-checkpoint.ipynb', 'Untitled-checkpoint.ipynb', 'Untitled1-checkpoint.ipynb']\n",
      "la direccion que estamos viendo es: C:\\Users\\andre\\Desktop\\Curso de Ciencia de Datos\\semana2\\clase6\n",
      "las carpetas que estamos viendo son: ['.ipynb_checkpoints']\n",
      "los archivos que estamos viendo son: ['Programacion orientada a objetos ejercicios.ipynb', 'Programacion orientada a objetos.ipynb', 'Untitled.ipynb']\n",
      "la direccion que estamos viendo es: C:\\Users\\andre\\Desktop\\Curso de Ciencia de Datos\\semana2\\clase6\\.ipynb_checkpoints\n",
      "las carpetas que estamos viendo son: []\n",
      "los archivos que estamos viendo son: ['Programacion orientada a objetos ejercicios-checkpoint.ipynb', 'Programacion orientada a objetos-checkpoint.ipynb', 'Untitled-checkpoint.ipynb']\n",
      "la direccion que estamos viendo es: C:\\Users\\andre\\Desktop\\Curso de Ciencia de Datos\\semana2\\clase7\n",
      "las carpetas que estamos viendo son: ['.ipynb_checkpoints', 'paquete', '__pycache__']\n",
      "los archivos que estamos viendo son: ['modulo.py', 'programa.ipynb']\n",
      "la direccion que estamos viendo es: C:\\Users\\andre\\Desktop\\Curso de Ciencia de Datos\\semana2\\clase7\\.ipynb_checkpoints\n",
      "las carpetas que estamos viendo son: []\n",
      "los archivos que estamos viendo son: ['modulo_paquete-checkpoint.ipynb', 'programa-checkpoint.ipynb']\n",
      "la direccion que estamos viendo es: C:\\Users\\andre\\Desktop\\Curso de Ciencia de Datos\\semana2\\clase7\\paquete\n",
      "las carpetas que estamos viendo son: ['__pycache__']\n",
      "los archivos que estamos viendo son: ['modulo_paquete.py', '__init__.py']\n",
      "la direccion que estamos viendo es: C:\\Users\\andre\\Desktop\\Curso de Ciencia de Datos\\semana2\\clase7\\paquete\\__pycache__\n",
      "las carpetas que estamos viendo son: []\n",
      "los archivos que estamos viendo son: ['modulo_paquete.cpython-38.pyc', '__init__.cpython-38.pyc']\n",
      "la direccion que estamos viendo es: C:\\Users\\andre\\Desktop\\Curso de Ciencia de Datos\\semana2\\clase7\\__pycache__\n",
      "las carpetas que estamos viendo son: []\n",
      "los archivos que estamos viendo son: ['modulo.cpython-38.pyc']\n",
      "la direccion que estamos viendo es: C:\\Users\\andre\\Desktop\\Curso de Ciencia de Datos\\semana3\n",
      "las carpetas que estamos viendo son: ['clase10', 'clase11', 'clase8', 'clase9']\n",
      "los archivos que estamos viendo son: []\n",
      "la direccion que estamos viendo es: C:\\Users\\andre\\Desktop\\Curso de Ciencia de Datos\\semana3\\clase10\n",
      "las carpetas que estamos viendo son: ['.ipynb_checkpoints', 'ejemplo']\n",
      "los archivos que estamos viendo son: ['Contadores ejercicios.ipynb', 'Contadores.ipynb']\n",
      "la direccion que estamos viendo es: C:\\Users\\andre\\Desktop\\Curso de Ciencia de Datos\\semana3\\clase10\\.ipynb_checkpoints\n",
      "las carpetas que estamos viendo son: []\n",
      "los archivos que estamos viendo son: ['Contadores ejercicios-checkpoint.ipynb', 'Contadores-checkpoint.ipynb']\n",
      "la direccion que estamos viendo es: C:\\Users\\andre\\Desktop\\Curso de Ciencia de Datos\\semana3\\clase10\\ejemplo\n",
      "las carpetas que estamos viendo son: ['sub-carpeta']\n",
      "los archivos que estamos viendo son: ['ejemplo1.txt', 'ejemplo2.txt']\n",
      "la direccion que estamos viendo es: C:\\Users\\andre\\Desktop\\Curso de Ciencia de Datos\\semana3\\clase10\\ejemplo\\sub-carpeta\n",
      "las carpetas que estamos viendo son: ['subcarpeta2', 'subcarpeta3', 'subcarpeta4']\n",
      "los archivos que estamos viendo son: ['ejemplo1.txt', 'ejemplo2.txt']\n",
      "la direccion que estamos viendo es: C:\\Users\\andre\\Desktop\\Curso de Ciencia de Datos\\semana3\\clase10\\ejemplo\\sub-carpeta\\subcarpeta2\n",
      "las carpetas que estamos viendo son: []\n",
      "los archivos que estamos viendo son: ['ejemplo1.txt', 'ejemplo2.txt']\n",
      "la direccion que estamos viendo es: C:\\Users\\andre\\Desktop\\Curso de Ciencia de Datos\\semana3\\clase10\\ejemplo\\sub-carpeta\\subcarpeta3\n",
      "las carpetas que estamos viendo son: ['subcarpeta5']\n",
      "los archivos que estamos viendo son: []\n",
      "la direccion que estamos viendo es: C:\\Users\\andre\\Desktop\\Curso de Ciencia de Datos\\semana3\\clase10\\ejemplo\\sub-carpeta\\subcarpeta3\\subcarpeta5\n",
      "las carpetas que estamos viendo son: ['subcarpeta6', 'subcarpeta7']\n",
      "los archivos que estamos viendo son: ['ejemplo1.txt', 'ejemplo2.txt']\n",
      "la direccion que estamos viendo es: C:\\Users\\andre\\Desktop\\Curso de Ciencia de Datos\\semana3\\clase10\\ejemplo\\sub-carpeta\\subcarpeta3\\subcarpeta5\\subcarpeta6\n",
      "las carpetas que estamos viendo son: []\n",
      "los archivos que estamos viendo son: ['ejemplo1.txt', 'ejemplo2.txt']\n",
      "la direccion que estamos viendo es: C:\\Users\\andre\\Desktop\\Curso de Ciencia de Datos\\semana3\\clase10\\ejemplo\\sub-carpeta\\subcarpeta3\\subcarpeta5\\subcarpeta7\n",
      "las carpetas que estamos viendo son: []\n",
      "los archivos que estamos viendo son: []\n",
      "la direccion que estamos viendo es: C:\\Users\\andre\\Desktop\\Curso de Ciencia de Datos\\semana3\\clase10\\ejemplo\\sub-carpeta\\subcarpeta4\n",
      "las carpetas que estamos viendo son: []\n",
      "los archivos que estamos viendo son: ['ejemplo1.txt', 'ejemplo2.txt']\n",
      "la direccion que estamos viendo es: C:\\Users\\andre\\Desktop\\Curso de Ciencia de Datos\\semana3\\clase11\n",
      "las carpetas que estamos viendo son: []\n",
      "los archivos que estamos viendo son: []\n",
      "la direccion que estamos viendo es: C:\\Users\\andre\\Desktop\\Curso de Ciencia de Datos\\semana3\\clase8\n",
      "las carpetas que estamos viendo son: ['.ipynb_checkpoints']\n",
      "los archivos que estamos viendo son: ['primer intento.ipynb']\n",
      "la direccion que estamos viendo es: C:\\Users\\andre\\Desktop\\Curso de Ciencia de Datos\\semana3\\clase8\\.ipynb_checkpoints\n",
      "las carpetas que estamos viendo son: []\n",
      "los archivos que estamos viendo son: ['decoradores y generadores ejercicios-checkpoint.ipynb', 'decoradores y generadores-checkpoint.ipynb', 'primer intento-checkpoint.ipynb', 'Untitled-checkpoint.ipynb']\n",
      "la direccion que estamos viendo es: C:\\Users\\andre\\Desktop\\Curso de Ciencia de Datos\\semana3\\clase9\n",
      "las carpetas que estamos viendo son: []\n",
      "los archivos que estamos viendo son: ['decoradores y generadores ejercicios.ipynb', 'decoradores y generadores.ipynb', 'Untitled.ipynb']\n"
     ]
    }
   ],
   "source": [
    "for direccion, carpetas, archivos in os.walk(\"C:\\\\Users\\\\andre\\\\Desktop\\\\Curso de Ciencia de Datos\"):\n",
    "    print('la direccion que estamos viendo es: ' + str(direccion))\n",
    "    print('las carpetas que estamos viendo son: ' + str(carpetas))\n",
    "    print('los archivos que estamos viendo son: ' + str(archivos))"
   ]
  },
  {
   "cell_type": "code",
   "execution_count": 138,
   "metadata": {},
   "outputs": [],
   "source": [
    "os.getcwd()\n",
    "path = os.getcwd() + '\\\\ejemplo\\\\ejemplo1.txt'"
   ]
  },
  {
   "cell_type": "code",
   "execution_count": 139,
   "metadata": {},
   "outputs": [],
   "source": [
    "a = open(path)"
   ]
  },
  {
   "cell_type": "code",
   "execution_count": 141,
   "metadata": {},
   "outputs": [
    {
     "data": {
      "text/plain": [
       "'hola, que tal, esto es el primer ejemplo'"
      ]
     },
     "execution_count": 141,
     "metadata": {},
     "output_type": "execute_result"
    }
   ],
   "source": [
    "a.read()"
   ]
  },
  {
   "cell_type": "code",
   "execution_count": null,
   "metadata": {},
   "outputs": [],
   "source": []
  },
  {
   "cell_type": "code",
   "execution_count": 43,
   "metadata": {},
   "outputs": [],
   "source": [
    "b = ['1', '2', '3', '4', '5', '6', '7', '8', '9', '10' 'J', 'Q','K', 'As']"
   ]
  },
  {
   "cell_type": "code",
   "execution_count": 40,
   "metadata": {},
   "outputs": [],
   "source": [
    "a = ['4','8','6','2','5','3','1','J', 'Q', 'K']"
   ]
  },
  {
   "cell_type": "code",
   "execution_count": 41,
   "metadata": {},
   "outputs": [],
   "source": [
    "a.sort()"
   ]
  },
  {
   "cell_type": "code",
   "execution_count": 42,
   "metadata": {},
   "outputs": [
    {
     "data": {
      "text/plain": [
       "['1', '2', '3', '4', '5', '6', '8', 'J', 'K', 'Q']"
      ]
     },
     "execution_count": 42,
     "metadata": {},
     "output_type": "execute_result"
    }
   ],
   "source": [
    "a"
   ]
  },
  {
   "cell_type": "code",
   "execution_count": null,
   "metadata": {},
   "outputs": [],
   "source": []
  }
 ],
 "metadata": {
  "kernelspec": {
   "display_name": "Python 3",
   "language": "python",
   "name": "python3"
  },
  "language_info": {
   "codemirror_mode": {
    "name": "ipython",
    "version": 3
   },
   "file_extension": ".py",
   "mimetype": "text/x-python",
   "name": "python",
   "nbconvert_exporter": "python",
   "pygments_lexer": "ipython3",
   "version": "3.8.3"
  }
 },
 "nbformat": 4,
 "nbformat_minor": 4
}
